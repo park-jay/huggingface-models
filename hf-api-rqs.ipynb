{
 "cells": [
  {
   "cell_type": "code",
   "execution_count": 1,
   "metadata": {},
   "outputs": [],
   "source": [
    "import pandas as pd\n",
    "import os\n",
    "import json\n",
    "from datetime import datetime\n",
    "from tqdm import tqdm"
   ]
  },
  {
   "cell_type": "code",
   "execution_count": 2,
   "metadata": {},
   "outputs": [
    {
     "data": {
      "text/plain": [
       "'/Users/mstudio/repository/research/huggingface-models'"
      ]
     },
     "execution_count": 2,
     "metadata": {},
     "output_type": "execute_result"
    }
   ],
   "source": [
    "os.getcwd()"
   ]
  },
  {
   "cell_type": "markdown",
   "metadata": {},
   "source": [
    "##### NLP"
   ]
  },
  {
   "cell_type": "code",
   "execution_count": 3,
   "metadata": {},
   "outputs": [],
   "source": [
    "cwd=os.getcwd()\n",
    "nlp_task={}\n",
    "parent_folder='../../data/huggingface/model/nlp'\n",
    "for folder in os.listdir(parent_folder):\n",
    "    folder_path = os.path.join(parent_folder, folder)\n",
    "    if os.path.isdir(folder_path): #check only folder\n",
    "        file_all={}\n",
    "        for file in os.listdir(folder_path):\n",
    "            if file.endswith('.json'):\n",
    "                file_metadata={}\n",
    "                with open(os.path.join(folder_path, file), 'r') as json_file:\n",
    "                    data = json.load(json_file)\n",
    "                    file_metadata['created_at']=data['created_at']\n",
    "                    file_metadata['id']=data['id']\n",
    "                    if data['cardData'] is not None: #check if cardData is not empty\n",
    "                        if 'base_model' in data['cardData']:\n",
    "                            file_metadata['base_model']=data['cardData']['base_model']\n",
    "                        if 'datasets' in data['cardData']:\n",
    "                            file_metadata['datasets']=data['cardData']['datasets']\n",
    "                file_all[file.replace('.json', '')]=file_metadata\n",
    "        nlp_task[folder]=file_all\n",
    "#1m16s"
   ]
  },
  {
   "cell_type": "code",
   "execution_count": 4,
   "metadata": {},
   "outputs": [
    {
     "data": {
      "text/plain": [
       "dict_keys(['question-answering', 'text-generation', 'feature-extraction', 'table-question-answering', 'sentence-similarity', 'translation', 'summarization', 'zero-shot-classification', 'text-classification', 'token-classification', 'text2text-generation', 'fill-mask'])"
      ]
     },
     "execution_count": 4,
     "metadata": {},
     "output_type": "execute_result"
    }
   ],
   "source": [
    "nlp_task.keys()"
   ]
  },
  {
   "cell_type": "code",
   "execution_count": 5,
   "metadata": {},
   "outputs": [
    {
     "data": {
      "text/plain": [
       "{'created_at': '2023-07-03T05:59:27+00:00',\n",
       " 'id': 'Ezell/testModel',\n",
       " 'base_model': None,\n",
       " 'datasets': ['GAIR/lima']}"
      ]
     },
     "execution_count": 5,
     "metadata": {},
     "output_type": "execute_result"
    }
   ],
   "source": [
    "nlp_task['table-question-answering']['64a263bfb5b55f4657d6f432']"
   ]
  },
  {
   "cell_type": "code",
   "execution_count": 6,
   "metadata": {},
   "outputs": [],
   "source": [
    "name_id={}\n",
    "for key in nlp_task.keys():\n",
    "    for sub_key in nlp_task[key].keys():\n",
    "        name_id[sub_key]=nlp_task[key][sub_key]['id']"
   ]
  },
  {
   "cell_type": "code",
   "execution_count": 7,
   "metadata": {},
   "outputs": [],
   "source": [
    "pd.DataFrame.from_dict(name_id, orient='index').reset_index().rename(columns={'index': 'model_id', 0: 'model_name'}).to_csv('../nlp_model_id.csv', index=False)"
   ]
  },
  {
   "cell_type": "code",
   "execution_count": 8,
   "metadata": {},
   "outputs": [
    {
     "data": {
      "text/plain": [
       "list"
      ]
     },
     "execution_count": 8,
     "metadata": {},
     "output_type": "execute_result"
    }
   ],
   "source": [
    "type(nlp_task['table-question-answering']['64a263bfb5b55f4657d6f432']['datasets'])"
   ]
  },
  {
   "cell_type": "code",
   "execution_count": 9,
   "metadata": {},
   "outputs": [],
   "source": [
    "for task in nlp_task.keys():\n",
    "    for model in nlp_task[task].keys():\n",
    "        if ('base_model' in nlp_task[task][model].keys()) and (nlp_task[task][model]['base_model'] is not None) and (type(nlp_task[task][model]['base_model'])==str):\n",
    "        # all string values are now in the list\n",
    "            nlp_task[task][model]['base_model']=[nlp_task[task][model]['base_model']]\n",
    "        if ('datasets' in nlp_task[task][model].keys()) and (nlp_task[task][model]['datasets'] is not None) and (type(nlp_task[task][model]['datasets'])==str):\n",
    "        # all string values are now in the list\n",
    "            nlp_task[task][model]['datasets']=[nlp_task[task][model]['datasets']]\n",
    "        if ('created_at' in nlp_task[task][model].keys()) and (nlp_task[task][model]['created_at'] is not None) and (type(nlp_task[task][model]['created_at'])==str):\n",
    "        # all string values are now in datetime\n",
    "            nlp_task[task][model]['created_at']=datetime.strptime(nlp_task[task][model]['created_at'], '%Y-%m-%dT%H:%M:%S%z')            "
   ]
  },
  {
   "cell_type": "code",
   "execution_count": 10,
   "metadata": {},
   "outputs": [
    {
     "data": {
      "text/plain": [
       "{'created_at': datetime.datetime(2023, 7, 3, 5, 59, 27, tzinfo=datetime.timezone.utc),\n",
       " 'id': 'Ezell/testModel',\n",
       " 'base_model': None,\n",
       " 'datasets': ['GAIR/lima']}"
      ]
     },
     "execution_count": 10,
     "metadata": {},
     "output_type": "execute_result"
    }
   ],
   "source": [
    "nlp_task['table-question-answering']['64a263bfb5b55f4657d6f432']"
   ]
  },
  {
   "cell_type": "markdown",
   "metadata": {},
   "source": [
    "#### NLP RQ 3: What is the degree of concentration of NLP models?"
   ]
  },
  {
   "cell_type": "code",
   "execution_count": 11,
   "metadata": {},
   "outputs": [],
   "source": [
    "task_list=[]\n",
    "model_list=[]\n",
    "base_model_list=[]\n",
    "model_count_list=[]\n",
    "created_at_list=[]\n",
    "for task in nlp_task.keys():\n",
    "    for model in nlp_task[task].keys():\n",
    "        if ('base_model' in nlp_task[task][model].keys()) and (nlp_task[task][model]['base_model'] is not None) and (type(nlp_task[task][model]['base_model']) == list):\n",
    "            #Sometimes, the list can be empty\n",
    "            model_count=0\n",
    "            if len(nlp_task[task][model]['base_model'])>0: #Check the number of elements in the list\n",
    "                for base_model in nlp_task[task][model]['base_model']:\n",
    "                    model_count+=1\n",
    "                task_list.append(task)\n",
    "                model_list.append(model)\n",
    "                base_model_list.append(nlp_task[task][model]['base_model'])\n",
    "                model_count_list.append(model_count)\n",
    "                created_at_list.append(nlp_task[task][model]['created_at'])"
   ]
  },
  {
   "cell_type": "code",
   "execution_count": 12,
   "metadata": {},
   "outputs": [
    {
     "name": "stdout",
     "output_type": "stream",
     "text": [
      "112237 112237 112237 112237 112237\n"
     ]
    }
   ],
   "source": [
    "print(len(task_list), len(model_list), len(base_model_list), len(model_count_list), len(created_at_list))"
   ]
  },
  {
   "cell_type": "code",
   "execution_count": 13,
   "metadata": {},
   "outputs": [],
   "source": [
    "nlp_model_df=pd.DataFrame({'task':task_list, 'model':model_list, 'base_model':base_model_list, 'model_count':model_count_list, 'created_at':created_at_list})"
   ]
  },
  {
   "cell_type": "code",
   "execution_count": 14,
   "metadata": {},
   "outputs": [
    {
     "data": {
      "application/vnd.microsoft.datawrangler.viewer.v0+json": {
       "columns": [
        {
         "name": "index",
         "rawType": "int64",
         "type": "integer"
        },
        {
         "name": "task",
         "rawType": "object",
         "type": "string"
        },
        {
         "name": "model",
         "rawType": "object",
         "type": "string"
        },
        {
         "name": "base_model",
         "rawType": "object",
         "type": "unknown"
        },
        {
         "name": "model_count",
         "rawType": "int64",
         "type": "integer"
        },
        {
         "name": "created_at",
         "rawType": "datetime64[ns, UTC]",
         "type": "unknown"
        }
       ],
       "ref": "f36ab2cb-c614-40fd-b351-4a94f28259ae",
       "rows": [
        [
         "20560",
         "text-generation",
         "678afb3e14ab8d115b77e17e",
         "['surya-narayanan/abstract_algebra', 'surya-narayanan/anatomy', 'surya-narayanan/astronomy', 'surya-narayanan/biology', 'surya-narayanan/biology_100', 'surya-narayanan/biology_non_masked', 'surya-narayanan/business', 'surya-narayanan/business_100', 'surya-narayanan/business_ethics', 'surya-narayanan/business_non_masked', 'surya-narayanan/chemistry', 'surya-narayanan/chemistry_100', 'surya-narayanan/chemistry_non_masked', 'surya-narayanan/clinical_knowledge', 'surya-narayanan/college_biology', 'surya-narayanan/college_chemistry', 'surya-narayanan/college_computer_science', 'surya-narayanan/college_mathematics', 'surya-narayanan/college_medicine', 'surya-narayanan/college_physics', 'surya-narayanan/computer_science', 'surya-narayanan/computer_science_100', 'surya-narayanan/computer_science_non_masked', 'surya-narayanan/computer_security', 'surya-narayanan/conceptual_physics', 'surya-narayanan/econometrics', 'surya-narayanan/economics', 'surya-narayanan/economics_100', 'surya-narayanan/economics_non_masked', 'surya-narayanan/electrical_engineering', 'surya-narayanan/elementary_mathematics', 'surya-narayanan/engineering', 'surya-narayanan/engineering_100', 'surya-narayanan/engineering_non_masked', 'surya-narayanan/formal_logic', 'surya-narayanan/global_facts', 'surya-narayanan/health', 'surya-narayanan/health_100', 'surya-narayanan/health_non_masked', 'surya-narayanan/high_school_biology', 'surya-narayanan/high_school_chemistry', 'surya-narayanan/high_school_computer_science', 'surya-narayanan/high_school_european_history', 'surya-narayanan/high_school_geography', 'surya-narayanan/high_school_government_and_politics', 'surya-narayanan/high_school_mathematics', 'surya-narayanan/high_school_microeconomics', 'surya-narayanan/high_school_physics', 'surya-narayanan/high_school_psychology', 'surya-narayanan/high_school_statistics', 'surya-narayanan/high_school_us_history', 'surya-narayanan/high_school_world_history', 'surya-narayanan/history', 'surya-narayanan/history_100', 'surya-narayanan/history_non_masked', 'surya-narayanan/human_aging', 'surya-narayanan/human_sexuality', 'surya-narayanan/international_law', 'surya-narayanan/jurisprudence', 'surya-narayanan/law', 'surya-narayanan/law_100', 'surya-narayanan/law_non_masked', 'surya-narayanan/logical_fallacies', 'surya-narayanan/machine_learning', 'surya-narayanan/management', 'surya-narayanan/marketing', 'surya-narayanan/math', 'surya-narayanan/math_100', 'surya-narayanan/math_non_masked', 'surya-narayanan/mathematics', 'surya-narayanan/medical_genetics', 'surya-narayanan/miscellaneous', 'surya-narayanan/moral_disputes', 'surya-narayanan/moral_scenarios', 'surya-narayanan/nutrition', 'surya-narayanan/other', 'surya-narayanan/other_100', 'surya-narayanan/other_non_masked', 'surya-narayanan/philosophy', 'surya-narayanan/philosophy_100', 'surya-narayanan/philosophy_non_masked', 'surya-narayanan/physics', 'surya-narayanan/physics_100', 'surya-narayanan/physics_non_masked', 'surya-narayanan/prehistory', 'surya-narayanan/professional_accounting', 'surya-narayanan/professional_law', 'surya-narayanan/professional_medicine', 'surya-narayanan/professional_psychology', 'surya-narayanan/psychology', 'surya-narayanan/psychology_100', 'surya-narayanan/psychology_non_masked', 'surya-narayanan/public_relations', 'surya-narayanan/security_studies', 'surya-narayanan/sociology', 'surya-narayanan/us_foreign_policy', 'surya-narayanan/virology', 'surya-narayanan/world_religions']",
         "98",
         "2025-01-18 00:52:14+00:00"
        ],
        [
         "31442",
         "text-generation",
         "66513721edd332b94463cdb3",
         "['openlynn/Llama-3-Soliloquy-8B-v2', 'Undi95/Llama-3-LewdPlay-8B-evo', 'NeverSleep/Llama-3-Lumimaid-8B-v0.1', 'Nitral-AI/Poppy_Porpoise-0.72-L3-8B', 'dreamgen-preview/opus-v1.2-llama-3-8b-base-run3.4-epoch2', 'dreamgen-preview/opus-v1.2-llama-3-8b-instruct-run3.5-epoch2.5', 'Gryphe/Pantheon-RP-1.0-8b-Llama-3', 'cgato/L3-TheSpice-8b-v0.8.3', 'ResplendentAI/BlueMoon_Llama3', 'ResplendentAI/RP_Format_QuoteAsterisk_Llama3', 'Endevor/InfinityRP-v2-8B', 'flammenai/Mahou-1.2-llama3-8B', 'Sao10K/L3-8B-Stheno-v3.1', 'mpasila/Llama-3-LiPPA-8B', 'mpasila/Llama-3-Instruct-LiPPA-8B', 'Abdulhanan2006/WaifuAI-L3-8B-8k', 'TheSkullery/llama-3-cat-8b-instruct-v1', 'abacusai/Llama-3-Smaug-8B', 'Locutusque/Llama-3-Orca-2.0-8B', 'Locutusque/llama-3-neural-chat-v2.2-8B', 'RDson/Orca-Llama-3-8B-Instruct-DPO', 'jondurbin/bagel-8b-v1.0', 'Sao10K/L3-Solana-8B-v1', 'TIGER-Lab/MAmmoTH2-8B-Plus', 'nvidia/Llama3-ChatQA-1.5-8B', 'H-D-T/Buzz-8b-Large-v0.5', 'VAGOsolutions/Llama-3-SauerkrautLM-8b-Instruct', 'cognitivecomputations/Llama-3-8B-Instruct-abliterated-v2', 'failspy/Llama-3-8B-Instruct-abliterated', 'Undi95/Llama-3-Unholy-8B', 'ResplendentAI/Theory_of_Mind_Llama3', 'ResplendentAI/Aura_Llama3', 'ResplendentAI/Luna_Llama3', 'Edgerunners/meta-llama-3-8b-instruct-hf-ortho-baukit-5fail-3000total-bf16', 'vicgalle/Configurable-Llama-3-8B-v0.3', 'lodrick-the-lafted/Limon-8B', 'nothingiisreal/L3-Zodiac-Instruct-8B-ORPO-E2', 'ajibawa-2023/Code-Llama-3-8B', 'Walmart-the-bag/Llama-3-LizardCoder-8B', 'WhiteRabbitNeo/Llama-3-WhiteRabbitNeo-8B-v2.0', 'migtissera/Tess-2.0-Llama-3-8B', 'johnsnowlabs/JSL-MedLlama-3-8B-v1.0', 'aaditya/Llama3-OpenBioLLM-8B', 'ruslanmv/Medical-Llama3-8B', 'BeaverAI/Llama-3SOME-8B-v2-rc2', 'ToastyPigeon/Llama-3-8B-Instruct-SpringDragon-V2-QLoRA', 'refuelai/Llama-3-Refueled', 'Danielbrdz/Barcenas-Llama3-8b-ORPO', 'lodrick-the-lafted/Olethros-8B', 'RLHFlow/LLaMA3-iterative-DPO-final', 'victunes/TherapyLlama-8B-v1', 'DevQuasar/llama3_8b_chat_brainstorm', 'migtissera/Llama-3-8B-Synthia-v3.5']",
         "53",
         "2024-05-25 00:56:01+00:00"
        ],
        [
         "11545",
         "text-generation",
         "67a126f5f39a622350700a56",
         "['MrRobotoAI/Loki-v1.1-8b-EROTICA', 'kik41/lora-length-long-llama-3-8b-v2', 'MrRobotoAI/Loki-v1.1-8b-EROTICA', 'jspr/llama3-instruct-wordcel-smutrom-8k_peft', 'MrRobotoAI/Loki-v1.1-8b-EROTICA', 'kik41/lora-type-persuasive-llama-3-8b-v2', 'MrRobotoAI/Loki-v1.1-8b-EROTICA', 'Triangle104/Vulkane_120-Days-of-Sodom-LoRA-Mistral-7b', 'MrRobotoAI/Loki-v1.1-8b-EROTICA', 'jeiku/Humiliation_Mistral', 'MrRobotoAI/Loki-v1.1-8b-EROTICA', 'kik41/lora-type-expository-llama-3-8b-v2', 'MrRobotoAI/Loki-v1.1-8b-EROTICA', 'kik41/lora-voice-active-llama-3-8b-v2', 'MrRobotoAI/Loki-v1.1-8b-EROTICA', 'nothingiisreal/llama3-8B-DWP-lora', 'MrRobotoAI/Loki-v1.1-8b-EROTICA', 'kik41/lora-type-descriptive-llama-3-8b-v2', 'MrRobotoAI/Loki-v1.1-8b-EROTICA', 'kik41/lora-sarcasm-more-llama-3-8b-v2', 'MrRobotoAI/Loki-v1.1-8b-EROTICA', 'Azazelle/Nimue-8B', 'MrRobotoAI/Loki-v1.1-8b-EROTICA', 'W1lson/mistral-trained-on-Book3', 'MrRobotoAI/Loki-v1.1-8b-EROTICA', 'W1lson/zephyr-book-3', 'MrRobotoAI/Loki-v1.1-8b-EROTICA', 'jspr/smut_llama_8b_smutromance_32k_peft', 'nothingiisreal/L3-8B-Stheno-Horny-v3.3-32K', 'MrRobotoAI/Loki-v1.1-8b-EROTICA', 'vincentyandex/lora_llama3_chunked_novel_bs128', 'MrRobotoAI/Loki-v1.1-8b-EROTICA', 'kik41/lora-formality-informal-llama-3-8b-v2', 'MrRobotoAI/Loki-v1.1-8b-EROTICA', 'vaitech/open-hermes-erotic-story-finetune', 'MrRobotoAI/Loki-v1.1-8b-EROTICA', 'Nuts123/mistral-finetuned-bookcorpus', 'MrRobotoAI/Loki-v1.1-8b-EROTICA', 'Azazelle/L3-Daybreak-8b-lora', 'MrRobotoAI/Loki-v1.1-8b-EROTICA', 'jeiku/Sissification_Hypno_Mistral', 'MrRobotoAI/Loki-v1.1-8b-EROTICA', 'Blackroot/Llama-3-LongStory-LORA', 'MrRobotoAI/Loki-v1-8b-EROTICA', 'MrRobotoAI/Loki-v1.1-8b-EROTICA', 'DreadPoor/Everything-COT-8B-r128-LoRA', 'MrRobotoAI/Loki-v1.1-8b-EROTICA', 'athirdpath/BigMistral-11b-GLUE_LORA', 'MrRobotoAI/Loki-v1.1-8b-EROTICA', 'SayedNabeel/mistral-7b-mj-finetuned-HorrorStory', 'MrRobotoAI/Loki-v1.1-8b-EROTICA', 'kik41/lora-type-narrative-llama-3-8b-v2']",
         "52",
         "2025-02-03 20:28:37+00:00"
        ],
        [
         "10534",
         "text-generation",
         "67a48a8bbd5de09766dce2b2",
         "['MrRobotoAI/Llama-3-8B-Uncensored-test2', 'Azazelle/go-bruins-v3-lora', 'MrRobotoAI/Llama-3-8B-Uncensored-test2', 'cryotron/chatbot_academic_4th_Year_MRG_LORA_Llama', 'MrRobotoAI/Llama-3-8B-Uncensored-test2', 'basilePlus/llama3-8b-schopenhauer', 'MrRobotoAI/Llama-3-8B-Uncensored-test2', 'aryanagrawal1/llama-3-8b-instruct-sft-rewriting-fs-promptbench', 'MrRobotoAI/Llama-3-8B-Uncensored-test2', 'cryotron/chatbot_academic_2nd_Year', 'MrRobotoAI/Llama-3-8B-Uncensored-test2', 'automorphic/LORA_20231221_042843_philosophy', 'MrRobotoAI/Llama-3-8B-Uncensored-test2', 'cryotron/chatbot_academic_3rd_Year', 'MrRobotoAI/Llama-3-8B-Uncensored-test2', 'cryotron/chatbot_academic_llama_Full_LORA', 'MrRobotoAI/Llama-3-8B-Uncensored-test2', 'Epiculous/Mika-7B-LoRA', 'MrRobotoAI/Llama-3-8B-Uncensored-test2', 'Azazelle/Llama-3-8B-Abomination-LORA', 'MrRobotoAI/Llama-3-8B-Uncensored-test2', 'babycommando/babydolphin-8b-llama3-uncensored', 'MrRobotoAI/Llama-3-8B-Uncensored-test2', 'cryotron/chatbot_academic_2nd_Year_MRG_LORA', 'MrRobotoAI/Llama-3-8B-Uncensored-test2', 'Azazelle/L3-Daybreak-8b-lora', 'MrRobotoAI/Llama-3-8B-Uncensored-test2', 'Azazelle/llama3-8b-hikikomori-v0.4', 'MrRobotoAI/Llama-3-8B-Uncensored-test2', 'Azazelle/Llama-3-Sunfall-8b-lora', 'MrRobotoAI/Llama-3-8B-Uncensored-test2', 'Azazelle/Nimue-8B', 'MrRobotoAI/Llama-3-8B-Uncensored-test2', 'arushimgupta/lora_save_7', 'MrRobotoAI/Llama-3-8B-Uncensored-test2', 'Chat-Error/Claude-Kimiko', 'MrRobotoAI/Llama-3-8B-Uncensored-test2', 'cryotron/chatbot_academic_4th_Year_Llama', 'MrRobotoAI/Llama-3-8B-Uncensored-test2', 'cryotron/chatbot_academic_3rd_Year_MRG_LORA', 'MrRobotoAI/Llama-3-8B-Uncensored-test2', 'athirdpath/BigMistral-11b-GLUE_LORA', 'MrRobotoAI/Llama-3-8B-Uncensored-test2', 'cryotron/chatbot_academic_llama_Full_MRG_LORA', 'MrRobotoAI/Llama-3-8B-Uncensored-test2', 'DreadPoor/Everything-COT-8B-r128-LoRA', 'MrRobotoAI/Llama-3-8B-Uncensored-test2', 'aifeifei799/llama-3-8B-muxue-1.0-Lora']",
         "48",
         "2025-02-06 10:10:19+00:00"
        ],
        [
         "36345",
         "text-generation",
         "6655ecd5dbde6ec0582106d1",
         "['NousResearch/Meta-Llama-3-8B', 'NousResearch/Meta-Llama-3-8B', 'NousResearch/Meta-Llama-3-8B', 'NousResearch/Meta-Llama-3-8B', 'ryan0712/llama-3-8b-slow-DUS-random-layer-method2', 'NousResearch/Meta-Llama-3-8B', 'NousResearch/Meta-Llama-3-8B', 'ryan0712/llama-3-8b-slow-DUS-random-layer-method2', 'NousResearch/Meta-Llama-3-8B', 'NousResearch/Meta-Llama-3-8B', 'ryan0712/llama-3-8b-slow-DUS-random-layer-method2', 'NousResearch/Meta-Llama-3-8B', 'NousResearch/Meta-Llama-3-8B', 'ryan0712/llama-3-8b-slow-DUS-random-layer-method2', 'NousResearch/Meta-Llama-3-8B', 'ryan0712/llama-3-8b-slow-DUS-random-layer-method2', 'NousResearch/Meta-Llama-3-8B', 'ryan0712/llama-3-8b-slow-DUS-random-layer-method2', 'NousResearch/Meta-Llama-3-8B', 'NousResearch/Meta-Llama-3-8B', 'ryan0712/llama-3-8b-slow-DUS-random-layer-method2', 'NousResearch/Meta-Llama-3-8B', 'NousResearch/Meta-Llama-3-8B', 'ryan0712/llama-3-8b-slow-DUS-random-layer-method2', 'NousResearch/Meta-Llama-3-8B', 'ryan0712/llama-3-8b-slow-DUS-random-layer-method2', 'NousResearch/Meta-Llama-3-8B', 'NousResearch/Meta-Llama-3-8B', 'NousResearch/Meta-Llama-3-8B', 'ryan0712/llama-3-8b-slow-DUS-random-layer-method2', 'NousResearch/Meta-Llama-3-8B', 'NousResearch/Meta-Llama-3-8B', 'NousResearch/Meta-Llama-3-8B', 'ryan0712/llama-3-8b-slow-DUS-random-layer-method2', 'NousResearch/Meta-Llama-3-8B', 'NousResearch/Meta-Llama-3-8B', 'ryan0712/llama-3-8b-slow-DUS-random-layer-method2', 'NousResearch/Meta-Llama-3-8B', 'ryan0712/llama-3-8b-slow-DUS-random-layer-method2', 'NousResearch/Meta-Llama-3-8B', 'NousResearch/Meta-Llama-3-8B', 'ryan0712/llama-3-8b-slow-DUS-random-layer-method2', 'NousResearch/Meta-Llama-3-8B', 'ryan0712/llama-3-8b-slow-DUS-random-layer-method2', 'NousResearch/Meta-Llama-3-8B', 'NousResearch/Meta-Llama-3-8B', 'ryan0712/llama-3-8b-slow-DUS-random-layer-method2', 'NousResearch/Meta-Llama-3-8B']",
         "48",
         "2024-05-28 14:40:21+00:00"
        ],
        [
         "22197",
         "text-generation",
         "67a4c1325e65aa63c6dad9e7",
         "['MrRobotoAI/Llama-3-8B-Uncensored-test2', 'surya-narayanan/moral_disputes', 'MrRobotoAI/Llama-3-8B-Uncensored-test2', 'surya-narayanan/management', 'MrRobotoAI/Llama-3-8B-Uncensored-test2', 'surya-narayanan/physics_non_masked', 'MrRobotoAI/Llama-3-8B-Uncensored-test2', 'surya-narayanan/philosophy_100', 'MrRobotoAI/Llama-3-8B-Uncensored-test2', 'surya-narayanan/law_100', 'MrRobotoAI/Llama-3-8B-Uncensored-test2', 'surya-narayanan/human_aging', 'MrRobotoAI/Llama-3-8B-Uncensored-test2', 'surya-narayanan/high_school_european_history', 'MrRobotoAI/Llama-3-8B-Uncensored-test2', 'surya-narayanan/electrical_engineering', 'MrRobotoAI/Llama-3-8B-Uncensored-test2', 'surya-narayanan/philosophy', 'MrRobotoAI/Llama-3-8B-Uncensored-test2', 'surya-narayanan/machine_learning', 'MrRobotoAI/Llama-3-8B-Uncensored-test2', 'surya-narayanan/international_law', 'MrRobotoAI/Llama-3-8B-Uncensored-test2', 'surya-narayanan/logical_fallacies', 'MrRobotoAI/Llama-3-8B-Uncensored-test2', 'surya-narayanan/philosophy_non_masked', 'MrRobotoAI/Llama-3-8B-Uncensored-test2', 'surya-narayanan/moral_scenarios', 'MrRobotoAI/Llama-3-8B-Uncensored-test2', 'surya-narayanan/formal_logic', 'MrRobotoAI/Llama-3-8B-Uncensored-test2', 'surya-narayanan/physics_100', 'MrRobotoAI/Llama-3-8B-Uncensored-test2', 'surya-narayanan/engineering_100', 'MrRobotoAI/Llama-3-8B-Uncensored-test2', 'surya-narayanan/history_100', 'MrRobotoAI/Llama-3-8B-Uncensored-test2', 'surya-narayanan/professional_accounting', 'MrRobotoAI/Llama-3-8B-Uncensored-test2', 'surya-narayanan/economics_100', 'MrRobotoAI/Llama-3-8B-Uncensored-test2', 'surya-narayanan/prehistory', 'MrRobotoAI/Llama-3-8B-Uncensored-test2', 'surya-narayanan/human_sexuality', 'MrRobotoAI/Llama-3-8B-Uncensored-test2', 'surya-narayanan/economics_non_masked', 'MrRobotoAI/Llama-3-8B-Uncensored-test2', 'surya-narayanan/marketing']",
         "48",
         "2025-02-06 14:03:30+00:00"
        ],
        [
         "16459",
         "text-generation",
         "67a4991083ffa96002b8b7bc",
         "['MrRobotoAI/Llama-3-8B-Uncensored-test2', 'jspr/llama3-instruct-wordcel-smutrom_peft', 'MrRobotoAI/Llama-3-8B-Uncensored-test2', 'ian00000/Llama-3-8B_offensive_CoT_finetuned', 'MrRobotoAI/Llama-3-8B-Uncensored-test2', 'jspr/llama3-wordcel-smutrom-reorder_peft', 'MrRobotoAI/Llama-3-8B-Uncensored-test2', 'jeiku/Writing_Mistral', 'MrRobotoAI/Llama-3-8B-Uncensored-test2', 'hannahbillo/dpo-llama3-8b-grammar-rules', 'MrRobotoAI/Llama-3-8B-Uncensored-test2', 'jeiku/Sissification_Hypno_Mistral', 'MrRobotoAI/Llama-3-8B-Uncensored-test2', 'erbacher/zephyr-convsearch-7b-v2', 'MrRobotoAI/Llama-3-8B-Uncensored-test2', 'jeiku/Humiliation_Mistral', 'MrRobotoAI/Llama-3-8B-Uncensored-test2', 'jeiku/Futadom_Mistral', 'MrRobotoAI/Llama-3-8B-Uncensored-test2', 'erbacher/zephyr-rag-agent-webgpt', 'MrRobotoAI/Llama-3-8B-Uncensored-test2', 'jeiku/Synthetic_Soul_1k_Mistral_128', 'MrRobotoAI/Llama-3-8B-Uncensored-test2', 'erbacher/zephyr-rag-agent', 'MrRobotoAI/Llama-3-8B-Uncensored-test2', 'jrahn/llama-3-8b-claudstruct-v3', 'MrRobotoAI/Llama-3-8B-Uncensored-test2', 'jspr/smut_llama_8b_smut_2k_romance_1k_peft', 'MrRobotoAI/Llama-3-8B-Uncensored-test2', 'jeiku/Alpaca_NSFW_Shuffled_Mistral', 'MrRobotoAI/Llama-3-8B-Uncensored-test2', 'jspr/smut_llama_8b_smutromance_32k_peft', 'MrRobotoAI/Llama-3-8B-Uncensored-test2', 'jspr/llama3-wordcel-smutrom_peft', 'MrRobotoAI/Llama-3-8B-Uncensored-test2', 'grimjim/Llama-3-Instruct-abliteration-LoRA-8B', 'MrRobotoAI/Llama-3-8B-Uncensored-test2', 'kik41/lora-formality-informal-llama-3-8b-v2', 'MrRobotoAI/Llama-3-8B-Uncensored-test2', 'jspr/llama3-instruct-wordcel-smutrom-8k_peft', 'MrRobotoAI/Llama-3-8B-Uncensored-test2', 'kamrr/llama-3-8b_dolly_lora', 'MrRobotoAI/Llama-3-8B-Uncensored-test2', 'jeiku/Gnosis_Reformatted_Mistral', 'MrRobotoAI/Llama-3-8B-Uncensored-test2', 'kik41/lora-function-more-llama-3-8b-v2', 'MrRobotoAI/Llama-3-8B-Uncensored-test2', 'jeiku/NSFW_Niche_Mistral']",
         "48",
         "2025-02-06 11:12:16+00:00"
        ],
        [
         "18583",
         "text-generation",
         "6655ddb83e96e1c5976f699c",
         "['NousResearch/Meta-Llama-3-8B', 'ryan0712/llama-3-8b-slow-DUS-max-layer-method2', 'NousResearch/Meta-Llama-3-8B', 'ryan0712/llama-3-8b-slow-DUS-max-layer-method2', 'NousResearch/Meta-Llama-3-8B', 'ryan0712/llama-3-8b-slow-DUS-max-layer-method2', 'NousResearch/Meta-Llama-3-8B', 'ryan0712/llama-3-8b-slow-DUS-max-layer-method2', 'NousResearch/Meta-Llama-3-8B', 'ryan0712/llama-3-8b-slow-DUS-max-layer-method2', 'NousResearch/Meta-Llama-3-8B', 'ryan0712/llama-3-8b-slow-DUS-max-layer-method2', 'NousResearch/Meta-Llama-3-8B', 'ryan0712/llama-3-8b-slow-DUS-max-layer-method2', 'NousResearch/Meta-Llama-3-8B', 'ryan0712/llama-3-8b-slow-DUS-max-layer-method2', 'NousResearch/Meta-Llama-3-8B', 'ryan0712/llama-3-8b-slow-DUS-max-layer-method2', 'NousResearch/Meta-Llama-3-8B', 'ryan0712/llama-3-8b-slow-DUS-max-layer-method2', 'NousResearch/Meta-Llama-3-8B', 'ryan0712/llama-3-8b-slow-DUS-max-layer-method2', 'NousResearch/Meta-Llama-3-8B', 'ryan0712/llama-3-8b-slow-DUS-max-layer-method2', 'NousResearch/Meta-Llama-3-8B', 'ryan0712/llama-3-8b-slow-DUS-max-layer-method2', 'NousResearch/Meta-Llama-3-8B', 'ryan0712/llama-3-8b-slow-DUS-max-layer-method2', 'NousResearch/Meta-Llama-3-8B', 'ryan0712/llama-3-8b-slow-DUS-max-layer-method2', 'NousResearch/Meta-Llama-3-8B', 'NousResearch/Meta-Llama-3-8B', 'NousResearch/Meta-Llama-3-8B', 'NousResearch/Meta-Llama-3-8B', 'NousResearch/Meta-Llama-3-8B', 'NousResearch/Meta-Llama-3-8B', 'NousResearch/Meta-Llama-3-8B', 'NousResearch/Meta-Llama-3-8B', 'NousResearch/Meta-Llama-3-8B', 'NousResearch/Meta-Llama-3-8B', 'NousResearch/Meta-Llama-3-8B', 'NousResearch/Meta-Llama-3-8B', 'NousResearch/Meta-Llama-3-8B', 'NousResearch/Meta-Llama-3-8B', 'NousResearch/Meta-Llama-3-8B', 'NousResearch/Meta-Llama-3-8B', 'ryan0712/llama-3-8b-slow-DUS-max-layer-method2', 'NousResearch/Meta-Llama-3-8B']",
         "48",
         "2024-05-28 13:35:52+00:00"
        ],
        [
         "51887",
         "text-generation",
         "67a4b61746a7612efd38acd2",
         "['MrRobotoAI/Llama-3-8B-Uncensored-test2', 'ResplendentAI/Theory_of_Mind_Llama3', 'MrRobotoAI/Llama-3-8B-Uncensored-test2', 'SayedNabeel/mistral-7b-mj-finetuned-HorrorStory', 'MrRobotoAI/Llama-3-8B-Uncensored-test2', 'ResplendentAI/Luna_Llama3', 'MrRobotoAI/Llama-3-8B-Uncensored-test2', 'scifisloth/mistral_7b_finetuned_on_data', 'MrRobotoAI/Llama-3-8B-Uncensored-test2', 'surya-narayanan/business_100', 'MrRobotoAI/Llama-3-8B-Uncensored-test2', 'surya-narayanan/computer_science_100', 'MrRobotoAI/Llama-3-8B-Uncensored-test2', 'surya-narayanan/anatomy', 'MrRobotoAI/Llama-3-8B-Uncensored-test2', 'ResplendentAI/BlueMoon_Llama3', 'MrRobotoAI/Llama-3-8B-Uncensored-test2', 'surya-narayanan/college_computer_science', 'MrRobotoAI/Llama-3-8B-Uncensored-test2', 'PurpleAILAB/Llama3.1-8B-uncensored-SQLi_LoRA', 'MrRobotoAI/Llama-3-8B-Uncensored-test2', 'ResplendentAI/Aura_Llama3', 'MrRobotoAI/Llama-3-8B-Uncensored-test2', 'surya-narayanan/clinical_knowledge', 'MrRobotoAI/Llama-3-8B-Uncensored-test2', 'sayhan/OpenHermes-2.5-Strix-Philosophy-Mistral-7B-LoRA', 'MrRobotoAI/Llama-3-8B-Uncensored-test2', 'ResplendentAI/Smarts_Llama3', 'MrRobotoAI/Llama-3-8B-Uncensored-test2', 'surya-narayanan/college_biology', 'MrRobotoAI/Llama-3-8B-Uncensored-test2', 'surya-narayanan/chemistry_100', 'MrRobotoAI/Llama-3-8B-Uncensored-test2', 'surya-narayanan/conceptual_physics', 'MrRobotoAI/Llama-3-8B-Uncensored-test2', 'sardukar/physiology-8k-llama3-8b-qlora', 'MrRobotoAI/Llama-3-8B-Uncensored-test2', 'sanibonani/DarkIdol-Llama-3.1-8B-Instruct-1.2-Uncensored-Fine-Timmed-v2', 'MrRobotoAI/Llama-3-8B-Uncensored-test2', 'ResplendentAI/Llama3_Aesir_Preview_LoRA_128', 'MrRobotoAI/Llama-3-8B-Uncensored-test2', 'ResplendentAI/NoWarning_Llama3', 'MrRobotoAI/Llama-3-8B-Uncensored-test2', 'surya-narayanan/astronomy', 'MrRobotoAI/Llama-3-8B-Uncensored-test2', 'surya-narayanan/college_chemistry', 'MrRobotoAI/Llama-3-8B-Uncensored-test2', 'surya-narayanan/college_physics']",
         "48",
         "2025-02-06 13:16:07+00:00"
        ],
        [
         "49037",
         "text-generation",
         "67a3cb332cfc24b7354a5a28",
         "['Azazelle/L3-Daybreak-8b-lora', 'Azazelle/Llama-3-8B-Abomination-LORA', 'Azazelle/llama3-8b-hikikomori-v0.4', 'Azazelle/Llama-3-LimaRP-Instruct-LoRA-8B', 'Azazelle/Llama-3-Sunfall-8b-lora', 'Azazelle/Nimue-8B', 'DreadPoor/abliteration-OVA-8B-r128-LORA', 'DreadPoor/Everything-COT-8B-r128-LoRA', 'fimbulvntr/llewd-8b-64k', 'kik41/lora-formality-informal-llama-3-8b-v2', 'kik41/lora-length-long-llama-3-8b-v2', 'kik41/lora-sarcasm-more-llama-3-8b-v2', 'kik41/lora-type-descriptive-llama-3-8b-v2', 'kik41/lora-type-expository-llama-3-8b-v2', 'kik41/lora-type-narrative-llama-3-8b-v2', 'kik41/lora-type-persuasive-llama-3-8b-v2', 'MrRobotoAI/HEL-v0.8-8b-LONG-DARK', 'MrRobotoAI/MrRoboto-BASE-B-Unholy-8b-64k', 'MrRobotoAI/MrRoboto-BASE-C-Unholy-8b-64k', 'MrRobotoAI/MrRoboto-BASE-D-Unholy-8b-64k', 'MrRobotoAI/MrRoboto-BASE-E-Unholy-8b-64k', 'MrRobotoAI/MrRoboto-BASE-F-Unholy-8b-64k', 'MrRobotoAI/MrRoboto-BASE-G-Unholy-8b-64k', 'MrRobotoAI/MrRoboto-BASE-H-Unholy-8b-64k', 'MrRobotoAI/MrRoboto-BASE-Unholy-8b-64k', 'nothingiisreal/L3-8B-Stheno-Horny-v3.3-32K', 'nothingiisreal/llama3-8B-DWP-lora', 'Azazelle/Llama-3-LongStory-LORA', 'Blackroot/Llama3-RP-LORA', 'jspr/smut_llama_8b_smutromance_32k_peft', 'ResplendentAI/Aura_Llama3', 'ResplendentAI/BlueMoon_Llama3', 'ResplendentAI/Llama3_Aesir_Preview_LoRA_128', 'ResplendentAI/Llama3_RP_ORPO_LoRA', 'ResplendentAI/Luna_Llama3', 'ResplendentAI/Theory_of_Mind_Llama3', 'kromcomp/L3.1-Baldur-r64-LoRA', 'kromcomp/L3.1-BRAG-r64-LoRA', 'kromcomp/L3.1-Cakrawala-r128-LoRA', 'kromcomp/L3.1-Control-r64-LoRA', 'kromcomp/L3.1-Mistral-Data-r128-LoRA', 'kromcomp/L3.1-Sekhmet-r128-LoRA', 'kromcomp/L3.1-Spark-r64-LoRA', 'kromcomp/L3-BlueSerp-LoRA', 'kromcomp/L3-FantasyWriter-r64-LoRA', 'kromcomp/L3-Smaug-r64-LoRA', 'kromcomp/L3-Templar-r128-LoRA', 'kromcomp/L3-Unaligned-r256-LoRA']",
         "48",
         "2025-02-05 20:33:55+00:00"
        ],
        [
         "32900",
         "text-generation",
         "67ad220f71e254f3cc260c69",
         "['Azazelle/L3-Daybreak-8b-lora', 'Azazelle/Llama-3-8B-Abomination-LORA', 'Azazelle/llama3-8b-hikikomori-v0.4', 'Azazelle/Llama-3-LimaRP-Instruct-LoRA-8B', 'Azazelle/Llama-3-Sunfall-8b-lora', 'Azazelle/Nimue-8B', 'DreadPoor/abliteration-OVA-8B-r128-LORA', 'DreadPoor/Everything-COT-8B-r128-LoRA', 'fimbulvntr/llewd-8b-64k', 'kik41/lora-formality-informal-llama-3-8b-v2', 'kik41/lora-length-long-llama-3-8b-v2', 'kik41/lora-sarcasm-more-llama-3-8b-v2', 'kik41/lora-type-descriptive-llama-3-8b-v2', 'kik41/lora-type-expository-llama-3-8b-v2', 'kik41/lora-type-narrative-llama-3-8b-v2', 'kik41/lora-type-persuasive-llama-3-8b-v2', 'MrRobotoAI/HEL-v0.8-8b-LONG-DARK', 'MrRobotoAI/MrRoboto-BASE-B-Unholy-8b-64k', 'MrRobotoAI/MrRoboto-BASE-C-Unholy-8b-64k', 'MrRobotoAI/MrRoboto-BASE-D-Unholy-8b-64k', 'MrRobotoAI/MrRoboto-BASE-E-Unholy-8b-64k', 'MrRobotoAI/MrRoboto-BASE-F-Unholy-8b-64k', 'MrRobotoAI/MrRoboto-BASE-G-Unholy-8b-64k', 'MrRobotoAI/MrRoboto-BASE-H-Unholy-8b-64k', 'MrRobotoAI/MrRoboto-BASE-Unholy-8b-64k', 'nothingiisreal/L3-8B-Stheno-Horny-v3.3-32K', 'nothingiisreal/llama3-8B-DWP-lora', 'Azazelle/Llama-3-LongStory-LORA', 'Blackroot/Llama3-RP-LORA', 'jspr/smut_llama_8b_smutromance_32k_peft', 'ResplendentAI/Aura_Llama3', 'ResplendentAI/BlueMoon_Llama3', 'ResplendentAI/Llama3_Aesir_Preview_LoRA_128', 'ResplendentAI/Llama3_RP_ORPO_LoRA', 'ResplendentAI/Luna_Llama3', 'ResplendentAI/Theory_of_Mind_Llama3', 'kromcomp/L3.1-Baldur-r64-LoRA', 'kromcomp/L3.1-BRAG-r64-LoRA', 'kromcomp/L3.1-Cakrawala-r128-LoRA', 'kromcomp/L3.1-Control-r64-LoRA', 'kromcomp/L3.1-Mistral-Data-r128-LoRA', 'kromcomp/L3.1-Sekhmet-r128-LoRA', 'kromcomp/L3.1-Spark-r64-LoRA', 'kromcomp/L3-BlueSerp-LoRA', 'kromcomp/L3-FantasyWriter-r64-LoRA', 'kromcomp/L3-Smaug-r64-LoRA', 'kromcomp/L3-Templar-r128-LoRA', 'kromcomp/L3-Unaligned-r256-LoRA']",
         "48",
         "2025-02-12 22:34:55+00:00"
        ],
        [
         "14697",
         "text-generation",
         "667c08b1c8c087a1841891dc",
         "['openlynn/Llama-3-Soliloquy-8B-v2', 'Undi95/Llama-3-LewdPlay-8B-evo', 'NeverSleep/Llama-3-Lumimaid-8B-v0.1', 'NeverSleep/Llama-3-Lumimaid-8B-v0.1-OAS', 'dreamgen-preview/opus-v1.2-llama-3-8b-base-run3.4-epoch2', 'dreamgen-preview/opus-v1.2-llama-3-8b-instruct-run3.5-epoch2.5', 'Sao10K/L3-8B-Stheno-v3.2', 'mpasila/Llama-3-LiPPA-8B', 'mpasila/Llama-3-Instruct-LiPPA-8B', 'Abdulhanan2006/WaifuAI-L3-8B-8k', 'Blackroot/Llama-3-8B-Abomination-LORA', 'Nitral-AI/Hathor_Stable-v0.2-L3-8B', 'NousResearch/Meta-Llama-3-8B-Instruct', 'abacusai/Llama-3-Smaug-8B', 'jondurbin/bagel-8b-v1.0', 'TIGER-Lab/MAmmoTH2-8B-Plus', 'VAGOsolutions/Llama-3-SauerkrautLM-8b-Instruct', 'turboderp/llama3-turbcat-instruct-8b', 'failspy/Meta-Llama-3-8B-Instruct-abliterated-v3', 'Undi95/Llama-3-Unholy-8B', 'Undi95/Llama3-Unholy-8B-OAS', 'Undi95/Unholy-8B-DPO-OAS', 'Edgerunners/meta-llama-3-8b-instruct-hf-ortho-baukit-5fail-3000total-bf16', 'vicgalle/Configurable-Llama-3-8B-v0.3', 'lodrick-the-lafted/Limon-8B', 'AwanLLM/Awanllm-Llama-3-8B-Cumulus-v1.0', 'WhiteRabbitNeo/Llama-3-WhiteRabbitNeo-8B-v2.0', 'migtissera/Tess-2.0-Llama-3-8B', 'defog/llama-3-sqlcoder-8b', 'HPAI-BSC/Llama3-Aloe-8B-Alpha', 'maldv/llama-3-fantasy-writer-8b', 'lodrick-the-lafted/Olethros-8B', 'Blackroot/Llama-3-LongStory-LORA', 'Magpie-Align/Llama-3-8B-WildChat', 'Magpie-Align/Llama-3-8B-Tulu-330K', 'Magpie-Align/Llama-3-8B-OpenHermes-243K', 'Magpie-Align/Llama-3-8B-WizardLM-196K', 'Magpie-Align/Llama-3-8B-Ultrachat-200K', 'Magpie-Align/Llama-3-8B-ShareGPT-112K', 'refuelai/Llama-3-Refueled', 'Danielbrdz/Barcenas-Llama3-8b-ORPO', 'migtissera/Llama-3-8B-Synthia-v3.5', 'RLHFlow/LLaMA3-iterative-DPO-final', 'chujiezheng/LLaMA3-iterative-DPO-final-ExPO', 'princeton-nlp/Llama-3-Instruct-8B-SimPO', 'chujiezheng/Llama-3-Instruct-8B-SimPO-ExPO', 'chargoddard/prometheus-2-llama-3-8b']",
         "47",
         "2024-06-26 12:25:21+00:00"
        ],
        [
         "29567",
         "text-generation",
         "674f546a3d127925fd3031f1",
         "['Hjgugugjhuhjggg/mergekit-ties-qgcitfu', 'ValiantLabs/Llama3.2-3B-ShiningValiant2', 'CarrotAI/Llama-3.2-Rabbit-Ko-3B-Instruct', 'Atharva26/llama-3.2-3b-mathdaily-chatbot', 'bunnycore/Llama-3.2-3B-ProdigyPlusPlus', 'disi-unibo-nlp/llama3.2-3B-SFT-medqa-triples-cot', 'Hjgugugjhuhjggg/mergekit-ties-poovzrh', 'bunnycore/Llama-3.2-3B-Long-Think', 'noaebbot/llama3.2-3B-insights', 'ValiantLabs/Llama3.2-3B-Enigma', 'huihui-ai/Llama-3.2-3B-Instruct-abliterated', 'meta-llama/Llama-3.2-3B-Instruct', 'Hjgugugjhuhjggg/mergekit-ties-pghuyfi', 'Diluksha/Llama_3.2_3B_sql_finetuned_full', 'bunnycore/Llama-3.2-3B-Mix', 'Hjgugugjhuhjggg/mergekit-ties-xflmond', 'bunnycore/Llama-3.2-3B-Pure-RP', 'chuanli11/Llama-3.2-3B-Instruct-uncensored', 'EmTpro01/llama-3.2-Code-Generator', 'bunnycore/Llama-3.2-3B-Booval', 'bunnycore/Llama-3.2-3B-Prodigy', 'BrainWave-ML/llama3.2-3B-codemath-orpo', 'bunnycore/Llama-3.2-3B-TitanFusion', 'bunnycore/Llama-3.2-3B-CodeReactor', 'Hjgugugjhuhjggg/mergekit-ties-kmlzhzo', 'Hjgugugjhuhjggg/mergekit-ties-esawwda', 'bunnycore/Llama-3.2-3B-TitanFusion-v2', 'disi-unibo-nlp/llama3.2-3B-SFT-medmcqa-triples-cot', 'bunnycore/Llama-3.2-3B-Mix-Skill', 'bunnycore/Llama-3.2-3B-Sci-Think', 'AELLM/Llama-3.2-Chibi-3B', 'AcademieDuNumerique/Llama-3.2-3B-SQL-Instruct', 'roger33303/Best_Model-llama3.2-3b-Instruct-Finetune-website-QnA', 'Hjgugugjhuhjggg/mergekit-ties-dkhnzcn', 'Isotonic/reasoning-llama3.2-3b', 'meta-llama/Llama-3.2-3B', 'bunnycore/Llama-3.2-3B-Apex', 'TroyDoesAI/BlackSheep-Llama3.2-3B-Context_Obedient', 'CK0607/llama3.2-3B-CodeP', 'bunnycore/Llama-3.2-3B-Stock']",
         "40",
         "2024-12-03 18:56:42+00:00"
        ],
        [
         "31855",
         "text-generation",
         "678d8244630463a29b2f05ec",
         "['tannedbum/L3-Nymeria-v2-8B', 'eeeebbb2/3aff0ea7-4262-4abb-97b1-1879f340d32e', 'Sao10K/L3-8B-Stheno-v3.2', 'Azazelle/Llama-3-8B-Abomination-LORA', 'tannedbum/L3-Nymeria-v2-8B', 'Azazelle/Nimue-8B', 'HumanLLMs/Human-Like-LLama3-8B-Instruct', 'surya-narayanan/human_sexuality', 'MrRobotoAI/NBeerbower-Narrative-8b-64k', 'Sao10K/L3-8B-Stheno-v3.2', 'Azazelle/Llama-3-LongStory-LORA', 'tannedbum/L3-Nymeria-v2-8B', 'surya-narayanan/health', 'tannedbum/L3-Nymeria-v2-8B', 'kik41/lora-length-long-llama-3-8b-v2', 'HumanLLMs/Human-Like-LLama3-8B-Instruct', 'vincentyandex/lora_llama3_chunked_novel_bs128', 'HumanLLMs/Human-Like-LLama3-8B-Instruct', 'Azazelle/ANJIR-ADAPTER-128', 'Sao10K/L3-8B-Stheno-v3.2', 'surya-narayanan/formal_logic', 'HumanLLMs/Human-Like-LLama3-8B-Instruct', 'surya-narayanan/professional_psychology', 'HumanLLMs/Human-Like-LLama3-8B-Instruct', 'Azazelle/Llama-3-LimaRP-Instruct-LoRA-8B', 'tannedbum/L3-Nymeria-v2-8B', 'moetezsa/Llama3_instruct_on_wikibio', 'HumanLLMs/Human-Like-LLama3-8B-Instruct', 'kik41/lora-type-descriptive-llama-3-8b-v2', 'Sao10K/L3-8B-Stheno-v3.2', 'ResplendentAI/Llama3_RP_ORPO_LoRA', 'Sao10K/L3-8B-Stheno-v3.2', 'BeastGokul/Bio-Medical-MultiModal-Llama-3-8B-Finetuned', 'tannedbum/L3-Nymeria-v2-8B', 'ResplendentAI/Smarts_Llama3', 'Sao10K/L3-8B-Stheno-v3.2', 'surya-narayanan/anatomy', 'HumanLLMs/Human-Like-LLama3-8B-Instruct', 'surya-narayanan/sociology']",
         "39",
         "2025-01-19 22:52:52+00:00"
        ],
        [
         "16181",
         "text-generation",
         "67887f1f2990df8a08076fef",
         "['Epiculous/Mika-7B-LoRA', 'jeiku/Humiliation_Mistral', 'Triangle104/Vulkane_120-Days-of-Sodom-LoRA-Mistral-7b', 'kromcomp/L3-BlueSerp-LoRA', 'nothingiisreal/L3-8B-Stheno-Horny-v3.3-32K', 'kamrr/llama-3-8b_dolly_lora', 'ian00000/Llama-3-8B_offensive_CoT_finetuned', 'jspr/llama3-instruct-wordcel-smutrom_peft', 'WebNovelTrans/bEn0Kxa3dhCP8PCn', 'mpasila/Llama-3.1-Literotica-LoRA-8B', 'MrRobotoAI/1', 'jeiku/Alpaca_NSFW_Shuffled_Mistral', 'arushimgupta/lora_save_7', 'jeiku/Futadom_Mistral', 'jspr/llama3-wordcel-smutrom-reorder_peft', 'kromcomp/L3-Smaug-r64-LoRA', 'kromcomp/L3.1-Cakrawala-r128-LoRA', 'Azazelle/llama3-8b-hikikomori-v0.4', 'vaitech/open-hermes-erotic-story-finetune', 'jspr/smut_llama_8b_smut_2k_romance_1k_peft', 'Azazelle/Nimue-8B', 'Azazelle/Llama-3-Sunfall-8b-lora', 'kromcomp/L3-Unaligned-r256-LoRA', 'jspr/llama3-wordcel-smutrom_peft', 'jeiku/Sissification_Hypno_Mistral', 'mpasila/Llama-3-LiPPA-LoRA-8B', 'jspr/llama3-instruct-wordcel-smutrom-8k_peft', 'Azazelle/L3-Daybreak-8b-lora', 'kromcomp/L3.1-Control-r64-LoRA', 'kromcomp/L3.1-Sekhmet-r128-LoRA', 'lemonilia/ShoriRP-v0.75d', 'jeiku/NSFW_Niche_Mistral', 'ResplendentAI/Llama3_Aesir_Preview_LoRA_128', 'jspr/smut_llama_8b_smutromance_32k_peft', 'kromcomp/L3.1-BRAG-r64-LoRA', 'kromcomp/L3.1-Spark-r64-LoRA', 'kromcomp/L3.1-Baldur-r64-LoRA']",
         "37",
         "2025-01-16 03:38:07+00:00"
        ],
        [
         "47523",
         "text-generation",
         "669d1c6c7f28c43e09a336b7",
         "['Sao10K/L3-8B-Stheno-v3.2', 'ChaoticNeutrals/Poppy_Porpoise-1.0-L3-8B', 'Nitral-AI/Hathor_Stable-v0.2-L3-8B', 'NeverSleep/Llama-3-Lumimaid-8B-v0.1-OAS', 'Hastagaras/Jamet-8B-L3-MK.V-Blackroot', 'openlynn/Llama-3-Soliloquy-8B-v2', 'NousResearch/Meta-Llama-3-8B-Instruct', 'turboderp/llama3-turbcat-instruct-8b', 'VAGOsolutions/Llama-3-SauerkrautLM-8b-Instruct', 'TIGER-Lab/MAmmoTH2-8B-Plus', 'jondurbin/bagel-8b-v1.0', 'abacusai/Llama-3-Smaug-8B', 'failspy/Meta-Llama-3-8B-Instruct-abliterated-v3', 'AwanLLM/Awanllm-Llama-3-8B-Cumulus-v1.0', 'lodrick-the-lafted/Limon-8B', 'vicgalle/Configurable-Llama-3-8B-v0.3', 'Undi95/Llama3-Unholy-8B-OAS', 'Undi95/Unholy-8B-DPO-OAS', 'WhiteRabbitNeo/Llama-3-WhiteRabbitNeo-8B-v2.0', 'migtissera/Tess-2.0-Llama-3-8B', 'defog/llama-3-sqlcoder-8b', 'HPAI-BSC/Llama3-Aloe-8B-Alpha', 'maldv/llama-3-fantasy-writer-8b', 'lodrick-the-lafted/Olethros-8B', 'Magpie-Align/Llama-3-8B-ShareGPT-112K', 'Magpie-Align/Llama-3-8B-WildChat', 'Magpie-Align/Llama-3-8B-Tulu-330K', 'Magpie-Align/Llama-3-8B-OpenHermes-243K', 'Magpie-Align/Llama-3-8B-WizardLM-196K', 'Magpie-Align/Llama-3-8B-Ultrachat-200K', 'refuelai/Llama-3-Refueled', 'Danielbrdz/Barcenas-Llama3-8b-ORPO', 'migtissera/Llama-3-8B-Synthia-v3.5', 'chujiezheng/Llama-3-Instruct-8B-SimPO-ExPO', 'chujiezheng/LLaMA3-iterative-DPO-final-ExPO', 'chargoddard/prometheus-2-llama-3-8b']",
         "36",
         "2024-07-21 14:34:20+00:00"
        ],
        [
         "30593",
         "text-generation",
         "67886d1443fcb3baf1f55cc2",
         "['jeiku/Synthetic_Soul_1k_Mistral_128', 'kik41/lora-voice-active-llama-3-8b-v2', 'erbacher/zephyr-convsearch-7b-v2', 'kik41/lora-length-long-llama-3-8b-v2', 'kik41/lora-type-persuasive-llama-3-8b-v2', 'nothingiisreal/llama3-8B-DWP-lora', 'kik41/lora-sarcasm-more-llama-3-8b-v2', 'erbacher/zephyr-rag-agent-webgpt', 'athirdpath/BigMistral-11b-GLUE_LORA', 'kik41/lora-function-more-llama-3-8b-v2', 'grimjim/Llama-3-Instruct-abliteration-LoRA-8B', 'jrahn/llama-3-8b-claudstruct-v3', 'kromcomp/L3-FantasyWriter-r64-LoRA', 'Ozaii/Wali-8B-Uncensored-Model', 'ResplendentAI/BlueMoon_Llama3', 'kik41/lora-type-narrative-llama-3-8b-v2', 'ResplendentAI/Luna_Llama3', 'kromcomp/L3-Unaligned-r256-LoRA', 'erbacher/zephyr-rag-agent', 'kromcomp/L3.1-Mistral-Data-r128-LoRA', 'kik41/lora-formality-informal-llama-3-8b-v2', 'vaitech/open-hermes-sd-finetune', 'kik41/lora-type-descriptive-llama-3-8b-v2', 'ResplendentAI/NoWarning_Llama3', 'ResplendentAI/Theory_of_Mind_Llama3', 'Chat-Error/Claude-Kimiko', 'DreadPoor/Everything-COT-8B-r128-LoRA', 'MrRobotoAI/1', 'ResplendentAI/Aura_Llama3', 'hannahbillo/dpo-llama3-8b-grammar-rules', 'yjcsean/fintuned_story', 'aryanagrawal1/llama-3-8b-instruct-sft-rewriting-fs-promptbench', 'vincentyandex/lora_llama3_chunked_novel_bs128', 'jeiku/Writing_Mistral', 'NewEden/Control-8B-V.2-Erebus-Lora', 'ResplendentAI/Llama3_RP_ORPO_LoRA']",
         "36",
         "2025-01-16 02:21:08+00:00"
        ],
        [
         "40054",
         "text-generation",
         "6689c949377ee64785bef5dc",
         "['Sao10K/L3-8B-Stheno-v3.2', 'ChaoticNeutrals/Poppy_Porpoise-1.0-L3-8B', 'Nitral-AI/Hathor_Stable-v0.2-L3-8B', 'NeverSleep/Llama-3-Lumimaid-8B-v0.1-OAS', 'Hastagaras/Jamet-8B-L3-MK.V-Blackroot', 'openlynn/Llama-3-Soliloquy-8B-v2', 'NousResearch/Meta-Llama-3-8B-Instruct', 'turboderp/llama3-turbcat-instruct-8b', 'VAGOsolutions/Llama-3-SauerkrautLM-8b-Instruct', 'TIGER-Lab/MAmmoTH2-8B-Plus', 'jondurbin/bagel-8b-v1.0', 'abacusai/Llama-3-Smaug-8B', 'failspy/Meta-Llama-3-8B-Instruct-abliterated-v3', 'AwanLLM/Awanllm-Llama-3-8B-Cumulus-v1.0', 'lodrick-the-lafted/Limon-8B', 'vicgalle/Configurable-Llama-3-8B-v0.3', 'Undi95/Llama3-Unholy-8B-OAS', 'Undi95/Unholy-8B-DPO-OAS', 'WhiteRabbitNeo/Llama-3-WhiteRabbitNeo-8B-v2.0', 'migtissera/Tess-2.0-Llama-3-8B', 'defog/llama-3-sqlcoder-8b', 'HPAI-BSC/Llama3-Aloe-8B-Alpha', 'maldv/llama-3-fantasy-writer-8b', 'lodrick-the-lafted/Olethros-8B', 'Magpie-Align/Llama-3-8B-ShareGPT-112K', 'Magpie-Align/Llama-3-8B-WildChat', 'Magpie-Align/Llama-3-8B-Tulu-330K', 'Magpie-Align/Llama-3-8B-OpenHermes-243K', 'Magpie-Align/Llama-3-8B-WizardLM-196K', 'Magpie-Align/Llama-3-8B-Ultrachat-200K', 'refuelai/Llama-3-Refueled', 'Danielbrdz/Barcenas-Llama3-8b-ORPO', 'migtissera/Llama-3-8B-Synthia-v3.5', 'chujiezheng/Llama-3-Instruct-8B-SimPO-ExPO', 'chujiezheng/LLaMA3-iterative-DPO-final-ExPO', 'chargoddard/prometheus-2-llama-3-8b']",
         "36",
         "2024-07-06 22:46:33+00:00"
        ],
        [
         "5553",
         "text-generation",
         "67624e44e18d91134a6a095b",
         "['tannedbum/L3-Nymeria-v2-8B', 'surya-narayanan/human_sexuality', 'tannedbum/L3-Nymeria-v2-8B', 'surya-narayanan/professional_medicine', 'tannedbum/L3-Nymeria-v2-8B', 'Azazelle/ANJIR-ADAPTER-128', 'tannedbum/L3-Nymeria-v2-8B', 'Azazelle/Llama-3-8B-Abomination-LORA', 'tannedbum/L3-Nymeria-v2-8B', 'surya-narayanan/biology', 'Sao10K/L3-8B-Stheno-v3.2', 'grimjim/Llama-3-Instruct-abliteration-LoRA-8B', 'tannedbum/L3-Nymeria-v2-8B', 'BeastGokul/Bio-Medical-MultiModal-Llama-3-8B-Finetuned', 'tannedbum/L3-Nymeria-v2-8B', 'surya-narayanan/formal_logic', 'tannedbum/L3-Nymeria-v2-8B', 'kik41/lora-type-descriptive-llama-3-8b-v2', 'tannedbum/L3-Nymeria-v2-8B', 'kik41/lora-length-long-llama-3-8b-v2', 'tannedbum/L3-Nymeria-v2-8B', 'surya-narayanan/sociology', 'tannedbum/L3-Nymeria-v2-8B', 'ResplendentAI/Smarts_Llama3', 'tannedbum/L3-Nymeria-v2-8B', 'surya-narayanan/anatomy', 'tannedbum/L3-Nymeria-v2-8B', 'surya-narayanan/health', 'tannedbum/L3-Nymeria-v2-8B', 'surya-narayanan/psychology', 'tannedbum/L3-Nymeria-v2-8B', 'Azazelle/Nimue-8B', 'tannedbum/L3-Nymeria-v2-8B', 'surya-narayanan/professional_psychology']",
         "34",
         "2024-12-18 04:23:32+00:00"
        ],
        [
         "25685",
         "text-generation",
         "678307b1fb8b00289a30c678",
         "['DreadPoor/Derivative-8B-Model_Stock', 'surya-narayanan/health', 'DreadPoor/Derivative-8B-Model_Stock', 'kik41/lora-type-descriptive-llama-3-8b-v2', 'DreadPoor/Derivative-8B-Model_Stock', 'kik41/lora-length-long-llama-3-8b-v2', 'DreadPoor/Derivative-8B-Model_Stock', 'Azazelle/Llama-3-8B-Abomination-LORA', 'DreadPoor/Derivative-8B-Model_Stock', 'dimasik1987/74f5bf43-4a1b-44bb-9b95-6b5631ccfc3e', 'DreadPoor/Derivative-8B-Model_Stock', 'vincentyandex/lora_llama3_chunked_novel_bs128', 'DreadPoor/Derivative-8B-Model_Stock', 'surya-narayanan/clinical_knowledge', 'DreadPoor/Derivative-8B-Model_Stock', 'surya-narayanan/professional_psychology', 'DreadPoor/Derivative-8B-Model_Stock', 'eeeebbb2/3aff0ea7-4262-4abb-97b1-1879f340d32e', 'DreadPoor/Derivative-8B-Model_Stock', 'surya-narayanan/human_sexuality', 'DreadPoor/Derivative-8B-Model_Stock', 'surya-narayanan/sociology', 'DreadPoor/Derivative-8B-Model_Stock', 'ResplendentAI/Smarts_Llama3', 'DreadPoor/Derivative-8B-Model_Stock', 'kik41/lora-type-narrative-llama-3-8b-v2', 'DreadPoor/Derivative-8B-Model_Stock', 'DreadPoor/OpenBioLLM-8B-r64-LoRA', 'DreadPoor/Derivative-8B-Model_Stock', 'DreadPoor/abliteration-OVA-8B-r128-LORA', 'DreadPoor/Derivative-8B-Model_Stock', 'DreadPoor/Everything-COT-8B-r128-LoRA', 'DreadPoor/Derivative-8B-Model_Stock', 'surya-narayanan/anatomy']",
         "34",
         "2025-01-12 00:07:13+00:00"
        ],
        [
         "58707",
         "text-generation",
         "67625c6c792b2e3c6c5fae7a",
         "['mergekit-community/mergekit-model_stock-anvdilz', 'BeastGokul/Bio-Medical-MultiModal-Llama-3-8B-Finetuned', 'mergekit-community/mergekit-model_stock-anvdilz', 'surya-narayanan/health', 'mergekit-community/mergekit-model_stock-anvdilz', 'surya-narayanan/formal_logic', 'mergekit-community/mergekit-model_stock-anvdilz', 'kik41/lora-type-descriptive-llama-3-8b-v2', 'mergekit-community/mergekit-model_stock-anvdilz', 'Azazelle/Nimue-8B', 'mergekit-community/mergekit-model_stock-anvdilz', 'ResplendentAI/Smarts_Llama3', 'mergekit-community/mergekit-model_stock-anvdilz', 'kik41/lora-length-long-llama-3-8b-v2', 'mergekit-community/mergekit-model_stock-anvdilz', 'surya-narayanan/sociology', 'mergekit-community/mergekit-model_stock-anvdilz', 'surya-narayanan/biology', 'mergekit-community/mergekit-model_stock-anvdilz', 'surya-narayanan/anatomy', 'mergekit-community/mergekit-model_stock-anvdilz', 'surya-narayanan/professional_psychology', 'mergekit-community/mergekit-model_stock-anvdilz', 'grimjim/Llama-3-Instruct-abliteration-LoRA-8B', 'mergekit-community/mergekit-model_stock-anvdilz', 'surya-narayanan/psychology', 'mergekit-community/mergekit-model_stock-anvdilz', 'surya-narayanan/professional_medicine', 'mergekit-community/mergekit-model_stock-anvdilz', 'surya-narayanan/human_sexuality', 'mergekit-community/mergekit-model_stock-anvdilz', 'Azazelle/ANJIR-ADAPTER-128', 'mergekit-community/mergekit-model_stock-anvdilz', 'Azazelle/Llama-3-8B-Abomination-LORA']",
         "34",
         "2024-12-18 05:23:56+00:00"
        ],
        [
         "4366",
         "text-generation",
         "666271b76ae3e40fe6248e49",
         "['openlynn/Llama-3-Soliloquy-8B-v2', 'Undi95/Llama-3-LewdPlay-8B-evo', 'NeverSleep/Llama-3-Lumimaid-8B-v0.1', 'NeverSleep/Llama-3-Lumimaid-8B-v0.1-OAS', 'dreamgen-preview/opus-v1.2-llama-3-8b-base-run3.4-epoch2', 'dreamgen-preview/opus-v1.2-llama-3-8b-instruct-run3.5-epoch2.5', 'Sao10K/L3-8B-Stheno-v3.2', 'mpasila/Llama-3-LiPPA-8B', 'mpasila/Llama-3-Instruct-LiPPA-8B', 'Abdulhanan2006/WaifuAI-L3-8B-8k', 'Blackroot/Llama-3-8B-Abomination-LORA', 'abacusai/Llama-3-Smaug-8B', 'jondurbin/bagel-8b-v1.0', 'TIGER-Lab/MAmmoTH2-8B-Plus', 'VAGOsolutions/Llama-3-SauerkrautLM-8b-Instruct', 'failspy/Meta-Llama-3-8B-Instruct-abliterated-v3', 'Undi95/Llama-3-Unholy-8B', 'Undi95/Llama3-Unholy-8B-OAS', 'Undi95/Unholy-8B-DPO-OAS', 'Edgerunners/meta-llama-3-8b-instruct-hf-ortho-baukit-5fail-3000total-bf16', 'vicgalle/Configurable-Llama-3-8B-v0.3', 'lodrick-the-lafted/Limon-8B', 'AwanLLM/Awanllm-Llama-3-8B-Cumulus-v1.0', 'WhiteRabbitNeo/Llama-3-WhiteRabbitNeo-8B-v2.0', 'migtissera/Tess-2.0-Llama-3-8B', 'HPAI-BSC/Llama3-Aloe-8B-Alpha', 'refuelai/Llama-3-Refueled', 'Danielbrdz/Barcenas-Llama3-8b-ORPO', 'lodrick-the-lafted/Olethros-8B', 'migtissera/Llama-3-8B-Synthia-v3.5', 'RLHFlow/LLaMA3-iterative-DPO-final', 'chujiezheng/LLaMA3-iterative-DPO-final-ExPO', 'princeton-nlp/Llama-3-Instruct-8B-SimPO', 'chujiezheng/Llama-3-Instruct-8B-SimPO-ExPO']",
         "34",
         "2024-06-07 02:34:31+00:00"
        ],
        [
         "9115",
         "text-generation",
         "67a5ef529d87897981b66bde",
         "['MrRobotoAI/MrRoboto-BASE-v1-8b-64k', 'aifeifei798/llama3-8B-DarkIdol-2.0-Uncensored', 'MrRobotoAI/MrRoboto-DARK-v1-8b-64k', 'MrRobotoAI/Mpasila-Viking-8b', 'Blackroot/Llama-3-LongStory-LORA', 'MrRobotoAI/MrRoboto-EDUCATED-8b-64k', 'Undi95/Llama-3-LewdPlay-8B', 'Blackroot/Llama-3-LongStory-LORA', 'MrRobotoAI/MrRoboto-ROMANCE-8b-64k', 'MrRobotoAI/NBeerbower-ConversationalMix-8b', 'MrRobotoAI/Odin-v1-8b-NOVELIST', 'aifeifei798/llama3-8B-DarkIdol-2.1-Uncensored-1048K', 'nothingiisreal/L3-8B-Stheno-Horny-v3.3-32K', 'Blackroot/Llama-3-LongStory-LORA', 'gradientai/Llama-3-8B-Instruct-Gradient-4194k', 'CultriX/Llama3-8B-function-calling-uncensored', 'Blackroot/Llama-3-LongStory-LORA', 'liminerity/llama-lexi-star-uncensored-8b-slerp', 'Blackroot/Llama-3-LongStory-LORA', 'SicariusSicariiStuff/LLAMA-3_8B_Unaligned_BETA', 'Blackroot/Llama-3-LongStory-LORA', 'MrRobotoAI/NBeerbower-Narrative-8b-64k', 'MrRobotoAI/MrRoboto-BASE-v3-8b-64k', 'MrRobotoAI/Undi95-LewdStorytellerMix-8b-64k', 'ross-dev/Monah-8b-Uncensored', 'Blackroot/Llama-3-LongStory-LORA', 'MrRobotoAI/MrRoboto-CHATTY-RP-v1.5-8b-64k', 'MrRobotoAI/MrRoboto-WRITER-8b-64k', 'WeMake/Llama-3-8B-Instruct-V41-1048k', 'MrRobotoAI/MrRoboto-BASE-v2.1-8b-64k', 'Rupesh2/OrpoLlama-3-8B-uncensored', 'Blackroot/Llama-3-LongStory-LORA', 'MrRobotoAI/MrRoboto-HORNY-v1.5-8b-64k']",
         "33",
         "2025-02-07 11:32:34+00:00"
        ],
        [
         "28561",
         "text-generation",
         "6787e80f4f1b4701c6ebaa24",
         "['kik41/lora-voice-active-llama-3-8b-v2', 'WebNovelTrans/bEn0Kxa3dhCP8PCn', 'jeiku/NSFW_Niche_Mistral', 'kik41/lora-type-narrative-llama-3-8b-v2', 'MrRobotoAI/10', 'kik41/lora-sarcasm-more-llama-3-8b-v2', 'kik41/lora-length-long-llama-3-8b-v2', 'jeiku/Alpaca_NSFW_Shuffled_Mistral', 'jspr/llama3-instruct-wordcel-smutrom-8k_peft', 'jrahn/llama-3-8b-claudstruct-v3', 'kik41/lora-type-descriptive-llama-3-8b-v2', 'jeiku/Futadom_Mistral', 'ian00000/Llama-3-8B_offensive_CoT_finetuned', 'vaitech/open-hermes-sd-finetune', 'hannahbillo/dpo-llama3-8b-grammar-rules', 'jeiku/Writing_Mistral', 'nothingiisreal/L3-8B-Stheno-Horny-v3.3-32K', 'kromcomp/L3-FantasyWriter-r64-LoRA', 'Chat-Error/Claude-Kimiko', 'jeiku/Humiliation_Mistral', 'vaitech/open-hermes-erotic-story-finetune', 'mpasila/Llama-3.1-Literotica-LoRA-8B', 'kik41/lora-function-more-llama-3-8b-v2', 'kromcomp/L3-Unaligned-r256-LoRA', 'yjcsean/fintuned_story', 'kik41/lora-type-persuasive-llama-3-8b-v2', 'kik41/lora-formality-informal-llama-3-8b-v2', 'jspr/smut_llama_8b_smutromance_32k_peft', 'aryanagrawal1/llama-3-8b-instruct-sft-rewriting-fs-promptbench', 'jeiku/Sissification_Hypno_Mistral', 'Triangle104/Vulkane_120-Days-of-Sodom-LoRA-Mistral-7b', 'vincentyandex/lora_llama3_chunked_novel_bs128']",
         "32",
         "2025-01-15 16:53:35+00:00"
        ],
        [
         "11699",
         "text-generation",
         "67a4c7dc2e823c4e60b310fd",
         "['MrRobotoAI/Llama-3-8B-Uncensored-test2', 'surya-narayanan/psychology_non_masked', 'MrRobotoAI/Llama-3-8B-Uncensored-test2', 'vaitech/open-hermes-erotic-story-finetune', 'MrRobotoAI/Llama-3-8B-Uncensored-test2', 'vincentyandex/lora_llama3_chunked_novel_bs128', 'MrRobotoAI/Llama-3-8B-Uncensored-test2', 'surya-narayanan/sociology', 'MrRobotoAI/Llama-3-8B-Uncensored-test2', 'surya-narayanan/us_foreign_policy', 'MrRobotoAI/Llama-3-8B-Uncensored-test2', 'surya-narayanan/psychology_100', 'MrRobotoAI/Llama-3-8B-Uncensored-test2', 'surya-narayanan/security_studies', 'MrRobotoAI/Llama-3-8B-Uncensored-test2', 'WebNovelTrans/bEn0Kxa3dhCP8PCn', 'MrRobotoAI/Llama-3-8B-Uncensored-test2', 'surya-narayanan/public_relations', 'MrRobotoAI/Llama-3-8B-Uncensored-test2', 'surya-narayanan/world_religions', 'MrRobotoAI/Llama-3-8B-Uncensored-test2', 'vaitech/open-hermes-sd-finetune', 'MrRobotoAI/Llama-3-8B-Uncensored-test2', 'W1lson/mistral-trained-on-Book3', 'MrRobotoAI/Llama-3-8B-Uncensored-test2', 'yjcsean/fintuned_story', 'MrRobotoAI/Llama-3-8B-Uncensored-test2', 'surya-narayanan/psychology', 'MrRobotoAI/Llama-3-8B-Uncensored-test2', 'W1lson/zephyr-book-3', 'MrRobotoAI/Llama-3-8B-Uncensored-test2', 'Triangle104/Vulkane_120-Days-of-Sodom-LoRA-Mistral-7b']",
         "32",
         "2025-02-06 14:31:56+00:00"
        ],
        [
         "31791",
         "text-generation",
         "676f2de2adab4de67b13f909",
         "['tannedbum/L3-Nymeria-v2-8B', 'eeeebbb2/3aff0ea7-4262-4abb-97b1-1879f340d32e', 'tannedbum/L3-Nymeria-v2-8B', 'surya-narayanan/professional_psychology', 'tannedbum/L3-Nymeria-v2-8B', 'Blackroot/Llama-3-LongStory-LORA', 'tannedbum/L3-Nymeria-v2-8B', 'ResplendentAI/Llama3_RP_ORPO_LoRA', 'tannedbum/L3-Nymeria-v2-8B', 'surya-narayanan/psychology', 'tannedbum/L3-Nymeria-v2-8B', 'kloodia/lora-8b-bio', 'tannedbum/L3-Nymeria-v2-8B', 'surya-narayanan/conceptual_physics', 'tannedbum/L3-Nymeria-v2-8B', 'surya-narayanan/health', 'tannedbum/L3-Nymeria-v2-8B', 'surya-narayanan/anatomy', 'tannedbum/L3-Nymeria-v2-8B', 'surya-narayanan/human_sexuality', 'tannedbum/L3-Nymeria-v2-8B', 'surya-narayanan/formal_logic', 'tannedbum/L3-Nymeria-v2-8B', 'surya-narayanan/sociology', 'DreadPoor/Alita99-8B-LINEAR', 'tannedbum/L3-Nymeria-v2-8B', 'surya-narayanan/professional_medicine', 'tannedbum/L3-Nymeria-v2-8B', 'vincentyandex/lora_llama3_chunked_novel_bs128', 'tannedbum/L3-Nymeria-v2-8B', 'kloodia/lora-8b-physic']",
         "31",
         "2024-12-27 22:44:50+00:00"
        ],
        [
         "3442",
         "text-generation",
         "67955d1bc16b74e280ff1ccd",
         "['stepenZEN/DeepSeek-R1-Distill-Llama-8B-Abliterated', 'eeeebbb2/3aff0ea7-4262-4abb-97b1-1879f340d32e', 'stepenZEN/DeepSeek-R1-Distill-Llama-8B-Abliterated', 'surya-narayanan/sociology', 'stepenZEN/DeepSeek-R1-Distill-Llama-8B-Abliterated', 'BeastGokul/Bio-Medical-MultiModal-Llama-3-8B-Finetuned', 'stepenZEN/DeepSeek-R1-Distill-Llama-8B-Abliterated', 'surya-narayanan/professional_psychology', 'stepenZEN/DeepSeek-R1-Distill-Llama-8B-Abliterated', 'surya-narayanan/anatomy', 'stepenZEN/DeepSeek-R1-Distill-Llama-8B-Abliterated', 'vincentyandex/lora_llama3_chunked_novel_bs128', 'stepenZEN/DeepSeek-R1-Distill-Llama-8B-Abliterated', 'kik41/lora-type-descriptive-llama-3-8b-v2', 'stepenZEN/DeepSeek-R1-Distill-Llama-8B-Abliterated', 'surya-narayanan/human_sexuality', 'stepenZEN/DeepSeek-R1-Distill-Llama-8B-Abliterated', 'Azazelle/ANJIR-ADAPTER-128', 'stepenZEN/DeepSeek-R1-Distill-Llama-8B-Abliterated', 'surya-narayanan/formal_logic', 'stepenZEN/DeepSeek-R1-Distill-Llama-8B-Abliterated', 'surya-narayanan/health', 'stepenZEN/DeepSeek-R1-Distill-Llama-8B-Abliterated', 'moetezsa/Llama3_instruct_on_wikibio', 'stepenZEN/DeepSeek-R1-Distill-Llama-8B-Abliterated', 'kik41/lora-length-long-llama-3-8b-v2', 'stepenZEN/DeepSeek-R1-Distill-Llama-8B-Abliterated', 'ResplendentAI/Llama3_RP_ORPO_LoRA', 'stepenZEN/DeepSeek-R1-Distill-Llama-8B-Abliterated', 'Blackroot/Llama-3-LongStory-LORA']",
         "30",
         "2025-01-25 21:52:27+00:00"
        ],
        [
         "38348",
         "text-generation",
         "67a0da23e33ad447944c681d",
         "['MrRobotoAI/Loki-v1-8b-EROTICA', 'nothingiisreal/L3-8B-Stheno-Horny-v3.3-32K', 'MrRobotoAI/Loki-v1-8b-EROTICA', 'ResplendentAI/Luna_Llama3', 'MrRobotoAI/MrRoboto-PORN_RAG-8b-64k', 'ResplendentAI/NoWarning_Llama3', 'MrRobotoAI/Loki-v1-8b-EROTICA', 'ResplendentAI/Llama3_RP_ORPO_LoRA', 'MrRobotoAI/Loki-v1-8b-EROTICA', 'ResplendentAI/Theory_of_Mind_Llama3', 'MrRobotoAI/Loki-v1-8b-EROTICA', 'Azazelle/Llama-3-8B-Abomination-LORA', 'MrRobotoAI/Loki-v1-8b-EROTICA', 'MrRobotoAI/DeepSeek-R1-Llama-8B-Adapter-r1024', 'MrRobotoAI/DavidAU-Dark_Mistress-Planet-8B', 'ResplendentAI/NoWarning_Llama3', 'MrRobotoAI/Loki-v1-8b-EROTICA', 'Azazelle/Llama-3-LongStory-LORA', 'MrRobotoAI/Loki-v1-8b-EROTICA', 'ResplendentAI/Llama3_Aesir_Preview_LoRA_128', 'MrRobotoAI/Mpasila-Viking-8b', 'ResplendentAI/NoWarning_Llama3', 'MrRobotoAI/Loki-v1-8b-EROTICA', 'ResplendentAI/BlueMoon_Llama3', 'MrRobotoAI/Loki-v1-8b-EROTICA', 'ResplendentAI/Aura_Llama3', 'MrRobotoAI/Loki-v1-8b-EROTICA', 'ResplendentAI/NoWarning_Llama3', 'MrRobotoAI/Loki-v1-8b-EROTICA', 'ResplendentAI/Smarts_Llama3']",
         "30",
         "2025-02-03 15:00:51+00:00"
        ],
        [
         "29715",
         "text-generation",
         "6714fa4e108f14aaebb04ca3",
         "['rvv-karma/BASH-Coder-Mistral-7B', 'Locutusque/Hercules-3.1-Mistral-7B', 'KoboldAI/Mistral-7B-Erebus-v3', 'Locutusque/Hyperion-2.1-Mistral-7B', 'Severian/Nexus-IKM-Mistral-7B-Pytorch', 'NousResearch/Hermes-2-Pro-Mistral-7B', 'mistralai/Mistral-7B-Instruct-v0.2', 'Nitral-AI/ProdigyXBioMistral_7B', 'Nitral-AI/Infinite-Mika-7b', 'Nous-Yarn-Mistral-7b-128k', 'yanismiraoui/Yarn-Mistral-7b-128k-sharded', 'LeroyDyer/LCARS_TOP_SCORE', 'LeroyDyer/Mixtral_AI_Cyber_Matrix_2_0', 'LeroyDyer/SpydazWeb_AI_CyberTron_Ultra_7b', 'LeroyDyer/LCARS_AI_StarTrek_Computer', 'LeroyDyer/_Spydaz_Web_AI_ActionQA_Project', 'LeroyDyer/_Spydaz_Web_AI_ChatML_512K_Project', 'LeroyDyer/_Spydaz_Web_AI_ChatQA_ReAct_Project_UltraFineTuned', 'LeroyDyer/SpyazWeb_AI_DeepMind_Project', 'LeroyDyer/SpydazWeb_AI_Swahili_Project', 'LeroyDyer/_Spydaz_Web_AI_ChatQA_ReAct_Project', 'LeroyDyer/_Spydaz_Web_AI_MistralStar_001_Project', 'LeroyDyer/QuietStar_Project', 'LeroyDyer/Mixtral_BioMedical_7b', 'LeroyDyer/Mixtral_AI_CyberTron_Coder', 'LeroyDyer/_Spydaz_Web_AI_BIBLE_002', 'LeroyDyer/_Spydaz_Web_AI_ChatQA_Reasoning101_Project', 'LeroyDyer/SpydazWeb_AI_Text_AudioVision_Project']",
         "28",
         "2024-10-20 12:40:46+00:00"
        ],
        [
         "24902",
         "text-generation",
         "65cab546024c6320f4227d30",
         "['jeiku/Rosa_v1_3B', 'jeiku/Gnosis_256_StableLM', 'jeiku/Rosa_v1_3B', 'jeiku/Toxic_DPO_StableLM', 'jeiku/Rosa_v1_3B', 'jeiku/PIPPA_128_StableLM', 'jeiku/Rosa_v1_3B', 'jeiku/Theory_of_Mind_RP_128_StableLM', 'jeiku/Rosa_v1_3B', 'jeiku/Alpaca_128_StableLM', 'jeiku/Rosa_v1_3B', 'jeiku/RPGPT_StableLM', 'jeiku/Rosa_v1_3B', 'jeiku/Bluemoon_cleaned_StableLM', 'jeiku/Rosa_v1_3B', 'jeiku/Everything_v3_128_StableLM', 'jeiku/Rosa_v1_3B', 'jeiku/Theory_of_Mind_128_StableLM', 'jeiku/Rosa_v1_3B', 'jeiku/Humiliation_StableLM', 'jeiku/Rosa_v1_3B', 'jeiku/Rosa_v1_3B', 'jeiku/LimaRP_StableLM', 'jeiku/Rosa_v1_3B', 'jeiku/Futa_Erotica_StableLM', 'jeiku/Rosa_v1_3B', 'jeiku/No_Robots_Alpaca_StableLM']",
         "27",
         "2024-02-13 00:18:14+00:00"
        ],
        [
         "4067",
         "text-generation",
         "673d0513dc51c886f80e06cf",
         "['bluuwhale/L3-SthenoMaidBlackroot-8B-V1', 'bunnycore/Llama-3.1-8B-OmniMatrix', 'bunnycore/Llama-3.1-8B-TitanFusion-Mix-2.1', 'Casual-Autopsy/L3-Super-Nova-RP-8B', 'Casual-Autopsy/L3-Umbral-Mind-RP-v3.0-8B', 'd0rj/Llama-3-8B-saiga-suzume-ties', 'DavidAU/L3.1-Dark-Planet-SpinFire-Uncensored-8B', 'DreadPoor/CoolerCoder-8B-Model_Stock', 'DreadPoor/L3.1-BaeZel-8B-Della', 'DreadPoor/Trinas_Nectar-8B-model_stock', 'IlyaGusev/saiga_llama3_8b', 'invisietch/EtherealRainbow-v0.3-8B', 'invisietch/L3.1-EtherealRainbow-v1.0-rc1-8B', 'jeiku/Chaos_RP_l3_8B', 'mlabonne/Daredevil-8B', 'MrRobotoAI/Loki-.Epic_Fiction.-8b', 'PJMixers/LLaMa-3-CursedStock-v2.0-8B', 'ResplendentAI/Nymph_8B', 'rityak/L3.1-DarkStock-8B', 'saishf/Neural-SOVLish-Devil-8B-L3', 'saishf/SOVL-Mega-Mash-V2-L3-8B', 'sethuiyer/Dr.Samantha-8B', 'SicariusSicariiStuff/LLAMA-3_8B_Unaligned_BETA', 'v000000/L3-8B-BlueSerpentine', 'v000000/L3.1-Storniitova-8B', 'win10/ArliAI-RPMax-v1.3-merge-8B', 'ZeroXClem/Llama-3-8B-ProLong-SAO-Roleplay-512k']",
         "27",
         "2024-11-19 21:37:23+00:00"
        ],
        [
         "58356",
         "text-generation",
         "677f4b603b98ffa2beb2d8e0",
         "['DreadPoor/Derivative-8B-Model_Stock', 'grimjim/Llama-3-Instruct-abliteration-LoRA-8B', 'Sao10K/L3-8B-Stheno-v3.2', 'kik41/lora-length-long-llama-3-8b-v2', 'Sao10K/L3-8B-Stheno-v3.2', 'surya-narayanan/biology', 'Sao10K/L3-8B-Stheno-v3.2', 'vincentyandex/lora_llama3_chunked_novel_bs128', 'Sao10K/L3-8B-Stheno-v3.2', 'surya-narayanan/professional_psychology', 'Sao10K/L3-8B-Stheno-v3.2', 'surya-narayanan/human_sexuality', 'Sao10K/L3-8B-Stheno-v3.2', 'eeeebbb2/3aff0ea7-4262-4abb-97b1-1879f340d32e', 'Sao10K/L3-8B-Stheno-v3.2', 'surya-narayanan/health', 'Sao10K/L3-8B-Stheno-v3.2', 'ResplendentAI/Smarts_Llama3', 'Sao10K/L3-8B-Stheno-v3.2', 'surya-narayanan/formal_logic', 'Sao10K/L3-8B-Stheno-v3.2', 'Azazelle/Llama-3-8B-Abomination-LORA', 'Sao10K/L3-8B-Stheno-v3.2', 'surya-narayanan/anatomy', 'Sao10K/L3-8B-Stheno-v3.2', 'kik41/lora-type-descriptive-llama-3-8b-v2']",
         "26",
         "2025-01-09 04:06:56+00:00"
        ],
        [
         "34548",
         "text-generation",
         "65c15e60444ff44cb6f52d5a",
         "['jeiku/Rosa_v1_3B', 'jeiku/PIPPA_128_StableLM', 'jeiku/Rosa_v1_3B', 'jeiku/Theory_of_Mind_RP_128_StableLM', 'jeiku/Rosa_v1_3B', 'jeiku/Bluemoon_cleaned_StableLM', 'jeiku/Rosa_v1_3B', 'jeiku/Alpaca_128_StableLM', 'jeiku/Rosa_v1_3B', 'jeiku/Toxic_DPO_StableLM', 'jeiku/Rosa_v1_3B', 'jeiku/Rosa_v1_3B', 'jeiku/LimaRP_StableLM', 'jeiku/Rosa_v1_3B', 'jeiku/Gnosis_256_StableLM', 'jeiku/Rosa_v1_3B', 'jeiku/Humiliation_StableLM', 'jeiku/Rosa_v1_3B', 'jeiku/Theory_of_Mind_128_StableLM', 'jeiku/Rosa_v1_3B', 'jeiku/Futa_Erotica_StableLM', 'jeiku/Rosa_v1_3B', 'jeiku/Everything_v3_128_StableLM', 'jeiku/Rosa_v1_3B', 'jeiku/No_Robots_Alpaca_StableLM']",
         "25",
         "2024-02-05 22:17:04+00:00"
        ],
        [
         "51559",
         "text-generation",
         "676f7a2bfa494e468626c2b0",
         "['concedo/Beepo-22B', 'Alfitaria/mistral-small-fujin-qlora', 'ArliAI/Mistral-Small-22B-ArliAI-RPMax-v1.1', 'InferenceIllusionist/SorcererLM-22B', 'anthracite-org/magnum-v4-22b', 'unsloth/Mistral-Small-Instruct-2409', 'Kaoeiri/Moingooistrial-22B-V1-Lora', 'DigitalSouls/BlackSheep-DigitalSoul-22B', 'TheDrummer/Cydonia-22B-v1.3', 'concedo/Beepo-22B', 'ToastyPigeon/mistral-small-springdragon-qlora', 'Saxo/Linkbricks-Horizon-AI-Japanese-Superb-V1-22B', 'TheDrummer/Cydonia-22B-v1.2', 'TheDrummer/Cydonia-22B-v1.1', 'Gryphe/Pantheon-RP-Pure-1.6.2-22b-Small', 'crestf411/MS-sunfall-v0.7.0', 'concedo/Beepo-22B', 'rAIfle/Acolyte-LORA', 'Darkknight535/MS-Moonlight-22B-v3', 'unsloth/Mistral-Small-Instruct-2409', 'spow12/ChatWaifu_v2.0_22B', 'Gryphe/Pantheon-RP-1.6.2-22b-Small', 'hf-100/Mistral-Small-Spellbound-StoryWriter-22B-instruct-0.2-chkpt-200-16-bit', 'allura-org/MS-Meadowlark-22B']",
         "24",
         "2024-12-28 04:10:19+00:00"
        ],
        [
         "67842",
         "summarization",
         "66a2a122c08bc87afe28b779",
         "['nothingiisreal/L3-8B-Celeste-v1', 'Nitral-AI/Hathor_Tahsin-L3-8B-v0.85', 'Sao10K/L3-8B-Stheno-v3.2', 'ChaoticNeutrals/Poppy_Porpoise-1.0-L3-8B', 'Sao10K/L3-8B-Lunaris-v1', 'turboderp/llama3-turbcat-instruct-8b', 'ChaoticNeutrals/Domain-Fusion-L3-8B', 'migtissera/Llama-3-8B-Synthia-v3.5', 'TheDrummer/Llama-3SOME-8B-v2', 'ChaoticNeutrals/Hathor_RP-v.01-L3-8B', 'TheSkullery/llama-3-cat-8b-instruct-v1', 'FPHam/L3-8B-Everything-COT', 'Ayush-1722/Meta-Llama-3-8B-Instruct-Summarize-v0.2-24K-LoRANET-Merged', 'OEvortex/Emotional-llama-8B', 'lighteternal/Llama3-merge-biomed-8b', 'Casual-Autopsy/Llama3-merge-psychotherapy-8b', 'Sao10K/L3-8B-Tamamo-v1', 'ResplendentAI/Nymph_8B', 'ChaoticNeutrals/T-900-8B', 'Sao10K/L3-8B-Niitama-v1', 'bluuwhale/L3-SthenoMaidBlackroot-8B-V1', 'Hastagaras/Jamet-8B-L3-MK.V-Blackroot', 'Hastagaras/Halu-8B-Llama3-Blackroot', 'crestf411/L3-8B-sunfall-v0.4-stheno-v3.2']",
         "24",
         "2024-07-25 19:01:54+00:00"
        ],
        [
         "67880",
         "summarization",
         "66abda291f639daa61f7a612",
         "['nothingiisreal/L3-8B-Celeste-v1', 'Nitral-AI/Hathor_Tahsin-L3-8B-v0.85', 'Sao10K/L3-8B-Stheno-v3.2', 'ChaoticNeutrals/Poppy_Porpoise-1.0-L3-8B', 'Sao10K/L3-8B-Lunaris-v1', 'turboderp/llama3-turbcat-instruct-8b', 'ChaoticNeutrals/Domain-Fusion-L3-8B', 'migtissera/Llama-3-8B-Synthia-v3.5', 'TheDrummer/Llama-3SOME-8B-v2', 'ChaoticNeutrals/Hathor_RP-v.01-L3-8B', 'TheSkullery/llama-3-cat-8b-instruct-v1', 'FPHam/L3-8B-Everything-COT', 'Ayush-1722/Meta-Llama-3-8B-Instruct-Summarize-v0.2-24K-LoRANET-Merged', 'OEvortex/Emotional-llama-8B', 'lighteternal/Llama3-merge-biomed-8b', 'Casual-Autopsy/Llama3-merge-psychotherapy-8b', 'Sao10K/L3-8B-Tamamo-v1', 'ResplendentAI/Nymph_8B', 'ChaoticNeutrals/T-900-8B', 'Sao10K/L3-8B-Niitama-v1', 'bluuwhale/L3-SthenoMaidBlackroot-8B-V1', 'Hastagaras/Jamet-8B-L3-MK.V-Blackroot', 'Hastagaras/Halu-8B-Llama3-Blackroot', 'crestf411/L3-8B-sunfall-v0.4-stheno-v3.2']",
         "24",
         "2024-08-01 18:55:37+00:00"
        ],
        [
         "12731",
         "text-generation",
         "66a2bdf04c2093e582967a6e",
         "['nothingiisreal/L3-8B-Celeste-v1', 'Nitral-AI/Hathor_Tahsin-L3-8B-v0.85', 'Sao10K/L3-8B-Stheno-v3.2', 'ChaoticNeutrals/Poppy_Porpoise-1.0-L3-8B', 'Sao10K/L3-8B-Lunaris-v1', 'turboderp/llama3-turbcat-instruct-8b', 'ChaoticNeutrals/Domain-Fusion-L3-8B', 'migtissera/Llama-3-8B-Synthia-v3.5', 'TheDrummer/Llama-3SOME-8B-v2', 'ChaoticNeutrals/Hathor_RP-v.01-L3-8B', 'TheSkullery/llama-3-cat-8b-instruct-v1', 'FPHam/L3-8B-Everything-COT', 'Ayush-1722/Meta-Llama-3-8B-Instruct-Summarize-v0.2-24K-LoRANET-Merged', 'OEvortex/Emotional-llama-8B', 'lighteternal/Llama3-merge-biomed-8b', 'Casual-Autopsy/Llama3-merge-psychotherapy-8b', 'Sao10K/L3-8B-Tamamo-v1', 'ResplendentAI/Nymph_8B', 'ChaoticNeutrals/T-900-8B', 'Sao10K/L3-8B-Niitama-v1', 'bluuwhale/L3-SthenoMaidBlackroot-8B-V1', 'Hastagaras/Jamet-8B-L3-MK.V-Blackroot', 'Hastagaras/Halu-8B-Llama3-Blackroot', 'crestf411/L3-8B-sunfall-v0.4-stheno-v3.2']",
         "24",
         "2024-07-25 21:04:48+00:00"
        ],
        [
         "35803",
         "text-generation",
         "66a2a122c08bc87afe28b779",
         "['nothingiisreal/L3-8B-Celeste-v1', 'Nitral-AI/Hathor_Tahsin-L3-8B-v0.85', 'Sao10K/L3-8B-Stheno-v3.2', 'ChaoticNeutrals/Poppy_Porpoise-1.0-L3-8B', 'Sao10K/L3-8B-Lunaris-v1', 'turboderp/llama3-turbcat-instruct-8b', 'ChaoticNeutrals/Domain-Fusion-L3-8B', 'migtissera/Llama-3-8B-Synthia-v3.5', 'TheDrummer/Llama-3SOME-8B-v2', 'ChaoticNeutrals/Hathor_RP-v.01-L3-8B', 'TheSkullery/llama-3-cat-8b-instruct-v1', 'FPHam/L3-8B-Everything-COT', 'Ayush-1722/Meta-Llama-3-8B-Instruct-Summarize-v0.2-24K-LoRANET-Merged', 'OEvortex/Emotional-llama-8B', 'lighteternal/Llama3-merge-biomed-8b', 'Casual-Autopsy/Llama3-merge-psychotherapy-8b', 'Sao10K/L3-8B-Tamamo-v1', 'ResplendentAI/Nymph_8B', 'ChaoticNeutrals/T-900-8B', 'Sao10K/L3-8B-Niitama-v1', 'bluuwhale/L3-SthenoMaidBlackroot-8B-V1', 'Hastagaras/Jamet-8B-L3-MK.V-Blackroot', 'Hastagaras/Halu-8B-Llama3-Blackroot', 'crestf411/L3-8B-sunfall-v0.4-stheno-v3.2']",
         "24",
         "2024-07-25 19:01:54+00:00"
        ],
        [
         "67708",
         "summarization",
         "66a2e8369b39142573ae2fdf",
         "['nothingiisreal/L3-8B-Celeste-v1', 'Nitral-AI/Hathor_Tahsin-L3-8B-v0.85', 'Sao10K/L3-8B-Stheno-v3.2', 'ChaoticNeutrals/Poppy_Porpoise-1.0-L3-8B', 'Sao10K/L3-8B-Lunaris-v1', 'turboderp/llama3-turbcat-instruct-8b', 'ChaoticNeutrals/Domain-Fusion-L3-8B', 'migtissera/Llama-3-8B-Synthia-v3.5', 'TheDrummer/Llama-3SOME-8B-v2', 'ChaoticNeutrals/Hathor_RP-v.01-L3-8B', 'TheSkullery/llama-3-cat-8b-instruct-v1', 'FPHam/L3-8B-Everything-COT', 'Ayush-1722/Meta-Llama-3-8B-Instruct-Summarize-v0.2-24K-LoRANET-Merged', 'OEvortex/Emotional-llama-8B', 'lighteternal/Llama3-merge-biomed-8b', 'Casual-Autopsy/Llama3-merge-psychotherapy-8b', 'Sao10K/L3-8B-Tamamo-v1', 'ResplendentAI/Nymph_8B', 'ChaoticNeutrals/T-900-8B', 'Sao10K/L3-8B-Niitama-v1', 'bluuwhale/L3-SthenoMaidBlackroot-8B-V1', 'Hastagaras/Jamet-8B-L3-MK.V-Blackroot', 'Hastagaras/Halu-8B-Llama3-Blackroot', 'crestf411/L3-8B-sunfall-v0.4-stheno-v3.2']",
         "24",
         "2024-07-26 00:05:10+00:00"
        ],
        [
         "48890",
         "text-generation",
         "65b9a59ca3795ff2051c273a",
         "['jeiku/Rosa_v1_3B', 'jeiku/Toxic_DPO_StableLM', 'jeiku/Rosa_v1_3B', 'jeiku/Futa_Erotica_StableLM', 'jeiku/Rosa_v1_3B', 'jeiku/Humiliation_StableLM', 'jeiku/Rosa_v1_3B', 'jeiku/PIPPA_128_StableLM', 'jeiku/Rosa_v1_3B', 'jeiku/Bluemoon_cleaned_StableLM', 'jeiku/Rosa_v1_3B', 'jeiku/Theory_of_Mind_128_StableLM', 'jeiku/Rosa_v1_3B', 'jeiku/Gnosis_256_StableLM', 'jeiku/Rosa_v1_3B', 'jeiku/Alpaca_128_StableLM', 'jeiku/Rosa_v1_3B', 'jeiku/Everything_v3_128_StableLM', 'jeiku/Rosa_v1_3B', 'jeiku/No_Robots_Alpaca_StableLM', 'jeiku/Rosa_v1_3B', 'jeiku/LimaRP_StableLM', 'jeiku/Rosa_v1_3B', 'jeiku/Theory_of_Mind_RP_128_StableLM']",
         "24",
         "2024-01-31 01:42:52+00:00"
        ],
        [
         "39197",
         "text-generation",
         "66abda291f639daa61f7a612",
         "['nothingiisreal/L3-8B-Celeste-v1', 'Nitral-AI/Hathor_Tahsin-L3-8B-v0.85', 'Sao10K/L3-8B-Stheno-v3.2', 'ChaoticNeutrals/Poppy_Porpoise-1.0-L3-8B', 'Sao10K/L3-8B-Lunaris-v1', 'turboderp/llama3-turbcat-instruct-8b', 'ChaoticNeutrals/Domain-Fusion-L3-8B', 'migtissera/Llama-3-8B-Synthia-v3.5', 'TheDrummer/Llama-3SOME-8B-v2', 'ChaoticNeutrals/Hathor_RP-v.01-L3-8B', 'TheSkullery/llama-3-cat-8b-instruct-v1', 'FPHam/L3-8B-Everything-COT', 'Ayush-1722/Meta-Llama-3-8B-Instruct-Summarize-v0.2-24K-LoRANET-Merged', 'OEvortex/Emotional-llama-8B', 'lighteternal/Llama3-merge-biomed-8b', 'Casual-Autopsy/Llama3-merge-psychotherapy-8b', 'Sao10K/L3-8B-Tamamo-v1', 'ResplendentAI/Nymph_8B', 'ChaoticNeutrals/T-900-8B', 'Sao10K/L3-8B-Niitama-v1', 'bluuwhale/L3-SthenoMaidBlackroot-8B-V1', 'Hastagaras/Jamet-8B-L3-MK.V-Blackroot', 'Hastagaras/Halu-8B-Llama3-Blackroot', 'crestf411/L3-8B-sunfall-v0.4-stheno-v3.2']",
         "24",
         "2024-08-01 18:55:37+00:00"
        ],
        [
         "7177",
         "text-generation",
         "6699bab5319730566490cdbe",
         "['nothingiisreal/L3-8B-Celeste-v1', 'Nitral-AI/Hathor_Tahsin-L3-8B-v0.85', 'Sao10K/L3-8B-Stheno-v3.2', 'ChaoticNeutrals/Poppy_Porpoise-1.0-L3-8B', 'Sao10K/L3-8B-Lunaris-v1', 'turboderp/llama3-turbcat-instruct-8b', 'ChaoticNeutrals/Domain-Fusion-L3-8B', 'migtissera/Llama-3-8B-Synthia-v3.5', 'TheDrummer/Llama-3SOME-8B-v2', 'ChaoticNeutrals/Hathor_RP-v.01-L3-8B', 'TheSkullery/llama-3-cat-8b-instruct-v1', 'FPHam/L3-8B-Everything-COT', 'Ayush-1722/Meta-Llama-3-8B-Instruct-Summarize-v0.2-24K-LoRANET-Merged', 'OEvortex/Emotional-llama-8B', 'lighteternal/Llama3-merge-biomed-8b', 'Casual-Autopsy/Llama3-merge-psychotherapy-8b', 'Sao10K/L3-8B-Tamamo-v1', 'ResplendentAI/Nymph_8B', 'ChaoticNeutrals/T-900-8B', 'Sao10K/L3-8B-Niitama-v1', 'bluuwhale/L3-SthenoMaidBlackroot-8B-V1', 'Hastagaras/Jamet-8B-L3-MK.V-Blackroot', 'Hastagaras/Halu-8B-Llama3-Blackroot', 'crestf411/L3-8B-sunfall-v0.4-stheno-v3.2']",
         "24",
         "2024-07-19 01:00:37+00:00"
        ],
        [
         "67500",
         "summarization",
         "6699bab5319730566490cdbe",
         "['nothingiisreal/L3-8B-Celeste-v1', 'Nitral-AI/Hathor_Tahsin-L3-8B-v0.85', 'Sao10K/L3-8B-Stheno-v3.2', 'ChaoticNeutrals/Poppy_Porpoise-1.0-L3-8B', 'Sao10K/L3-8B-Lunaris-v1', 'turboderp/llama3-turbcat-instruct-8b', 'ChaoticNeutrals/Domain-Fusion-L3-8B', 'migtissera/Llama-3-8B-Synthia-v3.5', 'TheDrummer/Llama-3SOME-8B-v2', 'ChaoticNeutrals/Hathor_RP-v.01-L3-8B', 'TheSkullery/llama-3-cat-8b-instruct-v1', 'FPHam/L3-8B-Everything-COT', 'Ayush-1722/Meta-Llama-3-8B-Instruct-Summarize-v0.2-24K-LoRANET-Merged', 'OEvortex/Emotional-llama-8B', 'lighteternal/Llama3-merge-biomed-8b', 'Casual-Autopsy/Llama3-merge-psychotherapy-8b', 'Sao10K/L3-8B-Tamamo-v1', 'ResplendentAI/Nymph_8B', 'ChaoticNeutrals/T-900-8B', 'Sao10K/L3-8B-Niitama-v1', 'bluuwhale/L3-SthenoMaidBlackroot-8B-V1', 'Hastagaras/Jamet-8B-L3-MK.V-Blackroot', 'Hastagaras/Halu-8B-Llama3-Blackroot', 'crestf411/L3-8B-sunfall-v0.4-stheno-v3.2']",
         "24",
         "2024-07-19 01:00:37+00:00"
        ],
        [
         "67570",
         "summarization",
         "66a2bdf04c2093e582967a6e",
         "['nothingiisreal/L3-8B-Celeste-v1', 'Nitral-AI/Hathor_Tahsin-L3-8B-v0.85', 'Sao10K/L3-8B-Stheno-v3.2', 'ChaoticNeutrals/Poppy_Porpoise-1.0-L3-8B', 'Sao10K/L3-8B-Lunaris-v1', 'turboderp/llama3-turbcat-instruct-8b', 'ChaoticNeutrals/Domain-Fusion-L3-8B', 'migtissera/Llama-3-8B-Synthia-v3.5', 'TheDrummer/Llama-3SOME-8B-v2', 'ChaoticNeutrals/Hathor_RP-v.01-L3-8B', 'TheSkullery/llama-3-cat-8b-instruct-v1', 'FPHam/L3-8B-Everything-COT', 'Ayush-1722/Meta-Llama-3-8B-Instruct-Summarize-v0.2-24K-LoRANET-Merged', 'OEvortex/Emotional-llama-8B', 'lighteternal/Llama3-merge-biomed-8b', 'Casual-Autopsy/Llama3-merge-psychotherapy-8b', 'Sao10K/L3-8B-Tamamo-v1', 'ResplendentAI/Nymph_8B', 'ChaoticNeutrals/T-900-8B', 'Sao10K/L3-8B-Niitama-v1', 'bluuwhale/L3-SthenoMaidBlackroot-8B-V1', 'Hastagaras/Jamet-8B-L3-MK.V-Blackroot', 'Hastagaras/Halu-8B-Llama3-Blackroot', 'crestf411/L3-8B-sunfall-v0.4-stheno-v3.2']",
         "24",
         "2024-07-25 21:04:48+00:00"
        ],
        [
         "51298",
         "text-generation",
         "676eebed2d1e52c6d259b6b4",
         "['crestf411/MS-sunfall-v0.7.0', 'hf-100/Mistral-Small-Spellbound-StoryWriter-22B-instruct-0.2-chkpt-200-16-bit', 'unsloth/Mistral-Small-Instruct-2409', 'Kaoeiri/Moingooistrial-22B-V1-Lora', 'byroneverson/Mistral-Small-Instruct-2409-abliterated', 'ToastyPigeon/mistral-small-springdragon-qlora', 'unsloth/Mistral-Small-Instruct-2409', 'TheDrummer/Cydonia-22B-v1.3', 'byroneverson/Mistral-Small-Instruct-2409-abliterated', 'rAIfle/Acolyte-LORA', 'allura-org/MS-Meadowlark-22B', 'Gryphe/Pantheon-RP-Pure-1.6.2-22b-Small', 'DigitalSouls/BlackSheep-DigitalSoul-22B', 'Saxo/Linkbricks-Horizon-AI-Japanese-Superb-V1-22B', 'Darkknight535/MS-Moonlight-22B-v3', 'TheDrummer/Cydonia-22B-v1.1', 'InferenceIllusionist/SorcererLM-22B', 'Gryphe/Pantheon-RP-1.6.2-22b-Small', 'TheDrummer/Cydonia-22B-v1.2', 'spow12/ChatWaifu_v2.0_22B', 'byroneverson/Mistral-Small-Instruct-2409-abliterated', 'Alfitaria/mistral-small-fujin-qlora', 'ArliAI/Mistral-Small-22B-ArliAI-RPMax-v1.1', 'anthracite-org/magnum-v4-22b']",
         "24",
         "2024-12-27 18:03:25+00:00"
        ],
        [
         "24210",
         "text-generation",
         "66a2e8369b39142573ae2fdf",
         "['nothingiisreal/L3-8B-Celeste-v1', 'Nitral-AI/Hathor_Tahsin-L3-8B-v0.85', 'Sao10K/L3-8B-Stheno-v3.2', 'ChaoticNeutrals/Poppy_Porpoise-1.0-L3-8B', 'Sao10K/L3-8B-Lunaris-v1', 'turboderp/llama3-turbcat-instruct-8b', 'ChaoticNeutrals/Domain-Fusion-L3-8B', 'migtissera/Llama-3-8B-Synthia-v3.5', 'TheDrummer/Llama-3SOME-8B-v2', 'ChaoticNeutrals/Hathor_RP-v.01-L3-8B', 'TheSkullery/llama-3-cat-8b-instruct-v1', 'FPHam/L3-8B-Everything-COT', 'Ayush-1722/Meta-Llama-3-8B-Instruct-Summarize-v0.2-24K-LoRANET-Merged', 'OEvortex/Emotional-llama-8B', 'lighteternal/Llama3-merge-biomed-8b', 'Casual-Autopsy/Llama3-merge-psychotherapy-8b', 'Sao10K/L3-8B-Tamamo-v1', 'ResplendentAI/Nymph_8B', 'ChaoticNeutrals/T-900-8B', 'Sao10K/L3-8B-Niitama-v1', 'bluuwhale/L3-SthenoMaidBlackroot-8B-V1', 'Hastagaras/Jamet-8B-L3-MK.V-Blackroot', 'Hastagaras/Halu-8B-Llama3-Blackroot', 'crestf411/L3-8B-sunfall-v0.4-stheno-v3.2']",
         "24",
         "2024-07-26 00:05:10+00:00"
        ],
        [
         "41793",
         "text-generation",
         "65cab740bdb6a2941cf07105",
         "['jeiku/Rosa_v1_3B', 'jeiku/Theory_of_Mind_128_StableLM', 'jeiku/Rosa_v1_3B', 'jeiku/Rosa_v1_3B', 'jeiku/PIPPA_128_StableLM', 'jeiku/Rosa_v1_3B', 'jeiku/LimaRP_StableLM', 'jeiku/Rosa_v1_3B', 'jeiku/Theory_of_Mind_RP_128_StableLM', 'jeiku/Rosa_v1_3B', 'jeiku/No_Robots_Alpaca_StableLM', 'jeiku/Rosa_v1_3B', 'jeiku/Alpaca_128_StableLM', 'jeiku/Rosa_v1_3B', 'jeiku/Everything_v3_128_StableLM', 'jeiku/Rosa_v1_3B', 'jeiku/RPGPT_StableLM', 'jeiku/Rosa_v1_3B', 'jeiku/Toxic_DPO_StableLM', 'jeiku/Rosa_v1_3B', 'jeiku/Gnosis_256_StableLM', 'jeiku/Rosa_v1_3B', 'jeiku/Bluemoon_cleaned_StableLM']",
         "23",
         "2024-02-13 00:26:40+00:00"
        ],
        [
         "54885",
         "text-generation",
         "67710aadc10ee9707dbbe478",
         "['hf-100/Mistral-Small-Spellbound-StoryWriter-22B-instruct-0.2-chkpt-200-16-bit', 'Gryphe/Pantheon-RP-1.6.2-22b-Small', 'TroyDoesAI/BlackSheep-Mistral-22B', 'TheDrummer/Cydonia-22B-v1.3', 'byroneverson/Mistral-Small-Instruct-2409-abliterated', 'Alfitaria/mistral-small-fujin-qlora', 'unsloth/Mistral-Small-Instruct-2409', 'Gryphe/Pantheon-RP-Pure-1.6.2-22b-Small', 'ArliAI/Mistral-Small-22B-ArliAI-RPMax-v1.1', 'concedo/Beepo-22B', 'rAIfle/Acolyte-LORA', 'TheDrummer/Cydonia-22B-v1.1', 'Darkknight535/MS-Moonlight-22B-v3', 'concedo/Beepo-22B', 'ToastyPigeon/mistral-small-springdragon-qlora', 'InferenceIllusionist/SorcererLM-22B', 'DigitalSouls/BlackSheep-DigitalSoul-22B', 'TheDrummer/Cydonia-22B-v1.2', 'crestf411/MS-sunfall-v0.7.0', 'anthracite-org/magnum-v4-22b', 'concedo/Beepo-22B', 'Kaoeiri/Moingooistrial-22B-V1-Lora']",
         "22",
         "2024-12-29 08:39:09+00:00"
        ],
        [
         "21793",
         "text-generation",
         "668e439deb68e4f56d0439b5",
         "['Casual-Autopsy/L3-Umbral-Mind-RP-v2.0-8B', 'Cas-Warehouse/Llama-3-MopeyMule-Blackroot-8B', 'tannedbum/L3-Nymeria-Maid-8B', 'bluuwhale/L3-SthenoMaidBlackroot-8B-V1', 'tannedbum/L3-Nymeria-8B', 'Cas-Warehouse/Llama-3-SOVL-MopeyMule-8B', 'Casual-Autopsy/L3-Umbral-Mind-RP-v1.0-8B', 'Cas-Warehouse/Llama-3-Mopeyfied-Psychology-v2', 'migtissera/Llama-3-8B-Synthia-v3.5', 'Cas-Warehouse/Llama-3-SOVL-MopeyMule-Blackroot-8B', 'v000000/L3-8B-Poppy-Sunspice', 'Magpie-Align/Llama-3-8B-WizardLM-196K', 'Cas-Warehouse/Llama-3-Mopeyfied-Psychology-8B', 'Casual-Autopsy/L3-Umbral-Mind-RP-v0.3-8B', 'invisietch/EtherealRainbow-v0.3-8B', 'crestf411/L3-8B-sunfall-v0.4-stheno-v3.2', 'aifeifei798/llama3-8B-DarkIdol-2.1-Uncensored-32K', 'ChaoticNeutrals/Poppy_Porpoise-1.0-L3-8B', 'Nitral-AI/Hathor_Tahsin-L3-8B-v0.85', 'Casual-Autopsy/Umbral-Mind-6', 'ResplendentAI/Nymph_8B']",
         "21",
         "2024-07-10 08:17:33+00:00"
        ],
        [
         "24679",
         "text-generation",
         "676e9f448e4d4533fbc96127",
         "['Darkknight535/MS-Moonlight-22B-v3', 'Gryphe/Pantheon-RP-Pure-1.6.2-22b-Small', 'Gryphe/Pantheon-RP-1.6.2-22b-Small', 'Jellywibble/MistralSmall1500CTX', 'Saxo/Linkbricks-Horizon-AI-Japanese-Superb-V1-22B', 'anthracite-org/magnum-v4-22b', 'TheDrummer/Cydonia-22B-v1.1', 'unsloth/Mistral-Small-Instruct-2409', 'Kaoeiri/Moingooistrial-22B-V1-Lora', 'TheDrummer/Cydonia-22B-v1.3', 'ArliAI/Mistral-Small-22B-ArliAI-RPMax-v1.1', 'byroneverson/Mistral-Small-Instruct-2409-abliterated', 'rAIfle/Acolyte-LORA', 'crestf411/MS-sunfall-v0.7.0', 'allura-org/MS-Meadowlark-22B', 'unsloth/Mistral-Small-Instruct-2409', 'TroyDoesAI/BlackSheep-MermaidMistral-22B', 'InferenceIllusionist/SorcererLM-22B', 'TheDrummer/Cydonia-22B-v1.2', 'hf-100/Mistral-Small-Instruct-2409-Spellbound-StoryWriter-22B-instruct-0.4-chkpt-336-16bit', 'spow12/ChatWaifu_v2.0_22B']",
         "21",
         "2024-12-27 12:36:20+00:00"
        ]
       ],
       "shape": {
        "columns": 5,
        "rows": 112237
       }
      },
      "text/html": [
       "<div>\n",
       "<style scoped>\n",
       "    .dataframe tbody tr th:only-of-type {\n",
       "        vertical-align: middle;\n",
       "    }\n",
       "\n",
       "    .dataframe tbody tr th {\n",
       "        vertical-align: top;\n",
       "    }\n",
       "\n",
       "    .dataframe thead th {\n",
       "        text-align: right;\n",
       "    }\n",
       "</style>\n",
       "<table border=\"1\" class=\"dataframe\">\n",
       "  <thead>\n",
       "    <tr style=\"text-align: right;\">\n",
       "      <th></th>\n",
       "      <th>task</th>\n",
       "      <th>model</th>\n",
       "      <th>base_model</th>\n",
       "      <th>model_count</th>\n",
       "      <th>created_at</th>\n",
       "    </tr>\n",
       "  </thead>\n",
       "  <tbody>\n",
       "    <tr>\n",
       "      <th>20560</th>\n",
       "      <td>text-generation</td>\n",
       "      <td>678afb3e14ab8d115b77e17e</td>\n",
       "      <td>[surya-narayanan/abstract_algebra, surya-naray...</td>\n",
       "      <td>98</td>\n",
       "      <td>2025-01-18 00:52:14+00:00</td>\n",
       "    </tr>\n",
       "    <tr>\n",
       "      <th>31442</th>\n",
       "      <td>text-generation</td>\n",
       "      <td>66513721edd332b94463cdb3</td>\n",
       "      <td>[openlynn/Llama-3-Soliloquy-8B-v2, Undi95/Llam...</td>\n",
       "      <td>53</td>\n",
       "      <td>2024-05-25 00:56:01+00:00</td>\n",
       "    </tr>\n",
       "    <tr>\n",
       "      <th>11545</th>\n",
       "      <td>text-generation</td>\n",
       "      <td>67a126f5f39a622350700a56</td>\n",
       "      <td>[MrRobotoAI/Loki-v1.1-8b-EROTICA, kik41/lora-l...</td>\n",
       "      <td>52</td>\n",
       "      <td>2025-02-03 20:28:37+00:00</td>\n",
       "    </tr>\n",
       "    <tr>\n",
       "      <th>10534</th>\n",
       "      <td>text-generation</td>\n",
       "      <td>67a48a8bbd5de09766dce2b2</td>\n",
       "      <td>[MrRobotoAI/Llama-3-8B-Uncensored-test2, Azaze...</td>\n",
       "      <td>48</td>\n",
       "      <td>2025-02-06 10:10:19+00:00</td>\n",
       "    </tr>\n",
       "    <tr>\n",
       "      <th>36345</th>\n",
       "      <td>text-generation</td>\n",
       "      <td>6655ecd5dbde6ec0582106d1</td>\n",
       "      <td>[NousResearch/Meta-Llama-3-8B, NousResearch/Me...</td>\n",
       "      <td>48</td>\n",
       "      <td>2024-05-28 14:40:21+00:00</td>\n",
       "    </tr>\n",
       "    <tr>\n",
       "      <th>...</th>\n",
       "      <td>...</td>\n",
       "      <td>...</td>\n",
       "      <td>...</td>\n",
       "      <td>...</td>\n",
       "      <td>...</td>\n",
       "    </tr>\n",
       "    <tr>\n",
       "      <th>40343</th>\n",
       "      <td>text-generation</td>\n",
       "      <td>652a5e7ac6857682d3cbc09d</td>\n",
       "      <td>[meta-llama/Llama-2-7b-chat-hf]</td>\n",
       "      <td>1</td>\n",
       "      <td>2023-10-14 09:25:14+00:00</td>\n",
       "    </tr>\n",
       "    <tr>\n",
       "      <th>40340</th>\n",
       "      <td>text-generation</td>\n",
       "      <td>679fc4dc89be13de6acd1aa8</td>\n",
       "      <td>[EleutherAI/pythia-14m]</td>\n",
       "      <td>1</td>\n",
       "      <td>2025-02-02 19:17:48+00:00</td>\n",
       "    </tr>\n",
       "    <tr>\n",
       "      <th>40339</th>\n",
       "      <td>text-generation</td>\n",
       "      <td>6724bc8866d3bf0b3adda6b2</td>\n",
       "      <td>[unsloth/SmolLM2-360M]</td>\n",
       "      <td>1</td>\n",
       "      <td>2024-11-01 11:33:28+00:00</td>\n",
       "    </tr>\n",
       "    <tr>\n",
       "      <th>40338</th>\n",
       "      <td>text-generation</td>\n",
       "      <td>65b36059e312613c6055719c</td>\n",
       "      <td>[MaziyarPanahi/Ferret_7B-Mistral-7B-Instruct-v...</td>\n",
       "      <td>1</td>\n",
       "      <td>2024-01-26 07:33:45+00:00</td>\n",
       "    </tr>\n",
       "    <tr>\n",
       "      <th>112236</th>\n",
       "      <td>fill-mask</td>\n",
       "      <td>6741f3487a07034268b4c179</td>\n",
       "      <td>[vinai/bertweet-base]</td>\n",
       "      <td>1</td>\n",
       "      <td>2024-11-23 15:22:48+00:00</td>\n",
       "    </tr>\n",
       "  </tbody>\n",
       "</table>\n",
       "<p>112237 rows × 5 columns</p>\n",
       "</div>"
      ],
      "text/plain": [
       "                   task                     model  \\\n",
       "20560   text-generation  678afb3e14ab8d115b77e17e   \n",
       "31442   text-generation  66513721edd332b94463cdb3   \n",
       "11545   text-generation  67a126f5f39a622350700a56   \n",
       "10534   text-generation  67a48a8bbd5de09766dce2b2   \n",
       "36345   text-generation  6655ecd5dbde6ec0582106d1   \n",
       "...                 ...                       ...   \n",
       "40343   text-generation  652a5e7ac6857682d3cbc09d   \n",
       "40340   text-generation  679fc4dc89be13de6acd1aa8   \n",
       "40339   text-generation  6724bc8866d3bf0b3adda6b2   \n",
       "40338   text-generation  65b36059e312613c6055719c   \n",
       "112236        fill-mask  6741f3487a07034268b4c179   \n",
       "\n",
       "                                               base_model  model_count  \\\n",
       "20560   [surya-narayanan/abstract_algebra, surya-naray...           98   \n",
       "31442   [openlynn/Llama-3-Soliloquy-8B-v2, Undi95/Llam...           53   \n",
       "11545   [MrRobotoAI/Loki-v1.1-8b-EROTICA, kik41/lora-l...           52   \n",
       "10534   [MrRobotoAI/Llama-3-8B-Uncensored-test2, Azaze...           48   \n",
       "36345   [NousResearch/Meta-Llama-3-8B, NousResearch/Me...           48   \n",
       "...                                                   ...          ...   \n",
       "40343                     [meta-llama/Llama-2-7b-chat-hf]            1   \n",
       "40340                             [EleutherAI/pythia-14m]            1   \n",
       "40339                              [unsloth/SmolLM2-360M]            1   \n",
       "40338   [MaziyarPanahi/Ferret_7B-Mistral-7B-Instruct-v...            1   \n",
       "112236                              [vinai/bertweet-base]            1   \n",
       "\n",
       "                      created_at  \n",
       "20560  2025-01-18 00:52:14+00:00  \n",
       "31442  2024-05-25 00:56:01+00:00  \n",
       "11545  2025-02-03 20:28:37+00:00  \n",
       "10534  2025-02-06 10:10:19+00:00  \n",
       "36345  2024-05-28 14:40:21+00:00  \n",
       "...                          ...  \n",
       "40343  2023-10-14 09:25:14+00:00  \n",
       "40340  2025-02-02 19:17:48+00:00  \n",
       "40339  2024-11-01 11:33:28+00:00  \n",
       "40338  2024-01-26 07:33:45+00:00  \n",
       "112236 2024-11-23 15:22:48+00:00  \n",
       "\n",
       "[112237 rows x 5 columns]"
      ]
     },
     "execution_count": 14,
     "metadata": {},
     "output_type": "execute_result"
    }
   ],
   "source": [
    "nlp_model_df.sort_values(by='model_count', ascending=False)"
   ]
  },
  {
   "cell_type": "code",
   "execution_count": 15,
   "metadata": {},
   "outputs": [
    {
     "data": {
      "application/vnd.microsoft.datawrangler.viewer.v0+json": {
       "columns": [
        {
         "name": "task",
         "rawType": "object",
         "type": "string"
        },
        {
         "name": "model_count",
         "rawType": "float64",
         "type": "float"
        }
       ],
       "ref": "4062ba6e-1bd4-4e7b-93d7-d3680bb31d84",
       "rows": [
        [
         "text-generation",
         "1.3347867962525173"
        ],
        [
         "summarization",
         "1.176991150442478"
        ],
        [
         "zero-shot-classification",
         "1.1417910447761195"
        ],
        [
         "feature-extraction",
         "1.026835286859963"
        ],
        [
         "question-answering",
         "1.0160630841121496"
        ],
        [
         "translation",
         "1.014127144298688"
        ],
        [
         "sentence-similarity",
         "1.0059746079163554"
        ],
        [
         "text-classification",
         "1.0058175373709355"
        ],
        [
         "text2text-generation",
         "1.0031286210892236"
        ],
        [
         "token-classification",
         "1.0016918088256026"
        ],
        [
         "fill-mask",
         "1.0013140604467805"
        ],
        [
         "table-question-answering",
         "1.0"
        ]
       ],
       "shape": {
        "columns": 1,
        "rows": 12
       }
      },
      "text/plain": [
       "task\n",
       "text-generation             1.334787\n",
       "summarization               1.176991\n",
       "zero-shot-classification    1.141791\n",
       "feature-extraction          1.026835\n",
       "question-answering          1.016063\n",
       "translation                 1.014127\n",
       "sentence-similarity         1.005975\n",
       "text-classification         1.005818\n",
       "text2text-generation        1.003129\n",
       "token-classification        1.001692\n",
       "fill-mask                   1.001314\n",
       "table-question-answering    1.000000\n",
       "Name: model_count, dtype: float64"
      ]
     },
     "execution_count": 15,
     "metadata": {},
     "output_type": "execute_result"
    }
   ],
   "source": [
    "nlp_model_df['model_count'].groupby(nlp_model_df['task']).mean().sort_values(ascending=False)"
   ]
  },
  {
   "cell_type": "code",
   "execution_count": 16,
   "metadata": {},
   "outputs": [
    {
     "data": {
      "application/vnd.microsoft.datawrangler.viewer.v0+json": {
       "columns": [
        {
         "name": "task",
         "rawType": "object",
         "type": "string"
        },
        {
         "name": "model_count",
         "rawType": "float64",
         "type": "float"
        }
       ],
       "ref": "171d52dc-c825-4b00-a6a2-9c641fa13216",
       "rows": [
        [
         "summarization",
         "1.9735178279791148"
        ],
        [
         "text-generation",
         "1.5012226852823414"
        ],
        [
         "zero-shot-classification",
         "0.7373289027948414"
        ],
        [
         "question-answering",
         "0.22553635255980473"
        ],
        [
         "feature-extraction",
         "0.20833105792349071"
        ],
        [
         "text-classification",
         "0.17840682297758245"
        ],
        [
         "translation",
         "0.16143992215205943"
        ],
        [
         "text2text-generation",
         "0.08262940961734418"
        ],
        [
         "sentence-similarity",
         "0.08178163265777469"
        ],
        [
         "token-classification",
         "0.05567067664170906"
        ],
        [
         "fill-mask",
         "0.03623408302163561"
        ],
        [
         "table-question-answering",
         "0.0"
        ]
       ],
       "shape": {
        "columns": 1,
        "rows": 12
       }
      },
      "text/plain": [
       "task\n",
       "summarization               1.973518\n",
       "text-generation             1.501223\n",
       "zero-shot-classification    0.737329\n",
       "question-answering          0.225536\n",
       "feature-extraction          0.208331\n",
       "text-classification         0.178407\n",
       "translation                 0.161440\n",
       "text2text-generation        0.082629\n",
       "sentence-similarity         0.081782\n",
       "token-classification        0.055671\n",
       "fill-mask                   0.036234\n",
       "table-question-answering    0.000000\n",
       "Name: model_count, dtype: float64"
      ]
     },
     "execution_count": 16,
     "metadata": {},
     "output_type": "execute_result"
    }
   ],
   "source": [
    "nlp_model_df['model_count'].groupby(nlp_model_df['task']).std().sort_values(ascending=False)"
   ]
  },
  {
   "cell_type": "markdown",
   "metadata": {},
   "source": [
    "#### NLP RQ 1: What is the degree of diversity of datasets in training NLP models?"
   ]
  },
  {
   "cell_type": "code",
   "execution_count": 17,
   "metadata": {},
   "outputs": [],
   "source": [
    "task_list=[]\n",
    "model_list=[]\n",
    "dataset_list=[]\n",
    "dataset_count_list=[]\n",
    "created_at_list=[]\n",
    "for task in nlp_task.keys():\n",
    "    for model in nlp_task[task].keys():\n",
    "        if ('datasets' in nlp_task[task][model].keys()) and (nlp_task[task][model]['datasets'] is not None) and (type(nlp_task[task][model]['datasets']) == list):\n",
    "            #Sometimes, the list can be empty\n",
    "            dataset_count=0\n",
    "            if len(nlp_task[task][model]['datasets'])>0: #Check the number of elements in the list\n",
    "                for dataset in nlp_task[task][model]['datasets']:\n",
    "                    dataset_count+=1\n",
    "                task_list.append(task)\n",
    "                model_list.append(model)\n",
    "                dataset_list.append(nlp_task[task][model]['datasets'])\n",
    "                dataset_count_list.append(dataset_count)\n",
    "                created_at_list.append(nlp_task[task][model]['created_at'])"
   ]
  },
  {
   "cell_type": "code",
   "execution_count": 18,
   "metadata": {},
   "outputs": [
    {
     "name": "stdout",
     "output_type": "stream",
     "text": [
      "59834 59834 59834 59834 59834\n"
     ]
    }
   ],
   "source": [
    "print(len(task_list), len(model_list), len(dataset_list), len(dataset_count_list), len(created_at_list))"
   ]
  },
  {
   "cell_type": "code",
   "execution_count": 19,
   "metadata": {},
   "outputs": [],
   "source": [
    "nlp_dataset_df=pd.DataFrame({'task':task_list, 'model':model_list, 'dataset':dataset_list, 'dataset_count':dataset_count_list, 'created_at':created_at_list})"
   ]
  },
  {
   "cell_type": "code",
   "execution_count": 20,
   "metadata": {},
   "outputs": [
    {
     "data": {
      "text/plain": [
       "289"
      ]
     },
     "execution_count": 20,
     "metadata": {},
     "output_type": "execute_result"
    }
   ],
   "source": [
    "len(nlp_task['text-classification']['65ba36c403bb6d3836afbee3']['datasets'])"
   ]
  },
  {
   "cell_type": "code",
   "execution_count": 21,
   "metadata": {},
   "outputs": [
    {
     "data": {
      "application/vnd.microsoft.datawrangler.viewer.v0+json": {
       "columns": [
        {
         "name": "index",
         "rawType": "int64",
         "type": "integer"
        },
        {
         "name": "task",
         "rawType": "object",
         "type": "string"
        },
        {
         "name": "model",
         "rawType": "object",
         "type": "string"
        },
        {
         "name": "dataset",
         "rawType": "object",
         "type": "unknown"
        },
        {
         "name": "dataset_count",
         "rawType": "int64",
         "type": "integer"
        },
        {
         "name": "created_at",
         "rawType": "datetime64[ns, UTC]",
         "type": "unknown"
        }
       ],
       "ref": "e4a8588c-1a70-42cf-8a8c-8696d5ea7563",
       "rows": [
        [
         "36726",
         "text-classification",
         "65ba36c403bb6d3836afbee3",
         "['nyu-mll/glue', 'aps/super_glue', 'facebook/anli', 'tasksource/babi_nli', 'sick', 'snli', 'scitail', 'hans', 'alisawuffles/WANLI', 'tasksource/recast', 'sileod/probability_words_nli', 'joey234/nan-nli', 'pietrolesci/nli_fever', 'pietrolesci/breaking_nli', 'pietrolesci/conj_nli', 'pietrolesci/fracas', 'pietrolesci/dialogue_nli', 'pietrolesci/mpe', 'pietrolesci/dnc', 'pietrolesci/recast_white', 'pietrolesci/joci', 'pietrolesci/robust_nli', 'pietrolesci/robust_nli_is_sd', 'pietrolesci/robust_nli_li_ts', 'pietrolesci/gen_debiased_nli', 'pietrolesci/add_one_rte', 'tasksource/imppres', 'hlgd', 'paws', 'medical_questions_pairs', 'Anthropic/model-written-evals', 'truthful_qa', 'nightingal3/fig-qa', 'tasksource/bigbench', 'blimp', 'cos_e', 'cosmos_qa', 'dream', 'openbookqa', 'qasc', 'quartz', 'quail', 'head_qa', 'sciq', 'social_i_qa', 'wiki_hop', 'wiqa', 'piqa', 'hellaswag', 'pkavumba/balanced-copa', '12ml/e-CARE', 'art', 'winogrande', 'codah', 'ai2_arc', 'definite_pronoun_resolution', 'swag', 'math_qa', 'metaeval/utilitarianism', 'mteb/amazon_counterfactual', 'SetFit/insincere-questions', 'SetFit/toxic_conversations', 'turingbench/TuringBench', 'trec', 'tals/vitaminc', 'hope_edi', 'strombergnlp/rumoureval_2019', 'ethos', 'tweet_eval', 'discovery', 'pragmeval', 'silicone', 'lex_glue', 'papluca/language-identification', 'imdb', 'rotten_tomatoes', 'ag_news', 'yelp_review_full', 'financial_phrasebank', 'poem_sentiment', 'dbpedia_14', 'amazon_polarity', 'app_reviews', 'hate_speech18', 'sms_spam', 'humicroedit', 'snips_built_in_intents', 'hate_speech_offensive', 'yahoo_answers_topics', 'pacovaldez/stackoverflow-questions', 'zapsdcn/hyperpartisan_news', 'zapsdcn/sciie', 'zapsdcn/citation_intent', 'go_emotions', 'allenai/scicite', 'liar', 'relbert/lexical_relation_classification', 'tasksource/linguisticprobing', 'tasksource/crowdflower', 'metaeval/ethics', 'emo', 'google_wellformed_query', 'tweets_hate_speech_detection', 'has_part', 'blog_authorship_corpus', 'launch/open_question_type', 'health_fact', 'commonsense_qa', 'mc_taco', 'ade_corpus_v2', 'prajjwal1/discosense', 'circa', 'PiC/phrase_similarity', 'copenlu/scientific-exaggeration-detection', 'quarel', 'mwong/fever-evidence-related', 'numer_sense', 'dynabench/dynasent', 'raquiba/Sarcasm_News_Headline', 'sem_eval_2010_task_8', 'demo-org/auditor_review', 'medmcqa', 'RuyuanWan/Dynasent_Disagreement', 'RuyuanWan/Politeness_Disagreement', 'RuyuanWan/SBIC_Disagreement', 'RuyuanWan/SChem_Disagreement', 'RuyuanWan/Dilemmas_Disagreement', 'lucasmccabe/logiqa', 'wiki_qa', 'tasksource/cycic_classification', 'tasksource/cycic_multiplechoice', 'tasksource/sts-companion', 'tasksource/commonsense_qa_2.0', 'tasksource/lingnli', 'tasksource/monotonicity-entailment', 'tasksource/arct', 'tasksource/scinli', 'tasksource/naturallogic', 'onestop_qa', 'demelin/moral_stories', 'corypaik/prost', 'aps/dynahate', 'metaeval/syntactic-augmentation-nli', 'tasksource/autotnli', 'lasha-nlp/CONDAQA', 'openai/webgpt_comparisons', 'Dahoas/synthetic-instruct-gptj-pairwise', 'metaeval/scruples', 'metaeval/wouldyourather', 'metaeval/defeasible-nli', 'tasksource/help-nli', 'metaeval/nli-veridicality-transitivity', 'tasksource/lonli', 'tasksource/dadc-limit-nli', 'ColumbiaNLP/FLUTE', 'tasksource/strategy-qa', 'openai/summarize_from_feedback', 'tasksource/folio', 'yale-nlp/FOLIO', 'tasksource/tomi-nli', 'tasksource/avicenna', 'stanfordnlp/SHP', 'GBaker/MedQA-USMLE-4-options-hf', 'sileod/wikimedqa', 'declare-lab/cicero', 'amydeng2000/CREAK', 'tasksource/mutual', 'inverse-scaling/NeQA', 'inverse-scaling/quote-repetition', 'inverse-scaling/redefine-math', 'tasksource/puzzte', 'tasksource/implicatures', 'race', 'tasksource/race-c', 'tasksource/spartqa-yn', 'tasksource/spartqa-mchoice', 'tasksource/temporal-nli', 'riddle_sense', 'tasksource/clcd-english', 'maximedb/twentyquestions', 'metaeval/reclor', 'tasksource/counterfactually-augmented-imdb', 'tasksource/counterfactually-augmented-snli', 'metaeval/cnli', 'tasksource/boolq-natural-perturbations', 'metaeval/acceptability-prediction', 'metaeval/equate', 'tasksource/ScienceQA_text_only', 'Jiangjie/ekar_english', 'tasksource/implicit-hate-stg1', 'metaeval/chaos-mnli-ambiguity', 'IlyaGusev/headline_cause', 'tasksource/logiqa-2.0-nli', 'tasksource/oasst2_dense_flat', 'sileod/mindgames', 'metaeval/ambient', 'metaeval/path-naturalness-prediction', 'civil_comments', 'AndyChiang/cloth', 'AndyChiang/dgen', 'tasksource/I2D2', 'webis/args_me', 'webis/Touche23-ValueEval', 'tasksource/starcon', 'PolyAI/banking77', 'tasksource/ConTRoL-nli', 'tasksource/tracie', 'tasksource/sherliic', 'tasksource/sen-making', 'tasksource/winowhy', 'tasksource/robustLR', 'CLUTRR/v1', 'tasksource/logical-fallacy', 'tasksource/parade', 'tasksource/cladder', 'tasksource/subjectivity', 'tasksource/MOH', 'tasksource/VUAC', 'tasksource/TroFi', 'sharc_modified', 'tasksource/conceptrules_v2', 'metaeval/disrpt', 'tasksource/zero-shot-label-nli', 'tasksource/com2sense', 'tasksource/scone', 'tasksource/winodict', 'tasksource/fool-me-twice', 'tasksource/monli', 'tasksource/corr2cause', 'lighteval/lsat_qa', 'tasksource/apt', 'zeroshot/twitter-financial-news-sentiment', 'tasksource/icl-symbol-tuning-instruct', 'tasksource/SpaceNLI', 'sihaochen/propsegment', 'HannahRoseKirk/HatemojiBuild', 'tasksource/regset', 'tasksource/esci', 'lmsys/chatbot_arena_conversations', 'neurae/dnd_style_intents', 'hitachi-nlp/FLD.v2', 'tasksource/SDOH-NLI', 'allenai/scifact_entailment', 'tasksource/feasibilityQA', 'tasksource/simple_pair', 'tasksource/AdjectiveScaleProbe-nli', 'tasksource/resnli', 'tasksource/SpaRTUN', 'tasksource/ReSQ', 'tasksource/semantic_fragments_nli', 'MoritzLaurer/dataset_train_nli', 'tasksource/stepgame', 'tasksource/nlgraph', 'tasksource/oasst2_pairwise_rlhf_reward', 'tasksource/hh-rlhf', 'tasksource/ruletaker', 'qbao775/PARARULE-Plus', 'tasksource/proofwriter', 'tasksource/logical-entailment', 'tasksource/nope', 'tasksource/LogicNLI', 'kiddothe2b/contract-nli', 'AshtonIsNotHere/nli4ct_semeval2024', 'tasksource/lsat-ar', 'tasksource/lsat-rc', 'AshtonIsNotHere/biosift-nli', 'tasksource/brainteasers', 'Anthropic/persuasion', 'erbacher/AmbigNQ-clarifying-question', 'tasksource/SIGA-nli', 'unigram/FOL-nli', 'tasksource/goal-step-wikihow', 'GGLab/PARADISE', 'tasksource/doc-nli', 'tasksource/mctest-nli', 'tasksource/patent-phrase-similarity', 'tasksource/natural-language-satisfiability', 'tasksource/idioms-nli', 'tasksource/lifecycle-entailment', 'nvidia/HelpSteer', 'nvidia/HelpSteer2', 'sadat2307/MSciNLI', 'pushpdeep/UltraFeedback-paired', 'tasksource/AES2-essay-scoring', 'tasksource/english-grading', 'tasksource/wice', 'Dzeniks/hover', 'sileod/missing-item-prediction', 'tasksource/tasksource_dpo_pairs']",
         "289",
         "2024-01-31 12:02:12+00:00"
        ],
        [
         "32763",
         "zero-shot-classification",
         "65ba36c403bb6d3836afbee3",
         "['nyu-mll/glue', 'aps/super_glue', 'facebook/anli', 'tasksource/babi_nli', 'sick', 'snli', 'scitail', 'hans', 'alisawuffles/WANLI', 'tasksource/recast', 'sileod/probability_words_nli', 'joey234/nan-nli', 'pietrolesci/nli_fever', 'pietrolesci/breaking_nli', 'pietrolesci/conj_nli', 'pietrolesci/fracas', 'pietrolesci/dialogue_nli', 'pietrolesci/mpe', 'pietrolesci/dnc', 'pietrolesci/recast_white', 'pietrolesci/joci', 'pietrolesci/robust_nli', 'pietrolesci/robust_nli_is_sd', 'pietrolesci/robust_nli_li_ts', 'pietrolesci/gen_debiased_nli', 'pietrolesci/add_one_rte', 'tasksource/imppres', 'hlgd', 'paws', 'medical_questions_pairs', 'Anthropic/model-written-evals', 'truthful_qa', 'nightingal3/fig-qa', 'tasksource/bigbench', 'blimp', 'cos_e', 'cosmos_qa', 'dream', 'openbookqa', 'qasc', 'quartz', 'quail', 'head_qa', 'sciq', 'social_i_qa', 'wiki_hop', 'wiqa', 'piqa', 'hellaswag', 'pkavumba/balanced-copa', '12ml/e-CARE', 'art', 'winogrande', 'codah', 'ai2_arc', 'definite_pronoun_resolution', 'swag', 'math_qa', 'metaeval/utilitarianism', 'mteb/amazon_counterfactual', 'SetFit/insincere-questions', 'SetFit/toxic_conversations', 'turingbench/TuringBench', 'trec', 'tals/vitaminc', 'hope_edi', 'strombergnlp/rumoureval_2019', 'ethos', 'tweet_eval', 'discovery', 'pragmeval', 'silicone', 'lex_glue', 'papluca/language-identification', 'imdb', 'rotten_tomatoes', 'ag_news', 'yelp_review_full', 'financial_phrasebank', 'poem_sentiment', 'dbpedia_14', 'amazon_polarity', 'app_reviews', 'hate_speech18', 'sms_spam', 'humicroedit', 'snips_built_in_intents', 'hate_speech_offensive', 'yahoo_answers_topics', 'pacovaldez/stackoverflow-questions', 'zapsdcn/hyperpartisan_news', 'zapsdcn/sciie', 'zapsdcn/citation_intent', 'go_emotions', 'allenai/scicite', 'liar', 'relbert/lexical_relation_classification', 'tasksource/linguisticprobing', 'tasksource/crowdflower', 'metaeval/ethics', 'emo', 'google_wellformed_query', 'tweets_hate_speech_detection', 'has_part', 'blog_authorship_corpus', 'launch/open_question_type', 'health_fact', 'commonsense_qa', 'mc_taco', 'ade_corpus_v2', 'prajjwal1/discosense', 'circa', 'PiC/phrase_similarity', 'copenlu/scientific-exaggeration-detection', 'quarel', 'mwong/fever-evidence-related', 'numer_sense', 'dynabench/dynasent', 'raquiba/Sarcasm_News_Headline', 'sem_eval_2010_task_8', 'demo-org/auditor_review', 'medmcqa', 'RuyuanWan/Dynasent_Disagreement', 'RuyuanWan/Politeness_Disagreement', 'RuyuanWan/SBIC_Disagreement', 'RuyuanWan/SChem_Disagreement', 'RuyuanWan/Dilemmas_Disagreement', 'lucasmccabe/logiqa', 'wiki_qa', 'tasksource/cycic_classification', 'tasksource/cycic_multiplechoice', 'tasksource/sts-companion', 'tasksource/commonsense_qa_2.0', 'tasksource/lingnli', 'tasksource/monotonicity-entailment', 'tasksource/arct', 'tasksource/scinli', 'tasksource/naturallogic', 'onestop_qa', 'demelin/moral_stories', 'corypaik/prost', 'aps/dynahate', 'metaeval/syntactic-augmentation-nli', 'tasksource/autotnli', 'lasha-nlp/CONDAQA', 'openai/webgpt_comparisons', 'Dahoas/synthetic-instruct-gptj-pairwise', 'metaeval/scruples', 'metaeval/wouldyourather', 'metaeval/defeasible-nli', 'tasksource/help-nli', 'metaeval/nli-veridicality-transitivity', 'tasksource/lonli', 'tasksource/dadc-limit-nli', 'ColumbiaNLP/FLUTE', 'tasksource/strategy-qa', 'openai/summarize_from_feedback', 'tasksource/folio', 'yale-nlp/FOLIO', 'tasksource/tomi-nli', 'tasksource/avicenna', 'stanfordnlp/SHP', 'GBaker/MedQA-USMLE-4-options-hf', 'sileod/wikimedqa', 'declare-lab/cicero', 'amydeng2000/CREAK', 'tasksource/mutual', 'inverse-scaling/NeQA', 'inverse-scaling/quote-repetition', 'inverse-scaling/redefine-math', 'tasksource/puzzte', 'tasksource/implicatures', 'race', 'tasksource/race-c', 'tasksource/spartqa-yn', 'tasksource/spartqa-mchoice', 'tasksource/temporal-nli', 'riddle_sense', 'tasksource/clcd-english', 'maximedb/twentyquestions', 'metaeval/reclor', 'tasksource/counterfactually-augmented-imdb', 'tasksource/counterfactually-augmented-snli', 'metaeval/cnli', 'tasksource/boolq-natural-perturbations', 'metaeval/acceptability-prediction', 'metaeval/equate', 'tasksource/ScienceQA_text_only', 'Jiangjie/ekar_english', 'tasksource/implicit-hate-stg1', 'metaeval/chaos-mnli-ambiguity', 'IlyaGusev/headline_cause', 'tasksource/logiqa-2.0-nli', 'tasksource/oasst2_dense_flat', 'sileod/mindgames', 'metaeval/ambient', 'metaeval/path-naturalness-prediction', 'civil_comments', 'AndyChiang/cloth', 'AndyChiang/dgen', 'tasksource/I2D2', 'webis/args_me', 'webis/Touche23-ValueEval', 'tasksource/starcon', 'PolyAI/banking77', 'tasksource/ConTRoL-nli', 'tasksource/tracie', 'tasksource/sherliic', 'tasksource/sen-making', 'tasksource/winowhy', 'tasksource/robustLR', 'CLUTRR/v1', 'tasksource/logical-fallacy', 'tasksource/parade', 'tasksource/cladder', 'tasksource/subjectivity', 'tasksource/MOH', 'tasksource/VUAC', 'tasksource/TroFi', 'sharc_modified', 'tasksource/conceptrules_v2', 'metaeval/disrpt', 'tasksource/zero-shot-label-nli', 'tasksource/com2sense', 'tasksource/scone', 'tasksource/winodict', 'tasksource/fool-me-twice', 'tasksource/monli', 'tasksource/corr2cause', 'lighteval/lsat_qa', 'tasksource/apt', 'zeroshot/twitter-financial-news-sentiment', 'tasksource/icl-symbol-tuning-instruct', 'tasksource/SpaceNLI', 'sihaochen/propsegment', 'HannahRoseKirk/HatemojiBuild', 'tasksource/regset', 'tasksource/esci', 'lmsys/chatbot_arena_conversations', 'neurae/dnd_style_intents', 'hitachi-nlp/FLD.v2', 'tasksource/SDOH-NLI', 'allenai/scifact_entailment', 'tasksource/feasibilityQA', 'tasksource/simple_pair', 'tasksource/AdjectiveScaleProbe-nli', 'tasksource/resnli', 'tasksource/SpaRTUN', 'tasksource/ReSQ', 'tasksource/semantic_fragments_nli', 'MoritzLaurer/dataset_train_nli', 'tasksource/stepgame', 'tasksource/nlgraph', 'tasksource/oasst2_pairwise_rlhf_reward', 'tasksource/hh-rlhf', 'tasksource/ruletaker', 'qbao775/PARARULE-Plus', 'tasksource/proofwriter', 'tasksource/logical-entailment', 'tasksource/nope', 'tasksource/LogicNLI', 'kiddothe2b/contract-nli', 'AshtonIsNotHere/nli4ct_semeval2024', 'tasksource/lsat-ar', 'tasksource/lsat-rc', 'AshtonIsNotHere/biosift-nli', 'tasksource/brainteasers', 'Anthropic/persuasion', 'erbacher/AmbigNQ-clarifying-question', 'tasksource/SIGA-nli', 'unigram/FOL-nli', 'tasksource/goal-step-wikihow', 'GGLab/PARADISE', 'tasksource/doc-nli', 'tasksource/mctest-nli', 'tasksource/patent-phrase-similarity', 'tasksource/natural-language-satisfiability', 'tasksource/idioms-nli', 'tasksource/lifecycle-entailment', 'nvidia/HelpSteer', 'nvidia/HelpSteer2', 'sadat2307/MSciNLI', 'pushpdeep/UltraFeedback-paired', 'tasksource/AES2-essay-scoring', 'tasksource/english-grading', 'tasksource/wice', 'Dzeniks/hover', 'sileod/missing-item-prediction', 'tasksource/tasksource_dpo_pairs']",
         "289",
         "2024-01-31 12:02:12+00:00"
        ],
        [
         "32773",
         "zero-shot-classification",
         "667ec118ba80b56c0f3735de",
         "['nyu-mll/glue', 'aps/super_glue', 'facebook/anli', 'tasksource/babi_nli', 'sick', 'snli', 'scitail', 'hans', 'alisawuffles/WANLI', 'tasksource/recast', 'sileod/probability_words_nli', 'joey234/nan-nli', 'pietrolesci/nli_fever', 'pietrolesci/breaking_nli', 'pietrolesci/conj_nli', 'pietrolesci/fracas', 'pietrolesci/dialogue_nli', 'pietrolesci/mpe', 'pietrolesci/dnc', 'pietrolesci/recast_white', 'pietrolesci/joci', 'pietrolesci/robust_nli', 'pietrolesci/robust_nli_is_sd', 'pietrolesci/robust_nli_li_ts', 'pietrolesci/gen_debiased_nli', 'pietrolesci/add_one_rte', 'tasksource/imppres', 'hlgd', 'paws', 'medical_questions_pairs', 'Anthropic/model-written-evals', 'truthful_qa', 'nightingal3/fig-qa', 'tasksource/bigbench', 'blimp', 'cos_e', 'cosmos_qa', 'dream', 'openbookqa', 'qasc', 'quartz', 'quail', 'head_qa', 'sciq', 'social_i_qa', 'wiki_hop', 'wiqa', 'piqa', 'hellaswag', 'pkavumba/balanced-copa', '12ml/e-CARE', 'art', 'winogrande', 'codah', 'ai2_arc', 'definite_pronoun_resolution', 'swag', 'math_qa', 'metaeval/utilitarianism', 'mteb/amazon_counterfactual', 'SetFit/insincere-questions', 'SetFit/toxic_conversations', 'turingbench/TuringBench', 'trec', 'tals/vitaminc', 'hope_edi', 'strombergnlp/rumoureval_2019', 'ethos', 'tweet_eval', 'discovery', 'pragmeval', 'silicone', 'lex_glue', 'papluca/language-identification', 'imdb', 'rotten_tomatoes', 'ag_news', 'yelp_review_full', 'financial_phrasebank', 'poem_sentiment', 'dbpedia_14', 'amazon_polarity', 'app_reviews', 'hate_speech18', 'sms_spam', 'humicroedit', 'snips_built_in_intents', 'hate_speech_offensive', 'yahoo_answers_topics', 'pacovaldez/stackoverflow-questions', 'zapsdcn/hyperpartisan_news', 'zapsdcn/sciie', 'zapsdcn/citation_intent', 'go_emotions', 'allenai/scicite', 'liar', 'relbert/lexical_relation_classification', 'tasksource/linguisticprobing', 'tasksource/crowdflower', 'metaeval/ethics', 'emo', 'google_wellformed_query', 'tweets_hate_speech_detection', 'has_part', 'blog_authorship_corpus', 'launch/open_question_type', 'health_fact', 'commonsense_qa', 'mc_taco', 'ade_corpus_v2', 'prajjwal1/discosense', 'circa', 'PiC/phrase_similarity', 'copenlu/scientific-exaggeration-detection', 'quarel', 'mwong/fever-evidence-related', 'numer_sense', 'dynabench/dynasent', 'raquiba/Sarcasm_News_Headline', 'sem_eval_2010_task_8', 'demo-org/auditor_review', 'medmcqa', 'RuyuanWan/Dynasent_Disagreement', 'RuyuanWan/Politeness_Disagreement', 'RuyuanWan/SBIC_Disagreement', 'RuyuanWan/SChem_Disagreement', 'RuyuanWan/Dilemmas_Disagreement', 'lucasmccabe/logiqa', 'wiki_qa', 'tasksource/cycic_classification', 'tasksource/cycic_multiplechoice', 'tasksource/sts-companion', 'tasksource/commonsense_qa_2.0', 'tasksource/lingnli', 'tasksource/monotonicity-entailment', 'tasksource/arct', 'tasksource/scinli', 'tasksource/naturallogic', 'onestop_qa', 'demelin/moral_stories', 'corypaik/prost', 'aps/dynahate', 'metaeval/syntactic-augmentation-nli', 'tasksource/autotnli', 'lasha-nlp/CONDAQA', 'openai/webgpt_comparisons', 'Dahoas/synthetic-instruct-gptj-pairwise', 'metaeval/scruples', 'metaeval/wouldyourather', 'metaeval/defeasible-nli', 'tasksource/help-nli', 'metaeval/nli-veridicality-transitivity', 'tasksource/lonli', 'tasksource/dadc-limit-nli', 'ColumbiaNLP/FLUTE', 'tasksource/strategy-qa', 'openai/summarize_from_feedback', 'tasksource/folio', 'yale-nlp/FOLIO', 'tasksource/tomi-nli', 'tasksource/avicenna', 'stanfordnlp/SHP', 'GBaker/MedQA-USMLE-4-options-hf', 'sileod/wikimedqa', 'declare-lab/cicero', 'amydeng2000/CREAK', 'tasksource/mutual', 'inverse-scaling/NeQA', 'inverse-scaling/quote-repetition', 'inverse-scaling/redefine-math', 'tasksource/puzzte', 'tasksource/implicatures', 'race', 'tasksource/race-c', 'tasksource/spartqa-yn', 'tasksource/spartqa-mchoice', 'tasksource/temporal-nli', 'riddle_sense', 'tasksource/clcd-english', 'maximedb/twentyquestions', 'metaeval/reclor', 'tasksource/counterfactually-augmented-imdb', 'tasksource/counterfactually-augmented-snli', 'metaeval/cnli', 'tasksource/boolq-natural-perturbations', 'metaeval/acceptability-prediction', 'metaeval/equate', 'tasksource/ScienceQA_text_only', 'Jiangjie/ekar_english', 'tasksource/implicit-hate-stg1', 'metaeval/chaos-mnli-ambiguity', 'IlyaGusev/headline_cause', 'tasksource/logiqa-2.0-nli', 'tasksource/oasst2_dense_flat', 'sileod/mindgames', 'metaeval/ambient', 'metaeval/path-naturalness-prediction', 'civil_comments', 'AndyChiang/cloth', 'AndyChiang/dgen', 'tasksource/I2D2', 'webis/args_me', 'webis/Touche23-ValueEval', 'tasksource/starcon', 'PolyAI/banking77', 'tasksource/ConTRoL-nli', 'tasksource/tracie', 'tasksource/sherliic', 'tasksource/sen-making', 'tasksource/winowhy', 'tasksource/robustLR', 'CLUTRR/v1', 'tasksource/logical-fallacy', 'tasksource/parade', 'tasksource/cladder', 'tasksource/subjectivity', 'tasksource/MOH', 'tasksource/VUAC', 'tasksource/TroFi', 'sharc_modified', 'tasksource/conceptrules_v2', 'metaeval/disrpt', 'tasksource/zero-shot-label-nli', 'tasksource/com2sense', 'tasksource/scone', 'tasksource/winodict', 'tasksource/fool-me-twice', 'tasksource/monli', 'tasksource/corr2cause', 'lighteval/lsat_qa', 'tasksource/apt', 'zeroshot/twitter-financial-news-sentiment', 'tasksource/icl-symbol-tuning-instruct', 'tasksource/SpaceNLI', 'sihaochen/propsegment', 'HannahRoseKirk/HatemojiBuild', 'tasksource/regset', 'tasksource/esci', 'lmsys/chatbot_arena_conversations', 'neurae/dnd_style_intents', 'hitachi-nlp/FLD.v2', 'tasksource/SDOH-NLI', 'allenai/scifact_entailment', 'tasksource/feasibilityQA', 'tasksource/simple_pair', 'tasksource/AdjectiveScaleProbe-nli', 'tasksource/resnli', 'tasksource/SpaRTUN', 'tasksource/ReSQ', 'tasksource/semantic_fragments_nli', 'MoritzLaurer/dataset_train_nli', 'tasksource/stepgame', 'tasksource/nlgraph', 'tasksource/oasst2_pairwise_rlhf_reward', 'tasksource/hh-rlhf', 'tasksource/ruletaker', 'qbao775/PARARULE-Plus', 'tasksource/proofwriter', 'tasksource/logical-entailment', 'tasksource/nope', 'tasksource/LogicNLI', 'kiddothe2b/contract-nli', 'AshtonIsNotHere/nli4ct_semeval2024', 'tasksource/lsat-ar', 'tasksource/lsat-rc', 'AshtonIsNotHere/biosift-nli', 'tasksource/brainteasers', 'Anthropic/persuasion', 'erbacher/AmbigNQ-clarifying-question', 'tasksource/SIGA-nli', 'unigram/FOL-nli', 'tasksource/goal-step-wikihow', 'GGLab/PARADISE', 'tasksource/doc-nli', 'tasksource/mctest-nli', 'tasksource/patent-phrase-similarity', 'tasksource/natural-language-satisfiability', 'tasksource/idioms-nli', 'tasksource/lifecycle-entailment', 'nvidia/HelpSteer', 'nvidia/HelpSteer2', 'sadat2307/MSciNLI', 'pushpdeep/UltraFeedback-paired', 'tasksource/AES2-essay-scoring', 'tasksource/english-grading', 'tasksource/wice', 'Dzeniks/hover', 'tasksource/tasksource_dpo_pairs']",
         "288",
         "2024-06-28 13:56:40+00:00"
        ],
        [
         "41731",
         "text-classification",
         "6704614606af66752cbcf0ab",
         "['nyu-mll/glue', 'aps/super_glue', 'facebook/anli', 'tasksource/babi_nli', 'sick', 'snli', 'scitail', 'hans', 'alisawuffles/WANLI', 'tasksource/recast', 'sileod/probability_words_nli', 'joey234/nan-nli', 'pietrolesci/nli_fever', 'pietrolesci/breaking_nli', 'pietrolesci/conj_nli', 'pietrolesci/fracas', 'pietrolesci/dialogue_nli', 'pietrolesci/mpe', 'pietrolesci/dnc', 'pietrolesci/recast_white', 'pietrolesci/joci', 'pietrolesci/robust_nli', 'pietrolesci/robust_nli_is_sd', 'pietrolesci/robust_nli_li_ts', 'pietrolesci/gen_debiased_nli', 'pietrolesci/add_one_rte', 'tasksource/imppres', 'hlgd', 'paws', 'medical_questions_pairs', 'Anthropic/model-written-evals', 'truthful_qa', 'nightingal3/fig-qa', 'tasksource/bigbench', 'blimp', 'cos_e', 'cosmos_qa', 'dream', 'openbookqa', 'qasc', 'quartz', 'quail', 'head_qa', 'sciq', 'social_i_qa', 'wiki_hop', 'wiqa', 'piqa', 'hellaswag', 'pkavumba/balanced-copa', '12ml/e-CARE', 'art', 'winogrande', 'codah', 'ai2_arc', 'definite_pronoun_resolution', 'swag', 'math_qa', 'metaeval/utilitarianism', 'mteb/amazon_counterfactual', 'SetFit/insincere-questions', 'SetFit/toxic_conversations', 'turingbench/TuringBench', 'trec', 'tals/vitaminc', 'hope_edi', 'strombergnlp/rumoureval_2019', 'ethos', 'tweet_eval', 'discovery', 'pragmeval', 'silicone', 'lex_glue', 'papluca/language-identification', 'imdb', 'rotten_tomatoes', 'ag_news', 'yelp_review_full', 'financial_phrasebank', 'poem_sentiment', 'dbpedia_14', 'amazon_polarity', 'app_reviews', 'hate_speech18', 'sms_spam', 'humicroedit', 'snips_built_in_intents', 'hate_speech_offensive', 'yahoo_answers_topics', 'pacovaldez/stackoverflow-questions', 'zapsdcn/hyperpartisan_news', 'zapsdcn/sciie', 'zapsdcn/citation_intent', 'go_emotions', 'allenai/scicite', 'liar', 'relbert/lexical_relation_classification', 'tasksource/linguisticprobing', 'tasksource/crowdflower', 'metaeval/ethics', 'emo', 'google_wellformed_query', 'tweets_hate_speech_detection', 'has_part', 'blog_authorship_corpus', 'launch/open_question_type', 'health_fact', 'commonsense_qa', 'mc_taco', 'ade_corpus_v2', 'prajjwal1/discosense', 'circa', 'PiC/phrase_similarity', 'copenlu/scientific-exaggeration-detection', 'quarel', 'mwong/fever-evidence-related', 'numer_sense', 'dynabench/dynasent', 'raquiba/Sarcasm_News_Headline', 'sem_eval_2010_task_8', 'demo-org/auditor_review', 'medmcqa', 'RuyuanWan/Dynasent_Disagreement', 'RuyuanWan/Politeness_Disagreement', 'RuyuanWan/SBIC_Disagreement', 'RuyuanWan/SChem_Disagreement', 'RuyuanWan/Dilemmas_Disagreement', 'lucasmccabe/logiqa', 'wiki_qa', 'tasksource/cycic_classification', 'tasksource/cycic_multiplechoice', 'tasksource/sts-companion', 'tasksource/commonsense_qa_2.0', 'tasksource/lingnli', 'tasksource/monotonicity-entailment', 'tasksource/arct', 'tasksource/scinli', 'tasksource/naturallogic', 'onestop_qa', 'demelin/moral_stories', 'corypaik/prost', 'aps/dynahate', 'metaeval/syntactic-augmentation-nli', 'tasksource/autotnli', 'lasha-nlp/CONDAQA', 'openai/webgpt_comparisons', 'Dahoas/synthetic-instruct-gptj-pairwise', 'metaeval/scruples', 'metaeval/wouldyourather', 'metaeval/defeasible-nli', 'tasksource/help-nli', 'metaeval/nli-veridicality-transitivity', 'tasksource/lonli', 'tasksource/dadc-limit-nli', 'ColumbiaNLP/FLUTE', 'tasksource/strategy-qa', 'openai/summarize_from_feedback', 'tasksource/folio', 'yale-nlp/FOLIO', 'tasksource/tomi-nli', 'tasksource/avicenna', 'stanfordnlp/SHP', 'GBaker/MedQA-USMLE-4-options-hf', 'sileod/wikimedqa', 'declare-lab/cicero', 'amydeng2000/CREAK', 'tasksource/mutual', 'inverse-scaling/NeQA', 'inverse-scaling/quote-repetition', 'inverse-scaling/redefine-math', 'tasksource/puzzte', 'tasksource/implicatures', 'race', 'tasksource/race-c', 'tasksource/spartqa-yn', 'tasksource/spartqa-mchoice', 'tasksource/temporal-nli', 'riddle_sense', 'tasksource/clcd-english', 'maximedb/twentyquestions', 'metaeval/reclor', 'tasksource/counterfactually-augmented-imdb', 'tasksource/counterfactually-augmented-snli', 'metaeval/cnli', 'tasksource/boolq-natural-perturbations', 'metaeval/acceptability-prediction', 'metaeval/equate', 'tasksource/ScienceQA_text_only', 'Jiangjie/ekar_english', 'tasksource/implicit-hate-stg1', 'metaeval/chaos-mnli-ambiguity', 'IlyaGusev/headline_cause', 'tasksource/logiqa-2.0-nli', 'tasksource/oasst2_dense_flat', 'sileod/mindgames', 'metaeval/ambient', 'metaeval/path-naturalness-prediction', 'civil_comments', 'AndyChiang/cloth', 'AndyChiang/dgen', 'tasksource/I2D2', 'webis/args_me', 'webis/Touche23-ValueEval', 'tasksource/starcon', 'PolyAI/banking77', 'tasksource/ConTRoL-nli', 'tasksource/tracie', 'tasksource/sherliic', 'tasksource/sen-making', 'tasksource/winowhy', 'tasksource/robustLR', 'CLUTRR/v1', 'tasksource/logical-fallacy', 'tasksource/parade', 'tasksource/cladder', 'tasksource/subjectivity', 'tasksource/MOH', 'tasksource/VUAC', 'tasksource/TroFi', 'sharc_modified', 'tasksource/conceptrules_v2', 'metaeval/disrpt', 'tasksource/zero-shot-label-nli', 'tasksource/com2sense', 'tasksource/scone', 'tasksource/winodict', 'tasksource/fool-me-twice', 'tasksource/monli', 'tasksource/corr2cause', 'lighteval/lsat_qa', 'tasksource/apt', 'zeroshot/twitter-financial-news-sentiment', 'tasksource/icl-symbol-tuning-instruct', 'tasksource/SpaceNLI', 'sihaochen/propsegment', 'HannahRoseKirk/HatemojiBuild', 'tasksource/regset', 'tasksource/esci', 'lmsys/chatbot_arena_conversations', 'neurae/dnd_style_intents', 'hitachi-nlp/FLD.v2', 'tasksource/SDOH-NLI', 'allenai/scifact_entailment', 'tasksource/feasibilityQA', 'tasksource/simple_pair', 'tasksource/AdjectiveScaleProbe-nli', 'tasksource/resnli', 'tasksource/SpaRTUN', 'tasksource/ReSQ', 'tasksource/semantic_fragments_nli', 'MoritzLaurer/dataset_train_nli', 'tasksource/stepgame', 'tasksource/nlgraph', 'tasksource/oasst2_pairwise_rlhf_reward', 'tasksource/hh-rlhf', 'tasksource/ruletaker', 'qbao775/PARARULE-Plus', 'tasksource/proofwriter', 'tasksource/logical-entailment', 'tasksource/nope', 'tasksource/LogicNLI', 'kiddothe2b/contract-nli', 'AshtonIsNotHere/nli4ct_semeval2024', 'tasksource/lsat-ar', 'tasksource/lsat-rc', 'AshtonIsNotHere/biosift-nli', 'tasksource/brainteasers', 'Anthropic/persuasion', 'erbacher/AmbigNQ-clarifying-question', 'tasksource/SIGA-nli', 'unigram/FOL-nli', 'tasksource/goal-step-wikihow', 'GGLab/PARADISE', 'tasksource/doc-nli', 'tasksource/mctest-nli', 'tasksource/patent-phrase-similarity', 'tasksource/natural-language-satisfiability', 'tasksource/idioms-nli', 'tasksource/lifecycle-entailment', 'nvidia/HelpSteer', 'nvidia/HelpSteer2', 'sadat2307/MSciNLI', 'pushpdeep/UltraFeedback-paired', 'tasksource/AES2-essay-scoring', 'tasksource/english-grading', 'tasksource/wice', 'Dzeniks/hover', 'tasksource/tasksource_dpo_pairs']",
         "288",
         "2024-10-07 22:31:34+00:00"
        ],
        [
         "37228",
         "text-classification",
         "667ec118ba80b56c0f3735de",
         "['nyu-mll/glue', 'aps/super_glue', 'facebook/anli', 'tasksource/babi_nli', 'sick', 'snli', 'scitail', 'hans', 'alisawuffles/WANLI', 'tasksource/recast', 'sileod/probability_words_nli', 'joey234/nan-nli', 'pietrolesci/nli_fever', 'pietrolesci/breaking_nli', 'pietrolesci/conj_nli', 'pietrolesci/fracas', 'pietrolesci/dialogue_nli', 'pietrolesci/mpe', 'pietrolesci/dnc', 'pietrolesci/recast_white', 'pietrolesci/joci', 'pietrolesci/robust_nli', 'pietrolesci/robust_nli_is_sd', 'pietrolesci/robust_nli_li_ts', 'pietrolesci/gen_debiased_nli', 'pietrolesci/add_one_rte', 'tasksource/imppres', 'hlgd', 'paws', 'medical_questions_pairs', 'Anthropic/model-written-evals', 'truthful_qa', 'nightingal3/fig-qa', 'tasksource/bigbench', 'blimp', 'cos_e', 'cosmos_qa', 'dream', 'openbookqa', 'qasc', 'quartz', 'quail', 'head_qa', 'sciq', 'social_i_qa', 'wiki_hop', 'wiqa', 'piqa', 'hellaswag', 'pkavumba/balanced-copa', '12ml/e-CARE', 'art', 'winogrande', 'codah', 'ai2_arc', 'definite_pronoun_resolution', 'swag', 'math_qa', 'metaeval/utilitarianism', 'mteb/amazon_counterfactual', 'SetFit/insincere-questions', 'SetFit/toxic_conversations', 'turingbench/TuringBench', 'trec', 'tals/vitaminc', 'hope_edi', 'strombergnlp/rumoureval_2019', 'ethos', 'tweet_eval', 'discovery', 'pragmeval', 'silicone', 'lex_glue', 'papluca/language-identification', 'imdb', 'rotten_tomatoes', 'ag_news', 'yelp_review_full', 'financial_phrasebank', 'poem_sentiment', 'dbpedia_14', 'amazon_polarity', 'app_reviews', 'hate_speech18', 'sms_spam', 'humicroedit', 'snips_built_in_intents', 'hate_speech_offensive', 'yahoo_answers_topics', 'pacovaldez/stackoverflow-questions', 'zapsdcn/hyperpartisan_news', 'zapsdcn/sciie', 'zapsdcn/citation_intent', 'go_emotions', 'allenai/scicite', 'liar', 'relbert/lexical_relation_classification', 'tasksource/linguisticprobing', 'tasksource/crowdflower', 'metaeval/ethics', 'emo', 'google_wellformed_query', 'tweets_hate_speech_detection', 'has_part', 'blog_authorship_corpus', 'launch/open_question_type', 'health_fact', 'commonsense_qa', 'mc_taco', 'ade_corpus_v2', 'prajjwal1/discosense', 'circa', 'PiC/phrase_similarity', 'copenlu/scientific-exaggeration-detection', 'quarel', 'mwong/fever-evidence-related', 'numer_sense', 'dynabench/dynasent', 'raquiba/Sarcasm_News_Headline', 'sem_eval_2010_task_8', 'demo-org/auditor_review', 'medmcqa', 'RuyuanWan/Dynasent_Disagreement', 'RuyuanWan/Politeness_Disagreement', 'RuyuanWan/SBIC_Disagreement', 'RuyuanWan/SChem_Disagreement', 'RuyuanWan/Dilemmas_Disagreement', 'lucasmccabe/logiqa', 'wiki_qa', 'tasksource/cycic_classification', 'tasksource/cycic_multiplechoice', 'tasksource/sts-companion', 'tasksource/commonsense_qa_2.0', 'tasksource/lingnli', 'tasksource/monotonicity-entailment', 'tasksource/arct', 'tasksource/scinli', 'tasksource/naturallogic', 'onestop_qa', 'demelin/moral_stories', 'corypaik/prost', 'aps/dynahate', 'metaeval/syntactic-augmentation-nli', 'tasksource/autotnli', 'lasha-nlp/CONDAQA', 'openai/webgpt_comparisons', 'Dahoas/synthetic-instruct-gptj-pairwise', 'metaeval/scruples', 'metaeval/wouldyourather', 'metaeval/defeasible-nli', 'tasksource/help-nli', 'metaeval/nli-veridicality-transitivity', 'tasksource/lonli', 'tasksource/dadc-limit-nli', 'ColumbiaNLP/FLUTE', 'tasksource/strategy-qa', 'openai/summarize_from_feedback', 'tasksource/folio', 'yale-nlp/FOLIO', 'tasksource/tomi-nli', 'tasksource/avicenna', 'stanfordnlp/SHP', 'GBaker/MedQA-USMLE-4-options-hf', 'sileod/wikimedqa', 'declare-lab/cicero', 'amydeng2000/CREAK', 'tasksource/mutual', 'inverse-scaling/NeQA', 'inverse-scaling/quote-repetition', 'inverse-scaling/redefine-math', 'tasksource/puzzte', 'tasksource/implicatures', 'race', 'tasksource/race-c', 'tasksource/spartqa-yn', 'tasksource/spartqa-mchoice', 'tasksource/temporal-nli', 'riddle_sense', 'tasksource/clcd-english', 'maximedb/twentyquestions', 'metaeval/reclor', 'tasksource/counterfactually-augmented-imdb', 'tasksource/counterfactually-augmented-snli', 'metaeval/cnli', 'tasksource/boolq-natural-perturbations', 'metaeval/acceptability-prediction', 'metaeval/equate', 'tasksource/ScienceQA_text_only', 'Jiangjie/ekar_english', 'tasksource/implicit-hate-stg1', 'metaeval/chaos-mnli-ambiguity', 'IlyaGusev/headline_cause', 'tasksource/logiqa-2.0-nli', 'tasksource/oasst2_dense_flat', 'sileod/mindgames', 'metaeval/ambient', 'metaeval/path-naturalness-prediction', 'civil_comments', 'AndyChiang/cloth', 'AndyChiang/dgen', 'tasksource/I2D2', 'webis/args_me', 'webis/Touche23-ValueEval', 'tasksource/starcon', 'PolyAI/banking77', 'tasksource/ConTRoL-nli', 'tasksource/tracie', 'tasksource/sherliic', 'tasksource/sen-making', 'tasksource/winowhy', 'tasksource/robustLR', 'CLUTRR/v1', 'tasksource/logical-fallacy', 'tasksource/parade', 'tasksource/cladder', 'tasksource/subjectivity', 'tasksource/MOH', 'tasksource/VUAC', 'tasksource/TroFi', 'sharc_modified', 'tasksource/conceptrules_v2', 'metaeval/disrpt', 'tasksource/zero-shot-label-nli', 'tasksource/com2sense', 'tasksource/scone', 'tasksource/winodict', 'tasksource/fool-me-twice', 'tasksource/monli', 'tasksource/corr2cause', 'lighteval/lsat_qa', 'tasksource/apt', 'zeroshot/twitter-financial-news-sentiment', 'tasksource/icl-symbol-tuning-instruct', 'tasksource/SpaceNLI', 'sihaochen/propsegment', 'HannahRoseKirk/HatemojiBuild', 'tasksource/regset', 'tasksource/esci', 'lmsys/chatbot_arena_conversations', 'neurae/dnd_style_intents', 'hitachi-nlp/FLD.v2', 'tasksource/SDOH-NLI', 'allenai/scifact_entailment', 'tasksource/feasibilityQA', 'tasksource/simple_pair', 'tasksource/AdjectiveScaleProbe-nli', 'tasksource/resnli', 'tasksource/SpaRTUN', 'tasksource/ReSQ', 'tasksource/semantic_fragments_nli', 'MoritzLaurer/dataset_train_nli', 'tasksource/stepgame', 'tasksource/nlgraph', 'tasksource/oasst2_pairwise_rlhf_reward', 'tasksource/hh-rlhf', 'tasksource/ruletaker', 'qbao775/PARARULE-Plus', 'tasksource/proofwriter', 'tasksource/logical-entailment', 'tasksource/nope', 'tasksource/LogicNLI', 'kiddothe2b/contract-nli', 'AshtonIsNotHere/nli4ct_semeval2024', 'tasksource/lsat-ar', 'tasksource/lsat-rc', 'AshtonIsNotHere/biosift-nli', 'tasksource/brainteasers', 'Anthropic/persuasion', 'erbacher/AmbigNQ-clarifying-question', 'tasksource/SIGA-nli', 'unigram/FOL-nli', 'tasksource/goal-step-wikihow', 'GGLab/PARADISE', 'tasksource/doc-nli', 'tasksource/mctest-nli', 'tasksource/patent-phrase-similarity', 'tasksource/natural-language-satisfiability', 'tasksource/idioms-nli', 'tasksource/lifecycle-entailment', 'nvidia/HelpSteer', 'nvidia/HelpSteer2', 'sadat2307/MSciNLI', 'pushpdeep/UltraFeedback-paired', 'tasksource/AES2-essay-scoring', 'tasksource/english-grading', 'tasksource/wice', 'Dzeniks/hover', 'tasksource/tasksource_dpo_pairs']",
         "288",
         "2024-06-28 13:56:40+00:00"
        ],
        [
         "32857",
         "zero-shot-classification",
         "6704614606af66752cbcf0ab",
         "['nyu-mll/glue', 'aps/super_glue', 'facebook/anli', 'tasksource/babi_nli', 'sick', 'snli', 'scitail', 'hans', 'alisawuffles/WANLI', 'tasksource/recast', 'sileod/probability_words_nli', 'joey234/nan-nli', 'pietrolesci/nli_fever', 'pietrolesci/breaking_nli', 'pietrolesci/conj_nli', 'pietrolesci/fracas', 'pietrolesci/dialogue_nli', 'pietrolesci/mpe', 'pietrolesci/dnc', 'pietrolesci/recast_white', 'pietrolesci/joci', 'pietrolesci/robust_nli', 'pietrolesci/robust_nli_is_sd', 'pietrolesci/robust_nli_li_ts', 'pietrolesci/gen_debiased_nli', 'pietrolesci/add_one_rte', 'tasksource/imppres', 'hlgd', 'paws', 'medical_questions_pairs', 'Anthropic/model-written-evals', 'truthful_qa', 'nightingal3/fig-qa', 'tasksource/bigbench', 'blimp', 'cos_e', 'cosmos_qa', 'dream', 'openbookqa', 'qasc', 'quartz', 'quail', 'head_qa', 'sciq', 'social_i_qa', 'wiki_hop', 'wiqa', 'piqa', 'hellaswag', 'pkavumba/balanced-copa', '12ml/e-CARE', 'art', 'winogrande', 'codah', 'ai2_arc', 'definite_pronoun_resolution', 'swag', 'math_qa', 'metaeval/utilitarianism', 'mteb/amazon_counterfactual', 'SetFit/insincere-questions', 'SetFit/toxic_conversations', 'turingbench/TuringBench', 'trec', 'tals/vitaminc', 'hope_edi', 'strombergnlp/rumoureval_2019', 'ethos', 'tweet_eval', 'discovery', 'pragmeval', 'silicone', 'lex_glue', 'papluca/language-identification', 'imdb', 'rotten_tomatoes', 'ag_news', 'yelp_review_full', 'financial_phrasebank', 'poem_sentiment', 'dbpedia_14', 'amazon_polarity', 'app_reviews', 'hate_speech18', 'sms_spam', 'humicroedit', 'snips_built_in_intents', 'hate_speech_offensive', 'yahoo_answers_topics', 'pacovaldez/stackoverflow-questions', 'zapsdcn/hyperpartisan_news', 'zapsdcn/sciie', 'zapsdcn/citation_intent', 'go_emotions', 'allenai/scicite', 'liar', 'relbert/lexical_relation_classification', 'tasksource/linguisticprobing', 'tasksource/crowdflower', 'metaeval/ethics', 'emo', 'google_wellformed_query', 'tweets_hate_speech_detection', 'has_part', 'blog_authorship_corpus', 'launch/open_question_type', 'health_fact', 'commonsense_qa', 'mc_taco', 'ade_corpus_v2', 'prajjwal1/discosense', 'circa', 'PiC/phrase_similarity', 'copenlu/scientific-exaggeration-detection', 'quarel', 'mwong/fever-evidence-related', 'numer_sense', 'dynabench/dynasent', 'raquiba/Sarcasm_News_Headline', 'sem_eval_2010_task_8', 'demo-org/auditor_review', 'medmcqa', 'RuyuanWan/Dynasent_Disagreement', 'RuyuanWan/Politeness_Disagreement', 'RuyuanWan/SBIC_Disagreement', 'RuyuanWan/SChem_Disagreement', 'RuyuanWan/Dilemmas_Disagreement', 'lucasmccabe/logiqa', 'wiki_qa', 'tasksource/cycic_classification', 'tasksource/cycic_multiplechoice', 'tasksource/sts-companion', 'tasksource/commonsense_qa_2.0', 'tasksource/lingnli', 'tasksource/monotonicity-entailment', 'tasksource/arct', 'tasksource/scinli', 'tasksource/naturallogic', 'onestop_qa', 'demelin/moral_stories', 'corypaik/prost', 'aps/dynahate', 'metaeval/syntactic-augmentation-nli', 'tasksource/autotnli', 'lasha-nlp/CONDAQA', 'openai/webgpt_comparisons', 'Dahoas/synthetic-instruct-gptj-pairwise', 'metaeval/scruples', 'metaeval/wouldyourather', 'metaeval/defeasible-nli', 'tasksource/help-nli', 'metaeval/nli-veridicality-transitivity', 'tasksource/lonli', 'tasksource/dadc-limit-nli', 'ColumbiaNLP/FLUTE', 'tasksource/strategy-qa', 'openai/summarize_from_feedback', 'tasksource/folio', 'yale-nlp/FOLIO', 'tasksource/tomi-nli', 'tasksource/avicenna', 'stanfordnlp/SHP', 'GBaker/MedQA-USMLE-4-options-hf', 'sileod/wikimedqa', 'declare-lab/cicero', 'amydeng2000/CREAK', 'tasksource/mutual', 'inverse-scaling/NeQA', 'inverse-scaling/quote-repetition', 'inverse-scaling/redefine-math', 'tasksource/puzzte', 'tasksource/implicatures', 'race', 'tasksource/race-c', 'tasksource/spartqa-yn', 'tasksource/spartqa-mchoice', 'tasksource/temporal-nli', 'riddle_sense', 'tasksource/clcd-english', 'maximedb/twentyquestions', 'metaeval/reclor', 'tasksource/counterfactually-augmented-imdb', 'tasksource/counterfactually-augmented-snli', 'metaeval/cnli', 'tasksource/boolq-natural-perturbations', 'metaeval/acceptability-prediction', 'metaeval/equate', 'tasksource/ScienceQA_text_only', 'Jiangjie/ekar_english', 'tasksource/implicit-hate-stg1', 'metaeval/chaos-mnli-ambiguity', 'IlyaGusev/headline_cause', 'tasksource/logiqa-2.0-nli', 'tasksource/oasst2_dense_flat', 'sileod/mindgames', 'metaeval/ambient', 'metaeval/path-naturalness-prediction', 'civil_comments', 'AndyChiang/cloth', 'AndyChiang/dgen', 'tasksource/I2D2', 'webis/args_me', 'webis/Touche23-ValueEval', 'tasksource/starcon', 'PolyAI/banking77', 'tasksource/ConTRoL-nli', 'tasksource/tracie', 'tasksource/sherliic', 'tasksource/sen-making', 'tasksource/winowhy', 'tasksource/robustLR', 'CLUTRR/v1', 'tasksource/logical-fallacy', 'tasksource/parade', 'tasksource/cladder', 'tasksource/subjectivity', 'tasksource/MOH', 'tasksource/VUAC', 'tasksource/TroFi', 'sharc_modified', 'tasksource/conceptrules_v2', 'metaeval/disrpt', 'tasksource/zero-shot-label-nli', 'tasksource/com2sense', 'tasksource/scone', 'tasksource/winodict', 'tasksource/fool-me-twice', 'tasksource/monli', 'tasksource/corr2cause', 'lighteval/lsat_qa', 'tasksource/apt', 'zeroshot/twitter-financial-news-sentiment', 'tasksource/icl-symbol-tuning-instruct', 'tasksource/SpaceNLI', 'sihaochen/propsegment', 'HannahRoseKirk/HatemojiBuild', 'tasksource/regset', 'tasksource/esci', 'lmsys/chatbot_arena_conversations', 'neurae/dnd_style_intents', 'hitachi-nlp/FLD.v2', 'tasksource/SDOH-NLI', 'allenai/scifact_entailment', 'tasksource/feasibilityQA', 'tasksource/simple_pair', 'tasksource/AdjectiveScaleProbe-nli', 'tasksource/resnli', 'tasksource/SpaRTUN', 'tasksource/ReSQ', 'tasksource/semantic_fragments_nli', 'MoritzLaurer/dataset_train_nli', 'tasksource/stepgame', 'tasksource/nlgraph', 'tasksource/oasst2_pairwise_rlhf_reward', 'tasksource/hh-rlhf', 'tasksource/ruletaker', 'qbao775/PARARULE-Plus', 'tasksource/proofwriter', 'tasksource/logical-entailment', 'tasksource/nope', 'tasksource/LogicNLI', 'kiddothe2b/contract-nli', 'AshtonIsNotHere/nli4ct_semeval2024', 'tasksource/lsat-ar', 'tasksource/lsat-rc', 'AshtonIsNotHere/biosift-nli', 'tasksource/brainteasers', 'Anthropic/persuasion', 'erbacher/AmbigNQ-clarifying-question', 'tasksource/SIGA-nli', 'unigram/FOL-nli', 'tasksource/goal-step-wikihow', 'GGLab/PARADISE', 'tasksource/doc-nli', 'tasksource/mctest-nli', 'tasksource/patent-phrase-similarity', 'tasksource/natural-language-satisfiability', 'tasksource/idioms-nli', 'tasksource/lifecycle-entailment', 'nvidia/HelpSteer', 'nvidia/HelpSteer2', 'sadat2307/MSciNLI', 'pushpdeep/UltraFeedback-paired', 'tasksource/AES2-essay-scoring', 'tasksource/english-grading', 'tasksource/wice', 'Dzeniks/hover', 'tasksource/tasksource_dpo_pairs']",
         "288",
         "2024-10-07 22:31:34+00:00"
        ],
        [
         "32781",
         "zero-shot-classification",
         "665ded088b9fe471feb2676e",
         "['glue', 'super_glue', 'anli', 'metaeval/babi_nli', 'sick', 'stanfordnlp/snli', 'scitail', 'hans', 'alisawuffles/WANLI', 'metaeval/recast', 'sileod/probability_words_nli', 'joey234/nan-nli', 'pietrolesci/nli_fever', 'pietrolesci/breaking_nli', 'pietrolesci/conj_nli', 'pietrolesci/fracas', 'pietrolesci/dialogue_nli', 'pietrolesci/mpe', 'pietrolesci/dnc', 'pietrolesci/recast_white', 'pietrolesci/joci', 'pietrolesci/robust_nli', 'pietrolesci/robust_nli_is_sd', 'pietrolesci/robust_nli_li_ts', 'pietrolesci/gen_debiased_nli', 'pietrolesci/add_one_rte', 'metaeval/imppres', 'hlgd', 'paws', 'medical_questions_pairs', 'conll2003', 'Anthropic/model-written-evals', 'truthful_qa', 'nightingal3/fig-qa', 'tasksource/bigbench', 'blimp', 'cos_e', 'cosmos_qa', 'dream', 'openbookqa', 'qasc', 'quartz', 'quail', 'head_qa', 'sciq', 'social_i_qa', 'wiki_hop', 'wiqa', 'piqa', 'hellaswag', 'pkavumba/balanced-copa', '12ml/e-CARE', 'art', 'tasksource/mmlu', 'winogrande', 'codah', 'ai2_arc', 'definite_pronoun_resolution', 'swag', 'math_qa', 'metaeval/utilitarianism', 'mteb/amazon_counterfactual', 'SetFit/insincere-questions', 'SetFit/toxic_conversations', 'turingbench/TuringBench', 'trec', 'tals/vitaminc', 'hope_edi', 'strombergnlp/rumoureval_2019', 'ethos', 'tweet_eval', 'discovery', 'pragmeval', 'silicone', 'lex_glue', 'papluca/language-identification', 'imdb', 'rotten_tomatoes', 'ag_news', 'yelp_review_full', 'financial_phrasebank', 'poem_sentiment', 'dbpedia_14', 'amazon_polarity', 'app_reviews', 'hate_speech18', 'sms_spam', 'humicroedit', 'snips_built_in_intents', 'hate_speech_offensive', 'yahoo_answers_topics', 'pacovaldez/stackoverflow-questions', 'zapsdcn/hyperpartisan_news', 'zapsdcn/sciie', 'zapsdcn/citation_intent', 'go_emotions', 'allenai/scicite', 'liar', 'relbert/lexical_relation_classification', 'tasksource/crowdflower', 'metaeval/ethics', 'emo', 'google_wellformed_query', 'tweets_hate_speech_detection', 'has_part', 'wnut_17', 'ncbi_disease', 'acronym_identification', 'jnlpba', 'SpeedOfMagic/ontonotes_english', 'blog_authorship_corpus', 'launch/open_question_type', 'health_fact', 'commonsense_qa', 'mc_taco', 'ade_corpus_v2', 'prajjwal1/discosense', 'circa', 'PiC/phrase_similarity', 'copenlu/scientific-exaggeration-detection', 'quarel', 'mwong/fever-evidence-related', 'numer_sense', 'dynabench/dynasent', 'raquiba/Sarcasm_News_Headline', 'sem_eval_2010_task_8', 'demo-org/auditor_review', 'medmcqa', 'RuyuanWan/Dynasent_Disagreement', 'RuyuanWan/Politeness_Disagreement', 'RuyuanWan/SBIC_Disagreement', 'RuyuanWan/SChem_Disagreement', 'RuyuanWan/Dilemmas_Disagreement', 'lucasmccabe/logiqa', 'wiki_qa', 'metaeval/cycic_classification', 'metaeval/cycic_multiplechoice', 'metaeval/sts-companion', 'metaeval/commonsense_qa_2.0', 'metaeval/lingnli', 'metaeval/monotonicity-entailment', 'metaeval/arct', 'metaeval/scinli', 'metaeval/naturallogic', 'onestop_qa', 'demelin/moral_stories', 'corypaik/prost', 'aps/dynahate', 'metaeval/syntactic-augmentation-nli', 'metaeval/autotnli', 'lasha-nlp/CONDAQA', 'openai/webgpt_comparisons', 'Dahoas/synthetic-instruct-gptj-pairwise', 'metaeval/scruples', 'metaeval/wouldyourather', 'metaeval/defeasible-nli', 'metaeval/help-nli', 'metaeval/nli-veridicality-transitivity', 'metaeval/natural-language-satisfiability', 'metaeval/lonli', 'metaeval/dadc-limit-nli', 'ColumbiaNLP/FLUTE', 'metaeval/strategy-qa', 'openai/summarize_from_feedback', 'tasksource/folio', 'metaeval/tomi-nli', 'metaeval/avicenna', 'stanfordnlp/SHP', 'GBaker/MedQA-USMLE-4-options-hf', 'sileod/wikimedqa', 'declare-lab/cicero', 'amydeng2000/CREAK', 'metaeval/mutual', 'inverse-scaling/NeQA', 'inverse-scaling/quote-repetition', 'inverse-scaling/redefine-math', 'metaeval/puzzte', 'metaeval/implicatures', 'race', 'metaeval/race-c', 'metaeval/spartqa-yn', 'metaeval/spartqa-mchoice', 'metaeval/temporal-nli', 'riddle_sense', 'metaeval/clcd-english', 'maximedb/twentyquestions', 'metaeval/reclor', 'metaeval/counterfactually-augmented-imdb', 'metaeval/counterfactually-augmented-snli', 'metaeval/cnli', 'metaeval/boolq-natural-perturbations', 'metaeval/acceptability-prediction', 'metaeval/equate', 'metaeval/ScienceQA_text_only', 'Jiangjie/ekar_english', 'metaeval/implicit-hate-stg1', 'metaeval/chaos-mnli-ambiguity', 'IlyaGusev/headline_cause', 'metaeval/logiqa-2.0-nli', 'tasksource/oasst2_dense_flat', 'sileod/mindgames', 'universal_dependencies', 'metaeval/ambient', 'metaeval/path-naturalness-prediction', 'civil_comments', 'AndyChiang/cloth', 'AndyChiang/dgen', 'tasksource/I2D2', 'webis/args_me', 'webis/Touche23-ValueEval', 'tasksource/starcon', 'PolyAI/banking77', 'tasksource/ConTRoL-nli', 'tasksource/tracie', 'tasksource/sherliic', 'tasksource/sen-making', 'tasksource/winowhy', 'mediabiasgroup/mbib-base', 'tasksource/robustLR', 'CLUTRR/v1', 'tasksource/logical-fallacy', 'tasksource/parade', 'tasksource/cladder', 'tasksource/subjectivity', 'tasksource/MOH', 'tasksource/VUAC', 'tasksource/TroFi', 'sharc_modified', 'tasksource/conceptrules_v2', 'metaeval/disrpt', 'conll2000', 'DFKI-SLT/few-nerd', 'nlpaueb/finer-139', 'tasksource/zero-shot-label-nli', 'tasksource/com2sense', 'tasksource/scone', 'tasksource/winodict', 'tasksource/fool-me-twice', 'tasksource/monli', 'tasksource/corr2cause', 'lighteval/lsat_qa', 'tasksource/apt', 'zeroshot/twitter-financial-news-sentiment', 'tasksource/icl-symbol-tuning-instruct', 'tasksource/SpaceNLI', 'sihaochen/propsegment', 'HannahRoseKirk/HatemojiBuild', 'tasksource/regset', 'tasksource/esci', 'lmsys/chatbot_arena_conversations', 'neurae/dnd_style_intents', 'hitachi-nlp/FLD.v2', 'tasksource/SDOH-NLI', 'allenai/scifact_entailment', 'tasksource/feasibilityQA', 'tasksource/simple_pair', 'tasksource/AdjectiveScaleProbe-nli', 'tasksource/resnli', 'tasksource/SpaRTUN', 'tasksource/ReSQ', 'tasksource/semantic_fragments_nli', 'MoritzLaurer/dataset_train_nli', 'tasksource/stepgame', 'tasksource/nlgraph', 'tasksource/oasst2_pairwise_rlhf_reward', 'tasksource/hh-rlhf', 'tasksource/ruletaker', 'qbao775/PARARULE-Plus', 'tasksource/proofwriter', 'tasksource/logical-entailment', 'tasksource/nope', 'tasksource/LogicNLI', 'kiddothe2b/contract-nli', 'AshtonIsNotHere/nli4ct_semeval2024', 'tasksource/lsat-ar', 'tasksource/lsat-rc', 'AshtonIsNotHere/biosift-nli', 'tasksource/brainteasers', 'Anthropic/persuasion', 'erbacher/AmbigNQ-clarifying-question', 'tasksource/SIGA-nli']",
         "281",
         "2024-06-03 16:19:20+00:00"
        ],
        [
         "37513",
         "text-classification",
         "665ded088b9fe471feb2676e",
         "['glue', 'super_glue', 'anli', 'metaeval/babi_nli', 'sick', 'stanfordnlp/snli', 'scitail', 'hans', 'alisawuffles/WANLI', 'metaeval/recast', 'sileod/probability_words_nli', 'joey234/nan-nli', 'pietrolesci/nli_fever', 'pietrolesci/breaking_nli', 'pietrolesci/conj_nli', 'pietrolesci/fracas', 'pietrolesci/dialogue_nli', 'pietrolesci/mpe', 'pietrolesci/dnc', 'pietrolesci/recast_white', 'pietrolesci/joci', 'pietrolesci/robust_nli', 'pietrolesci/robust_nli_is_sd', 'pietrolesci/robust_nli_li_ts', 'pietrolesci/gen_debiased_nli', 'pietrolesci/add_one_rte', 'metaeval/imppres', 'hlgd', 'paws', 'medical_questions_pairs', 'conll2003', 'Anthropic/model-written-evals', 'truthful_qa', 'nightingal3/fig-qa', 'tasksource/bigbench', 'blimp', 'cos_e', 'cosmos_qa', 'dream', 'openbookqa', 'qasc', 'quartz', 'quail', 'head_qa', 'sciq', 'social_i_qa', 'wiki_hop', 'wiqa', 'piqa', 'hellaswag', 'pkavumba/balanced-copa', '12ml/e-CARE', 'art', 'tasksource/mmlu', 'winogrande', 'codah', 'ai2_arc', 'definite_pronoun_resolution', 'swag', 'math_qa', 'metaeval/utilitarianism', 'mteb/amazon_counterfactual', 'SetFit/insincere-questions', 'SetFit/toxic_conversations', 'turingbench/TuringBench', 'trec', 'tals/vitaminc', 'hope_edi', 'strombergnlp/rumoureval_2019', 'ethos', 'tweet_eval', 'discovery', 'pragmeval', 'silicone', 'lex_glue', 'papluca/language-identification', 'imdb', 'rotten_tomatoes', 'ag_news', 'yelp_review_full', 'financial_phrasebank', 'poem_sentiment', 'dbpedia_14', 'amazon_polarity', 'app_reviews', 'hate_speech18', 'sms_spam', 'humicroedit', 'snips_built_in_intents', 'hate_speech_offensive', 'yahoo_answers_topics', 'pacovaldez/stackoverflow-questions', 'zapsdcn/hyperpartisan_news', 'zapsdcn/sciie', 'zapsdcn/citation_intent', 'go_emotions', 'allenai/scicite', 'liar', 'relbert/lexical_relation_classification', 'tasksource/crowdflower', 'metaeval/ethics', 'emo', 'google_wellformed_query', 'tweets_hate_speech_detection', 'has_part', 'wnut_17', 'ncbi_disease', 'acronym_identification', 'jnlpba', 'SpeedOfMagic/ontonotes_english', 'blog_authorship_corpus', 'launch/open_question_type', 'health_fact', 'commonsense_qa', 'mc_taco', 'ade_corpus_v2', 'prajjwal1/discosense', 'circa', 'PiC/phrase_similarity', 'copenlu/scientific-exaggeration-detection', 'quarel', 'mwong/fever-evidence-related', 'numer_sense', 'dynabench/dynasent', 'raquiba/Sarcasm_News_Headline', 'sem_eval_2010_task_8', 'demo-org/auditor_review', 'medmcqa', 'RuyuanWan/Dynasent_Disagreement', 'RuyuanWan/Politeness_Disagreement', 'RuyuanWan/SBIC_Disagreement', 'RuyuanWan/SChem_Disagreement', 'RuyuanWan/Dilemmas_Disagreement', 'lucasmccabe/logiqa', 'wiki_qa', 'metaeval/cycic_classification', 'metaeval/cycic_multiplechoice', 'metaeval/sts-companion', 'metaeval/commonsense_qa_2.0', 'metaeval/lingnli', 'metaeval/monotonicity-entailment', 'metaeval/arct', 'metaeval/scinli', 'metaeval/naturallogic', 'onestop_qa', 'demelin/moral_stories', 'corypaik/prost', 'aps/dynahate', 'metaeval/syntactic-augmentation-nli', 'metaeval/autotnli', 'lasha-nlp/CONDAQA', 'openai/webgpt_comparisons', 'Dahoas/synthetic-instruct-gptj-pairwise', 'metaeval/scruples', 'metaeval/wouldyourather', 'metaeval/defeasible-nli', 'metaeval/help-nli', 'metaeval/nli-veridicality-transitivity', 'metaeval/natural-language-satisfiability', 'metaeval/lonli', 'metaeval/dadc-limit-nli', 'ColumbiaNLP/FLUTE', 'metaeval/strategy-qa', 'openai/summarize_from_feedback', 'tasksource/folio', 'metaeval/tomi-nli', 'metaeval/avicenna', 'stanfordnlp/SHP', 'GBaker/MedQA-USMLE-4-options-hf', 'sileod/wikimedqa', 'declare-lab/cicero', 'amydeng2000/CREAK', 'metaeval/mutual', 'inverse-scaling/NeQA', 'inverse-scaling/quote-repetition', 'inverse-scaling/redefine-math', 'metaeval/puzzte', 'metaeval/implicatures', 'race', 'metaeval/race-c', 'metaeval/spartqa-yn', 'metaeval/spartqa-mchoice', 'metaeval/temporal-nli', 'riddle_sense', 'metaeval/clcd-english', 'maximedb/twentyquestions', 'metaeval/reclor', 'metaeval/counterfactually-augmented-imdb', 'metaeval/counterfactually-augmented-snli', 'metaeval/cnli', 'metaeval/boolq-natural-perturbations', 'metaeval/acceptability-prediction', 'metaeval/equate', 'metaeval/ScienceQA_text_only', 'Jiangjie/ekar_english', 'metaeval/implicit-hate-stg1', 'metaeval/chaos-mnli-ambiguity', 'IlyaGusev/headline_cause', 'metaeval/logiqa-2.0-nli', 'tasksource/oasst2_dense_flat', 'sileod/mindgames', 'universal_dependencies', 'metaeval/ambient', 'metaeval/path-naturalness-prediction', 'civil_comments', 'AndyChiang/cloth', 'AndyChiang/dgen', 'tasksource/I2D2', 'webis/args_me', 'webis/Touche23-ValueEval', 'tasksource/starcon', 'PolyAI/banking77', 'tasksource/ConTRoL-nli', 'tasksource/tracie', 'tasksource/sherliic', 'tasksource/sen-making', 'tasksource/winowhy', 'mediabiasgroup/mbib-base', 'tasksource/robustLR', 'CLUTRR/v1', 'tasksource/logical-fallacy', 'tasksource/parade', 'tasksource/cladder', 'tasksource/subjectivity', 'tasksource/MOH', 'tasksource/VUAC', 'tasksource/TroFi', 'sharc_modified', 'tasksource/conceptrules_v2', 'metaeval/disrpt', 'conll2000', 'DFKI-SLT/few-nerd', 'nlpaueb/finer-139', 'tasksource/zero-shot-label-nli', 'tasksource/com2sense', 'tasksource/scone', 'tasksource/winodict', 'tasksource/fool-me-twice', 'tasksource/monli', 'tasksource/corr2cause', 'lighteval/lsat_qa', 'tasksource/apt', 'zeroshot/twitter-financial-news-sentiment', 'tasksource/icl-symbol-tuning-instruct', 'tasksource/SpaceNLI', 'sihaochen/propsegment', 'HannahRoseKirk/HatemojiBuild', 'tasksource/regset', 'tasksource/esci', 'lmsys/chatbot_arena_conversations', 'neurae/dnd_style_intents', 'hitachi-nlp/FLD.v2', 'tasksource/SDOH-NLI', 'allenai/scifact_entailment', 'tasksource/feasibilityQA', 'tasksource/simple_pair', 'tasksource/AdjectiveScaleProbe-nli', 'tasksource/resnli', 'tasksource/SpaRTUN', 'tasksource/ReSQ', 'tasksource/semantic_fragments_nli', 'MoritzLaurer/dataset_train_nli', 'tasksource/stepgame', 'tasksource/nlgraph', 'tasksource/oasst2_pairwise_rlhf_reward', 'tasksource/hh-rlhf', 'tasksource/ruletaker', 'qbao775/PARARULE-Plus', 'tasksource/proofwriter', 'tasksource/logical-entailment', 'tasksource/nope', 'tasksource/LogicNLI', 'kiddothe2b/contract-nli', 'AshtonIsNotHere/nli4ct_semeval2024', 'tasksource/lsat-ar', 'tasksource/lsat-rc', 'AshtonIsNotHere/biosift-nli', 'tasksource/brainteasers', 'Anthropic/persuasion', 'erbacher/AmbigNQ-clarifying-question', 'tasksource/SIGA-nli']",
         "281",
         "2024-06-03 16:19:20+00:00"
        ],
        [
         "43364",
         "text-classification",
         "63c160ea94b28327f0e89c2c",
         "['glue', 'nyu-mll/multi_nli', 'multi_nli', 'super_glue', 'anli', 'tasksource/babi_nli', 'sick', 'snli', 'scitail', 'OpenAssistant/oasst1', 'universal_dependencies', 'hans', 'qbao775/PARARULE-Plus', 'alisawuffles/WANLI', 'metaeval/recast', 'sileod/probability_words_nli', 'joey234/nan-nli', 'pietrolesci/nli_fever', 'pietrolesci/breaking_nli', 'pietrolesci/conj_nli', 'pietrolesci/fracas', 'pietrolesci/dialogue_nli', 'pietrolesci/mpe', 'pietrolesci/dnc', 'pietrolesci/gpt3_nli', 'pietrolesci/recast_white', 'pietrolesci/joci', 'martn-nguyen/contrast_nli', 'pietrolesci/robust_nli', 'pietrolesci/robust_nli_is_sd', 'pietrolesci/robust_nli_li_ts', 'pietrolesci/gen_debiased_nli', 'pietrolesci/add_one_rte', 'metaeval/imppres', 'pietrolesci/glue_diagnostics', 'hlgd', 'PolyAI/banking77', 'paws', 'quora', 'medical_questions_pairs', 'conll2003', 'nlpaueb/finer-139', 'Anthropic/hh-rlhf', 'Anthropic/model-written-evals', 'truthful_qa', 'nightingal3/fig-qa', 'tasksource/bigbench', 'blimp', 'cos_e', 'cosmos_qa', 'dream', 'openbookqa', 'qasc', 'quartz', 'quail', 'head_qa', 'sciq', 'social_i_qa', 'wiki_hop', 'wiqa', 'piqa', 'hellaswag', 'pkavumba/balanced-copa', '12ml/e-CARE', 'art', 'tasksource/mmlu', 'winogrande', 'codah', 'ai2_arc', 'definite_pronoun_resolution', 'swag', 'math_qa', 'metaeval/utilitarianism', 'mteb/amazon_counterfactual', 'SetFit/insincere-questions', 'SetFit/toxic_conversations', 'turingbench/TuringBench', 'trec', 'tals/vitaminc', 'hope_edi', 'strombergnlp/rumoureval_2019', 'ethos', 'tweet_eval', 'discovery', 'pragmeval', 'silicone', 'lex_glue', 'papluca/language-identification', 'imdb', 'rotten_tomatoes', 'ag_news', 'yelp_review_full', 'financial_phrasebank', 'poem_sentiment', 'dbpedia_14', 'amazon_polarity', 'app_reviews', 'hate_speech18', 'sms_spam', 'humicroedit', 'snips_built_in_intents', 'banking77', 'hate_speech_offensive', 'yahoo_answers_topics', 'pacovaldez/stackoverflow-questions', 'zapsdcn/hyperpartisan_news', 'zapsdcn/sciie', 'zapsdcn/citation_intent', 'go_emotions', 'allenai/scicite', 'liar', 'relbert/lexical_relation_classification', 'metaeval/linguisticprobing', 'tasksource/crowdflower', 'metaeval/ethics', 'emo', 'google_wellformed_query', 'tweets_hate_speech_detection', 'has_part', 'wnut_17', 'ncbi_disease', 'acronym_identification', 'jnlpba', 'species_800', 'SpeedOfMagic/ontonotes_english', 'blog_authorship_corpus', 'launch/open_question_type', 'health_fact', 'commonsense_qa', 'mc_taco', 'ade_corpus_v2', 'prajjwal1/discosense', 'circa', 'PiC/phrase_similarity', 'copenlu/scientific-exaggeration-detection', 'quarel', 'mwong/fever-evidence-related', 'numer_sense', 'dynabench/dynasent', 'raquiba/Sarcasm_News_Headline', 'sem_eval_2010_task_8', 'demo-org/auditor_review', 'medmcqa', 'aqua_rat', 'RuyuanWan/Dynasent_Disagreement', 'RuyuanWan/Politeness_Disagreement', 'RuyuanWan/SBIC_Disagreement', 'RuyuanWan/SChem_Disagreement', 'RuyuanWan/Dilemmas_Disagreement', 'lucasmccabe/logiqa', 'wiki_qa', 'metaeval/cycic_classification', 'metaeval/cycic_multiplechoice', 'metaeval/sts-companion', 'metaeval/commonsense_qa_2.0', 'metaeval/lingnli', 'metaeval/monotonicity-entailment', 'metaeval/arct', 'metaeval/scinli', 'metaeval/naturallogic', 'onestop_qa', 'demelin/moral_stories', 'corypaik/prost', 'aps/dynahate', 'metaeval/syntactic-augmentation-nli', 'metaeval/autotnli', 'lasha-nlp/CONDAQA', 'openai/webgpt_comparisons', 'Dahoas/synthetic-instruct-gptj-pairwise', 'metaeval/scruples', 'metaeval/wouldyourather', 'sileod/attempto-nli', 'metaeval/defeasible-nli', 'metaeval/help-nli', 'metaeval/nli-veridicality-transitivity', 'metaeval/natural-language-satisfiability', 'metaeval/lonli', 'tasksource/dadc-limit-nli', 'ColumbiaNLP/FLUTE', 'metaeval/strategy-qa', 'openai/summarize_from_feedback', 'tasksource/folio', 'metaeval/tomi-nli', 'metaeval/avicenna', 'stanfordnlp/SHP', 'GBaker/MedQA-USMLE-4-options-hf', 'GBaker/MedQA-USMLE-4-options', 'sileod/wikimedqa', 'declare-lab/cicero', 'amydeng2000/CREAK', 'metaeval/mutual', 'inverse-scaling/NeQA', 'inverse-scaling/quote-repetition', 'inverse-scaling/redefine-math', 'tasksource/puzzte', 'metaeval/implicatures', 'race', 'metaeval/spartqa-yn', 'metaeval/spartqa-mchoice', 'metaeval/temporal-nli', 'metaeval/ScienceQA_text_only', 'AndyChiang/cloth', 'metaeval/logiqa-2.0-nli', 'tasksource/oasst1_dense_flat', 'metaeval/boolq-natural-perturbations', 'metaeval/path-naturalness-prediction', 'riddle_sense', 'Jiangjie/ekar_english', 'metaeval/implicit-hate-stg1', 'metaeval/chaos-mnli-ambiguity', 'IlyaGusev/headline_cause', 'metaeval/race-c', 'metaeval/equate', 'metaeval/ambient', 'AndyChiang/dgen', 'metaeval/clcd-english', 'civil_comments', 'metaeval/acceptability-prediction', 'maximedb/twentyquestions', 'metaeval/counterfactually-augmented-snli', 'tasksource/I2D2', 'sileod/mindgames', 'metaeval/counterfactually-augmented-imdb', 'metaeval/cnli', 'metaeval/reclor', 'tasksource/oasst1_pairwise_rlhf_reward', 'tasksource/zero-shot-label-nli', 'webis/args_me', 'webis/Touche23-ValueEval', 'tasksource/starcon', 'tasksource/ruletaker', 'lighteval/lsat_qa', 'tasksource/ConTRoL-nli', 'tasksource/tracie', 'tasksource/sherliic', 'tasksource/sen-making', 'tasksource/winowhy', 'mediabiasgroup/mbib-base', 'tasksource/robustLR', 'CLUTRR/v1', 'tasksource/logical-fallacy', 'tasksource/parade', 'tasksource/cladder', 'tasksource/subjectivity', 'tasksource/MOH', 'tasksource/VUAC', 'tasksource/TroFi', 'sharc_modified', 'tasksource/conceptrules_v2', 'tasksource/disrpt', 'conll2000', 'DFKI-SLT/few-nerd', 'tasksource/com2sense', 'tasksource/scone', 'tasksource/winodict', 'tasksource/fool-me-twice', 'tasksource/monli', 'tasksource/corr2cause', 'tasksource/apt', 'zeroshot/twitter-financial-news-sentiment', 'tasksource/icl-symbol-tuning-instruct', 'tasksource/SpaceNLI', 'sihaochen/propsegment', 'HannahRoseKirk/HatemojiBuild', 'tasksource/regset', 'tasksource/babi_nli', 'lmsys/chatbot_arena_conversations', 'tasksource/nlgraph']",
         "268",
         "2023-01-13 13:47:22+00:00"
        ],
        [
         "32891",
         "zero-shot-classification",
         "63c160ea94b28327f0e89c2c",
         "['glue', 'nyu-mll/multi_nli', 'multi_nli', 'super_glue', 'anli', 'tasksource/babi_nli', 'sick', 'snli', 'scitail', 'OpenAssistant/oasst1', 'universal_dependencies', 'hans', 'qbao775/PARARULE-Plus', 'alisawuffles/WANLI', 'metaeval/recast', 'sileod/probability_words_nli', 'joey234/nan-nli', 'pietrolesci/nli_fever', 'pietrolesci/breaking_nli', 'pietrolesci/conj_nli', 'pietrolesci/fracas', 'pietrolesci/dialogue_nli', 'pietrolesci/mpe', 'pietrolesci/dnc', 'pietrolesci/gpt3_nli', 'pietrolesci/recast_white', 'pietrolesci/joci', 'martn-nguyen/contrast_nli', 'pietrolesci/robust_nli', 'pietrolesci/robust_nli_is_sd', 'pietrolesci/robust_nli_li_ts', 'pietrolesci/gen_debiased_nli', 'pietrolesci/add_one_rte', 'metaeval/imppres', 'pietrolesci/glue_diagnostics', 'hlgd', 'PolyAI/banking77', 'paws', 'quora', 'medical_questions_pairs', 'conll2003', 'nlpaueb/finer-139', 'Anthropic/hh-rlhf', 'Anthropic/model-written-evals', 'truthful_qa', 'nightingal3/fig-qa', 'tasksource/bigbench', 'blimp', 'cos_e', 'cosmos_qa', 'dream', 'openbookqa', 'qasc', 'quartz', 'quail', 'head_qa', 'sciq', 'social_i_qa', 'wiki_hop', 'wiqa', 'piqa', 'hellaswag', 'pkavumba/balanced-copa', '12ml/e-CARE', 'art', 'tasksource/mmlu', 'winogrande', 'codah', 'ai2_arc', 'definite_pronoun_resolution', 'swag', 'math_qa', 'metaeval/utilitarianism', 'mteb/amazon_counterfactual', 'SetFit/insincere-questions', 'SetFit/toxic_conversations', 'turingbench/TuringBench', 'trec', 'tals/vitaminc', 'hope_edi', 'strombergnlp/rumoureval_2019', 'ethos', 'tweet_eval', 'discovery', 'pragmeval', 'silicone', 'lex_glue', 'papluca/language-identification', 'imdb', 'rotten_tomatoes', 'ag_news', 'yelp_review_full', 'financial_phrasebank', 'poem_sentiment', 'dbpedia_14', 'amazon_polarity', 'app_reviews', 'hate_speech18', 'sms_spam', 'humicroedit', 'snips_built_in_intents', 'banking77', 'hate_speech_offensive', 'yahoo_answers_topics', 'pacovaldez/stackoverflow-questions', 'zapsdcn/hyperpartisan_news', 'zapsdcn/sciie', 'zapsdcn/citation_intent', 'go_emotions', 'allenai/scicite', 'liar', 'relbert/lexical_relation_classification', 'metaeval/linguisticprobing', 'tasksource/crowdflower', 'metaeval/ethics', 'emo', 'google_wellformed_query', 'tweets_hate_speech_detection', 'has_part', 'wnut_17', 'ncbi_disease', 'acronym_identification', 'jnlpba', 'species_800', 'SpeedOfMagic/ontonotes_english', 'blog_authorship_corpus', 'launch/open_question_type', 'health_fact', 'commonsense_qa', 'mc_taco', 'ade_corpus_v2', 'prajjwal1/discosense', 'circa', 'PiC/phrase_similarity', 'copenlu/scientific-exaggeration-detection', 'quarel', 'mwong/fever-evidence-related', 'numer_sense', 'dynabench/dynasent', 'raquiba/Sarcasm_News_Headline', 'sem_eval_2010_task_8', 'demo-org/auditor_review', 'medmcqa', 'aqua_rat', 'RuyuanWan/Dynasent_Disagreement', 'RuyuanWan/Politeness_Disagreement', 'RuyuanWan/SBIC_Disagreement', 'RuyuanWan/SChem_Disagreement', 'RuyuanWan/Dilemmas_Disagreement', 'lucasmccabe/logiqa', 'wiki_qa', 'metaeval/cycic_classification', 'metaeval/cycic_multiplechoice', 'metaeval/sts-companion', 'metaeval/commonsense_qa_2.0', 'metaeval/lingnli', 'metaeval/monotonicity-entailment', 'metaeval/arct', 'metaeval/scinli', 'metaeval/naturallogic', 'onestop_qa', 'demelin/moral_stories', 'corypaik/prost', 'aps/dynahate', 'metaeval/syntactic-augmentation-nli', 'metaeval/autotnli', 'lasha-nlp/CONDAQA', 'openai/webgpt_comparisons', 'Dahoas/synthetic-instruct-gptj-pairwise', 'metaeval/scruples', 'metaeval/wouldyourather', 'sileod/attempto-nli', 'metaeval/defeasible-nli', 'metaeval/help-nli', 'metaeval/nli-veridicality-transitivity', 'metaeval/natural-language-satisfiability', 'metaeval/lonli', 'tasksource/dadc-limit-nli', 'ColumbiaNLP/FLUTE', 'metaeval/strategy-qa', 'openai/summarize_from_feedback', 'tasksource/folio', 'metaeval/tomi-nli', 'metaeval/avicenna', 'stanfordnlp/SHP', 'GBaker/MedQA-USMLE-4-options-hf', 'GBaker/MedQA-USMLE-4-options', 'sileod/wikimedqa', 'declare-lab/cicero', 'amydeng2000/CREAK', 'metaeval/mutual', 'inverse-scaling/NeQA', 'inverse-scaling/quote-repetition', 'inverse-scaling/redefine-math', 'tasksource/puzzte', 'metaeval/implicatures', 'race', 'metaeval/spartqa-yn', 'metaeval/spartqa-mchoice', 'metaeval/temporal-nli', 'metaeval/ScienceQA_text_only', 'AndyChiang/cloth', 'metaeval/logiqa-2.0-nli', 'tasksource/oasst1_dense_flat', 'metaeval/boolq-natural-perturbations', 'metaeval/path-naturalness-prediction', 'riddle_sense', 'Jiangjie/ekar_english', 'metaeval/implicit-hate-stg1', 'metaeval/chaos-mnli-ambiguity', 'IlyaGusev/headline_cause', 'metaeval/race-c', 'metaeval/equate', 'metaeval/ambient', 'AndyChiang/dgen', 'metaeval/clcd-english', 'civil_comments', 'metaeval/acceptability-prediction', 'maximedb/twentyquestions', 'metaeval/counterfactually-augmented-snli', 'tasksource/I2D2', 'sileod/mindgames', 'metaeval/counterfactually-augmented-imdb', 'metaeval/cnli', 'metaeval/reclor', 'tasksource/oasst1_pairwise_rlhf_reward', 'tasksource/zero-shot-label-nli', 'webis/args_me', 'webis/Touche23-ValueEval', 'tasksource/starcon', 'tasksource/ruletaker', 'lighteval/lsat_qa', 'tasksource/ConTRoL-nli', 'tasksource/tracie', 'tasksource/sherliic', 'tasksource/sen-making', 'tasksource/winowhy', 'mediabiasgroup/mbib-base', 'tasksource/robustLR', 'CLUTRR/v1', 'tasksource/logical-fallacy', 'tasksource/parade', 'tasksource/cladder', 'tasksource/subjectivity', 'tasksource/MOH', 'tasksource/VUAC', 'tasksource/TroFi', 'sharc_modified', 'tasksource/conceptrules_v2', 'tasksource/disrpt', 'conll2000', 'DFKI-SLT/few-nerd', 'tasksource/com2sense', 'tasksource/scone', 'tasksource/winodict', 'tasksource/fool-me-twice', 'tasksource/monli', 'tasksource/corr2cause', 'tasksource/apt', 'zeroshot/twitter-financial-news-sentiment', 'tasksource/icl-symbol-tuning-instruct', 'tasksource/SpaceNLI', 'sihaochen/propsegment', 'HannahRoseKirk/HatemojiBuild', 'tasksource/regset', 'tasksource/babi_nli', 'lmsys/chatbot_arena_conversations', 'tasksource/nlgraph']",
         "268",
         "2023-01-13 13:47:22+00:00"
        ],
        [
         "44629",
         "text-classification",
         "6421582194fb039f53684d57",
         "['glue', 'super_glue', 'anli', 'metaeval/babi_nli', 'sick', 'snli', 'scitail', 'hans', 'alisawuffles/WANLI', 'metaeval/recast', 'sileod/probability_words_nli', 'joey234/nan-nli', 'pietrolesci/nli_fever', 'pietrolesci/breaking_nli', 'pietrolesci/conj_nli', 'pietrolesci/fracas', 'pietrolesci/dialogue_nli', 'pietrolesci/mpe', 'pietrolesci/dnc', 'pietrolesci/gpt3_nli', 'pietrolesci/recast_white', 'pietrolesci/joci', 'martn-nguyen/contrast_nli', 'pietrolesci/robust_nli', 'pietrolesci/robust_nli_is_sd', 'pietrolesci/robust_nli_li_ts', 'pietrolesci/gen_debiased_nli', 'pietrolesci/add_one_rte', 'metaeval/imppres', 'pietrolesci/glue_diagnostics', 'hlgd', 'paws', 'quora', 'medical_questions_pairs', 'conll2003', 'Anthropic/hh-rlhf', 'Anthropic/model-written-evals', 'truthful_qa', 'nightingal3/fig-qa', 'tasksource/bigbench', 'bigbench', 'blimp', 'cos_e', 'cosmos_qa', 'dream', 'openbookqa', 'qasc', 'quartz', 'quail', 'head_qa', 'sciq', 'social_i_qa', 'wiki_hop', 'wiqa', 'piqa', 'hellaswag', 'pkavumba/balanced-copa', '12ml/e-CARE', 'art', 'tasksource/mmlu', 'winogrande', 'codah', 'ai2_arc', 'definite_pronoun_resolution', 'swag', 'math_qa', 'metaeval/utilitarianism', 'mteb/amazon_counterfactual', 'SetFit/insincere-questions', 'SetFit/toxic_conversations', 'turingbench/TuringBench', 'trec', 'tals/vitaminc', 'hope_edi', 'strombergnlp/rumoureval_2019', 'ethos', 'tweet_eval', 'discovery', 'pragmeval', 'silicone', 'lex_glue', 'papluca/language-identification', 'imdb', 'rotten_tomatoes', 'ag_news', 'yelp_review_full', 'financial_phrasebank', 'poem_sentiment', 'dbpedia_14', 'amazon_polarity', 'app_reviews', 'hate_speech18', 'sms_spam', 'humicroedit', 'snips_built_in_intents', 'banking77', 'hate_speech_offensive', 'yahoo_answers_topics', 'pacovaldez/stackoverflow-questions', 'zapsdcn/hyperpartisan_news', 'zapsdcn/sciie', 'zapsdcn/citation_intent', 'go_emotions', 'scicite', 'liar', 'relbert/lexical_relation_classification', 'metaeval/linguisticprobing', 'metaeval/crowdflower', 'metaeval/ethics', 'emo', 'google_wellformed_query', 'tweets_hate_speech_detection', 'has_part', 'wnut_17', 'ncbi_disease', 'acronym_identification', 'jnlpba', 'species_800', 'SpeedOfMagic/ontonotes_english', 'blog_authorship_corpus', 'launch/open_question_type', 'health_fact', 'commonsense_qa', 'mc_taco', 'ade_corpus_v2', 'prajjwal1/discosense', 'circa', 'YaHi/EffectiveFeedbackStudentWriting', 'Ericwang/promptSentiment', 'Ericwang/promptNLI', 'Ericwang/promptSpoke', 'Ericwang/promptProficiency', 'Ericwang/promptGrammar', 'Ericwang/promptCoherence', 'PiC/phrase_similarity', 'copenlu/scientific-exaggeration-detection', 'quarel', 'mwong/fever-evidence-related', 'numer_sense', 'dynabench/dynasent', 'raquiba/Sarcasm_News_Headline', 'sem_eval_2010_task_8', 'demo-org/auditor_review', 'medmcqa', 'aqua_rat', 'RuyuanWan/Dynasent_Disagreement', 'RuyuanWan/Politeness_Disagreement', 'RuyuanWan/SBIC_Disagreement', 'RuyuanWan/SChem_Disagreement', 'RuyuanWan/Dilemmas_Disagreement', 'lucasmccabe/logiqa', 'wiki_qa', 'metaeval/cycic_classification', 'metaeval/cycic_multiplechoice', 'metaeval/sts-companion', 'metaeval/commonsense_qa_2.0', 'metaeval/lingnli', 'metaeval/monotonicity-entailment', 'metaeval/arct', 'metaeval/scinli', 'metaeval/naturallogic', 'onestop_qa', 'demelin/moral_stories', 'corypaik/prost', 'aps/dynahate', 'metaeval/syntactic-augmentation-nli', 'metaeval/autotnli', 'lasha-nlp/CONDAQA', 'openai/webgpt_comparisons', 'Dahoas/synthetic-instruct-gptj-pairwise', 'metaeval/scruples', 'metaeval/wouldyourather', 'sileod/attempto-nli', 'metaeval/defeasible-nli', 'metaeval/help-nli', 'metaeval/nli-veridicality-transitivity', 'metaeval/natural-language-satisfiability', 'metaeval/lonli', 'metaeval/dadc-limit-nli', 'ColumbiaNLP/FLUTE', 'metaeval/strategy-qa', 'openai/summarize_from_feedback', 'metaeval/folio', 'metaeval/tomi-nli', 'metaeval/avicenna', 'stanfordnlp/SHP', 'GBaker/MedQA-USMLE-4-options-hf', 'sileod/wikimedqa', 'declare-lab/cicero', 'amydeng2000/CREAK', 'metaeval/mutual', 'inverse-scaling/NeQA', 'inverse-scaling/quote-repetition', 'inverse-scaling/redefine-math', 'metaeval/puzzte', 'metaeval/implicatures', 'race', 'metaeval/spartqa-yn', 'metaeval/spartqa-mchoice', 'metaeval/temporal-nli']",
         "200",
         "2023-03-27 08:47:29+00:00"
        ],
        [
         "32924",
         "zero-shot-classification",
         "6421582194fb039f53684d57",
         "['glue', 'super_glue', 'anli', 'metaeval/babi_nli', 'sick', 'snli', 'scitail', 'hans', 'alisawuffles/WANLI', 'metaeval/recast', 'sileod/probability_words_nli', 'joey234/nan-nli', 'pietrolesci/nli_fever', 'pietrolesci/breaking_nli', 'pietrolesci/conj_nli', 'pietrolesci/fracas', 'pietrolesci/dialogue_nli', 'pietrolesci/mpe', 'pietrolesci/dnc', 'pietrolesci/gpt3_nli', 'pietrolesci/recast_white', 'pietrolesci/joci', 'martn-nguyen/contrast_nli', 'pietrolesci/robust_nli', 'pietrolesci/robust_nli_is_sd', 'pietrolesci/robust_nli_li_ts', 'pietrolesci/gen_debiased_nli', 'pietrolesci/add_one_rte', 'metaeval/imppres', 'pietrolesci/glue_diagnostics', 'hlgd', 'paws', 'quora', 'medical_questions_pairs', 'conll2003', 'Anthropic/hh-rlhf', 'Anthropic/model-written-evals', 'truthful_qa', 'nightingal3/fig-qa', 'tasksource/bigbench', 'bigbench', 'blimp', 'cos_e', 'cosmos_qa', 'dream', 'openbookqa', 'qasc', 'quartz', 'quail', 'head_qa', 'sciq', 'social_i_qa', 'wiki_hop', 'wiqa', 'piqa', 'hellaswag', 'pkavumba/balanced-copa', '12ml/e-CARE', 'art', 'tasksource/mmlu', 'winogrande', 'codah', 'ai2_arc', 'definite_pronoun_resolution', 'swag', 'math_qa', 'metaeval/utilitarianism', 'mteb/amazon_counterfactual', 'SetFit/insincere-questions', 'SetFit/toxic_conversations', 'turingbench/TuringBench', 'trec', 'tals/vitaminc', 'hope_edi', 'strombergnlp/rumoureval_2019', 'ethos', 'tweet_eval', 'discovery', 'pragmeval', 'silicone', 'lex_glue', 'papluca/language-identification', 'imdb', 'rotten_tomatoes', 'ag_news', 'yelp_review_full', 'financial_phrasebank', 'poem_sentiment', 'dbpedia_14', 'amazon_polarity', 'app_reviews', 'hate_speech18', 'sms_spam', 'humicroedit', 'snips_built_in_intents', 'banking77', 'hate_speech_offensive', 'yahoo_answers_topics', 'pacovaldez/stackoverflow-questions', 'zapsdcn/hyperpartisan_news', 'zapsdcn/sciie', 'zapsdcn/citation_intent', 'go_emotions', 'scicite', 'liar', 'relbert/lexical_relation_classification', 'metaeval/linguisticprobing', 'metaeval/crowdflower', 'metaeval/ethics', 'emo', 'google_wellformed_query', 'tweets_hate_speech_detection', 'has_part', 'wnut_17', 'ncbi_disease', 'acronym_identification', 'jnlpba', 'species_800', 'SpeedOfMagic/ontonotes_english', 'blog_authorship_corpus', 'launch/open_question_type', 'health_fact', 'commonsense_qa', 'mc_taco', 'ade_corpus_v2', 'prajjwal1/discosense', 'circa', 'YaHi/EffectiveFeedbackStudentWriting', 'Ericwang/promptSentiment', 'Ericwang/promptNLI', 'Ericwang/promptSpoke', 'Ericwang/promptProficiency', 'Ericwang/promptGrammar', 'Ericwang/promptCoherence', 'PiC/phrase_similarity', 'copenlu/scientific-exaggeration-detection', 'quarel', 'mwong/fever-evidence-related', 'numer_sense', 'dynabench/dynasent', 'raquiba/Sarcasm_News_Headline', 'sem_eval_2010_task_8', 'demo-org/auditor_review', 'medmcqa', 'aqua_rat', 'RuyuanWan/Dynasent_Disagreement', 'RuyuanWan/Politeness_Disagreement', 'RuyuanWan/SBIC_Disagreement', 'RuyuanWan/SChem_Disagreement', 'RuyuanWan/Dilemmas_Disagreement', 'lucasmccabe/logiqa', 'wiki_qa', 'metaeval/cycic_classification', 'metaeval/cycic_multiplechoice', 'metaeval/sts-companion', 'metaeval/commonsense_qa_2.0', 'metaeval/lingnli', 'metaeval/monotonicity-entailment', 'metaeval/arct', 'metaeval/scinli', 'metaeval/naturallogic', 'onestop_qa', 'demelin/moral_stories', 'corypaik/prost', 'aps/dynahate', 'metaeval/syntactic-augmentation-nli', 'metaeval/autotnli', 'lasha-nlp/CONDAQA', 'openai/webgpt_comparisons', 'Dahoas/synthetic-instruct-gptj-pairwise', 'metaeval/scruples', 'metaeval/wouldyourather', 'sileod/attempto-nli', 'metaeval/defeasible-nli', 'metaeval/help-nli', 'metaeval/nli-veridicality-transitivity', 'metaeval/natural-language-satisfiability', 'metaeval/lonli', 'metaeval/dadc-limit-nli', 'ColumbiaNLP/FLUTE', 'metaeval/strategy-qa', 'openai/summarize_from_feedback', 'metaeval/folio', 'metaeval/tomi-nli', 'metaeval/avicenna', 'stanfordnlp/SHP', 'GBaker/MedQA-USMLE-4-options-hf', 'sileod/wikimedqa', 'declare-lab/cicero', 'amydeng2000/CREAK', 'metaeval/mutual', 'inverse-scaling/NeQA', 'inverse-scaling/quote-repetition', 'inverse-scaling/redefine-math', 'metaeval/puzzte', 'metaeval/implicatures', 'race', 'metaeval/spartqa-yn', 'metaeval/spartqa-mchoice', 'metaeval/temporal-nli']",
         "200",
         "2023-03-27 08:47:29+00:00"
        ],
        [
         "23949",
         "text-generation",
         "64bddf98f8f28a19b0d82a1f",
         "['irds/codesearchnet', 'giganticode/java-cmpx-v1', 'nickrosh/Evol-Instruct-Code-80k-v1', 'bigcode/starcoderdata', 'bigcode/the-stack', 'bigcode/the-stack-smol', 'Cdaprod/AI-Developer-Prompts', 'code_x_glue_ct_code_to_text', 'codeparrot/github-code', 'codeparrot/github-code-clean', 'code_x_glue_cc_code_completion_line', 'autoevaluate/autoeval-eval-jeffdshen__inverse_superglue_mixedp1-jeffdshen__inverse-63643c-1665558893', 'bentrevett/multi30k', 'edbeeching/decision_transformer_gym_replay', 'psyche/common_crawl', 'Birchlabs/openai-prm800k-solutions-only', 'openchat/openchat_sharegpt4_dataset', 'Open-Orca/OpenOrca', 'cjvt/slownet', 'para_crawl', 'zeroshot/twitter-financial-news-sentiment', 'laugustyniak/political-advertising-pl', 'code_search_net', 'sukaka/novelai-webui', 'P1ayer-1/chatgpt-conversations-chatlogs.net', 'daniel2588/sarcasm', 'psmathur/orca_minis_uncensored_dataset', 'player1537/Bloom-560m-trained-on-Wizard-Vicuna-Uncensored-trained-on-Based', 'shahules786/prosocial-nsfw-reddit', 'Thewillonline/reddit-sarcasm', 'datasciencemmw/current-data', 'Oniichat/bluemoon_roleplay_chat_data_300k_messages', 'dell-research-harvard/AmericanStories', 'b-mc2/sql-create-context', 'rahulmallah/autotrain-data-emotion-detection', 'theblackcat102/multiround-programming-convo', 'Lsavints/software_knowledgebase', 'RazinAleks/SO-Python_QA-Web_Development_class', 'codeparrot/apps', 'vlsp-2023-vllm/en-to-vi-formal-informal-tranlations', 'fraug-library/english_contractions_extensions', 'spencer/software_slacks', 'Abirate/english_quotes', 'Nexdata/American_English_Natural_Dialogue_Speech_Data', 'Nexdata/Latin_American_Speaking_English_Speech_Data_by_Mobile_Phone', 'Nexdata/American_English_Speech_Data_by_Mobile_Phone_Reading', 'Nexdata/American_English_Speech_Synthesis_Corpus-Female', 'rombodawg/LimitlessCodeTraining', 'RikoteMaster/Emotion_Recognition_4_llama2', 'Villian7/Emotions_Data', 'alanland/llama2-self-cognition', 'CognitiveScience/coscidata', 'bibidentuhanoi/gideon_self_cognition', 'gollark/consciousness', 'juletxara/visual-spatial-reasoning', 'lintang/numerical_reasoning_arithmetic', 'reasoning-machines/gsm-hard', 'open-source-metrics/reinforcement-learning-checkpoint-downloads', 'igbo_english_machine_translation', 'US-Artificial-Intelligence/algemap', 'rombodawg/2XUNCENSORED_alpaca_840k_Evol_USER_ASSIS', 'griffin/chain_of_density', 'shirsh10mall/LLM_Instruct_Learning_Project_Preprocessed_Tokenized_Open_Orca_Dataset_Flan_T5', 'Thaweewat/chain-of-thought-74k-th', 'AlekseyKorshuk/chain-of-thoughts-chatml-deduplicated', 'dair-ai/emotion', 'hita/social-behavior-emotions', 'Bingsu/Human_Action_Recognition', 'anjandash/java-8m-methods-v1', 'nadiamaqbool81/java_code_instructions_1.178k_alpaca', 'DavidMOBrien/8000-java', 'rombodawg/LimitlessCodeTraining_1k-Python-Javascript_GuanacoFormat', 'angie-chen55/javascript-github-code', 'kye/all-lucidrain-python-3', 'Fraser/python-state-changes', 'ammarnasr/the-stack-ruby-clean', 'ammarnasr/the-stack-rust-clean', 'seyyedaliayati/solidity-dataset', 'jkhedri/psychology-dataset', 'KonradSzafer/stackoverflow_linux', 'vikp/textbook_quality_programming', 'rombodawg/LosslessMegaCodeTrainingV3_MINI', 'BelleGroup/multiturn_chat_0.8M', 'smangrul/code-chat-assistant-v1', 'goendalf666/sales-textbook_for_convincing_and_selling', 'readerbench/ConversationalAgent-Ro', 'beurkinger/autotrain-data-human-action-recognition', 'jpwahle/autoencoder-paraphrase-dataset', 'jpwahle/autoregressive-paraphrase-dataset', 'teknium/GPT4-LLM-Cleaned', 'Anthropic/model-written-evals', 'openai_humaneval', 'kye/all-google-ai-python-code', 'kye/all-openai-github-code', 'EleutherAI/lambada_openai', 'CShorten/ML-ArXiv-Papers', 'WaltonFuture/InstructionGPT-4', 'open-llm-leaderboard/details_AIDC-ai-business__Marcoroni-70B', 'seansullivan/INT-Business-Syllabus', 'theoldmandthesea/17k_business_book', 'SunRise228/business-doc', 'gauravshrm211/VC-startup-evaluation-for-investment', 'TuningAI/Startups_V1', 'TuningAI/Startups_V2', 'AdiOO7/llama-2-finance', 'scillm/scientific_papers', 'gokuls/wiki_book_corpus_complete_processed_bert_dataset', 'the_pile_books3', 'go_emotions', 'yizhongw/self_instruct', 'codeparrot/self-instruct-starcoder', 'Amani27/massive_translation_dataset', 'huggingface/transformers-metadata', 'hf-internal-testing/transformers-metadata', 'commonsense_qa', 'nlplabtdtu/test-edu-crawl', 'kernelmachine/open-license-corpus', 'BDas/EnglishNLPDataset', 'CyberNative/github_cybersecurity_READMEs', 'thomwolf/github-python', 'CM/codexglue_code2text_java', 'autoevaluate/autoeval-staging-eval-project-glue-f16e6c43-14015917', 'lemonteaa/algorithmic-reasoning-seed', 'EmpathyFirstMedia/algolia', 'vicgalle/alpaca-gpt4', 'pariajm/sharif_emotional_speech_dataset', 'lighteval/synthetic_reasoning_natural', 'jxu124/llava_complex_reasoning_77k', 'bibidentuhanoi/gideon_self_cognition_text', 'ohilikeit/empathetic_dialogues_mutli_turn_ko', 'KevinZ/psycholinguistic_eval', 'fiveflow/psychology-dataset', 'shahidul034/text_generation_model_data', 'qwedsacf/story-generation', 'EnigmaOfTheWorld/b-mc2-sql-create-context', 'HuggingFaceH4/testing_self_instruct_small', 'RUCAIBox/Data-to-text-Generation']",
         "137",
         "2023-07-24 02:19:04+00:00"
        ],
        [
         "16021",
         "text-generation",
         "676ad6bc1f5ca4617474b056",
         "['PocketDoc/Dans-MemoryCore-CoreCurriculum-Small', 'AquaV/Energetic-Materials-Sharegpt', 'AquaV/Chemical-Biological-Safety-Applications-Sharegpt', 'AquaV/US-Army-Survival-Sharegpt', 'AquaV/Resistance-Sharegpt', 'AquaV/Interrogation-Sharegpt', 'AquaV/Multi-Environment-Operations-Sharegpt', 'PocketDoc/Dans-Mathmaxx', 'PocketDoc/Dans-Mathmaxx-Numina-CoT', 'PJMixers/Math-Multiturn-1K-ShareGPT', 'PocketDoc/Dans-Benchmaxx', 'PocketDoc/Dans-Benchmaxx-COT', 'PocketDoc/Dans-Codemaxx-LeetCode', 'PocketDoc/Dans-Codemaxx-CodeFeedback-Conversations', 'PocketDoc/Dans-Codemaxx-CodeFeedback-SingleTurn', 'PocketDoc/Dans-Codemaxx-Bigcode-SelfInstruct', 'PocketDoc/Dans-Taskmaxx', 'PocketDoc/Dans-Taskmaxx-DataPrepper', 'PocketDoc/Dans-Taskmaxx-ConcurrentQA-Reworked', 'PocketDoc/Dans-Taskmaxx-TableGPT', 'PocketDoc/Dans-Taskmaxx-SciRIFF', 'PocketDoc/Dans-Taskmaxx-Edit', 'PocketDoc/Dans-Systemmaxx', 'PocketDoc/Dans-Toolmaxx-Agent', 'PocketDoc/Dans-Toolmaxx-ShellCommands', 'PocketDoc/Dans-Toolmaxx-Functions-Toolbench', 'PocketDoc/Dans-Toolmaxx-Functions-ToolACE', 'PocketDoc/Dans-Toolmaxx-Functions-apigen', 'PocketDoc/Dans-ASCIIMaxx-Wordart', 'PocketDoc/Dans-Prosemaxx-Gutenberg', 'PocketDoc/Dans-Prosemaxx-Cowriter-M', 'PocketDoc/Dans-Prosemaxx-Adventure', 'PocketDoc/Dans-Prosemaxx-Gryphe-GPT4o-WritingPrompts', 'PocketDoc/Dans-Assistantmaxx-Sharegpt', 'PocketDoc/Dans-Assistantmaxx-OpenAssistant2', 'PocketDoc/Dans-Assistantmaxx-Opus-Merge', 'PocketDoc/Dans-Assistantmaxx-sonnetorca-subset', 'PocketDoc/Dans-Assistantmaxx-sonnetorca-subset-2', 'PocketDoc/Dans-Assistantmaxx-NoRobots', 'PocketDoc/Dans-Assistantmaxx-Synthia', 'PocketDoc/Dans-Assistantmaxx-ASL', 'PocketDoc/Dans-Assistantmaxx-PersonaLLM-Opus', 'PocketDoc/Dans-Assistantmaxx-UnnaturalInstructions-GPT4', 'PocketDoc/Dans-Assistantmaxx-LongAlign', 'PocketDoc/Dans-Assistantmaxx-EvolKit', 'PocketDoc/Dans-Assistantmaxx-Camel-GPT4', 'PocketDoc/Dans-Assistantmaxx-Tulu3-IF', 'PocketDoc/Dans-Logicmaxx-Skunkworks', 'PocketDoc/Dans-Logicmaxx-SAT-AP', 'PocketDoc/Dans-Logicmaxx-Magpie-Ultra', 'PJMixers/grimulkan_theory-of-mind-ShareGPT', 'PJMixers/grimulkan_physical-reasoning-ShareGPT', 'PocketDoc/Dans-Personamaxx', 'PocketDoc/Dans-Personamaxx-Rainy', 'PocketDoc/Dans-Personamaxx-Aesir', 'PocketDoc/Dans-Kinomaxx-VanillaBackrooms']",
         "56",
         "2024-12-24 15:43:56+00:00"
        ],
        [
         "12198",
         "text-generation",
         "676f21632b1891292b2d120f",
         "['PocketDoc/Dans-MemoryCore-CoreCurriculum-Small', 'AquaV/Energetic-Materials-Sharegpt', 'AquaV/Chemical-Biological-Safety-Applications-Sharegpt', 'AquaV/US-Army-Survival-Sharegpt', 'AquaV/Resistance-Sharegpt', 'AquaV/Interrogation-Sharegpt', 'AquaV/Multi-Environment-Operations-Sharegpt', 'PocketDoc/Dans-Mathmaxx', 'PocketDoc/Dans-Mathmaxx-Numina-CoT', 'PJMixers/Math-Multiturn-1K-ShareGPT', 'PocketDoc/Dans-Benchmaxx', 'PocketDoc/Dans-Benchmaxx-COT', 'PocketDoc/Dans-Codemaxx-LeetCode', 'PocketDoc/Dans-Codemaxx-CodeFeedback-Conversations', 'PocketDoc/Dans-Codemaxx-CodeFeedback-SingleTurn', 'PocketDoc/Dans-Codemaxx-Bigcode-SelfInstruct', 'PocketDoc/Dans-Taskmaxx', 'PocketDoc/Dans-Taskmaxx-DataPrepper', 'PocketDoc/Dans-Taskmaxx-ConcurrentQA-Reworked', 'PocketDoc/Dans-Taskmaxx-TableGPT', 'PocketDoc/Dans-Taskmaxx-SciRIFF', 'PocketDoc/Dans-Taskmaxx-Edit', 'PocketDoc/Dans-Systemmaxx', 'PocketDoc/Dans-Toolmaxx-Agent', 'PocketDoc/Dans-Toolmaxx-ShellCommands', 'PocketDoc/Dans-Toolmaxx-Functions-Toolbench', 'PocketDoc/Dans-Toolmaxx-Functions-ToolACE', 'PocketDoc/Dans-Toolmaxx-Functions-apigen', 'PocketDoc/Dans-ASCIIMaxx-Wordart', 'PocketDoc/Dans-Prosemaxx-Gutenberg', 'PocketDoc/Dans-Prosemaxx-Cowriter-M', 'PocketDoc/Dans-Prosemaxx-Adventure', 'PocketDoc/Dans-Prosemaxx-Gryphe-GPT4o-WritingPrompts', 'PocketDoc/Dans-Assistantmaxx-Sharegpt', 'PocketDoc/Dans-Assistantmaxx-OpenAssistant2', 'PocketDoc/Dans-Assistantmaxx-Opus-Merge', 'PocketDoc/Dans-Assistantmaxx-sonnetorca-subset', 'PocketDoc/Dans-Assistantmaxx-sonnetorca-subset-2', 'PocketDoc/Dans-Assistantmaxx-NoRobots', 'PocketDoc/Dans-Assistantmaxx-Synthia', 'PocketDoc/Dans-Assistantmaxx-ASL', 'PocketDoc/Dans-Assistantmaxx-PersonaLLM-Opus', 'PocketDoc/Dans-Assistantmaxx-UnnaturalInstructions-GPT4', 'PocketDoc/Dans-Assistantmaxx-LongAlign', 'PocketDoc/Dans-Assistantmaxx-EvolKit', 'PocketDoc/Dans-Assistantmaxx-Camel-GPT4', 'PocketDoc/Dans-Assistantmaxx-Tulu3-IF', 'PocketDoc/Dans-Logicmaxx-Skunkworks', 'PocketDoc/Dans-Logicmaxx-SAT-AP', 'PocketDoc/Dans-Logicmaxx-Magpie-Ultra', 'PJMixers/grimulkan_theory-of-mind-ShareGPT', 'PJMixers/grimulkan_physical-reasoning-ShareGPT', 'PocketDoc/Dans-Personamaxx', 'PocketDoc/Dans-Personamaxx-Rainy', 'PocketDoc/Dans-Personamaxx-Aesir', 'PocketDoc/Dans-Kinomaxx-VanillaBackrooms']",
         "56",
         "2024-12-27 21:51:31+00:00"
        ],
        [
         "15514",
         "text-generation",
         "676f254071ee5edffd4895f8",
         "['PocketDoc/Dans-MemoryCore-CoreCurriculum-Small', 'AquaV/Energetic-Materials-Sharegpt', 'AquaV/Chemical-Biological-Safety-Applications-Sharegpt', 'AquaV/US-Army-Survival-Sharegpt', 'AquaV/Resistance-Sharegpt', 'AquaV/Interrogation-Sharegpt', 'AquaV/Multi-Environment-Operations-Sharegpt', 'PocketDoc/Dans-Mathmaxx', 'PocketDoc/Dans-Mathmaxx-Numina-CoT', 'PJMixers/Math-Multiturn-1K-ShareGPT', 'PocketDoc/Dans-Benchmaxx', 'PocketDoc/Dans-Benchmaxx-COT', 'PocketDoc/Dans-Codemaxx-LeetCode', 'PocketDoc/Dans-Codemaxx-CodeFeedback-Conversations', 'PocketDoc/Dans-Codemaxx-CodeFeedback-SingleTurn', 'PocketDoc/Dans-Codemaxx-Bigcode-SelfInstruct', 'PocketDoc/Dans-Taskmaxx', 'PocketDoc/Dans-Taskmaxx-DataPrepper', 'PocketDoc/Dans-Taskmaxx-ConcurrentQA-Reworked', 'PocketDoc/Dans-Taskmaxx-TableGPT', 'PocketDoc/Dans-Taskmaxx-SciRIFF', 'PocketDoc/Dans-Taskmaxx-Edit', 'PocketDoc/Dans-Systemmaxx', 'PocketDoc/Dans-Toolmaxx-Agent', 'PocketDoc/Dans-Toolmaxx-ShellCommands', 'PocketDoc/Dans-Toolmaxx-Functions-Toolbench', 'PocketDoc/Dans-Toolmaxx-Functions-ToolACE', 'PocketDoc/Dans-Toolmaxx-Functions-apigen', 'PocketDoc/Dans-ASCIIMaxx-Wordart', 'PocketDoc/Dans-Prosemaxx-Gutenberg', 'PocketDoc/Dans-Prosemaxx-Cowriter-M', 'PocketDoc/Dans-Prosemaxx-Adventure', 'PocketDoc/Dans-Prosemaxx-Gryphe-GPT4o-WritingPrompts', 'PocketDoc/Dans-Assistantmaxx-Sharegpt', 'PocketDoc/Dans-Assistantmaxx-OpenAssistant2', 'PocketDoc/Dans-Assistantmaxx-Opus-Merge', 'PocketDoc/Dans-Assistantmaxx-sonnetorca-subset', 'PocketDoc/Dans-Assistantmaxx-sonnetorca-subset-2', 'PocketDoc/Dans-Assistantmaxx-NoRobots', 'PocketDoc/Dans-Assistantmaxx-Synthia', 'PocketDoc/Dans-Assistantmaxx-ASL', 'PocketDoc/Dans-Assistantmaxx-PersonaLLM-Opus', 'PocketDoc/Dans-Assistantmaxx-UnnaturalInstructions-GPT4', 'PocketDoc/Dans-Assistantmaxx-LongAlign', 'PocketDoc/Dans-Assistantmaxx-EvolKit', 'PocketDoc/Dans-Assistantmaxx-Camel-GPT4', 'PocketDoc/Dans-Assistantmaxx-Tulu3-IF', 'PocketDoc/Dans-Logicmaxx-Skunkworks', 'PocketDoc/Dans-Logicmaxx-SAT-AP', 'PocketDoc/Dans-Logicmaxx-Magpie-Ultra', 'PJMixers/grimulkan_theory-of-mind-ShareGPT', 'PJMixers/grimulkan_physical-reasoning-ShareGPT', 'PocketDoc/Dans-Personamaxx', 'PocketDoc/Dans-Personamaxx-Rainy', 'PocketDoc/Dans-Personamaxx-Aesir', 'PocketDoc/Dans-Kinomaxx-VanillaBackrooms']",
         "56",
         "2024-12-27 22:08:00+00:00"
        ],
        [
         "18060",
         "text-generation",
         "676f243fadab4de67b10ed33",
         "['PocketDoc/Dans-MemoryCore-CoreCurriculum-Small', 'AquaV/Energetic-Materials-Sharegpt', 'AquaV/Chemical-Biological-Safety-Applications-Sharegpt', 'AquaV/US-Army-Survival-Sharegpt', 'AquaV/Resistance-Sharegpt', 'AquaV/Interrogation-Sharegpt', 'AquaV/Multi-Environment-Operations-Sharegpt', 'PocketDoc/Dans-Mathmaxx', 'PocketDoc/Dans-Mathmaxx-Numina-CoT', 'PJMixers/Math-Multiturn-1K-ShareGPT', 'PocketDoc/Dans-Benchmaxx', 'PocketDoc/Dans-Benchmaxx-COT', 'PocketDoc/Dans-Codemaxx-LeetCode', 'PocketDoc/Dans-Codemaxx-CodeFeedback-Conversations', 'PocketDoc/Dans-Codemaxx-CodeFeedback-SingleTurn', 'PocketDoc/Dans-Codemaxx-Bigcode-SelfInstruct', 'PocketDoc/Dans-Taskmaxx', 'PocketDoc/Dans-Taskmaxx-DataPrepper', 'PocketDoc/Dans-Taskmaxx-ConcurrentQA-Reworked', 'PocketDoc/Dans-Taskmaxx-TableGPT', 'PocketDoc/Dans-Taskmaxx-SciRIFF', 'PocketDoc/Dans-Taskmaxx-Edit', 'PocketDoc/Dans-Systemmaxx', 'PocketDoc/Dans-Toolmaxx-Agent', 'PocketDoc/Dans-Toolmaxx-ShellCommands', 'PocketDoc/Dans-Toolmaxx-Functions-Toolbench', 'PocketDoc/Dans-Toolmaxx-Functions-ToolACE', 'PocketDoc/Dans-Toolmaxx-Functions-apigen', 'PocketDoc/Dans-ASCIIMaxx-Wordart', 'PocketDoc/Dans-Prosemaxx-Gutenberg', 'PocketDoc/Dans-Prosemaxx-Cowriter-M', 'PocketDoc/Dans-Prosemaxx-Adventure', 'PocketDoc/Dans-Prosemaxx-Gryphe-GPT4o-WritingPrompts', 'PocketDoc/Dans-Assistantmaxx-Sharegpt', 'PocketDoc/Dans-Assistantmaxx-OpenAssistant2', 'PocketDoc/Dans-Assistantmaxx-Opus-Merge', 'PocketDoc/Dans-Assistantmaxx-sonnetorca-subset', 'PocketDoc/Dans-Assistantmaxx-sonnetorca-subset-2', 'PocketDoc/Dans-Assistantmaxx-NoRobots', 'PocketDoc/Dans-Assistantmaxx-Synthia', 'PocketDoc/Dans-Assistantmaxx-ASL', 'PocketDoc/Dans-Assistantmaxx-PersonaLLM-Opus', 'PocketDoc/Dans-Assistantmaxx-UnnaturalInstructions-GPT4', 'PocketDoc/Dans-Assistantmaxx-LongAlign', 'PocketDoc/Dans-Assistantmaxx-EvolKit', 'PocketDoc/Dans-Assistantmaxx-Camel-GPT4', 'PocketDoc/Dans-Assistantmaxx-Tulu3-IF', 'PocketDoc/Dans-Logicmaxx-Skunkworks', 'PocketDoc/Dans-Logicmaxx-SAT-AP', 'PocketDoc/Dans-Logicmaxx-Magpie-Ultra', 'PJMixers/grimulkan_theory-of-mind-ShareGPT', 'PJMixers/grimulkan_physical-reasoning-ShareGPT', 'PocketDoc/Dans-Personamaxx', 'PocketDoc/Dans-Personamaxx-Rainy', 'PocketDoc/Dans-Personamaxx-Aesir', 'PocketDoc/Dans-Kinomaxx-VanillaBackrooms']",
         "56",
         "2024-12-27 22:03:43+00:00"
        ],
        [
         "23850",
         "text-generation",
         "676f8e7306122af57b74d44d",
         "['PocketDoc/Dans-MemoryCore-CoreCurriculum-Small', 'AquaV/Energetic-Materials-Sharegpt', 'AquaV/Chemical-Biological-Safety-Applications-Sharegpt', 'AquaV/US-Army-Survival-Sharegpt', 'AquaV/Resistance-Sharegpt', 'AquaV/Interrogation-Sharegpt', 'AquaV/Multi-Environment-Operations-Sharegpt', 'PocketDoc/Dans-Mathmaxx', 'PocketDoc/Dans-Mathmaxx-Numina-CoT', 'PJMixers/Math-Multiturn-1K-ShareGPT', 'PocketDoc/Dans-Benchmaxx', 'PocketDoc/Dans-Benchmaxx-COT', 'PocketDoc/Dans-Codemaxx-LeetCode', 'PocketDoc/Dans-Codemaxx-CodeFeedback-Conversations', 'PocketDoc/Dans-Codemaxx-CodeFeedback-SingleTurn', 'PocketDoc/Dans-Codemaxx-Bigcode-SelfInstruct', 'PocketDoc/Dans-Taskmaxx', 'PocketDoc/Dans-Taskmaxx-DataPrepper', 'PocketDoc/Dans-Taskmaxx-ConcurrentQA-Reworked', 'PocketDoc/Dans-Taskmaxx-TableGPT', 'PocketDoc/Dans-Taskmaxx-SciRIFF', 'PocketDoc/Dans-Taskmaxx-Edit', 'PocketDoc/Dans-Systemmaxx', 'PocketDoc/Dans-Toolmaxx-Agent', 'PocketDoc/Dans-Toolmaxx-ShellCommands', 'PocketDoc/Dans-Toolmaxx-Functions-Toolbench', 'PocketDoc/Dans-Toolmaxx-Functions-ToolACE', 'PocketDoc/Dans-Toolmaxx-Functions-apigen', 'PocketDoc/Dans-ASCIIMaxx-Wordart', 'PocketDoc/Dans-Prosemaxx-Gutenberg', 'PocketDoc/Dans-Prosemaxx-Cowriter-M', 'PocketDoc/Dans-Prosemaxx-Adventure', 'PocketDoc/Dans-Prosemaxx-Gryphe-GPT4o-WritingPrompts', 'PocketDoc/Dans-Assistantmaxx-Sharegpt', 'PocketDoc/Dans-Assistantmaxx-OpenAssistant2', 'PocketDoc/Dans-Assistantmaxx-Opus-Merge', 'PocketDoc/Dans-Assistantmaxx-sonnetorca-subset', 'PocketDoc/Dans-Assistantmaxx-sonnetorca-subset-2', 'PocketDoc/Dans-Assistantmaxx-NoRobots', 'PocketDoc/Dans-Assistantmaxx-Synthia', 'PocketDoc/Dans-Assistantmaxx-ASL', 'PocketDoc/Dans-Assistantmaxx-PersonaLLM-Opus', 'PocketDoc/Dans-Assistantmaxx-UnnaturalInstructions-GPT4', 'PocketDoc/Dans-Assistantmaxx-LongAlign', 'PocketDoc/Dans-Assistantmaxx-EvolKit', 'PocketDoc/Dans-Assistantmaxx-Camel-GPT4', 'PocketDoc/Dans-Assistantmaxx-Tulu3-IF', 'PocketDoc/Dans-Logicmaxx-Skunkworks', 'PocketDoc/Dans-Logicmaxx-SAT-AP', 'PocketDoc/Dans-Logicmaxx-Magpie-Ultra', 'PJMixers/grimulkan_theory-of-mind-ShareGPT', 'PJMixers/grimulkan_physical-reasoning-ShareGPT', 'PocketDoc/Dans-Personamaxx', 'PocketDoc/Dans-Personamaxx-Rainy', 'PocketDoc/Dans-Personamaxx-Aesir', 'PocketDoc/Dans-Kinomaxx-VanillaBackrooms']",
         "56",
         "2024-12-28 05:36:51+00:00"
        ],
        [
         "15318",
         "text-generation",
         "676f25f04f730bb37431f56a",
         "['PocketDoc/Dans-MemoryCore-CoreCurriculum-Small', 'AquaV/Energetic-Materials-Sharegpt', 'AquaV/Chemical-Biological-Safety-Applications-Sharegpt', 'AquaV/US-Army-Survival-Sharegpt', 'AquaV/Resistance-Sharegpt', 'AquaV/Interrogation-Sharegpt', 'AquaV/Multi-Environment-Operations-Sharegpt', 'PocketDoc/Dans-Mathmaxx', 'PocketDoc/Dans-Mathmaxx-Numina-CoT', 'PJMixers/Math-Multiturn-1K-ShareGPT', 'PocketDoc/Dans-Benchmaxx', 'PocketDoc/Dans-Benchmaxx-COT', 'PocketDoc/Dans-Codemaxx-LeetCode', 'PocketDoc/Dans-Codemaxx-CodeFeedback-Conversations', 'PocketDoc/Dans-Codemaxx-CodeFeedback-SingleTurn', 'PocketDoc/Dans-Codemaxx-Bigcode-SelfInstruct', 'PocketDoc/Dans-Taskmaxx', 'PocketDoc/Dans-Taskmaxx-DataPrepper', 'PocketDoc/Dans-Taskmaxx-ConcurrentQA-Reworked', 'PocketDoc/Dans-Taskmaxx-TableGPT', 'PocketDoc/Dans-Taskmaxx-SciRIFF', 'PocketDoc/Dans-Taskmaxx-Edit', 'PocketDoc/Dans-Systemmaxx', 'PocketDoc/Dans-Toolmaxx-Agent', 'PocketDoc/Dans-Toolmaxx-ShellCommands', 'PocketDoc/Dans-Toolmaxx-Functions-Toolbench', 'PocketDoc/Dans-Toolmaxx-Functions-ToolACE', 'PocketDoc/Dans-Toolmaxx-Functions-apigen', 'PocketDoc/Dans-ASCIIMaxx-Wordart', 'PocketDoc/Dans-Prosemaxx-Gutenberg', 'PocketDoc/Dans-Prosemaxx-Cowriter-M', 'PocketDoc/Dans-Prosemaxx-Adventure', 'PocketDoc/Dans-Prosemaxx-Gryphe-GPT4o-WritingPrompts', 'PocketDoc/Dans-Assistantmaxx-Sharegpt', 'PocketDoc/Dans-Assistantmaxx-OpenAssistant2', 'PocketDoc/Dans-Assistantmaxx-Opus-Merge', 'PocketDoc/Dans-Assistantmaxx-sonnetorca-subset', 'PocketDoc/Dans-Assistantmaxx-sonnetorca-subset-2', 'PocketDoc/Dans-Assistantmaxx-NoRobots', 'PocketDoc/Dans-Assistantmaxx-Synthia', 'PocketDoc/Dans-Assistantmaxx-ASL', 'PocketDoc/Dans-Assistantmaxx-PersonaLLM-Opus', 'PocketDoc/Dans-Assistantmaxx-UnnaturalInstructions-GPT4', 'PocketDoc/Dans-Assistantmaxx-LongAlign', 'PocketDoc/Dans-Assistantmaxx-EvolKit', 'PocketDoc/Dans-Assistantmaxx-Camel-GPT4', 'PocketDoc/Dans-Assistantmaxx-Tulu3-IF', 'PocketDoc/Dans-Logicmaxx-Skunkworks', 'PocketDoc/Dans-Logicmaxx-SAT-AP', 'PocketDoc/Dans-Logicmaxx-Magpie-Ultra', 'PJMixers/grimulkan_theory-of-mind-ShareGPT', 'PJMixers/grimulkan_physical-reasoning-ShareGPT', 'PocketDoc/Dans-Personamaxx', 'PocketDoc/Dans-Personamaxx-Rainy', 'PocketDoc/Dans-Personamaxx-Aesir', 'PocketDoc/Dans-Kinomaxx-VanillaBackrooms']",
         "56",
         "2024-12-27 22:10:56+00:00"
        ],
        [
         "21794",
         "text-generation",
         "67662587a673180a30ab099b",
         "['PocketDoc/Dans-MemoryCore-CoreCurriculum-Small', 'AquaV/Energetic-Materials-Sharegpt', 'AquaV/Chemical-Biological-Safety-Applications-Sharegpt', 'AquaV/US-Army-Survival-Sharegpt', 'AquaV/Resistance-Sharegpt', 'AquaV/Interrogation-Sharegpt', 'AquaV/Multi-Environment-Operations-Sharegpt', 'PocketDoc/Dans-Mathmaxx', 'PocketDoc/Dans-Mathmaxx-Numina-CoT', 'PJMixers/Math-Multiturn-1K-ShareGPT', 'PocketDoc/Dans-Benchmaxx', 'PocketDoc/Dans-Benchmaxx-COT', 'PocketDoc/Dans-Codemaxx-LeetCode', 'PocketDoc/Dans-Codemaxx-CodeFeedback-Conversations', 'PocketDoc/Dans-Codemaxx-CodeFeedback-SingleTurn', 'PocketDoc/Dans-Codemaxx-Bigcode-SelfInstruct', 'PocketDoc/Dans-Taskmaxx', 'PocketDoc/Dans-Taskmaxx-DataPrepper', 'PocketDoc/Dans-Taskmaxx-ConcurrentQA-Reworked', 'PocketDoc/Dans-Taskmaxx-TableGPT', 'PocketDoc/Dans-Taskmaxx-SciRIFF', 'PocketDoc/Dans-Taskmaxx-Edit', 'PocketDoc/Dans-Systemmaxx', 'PocketDoc/Dans-Toolmaxx-Agent', 'PocketDoc/Dans-Toolmaxx-ShellCommands', 'PocketDoc/Dans-Toolmaxx-Functions-Toolbench', 'PocketDoc/Dans-Toolmaxx-Functions-ToolACE', 'PocketDoc/Dans-Toolmaxx-Functions-apigen', 'PocketDoc/Dans-ASCIIMaxx-Wordart', 'PocketDoc/Dans-Prosemaxx-Gutenberg', 'PocketDoc/Dans-Prosemaxx-Cowriter-M', 'PocketDoc/Dans-Prosemaxx-Adventure', 'PocketDoc/Dans-Prosemaxx-Gryphe-GPT4o-WritingPrompts', 'PocketDoc/Dans-Assistantmaxx-Sharegpt', 'PocketDoc/Dans-Assistantmaxx-OpenAssistant2', 'PocketDoc/Dans-Assistantmaxx-Opus-Merge', 'PocketDoc/Dans-Assistantmaxx-sonnetorca-subset', 'PocketDoc/Dans-Assistantmaxx-sonnetorca-subset-2', 'PocketDoc/Dans-Assistantmaxx-NoRobots', 'PocketDoc/Dans-Assistantmaxx-Synthia', 'PocketDoc/Dans-Assistantmaxx-ASL', 'PocketDoc/Dans-Assistantmaxx-PersonaLLM-Opus', 'PocketDoc/Dans-Assistantmaxx-UnnaturalInstructions-GPT4', 'PocketDoc/Dans-Assistantmaxx-LongAlign', 'PocketDoc/Dans-Assistantmaxx-EvolKit', 'PocketDoc/Dans-Assistantmaxx-Camel-GPT4', 'PocketDoc/Dans-Assistantmaxx-Tulu3-IF', 'PocketDoc/Dans-Logicmaxx-Skunkworks', 'PocketDoc/Dans-Logicmaxx-SAT-AP', 'PocketDoc/Dans-Logicmaxx-Magpie-Ultra', 'PJMixers/grimulkan_theory-of-mind-ShareGPT', 'PJMixers/grimulkan_physical-reasoning-ShareGPT', 'PocketDoc/Dans-Personamaxx', 'PocketDoc/Dans-Personamaxx-Rainy', 'PocketDoc/Dans-Personamaxx-Aesir', 'PocketDoc/Dans-Kinomaxx-VanillaBackrooms']",
         "56",
         "2024-12-21 02:18:47+00:00"
        ],
        [
         "9627",
         "text-generation",
         "6763a351523f2538913003fb",
         "['PocketDoc/Dans-MemoryCore-CoreCurriculum-Small', 'AquaV/Energetic-Materials-Sharegpt', 'AquaV/Chemical-Biological-Safety-Applications-Sharegpt', 'AquaV/US-Army-Survival-Sharegpt', 'AquaV/Resistance-Sharegpt', 'AquaV/Interrogation-Sharegpt', 'AquaV/Multi-Environment-Operations-Sharegpt', 'PocketDoc/Dans-Mathmaxx', 'PocketDoc/Dans-Mathmaxx-Numina-CoT', 'PJMixers/Math-Multiturn-1K-ShareGPT', 'PocketDoc/Dans-Benchmaxx', 'PocketDoc/Dans-Benchmaxx-COT', 'PocketDoc/Dans-Codemaxx-LeetCode', 'PocketDoc/Dans-Codemaxx-CodeFeedback-Conversations', 'PocketDoc/Dans-Codemaxx-CodeFeedback-SingleTurn', 'PocketDoc/Dans-Codemaxx-Bigcode-SelfInstruct', 'PocketDoc/Dans-Taskmaxx', 'PocketDoc/Dans-Taskmaxx-DataPrepper', 'PocketDoc/Dans-Taskmaxx-ConcurrentQA-Reworked', 'PocketDoc/Dans-Taskmaxx-TableGPT', 'PocketDoc/Dans-Taskmaxx-SciRIFF', 'PocketDoc/Dans-Taskmaxx-Edit', 'PocketDoc/Dans-Systemmaxx', 'PocketDoc/Dans-Toolmaxx-Agent', 'PocketDoc/Dans-Toolmaxx-ShellCommands', 'PocketDoc/Dans-Toolmaxx-Functions-Toolbench', 'PocketDoc/Dans-Toolmaxx-Functions-ToolACE', 'PocketDoc/Dans-Toolmaxx-Functions-apigen', 'PocketDoc/Dans-ASCIIMaxx-Wordart', 'PocketDoc/Dans-Prosemaxx-Gutenberg', 'PocketDoc/Dans-Prosemaxx-Cowriter-M', 'PocketDoc/Dans-Prosemaxx-Adventure', 'PocketDoc/Dans-Prosemaxx-Gryphe-GPT4o-WritingPrompts', 'PocketDoc/Dans-Assistantmaxx-Sharegpt', 'PocketDoc/Dans-Assistantmaxx-OpenAssistant2', 'PocketDoc/Dans-Assistantmaxx-Opus-Merge', 'PocketDoc/Dans-Assistantmaxx-sonnetorca-subset', 'PocketDoc/Dans-Assistantmaxx-sonnetorca-subset-2', 'PocketDoc/Dans-Assistantmaxx-NoRobots', 'PocketDoc/Dans-Assistantmaxx-Synthia', 'PocketDoc/Dans-Assistantmaxx-ASL', 'PocketDoc/Dans-Assistantmaxx-PersonaLLM-Opus', 'PocketDoc/Dans-Assistantmaxx-UnnaturalInstructions-GPT4', 'PocketDoc/Dans-Assistantmaxx-LongAlign', 'PocketDoc/Dans-Assistantmaxx-EvolKit', 'PocketDoc/Dans-Assistantmaxx-Camel-GPT4', 'PocketDoc/Dans-Assistantmaxx-Tulu3-IF', 'PocketDoc/Dans-Logicmaxx-Skunkworks', 'PocketDoc/Dans-Logicmaxx-SAT-AP', 'PocketDoc/Dans-Logicmaxx-Magpie-Ultra', 'PJMixers/grimulkan_theory-of-mind-ShareGPT', 'PJMixers/grimulkan_physical-reasoning-ShareGPT', 'PocketDoc/Dans-Personamaxx', 'PocketDoc/Dans-Personamaxx-Rainy', 'PocketDoc/Dans-Personamaxx-Aesir', 'PocketDoc/Dans-Kinomaxx-VanillaBackrooms']",
         "56",
         "2024-12-19 04:38:41+00:00"
        ],
        [
         "24785",
         "text-generation",
         "67657ed90d91d18da3f92595",
         "['PocketDoc/Dans-MemoryCore-CoreCurriculum-Small', 'AquaV/Energetic-Materials-Sharegpt', 'AquaV/Chemical-Biological-Safety-Applications-Sharegpt', 'AquaV/US-Army-Survival-Sharegpt', 'AquaV/Resistance-Sharegpt', 'AquaV/Interrogation-Sharegpt', 'AquaV/Multi-Environment-Operations-Sharegpt', 'PocketDoc/Dans-Mathmaxx', 'PocketDoc/Dans-Mathmaxx-Numina-CoT', 'PJMixers/Math-Multiturn-1K-ShareGPT', 'PocketDoc/Dans-Benchmaxx', 'PocketDoc/Dans-Benchmaxx-COT', 'PocketDoc/Dans-Codemaxx-LeetCode', 'PocketDoc/Dans-Codemaxx-CodeFeedback-Conversations', 'PocketDoc/Dans-Codemaxx-CodeFeedback-SingleTurn', 'PocketDoc/Dans-Codemaxx-Bigcode-SelfInstruct', 'PocketDoc/Dans-Taskmaxx', 'PocketDoc/Dans-Taskmaxx-DataPrepper', 'PocketDoc/Dans-Taskmaxx-ConcurrentQA-Reworked', 'PocketDoc/Dans-Taskmaxx-TableGPT', 'PocketDoc/Dans-Taskmaxx-SciRIFF', 'PocketDoc/Dans-Taskmaxx-Edit', 'PocketDoc/Dans-Systemmaxx', 'PocketDoc/Dans-Toolmaxx-Agent', 'PocketDoc/Dans-Toolmaxx-ShellCommands', 'PocketDoc/Dans-Toolmaxx-Functions-Toolbench', 'PocketDoc/Dans-Toolmaxx-Functions-ToolACE', 'PocketDoc/Dans-Toolmaxx-Functions-apigen', 'PocketDoc/Dans-ASCIIMaxx-Wordart', 'PocketDoc/Dans-Prosemaxx-Gutenberg', 'PocketDoc/Dans-Prosemaxx-Cowriter-M', 'PocketDoc/Dans-Prosemaxx-Adventure', 'PocketDoc/Dans-Prosemaxx-Gryphe-GPT4o-WritingPrompts', 'PocketDoc/Dans-Assistantmaxx-Sharegpt', 'PocketDoc/Dans-Assistantmaxx-OpenAssistant2', 'PocketDoc/Dans-Assistantmaxx-Opus-Merge', 'PocketDoc/Dans-Assistantmaxx-sonnetorca-subset', 'PocketDoc/Dans-Assistantmaxx-sonnetorca-subset-2', 'PocketDoc/Dans-Assistantmaxx-NoRobots', 'PocketDoc/Dans-Assistantmaxx-Synthia', 'PocketDoc/Dans-Assistantmaxx-ASL', 'PocketDoc/Dans-Assistantmaxx-PersonaLLM-Opus', 'PocketDoc/Dans-Assistantmaxx-UnnaturalInstructions-GPT4', 'PocketDoc/Dans-Assistantmaxx-LongAlign', 'PocketDoc/Dans-Assistantmaxx-EvolKit', 'PocketDoc/Dans-Assistantmaxx-Camel-GPT4', 'PocketDoc/Dans-Assistantmaxx-Tulu3-IF', 'PocketDoc/Dans-Logicmaxx-Skunkworks', 'PocketDoc/Dans-Logicmaxx-SAT-AP', 'PocketDoc/Dans-Logicmaxx-Magpie-Ultra', 'PJMixers/grimulkan_theory-of-mind-ShareGPT', 'PJMixers/grimulkan_physical-reasoning-ShareGPT', 'PocketDoc/Dans-Personamaxx', 'PocketDoc/Dans-Personamaxx-Rainy', 'PocketDoc/Dans-Personamaxx-Aesir', 'PocketDoc/Dans-Kinomaxx-VanillaBackrooms']",
         "56",
         "2024-12-20 14:27:37+00:00"
        ],
        [
         "9361",
         "text-generation",
         "676f225db3163a95a6719739",
         "['PocketDoc/Dans-MemoryCore-CoreCurriculum-Small', 'AquaV/Energetic-Materials-Sharegpt', 'AquaV/Chemical-Biological-Safety-Applications-Sharegpt', 'AquaV/US-Army-Survival-Sharegpt', 'AquaV/Resistance-Sharegpt', 'AquaV/Interrogation-Sharegpt', 'AquaV/Multi-Environment-Operations-Sharegpt', 'PocketDoc/Dans-Mathmaxx', 'PocketDoc/Dans-Mathmaxx-Numina-CoT', 'PJMixers/Math-Multiturn-1K-ShareGPT', 'PocketDoc/Dans-Benchmaxx', 'PocketDoc/Dans-Benchmaxx-COT', 'PocketDoc/Dans-Codemaxx-LeetCode', 'PocketDoc/Dans-Codemaxx-CodeFeedback-Conversations', 'PocketDoc/Dans-Codemaxx-CodeFeedback-SingleTurn', 'PocketDoc/Dans-Codemaxx-Bigcode-SelfInstruct', 'PocketDoc/Dans-Taskmaxx', 'PocketDoc/Dans-Taskmaxx-DataPrepper', 'PocketDoc/Dans-Taskmaxx-ConcurrentQA-Reworked', 'PocketDoc/Dans-Taskmaxx-TableGPT', 'PocketDoc/Dans-Taskmaxx-SciRIFF', 'PocketDoc/Dans-Taskmaxx-Edit', 'PocketDoc/Dans-Systemmaxx', 'PocketDoc/Dans-Toolmaxx-Agent', 'PocketDoc/Dans-Toolmaxx-ShellCommands', 'PocketDoc/Dans-Toolmaxx-Functions-Toolbench', 'PocketDoc/Dans-Toolmaxx-Functions-ToolACE', 'PocketDoc/Dans-Toolmaxx-Functions-apigen', 'PocketDoc/Dans-ASCIIMaxx-Wordart', 'PocketDoc/Dans-Prosemaxx-Gutenberg', 'PocketDoc/Dans-Prosemaxx-Cowriter-M', 'PocketDoc/Dans-Prosemaxx-Adventure', 'PocketDoc/Dans-Prosemaxx-Gryphe-GPT4o-WritingPrompts', 'PocketDoc/Dans-Assistantmaxx-Sharegpt', 'PocketDoc/Dans-Assistantmaxx-OpenAssistant2', 'PocketDoc/Dans-Assistantmaxx-Opus-Merge', 'PocketDoc/Dans-Assistantmaxx-sonnetorca-subset', 'PocketDoc/Dans-Assistantmaxx-sonnetorca-subset-2', 'PocketDoc/Dans-Assistantmaxx-NoRobots', 'PocketDoc/Dans-Assistantmaxx-Synthia', 'PocketDoc/Dans-Assistantmaxx-ASL', 'PocketDoc/Dans-Assistantmaxx-PersonaLLM-Opus', 'PocketDoc/Dans-Assistantmaxx-UnnaturalInstructions-GPT4', 'PocketDoc/Dans-Assistantmaxx-LongAlign', 'PocketDoc/Dans-Assistantmaxx-EvolKit', 'PocketDoc/Dans-Assistantmaxx-Camel-GPT4', 'PocketDoc/Dans-Assistantmaxx-Tulu3-IF', 'PocketDoc/Dans-Logicmaxx-Skunkworks', 'PocketDoc/Dans-Logicmaxx-SAT-AP', 'PocketDoc/Dans-Logicmaxx-Magpie-Ultra', 'PJMixers/grimulkan_theory-of-mind-ShareGPT', 'PJMixers/grimulkan_physical-reasoning-ShareGPT', 'PocketDoc/Dans-Personamaxx', 'PocketDoc/Dans-Personamaxx-Rainy', 'PocketDoc/Dans-Personamaxx-Aesir', 'PocketDoc/Dans-Kinomaxx-VanillaBackrooms']",
         "56",
         "2024-12-27 21:55:41+00:00"
        ],
        [
         "23757",
         "text-generation",
         "676f0dc8d56fe9a661815128",
         "['PocketDoc/Dans-MemoryCore-CoreCurriculum-Small', 'AquaV/Energetic-Materials-Sharegpt', 'AquaV/Chemical-Biological-Safety-Applications-Sharegpt', 'AquaV/US-Army-Survival-Sharegpt', 'AquaV/Resistance-Sharegpt', 'AquaV/Interrogation-Sharegpt', 'AquaV/Multi-Environment-Operations-Sharegpt', 'PocketDoc/Dans-Mathmaxx', 'PocketDoc/Dans-Mathmaxx-Numina-CoT', 'PJMixers/Math-Multiturn-1K-ShareGPT', 'PocketDoc/Dans-Benchmaxx', 'PocketDoc/Dans-Benchmaxx-COT', 'PocketDoc/Dans-Codemaxx-LeetCode', 'PocketDoc/Dans-Codemaxx-CodeFeedback-Conversations', 'PocketDoc/Dans-Codemaxx-CodeFeedback-SingleTurn', 'PocketDoc/Dans-Codemaxx-Bigcode-SelfInstruct', 'PocketDoc/Dans-Taskmaxx', 'PocketDoc/Dans-Taskmaxx-DataPrepper', 'PocketDoc/Dans-Taskmaxx-ConcurrentQA-Reworked', 'PocketDoc/Dans-Taskmaxx-TableGPT', 'PocketDoc/Dans-Taskmaxx-SciRIFF', 'PocketDoc/Dans-Taskmaxx-Edit', 'PocketDoc/Dans-Systemmaxx', 'PocketDoc/Dans-Toolmaxx-Agent', 'PocketDoc/Dans-Toolmaxx-ShellCommands', 'PocketDoc/Dans-Toolmaxx-Functions-Toolbench', 'PocketDoc/Dans-Toolmaxx-Functions-ToolACE', 'PocketDoc/Dans-Toolmaxx-Functions-apigen', 'PocketDoc/Dans-ASCIIMaxx-Wordart', 'PocketDoc/Dans-Prosemaxx-Gutenberg', 'PocketDoc/Dans-Prosemaxx-Cowriter-M', 'PocketDoc/Dans-Prosemaxx-Adventure', 'PocketDoc/Dans-Prosemaxx-Gryphe-GPT4o-WritingPrompts', 'PocketDoc/Dans-Assistantmaxx-Sharegpt', 'PocketDoc/Dans-Assistantmaxx-OpenAssistant2', 'PocketDoc/Dans-Assistantmaxx-Opus-Merge', 'PocketDoc/Dans-Assistantmaxx-sonnetorca-subset', 'PocketDoc/Dans-Assistantmaxx-sonnetorca-subset-2', 'PocketDoc/Dans-Assistantmaxx-NoRobots', 'PocketDoc/Dans-Assistantmaxx-Synthia', 'PocketDoc/Dans-Assistantmaxx-ASL', 'PocketDoc/Dans-Assistantmaxx-PersonaLLM-Opus', 'PocketDoc/Dans-Assistantmaxx-UnnaturalInstructions-GPT4', 'PocketDoc/Dans-Assistantmaxx-LongAlign', 'PocketDoc/Dans-Assistantmaxx-EvolKit', 'PocketDoc/Dans-Assistantmaxx-Camel-GPT4', 'PocketDoc/Dans-Assistantmaxx-Tulu3-IF', 'PocketDoc/Dans-Logicmaxx-Skunkworks', 'PocketDoc/Dans-Logicmaxx-SAT-AP', 'PocketDoc/Dans-Logicmaxx-Magpie-Ultra', 'PJMixers/grimulkan_theory-of-mind-ShareGPT', 'PJMixers/grimulkan_physical-reasoning-ShareGPT', 'PocketDoc/Dans-Personamaxx', 'PocketDoc/Dans-Personamaxx-Rainy', 'PocketDoc/Dans-Personamaxx-Aesir', 'PocketDoc/Dans-Kinomaxx-VanillaBackrooms']",
         "56",
         "2024-12-27 20:27:52+00:00"
        ],
        [
         "9776",
         "text-generation",
         "66729ab15040fc61f5b5cc99",
         "['gretelai/synthetic_text_to_sql', 'HuggingFaceTB/cosmopedia', 'teknium/OpenHermes-2.5', 'Open-Orca/SlimOrca', 'Open-Orca/OpenOrca', 'cognitivecomputations/dolphin-coder', 'databricks/databricks-dolly-15k', 'yahma/alpaca-cleaned', 'uonlp/CulturaX', 'mwitiderrick/SwahiliPlatypus', 'swahili', 'Rogendo/English-Swahili-Sentence-Pairs', 'ise-uiuc/Magicoder-Evol-Instruct-110K', 'meta-math/MetaMathQA', 'abacusai/ARC_DPO_FewShot', 'abacusai/MetaMath_DPO_FewShot', 'abacusai/HellaSwag_DPO_FewShot', 'HaltiaAI/Her-The-Movie-Samantha-and-Theodore-Dataset', 'HuggingFaceFW/fineweb', 'occiglot/occiglot-fineweb-v0.5', 'omi-health/medical-dialogue-to-soap-summary', 'keivalya/MedQuad-MedicalQnADataset', 'ruslanmv/ai-medical-dataset', 'Shekswess/medical_llama3_instruct_dataset_short', 'ShenRuililin/MedicalQnA', 'virattt/financial-qa-10K', 'PatronusAI/financebench', 'takala/financial_phrasebank', 'Replete-AI/code_bagel', 'athirdpath/DPO_Pairs-Roleplay-Alpaca-NSFW', 'IlyaGusev/gpt_roleplay_realm', 'rickRossie/bluemoon_roleplay_chat_data_300k_messages', 'jtatman/hypnosis_dataset', 'Hypersniper/philosophy_dialogue', 'Locutusque/function-calling-chatml', 'bible-nlp/biblenlp-corpus', 'DatadudeDev/Bible', 'Helsinki-NLP/bible_para', 'HausaNLP/AfriSenti-Twitter', 'aixsatoshi/Chat-with-cosmopedia', 'xz56/react-llama', 'BeIR/hotpotqa', 'arcee-ai/agent-data', 'HuggingFaceTB/cosmopedia-100k', 'HuggingFaceFW/fineweb-edu', 'm-a-p/CodeFeedback-Filtered-Instruction', 'heliosbrahma/mental_health_chatbot_dataset']",
         "47",
         "2024-06-19 08:45:37+00:00"
        ],
        [
         "21632",
         "text-generation",
         "667705811192e834e96a5698",
         "['darkcloudai-smallmodel-frontieredition', 'darkcloudai-webdriver-redditcrawl-2023', 'darkcloudai-unalignment-truthfulness', 'darkcloudai-generaldpo', 'ai2_arc', 'allenai/ultrafeedback_binarized_cleaned', 'argilla/distilabel-intel-orca-dpo-pairs', 'jondurbin/airoboros-3.2', 'codeparrot/apps', 'facebook/belebele', 'bluemoon-fandom-1-1-rp-cleaned', 'boolq', 'camel-ai/biology', 'camel-ai/chemistry', 'camel-ai/math', 'camel-ai/physics', 'jondurbin/contextual-dpo-v0.1', 'jondurbin/gutenberg-dpo-v0.1', 'jondurbin/py-dpo-v0.1', 'jondurbin/truthy-dpo-v0.1', 'LDJnr/Capybara', 'jondurbin/cinematika-v0.1', 'WizardLM/WizardLM_evol_instruct_70k', 'glaiveai/glaive-function-calling-v2', 'jondurbin/gutenberg-dpo-v0.1', 'grimulkan/LimaRP-augmented', 'lmsys/lmsys-chat-1m', 'ParisNeo/lollms_aware_dataset', 'TIGER-Lab/MathInstruct', 'Muennighoff/natural-instructions', 'openbookqa', 'kingbri/PIPPA-shareGPT', 'piqa', 'Vezora/Tested-22k-Python-Alpaca', 'ropes', 'cakiki/rosetta-code', 'Open-Orca/SlimOrca', 'b-mc2/sql-create-context', 'squad_v2', 'mattpscott/airoboros-summarization', 'migtissera/Synthia-v1.3', 'unalignment/toxic-dpo-v0.2', 'WhiteRabbitNeo/WRN-Chapter-1', 'WhiteRabbitNeo/WRN-Chapter-2', 'winogrande']",
         "45",
         "2024-06-22 17:10:25+00:00"
        ],
        [
         "20671",
         "text-generation",
         "65d19ff8053a863f53860929",
         "['ai2_arc', 'allenai/ultrafeedback_binarized_cleaned', 'argilla/distilabel-intel-orca-dpo-pairs', 'jondurbin/airoboros-3.2', 'codeparrot/apps', 'facebook/belebele', 'bluemoon-fandom-1-1-rp-cleaned', 'boolq', 'camel-ai/biology', 'camel-ai/chemistry', 'camel-ai/math', 'camel-ai/physics', 'jondurbin/contextual-dpo-v0.1', 'jondurbin/gutenberg-dpo-v0.1', 'jondurbin/py-dpo-v0.1', 'jondurbin/truthy-dpo-v0.1', 'LDJnr/Capybara', 'jondurbin/cinematika-v0.1', 'WizardLM/WizardLM_evol_instruct_70k', 'glaiveai/glaive-function-calling-v2', 'jondurbin/gutenberg-dpo-v0.1', 'grimulkan/LimaRP-augmented', 'lmsys/lmsys-chat-1m', 'ParisNeo/lollms_aware_dataset', 'TIGER-Lab/MathInstruct', 'Muennighoff/natural-instructions', 'openbookqa', 'kingbri/PIPPA-shareGPT', 'piqa', 'Vezora/Tested-22k-Python-Alpaca', 'ropes', 'cakiki/rosetta-code', 'Open-Orca/SlimOrca', 'b-mc2/sql-create-context', 'squad_v2', 'mattpscott/airoboros-summarization', 'migtissera/Synthia-v1.3', 'unalignment/toxic-dpo-v0.2', 'WhiteRabbitNeo/WRN-Chapter-1', 'WhiteRabbitNeo/WRN-Chapter-2', 'winogrande']",
         "41",
         "2024-02-18 06:13:12+00:00"
        ],
        [
         "22227",
         "text-generation",
         "660bd7ef75150c9b88945bcf",
         "['allenai/ai2_arc', 'allenai/ultrafeedback_binarized_cleaned', 'argilla/distilabel-intel-orca-dpo-pairs', 'jondurbin/airoboros-3.2', 'codeparrot/apps', 'facebook/belebele', 'bluemoon-fandom-1-1-rp-cleaned', 'boolq', 'camel-ai/biology', 'camel-ai/chemistry', 'camel-ai/math', 'camel-ai/physics', 'jondurbin/contextual-dpo-v0.1', 'jondurbin/gutenberg-dpo-v0.1', 'jondurbin/py-dpo-v0.1', 'jondurbin/truthy-dpo-v0.1', 'LDJnr/Capybara', 'jondurbin/cinematika-v0.1', 'WizardLM/WizardLM_evol_instruct_70k', 'glaiveai/glaive-function-calling-v2', 'jondurbin/gutenberg-dpo-v0.1', 'grimulkan/LimaRP-augmented', 'lmsys/lmsys-chat-1m', 'ParisNeo/lollms_aware_dataset', 'TIGER-Lab/MathInstruct', 'Muennighoff/natural-instructions', 'openbookqa', 'kingbri/PIPPA-shareGPT', 'piqa', 'Vezora/Tested-22k-Python-Alpaca', 'ropes', 'cakiki/rosetta-code', 'Open-Orca/SlimOrca', 'b-mc2/sql-create-context', 'squad_v2', 'mattpscott/airoboros-summarization', 'migtissera/Synthia-v1.3', 'unalignment/toxic-dpo-v0.2', 'WhiteRabbitNeo/WRN-Chapter-1', 'WhiteRabbitNeo/WRN-Chapter-2', 'winogrande']",
         "41",
         "2024-04-02 10:03:27+00:00"
        ],
        [
         "3770",
         "text-generation",
         "662a060f1a8c3cbed1c312bc",
         "['ai2_arc', 'allenai/ultrafeedback_binarized_cleaned', 'argilla/distilabel-intel-orca-dpo-pairs', 'jondurbin/airoboros-3.2', 'codeparrot/apps', 'facebook/belebele', 'bluemoon-fandom-1-1-rp-cleaned', 'boolq', 'camel-ai/biology', 'camel-ai/chemistry', 'camel-ai/math', 'camel-ai/physics', 'jondurbin/contextual-dpo-v0.1', 'jondurbin/gutenberg-dpo-v0.1', 'jondurbin/py-dpo-v0.1', 'jondurbin/truthy-dpo-v0.1', 'LDJnr/Capybara', 'jondurbin/cinematika-v0.1', 'WizardLM/WizardLM_evol_instruct_70k', 'glaiveai/glaive-function-calling-v2', 'jondurbin/gutenberg-dpo-v0.1', 'grimulkan/LimaRP-augmented', 'lmsys/lmsys-chat-1m', 'ParisNeo/lollms_aware_dataset', 'TIGER-Lab/MathInstruct', 'Muennighoff/natural-instructions', 'openbookqa', 'kingbri/PIPPA-shareGPT', 'piqa', 'Vezora/Tested-22k-Python-Alpaca', 'ropes', 'cakiki/rosetta-code', 'Open-Orca/SlimOrca', 'b-mc2/sql-create-context', 'squad_v2', 'mattpscott/airoboros-summarization', 'migtissera/Synthia-v1.3', 'unalignment/toxic-dpo-v0.2', 'WhiteRabbitNeo/WRN-Chapter-1', 'WhiteRabbitNeo/WRN-Chapter-2', 'winogrande']",
         "41",
         "2024-04-25 07:28:15+00:00"
        ],
        [
         "18181",
         "text-generation",
         "663ff3324106f0d3384e2e62",
         "['ai2_arc', 'allenai/ultrafeedback_binarized_cleaned', 'argilla/distilabel-intel-orca-dpo-pairs', 'jondurbin/airoboros-3.2', 'codeparrot/apps', 'facebook/belebele', 'bluemoon-fandom-1-1-rp-cleaned', 'boolq', 'camel-ai/biology', 'camel-ai/chemistry', 'camel-ai/math', 'camel-ai/physics', 'jondurbin/contextual-dpo-v0.1', 'jondurbin/gutenberg-dpo-v0.1', 'jondurbin/py-dpo-v0.1', 'jondurbin/truthy-dpo-v0.1', 'LDJnr/Capybara', 'jondurbin/cinematika-v0.1', 'WizardLM/WizardLM_evol_instruct_70k', 'glaiveai/glaive-function-calling-v2', 'jondurbin/gutenberg-dpo-v0.1', 'grimulkan/LimaRP-augmented', 'lmsys/lmsys-chat-1m', 'ParisNeo/lollms_aware_dataset', 'TIGER-Lab/MathInstruct', 'Muennighoff/natural-instructions', 'openbookqa', 'kingbri/PIPPA-shareGPT', 'piqa', 'Vezora/Tested-22k-Python-Alpaca', 'ropes', 'cakiki/rosetta-code', 'Open-Orca/SlimOrca', 'b-mc2/sql-create-context', 'squad_v2', 'mattpscott/airoboros-summarization', 'migtissera/Synthia-v1.3', 'unalignment/toxic-dpo-v0.2', 'WhiteRabbitNeo/WRN-Chapter-1', 'WhiteRabbitNeo/WRN-Chapter-2', 'winogrande']",
         "41",
         "2024-05-11 22:37:38+00:00"
        ],
        [
         "12153",
         "text-generation",
         "661b98f68328f43c6aeecd7b",
         "['ai2_arc', 'allenai/ultrafeedback_binarized_cleaned', 'argilla/distilabel-intel-orca-dpo-pairs', 'jondurbin/airoboros-3.2', 'codeparrot/apps', 'facebook/belebele', 'bluemoon-fandom-1-1-rp-cleaned', 'boolq', 'camel-ai/biology', 'camel-ai/chemistry', 'camel-ai/math', 'camel-ai/physics', 'jondurbin/contextual-dpo-v0.1', 'jondurbin/gutenberg-dpo-v0.1', 'jondurbin/py-dpo-v0.1', 'jondurbin/truthy-dpo-v0.1', 'LDJnr/Capybara', 'jondurbin/cinematika-v0.1', 'WizardLM/WizardLM_evol_instruct_70k', 'glaiveai/glaive-function-calling-v2', 'jondurbin/gutenberg-dpo-v0.1', 'grimulkan/LimaRP-augmented', 'lmsys/lmsys-chat-1m', 'ParisNeo/lollms_aware_dataset', 'TIGER-Lab/MathInstruct', 'Muennighoff/natural-instructions', 'openbookqa', 'kingbri/PIPPA-shareGPT', 'piqa', 'Vezora/Tested-22k-Python-Alpaca', 'ropes', 'cakiki/rosetta-code', 'Open-Orca/SlimOrca', 'b-mc2/sql-create-context', 'squad_v2', 'mattpscott/airoboros-summarization', 'migtissera/Synthia-v1.3', 'unalignment/toxic-dpo-v0.2', 'WhiteRabbitNeo/WRN-Chapter-1', 'WhiteRabbitNeo/WRN-Chapter-2', 'winogrande']",
         "41",
         "2024-04-14 08:51:02+00:00"
        ],
        [
         "6569",
         "text-generation",
         "65c1876a5bf72d18116268af",
         "['allenai/ai2_arc', 'allenai/ultrafeedback_binarized_cleaned', 'argilla/distilabel-intel-orca-dpo-pairs', 'jondurbin/airoboros-3.2', 'codeparrot/apps', 'facebook/belebele', 'bluemoon-fandom-1-1-rp-cleaned', 'boolq', 'camel-ai/biology', 'camel-ai/chemistry', 'camel-ai/math', 'camel-ai/physics', 'jondurbin/contextual-dpo-v0.1', 'jondurbin/gutenberg-dpo-v0.1', 'jondurbin/py-dpo-v0.1', 'jondurbin/truthy-dpo-v0.1', 'LDJnr/Capybara', 'jondurbin/cinematika-v0.1', 'WizardLM/WizardLM_evol_instruct_70k', 'glaiveai/glaive-function-calling-v2', 'jondurbin/gutenberg-dpo-v0.1', 'grimulkan/LimaRP-augmented', 'lmsys/lmsys-chat-1m', 'ParisNeo/lollms_aware_dataset', 'TIGER-Lab/MathInstruct', 'Muennighoff/natural-instructions', 'openbookqa', 'kingbri/PIPPA-shareGPT', 'piqa', 'Vezora/Tested-22k-Python-Alpaca', 'ropes', 'cakiki/rosetta-code', 'Open-Orca/SlimOrca', 'b-mc2/sql-create-context', 'squad_v2', 'mattpscott/airoboros-summarization', 'migtissera/Synthia-v1.3', 'unalignment/toxic-dpo-v0.2', 'WhiteRabbitNeo/WRN-Chapter-1', 'WhiteRabbitNeo/WRN-Chapter-2', 'winogrande']",
         "41",
         "2024-02-06 01:12:10+00:00"
        ],
        [
         "16593",
         "text-generation",
         "65d198ef563be22cb9d958fd",
         "['ai2_arc', 'allenai/ultrafeedback_binarized_cleaned', 'argilla/distilabel-intel-orca-dpo-pairs', 'jondurbin/airoboros-3.2', 'codeparrot/apps', 'facebook/belebele', 'bluemoon-fandom-1-1-rp-cleaned', 'boolq', 'camel-ai/biology', 'camel-ai/chemistry', 'camel-ai/math', 'camel-ai/physics', 'jondurbin/contextual-dpo-v0.1', 'jondurbin/gutenberg-dpo-v0.1', 'jondurbin/py-dpo-v0.1', 'jondurbin/truthy-dpo-v0.1', 'LDJnr/Capybara', 'jondurbin/cinematika-v0.1', 'WizardLM/WizardLM_evol_instruct_70k', 'glaiveai/glaive-function-calling-v2', 'jondurbin/gutenberg-dpo-v0.1', 'grimulkan/LimaRP-augmented', 'lmsys/lmsys-chat-1m', 'ParisNeo/lollms_aware_dataset', 'TIGER-Lab/MathInstruct', 'Muennighoff/natural-instructions', 'openbookqa', 'kingbri/PIPPA-shareGPT', 'piqa', 'Vezora/Tested-22k-Python-Alpaca', 'ropes', 'cakiki/rosetta-code', 'Open-Orca/SlimOrca', 'b-mc2/sql-create-context', 'squad_v2', 'mattpscott/airoboros-summarization', 'migtissera/Synthia-v1.3', 'unalignment/toxic-dpo-v0.2', 'WhiteRabbitNeo/WRN-Chapter-1', 'WhiteRabbitNeo/WRN-Chapter-2', 'winogrande']",
         "41",
         "2024-02-18 05:43:11+00:00"
        ],
        [
         "21733",
         "text-generation",
         "661c0ac4e0deea00d60c8b99",
         "['ai2_arc', 'allenai/ultrafeedback_binarized_cleaned', 'argilla/distilabel-intel-orca-dpo-pairs', 'jondurbin/airoboros-3.2', 'codeparrot/apps', 'facebook/belebele', 'bluemoon-fandom-1-1-rp-cleaned', 'boolq', 'camel-ai/biology', 'camel-ai/chemistry', 'camel-ai/math', 'camel-ai/physics', 'jondurbin/contextual-dpo-v0.1', 'jondurbin/gutenberg-dpo-v0.1', 'jondurbin/py-dpo-v0.1', 'jondurbin/truthy-dpo-v0.1', 'LDJnr/Capybara', 'jondurbin/cinematika-v0.1', 'WizardLM/WizardLM_evol_instruct_70k', 'glaiveai/glaive-function-calling-v2', 'jondurbin/gutenberg-dpo-v0.1', 'grimulkan/LimaRP-augmented', 'lmsys/lmsys-chat-1m', 'ParisNeo/lollms_aware_dataset', 'TIGER-Lab/MathInstruct', 'Muennighoff/natural-instructions', 'openbookqa', 'kingbri/PIPPA-shareGPT', 'piqa', 'Vezora/Tested-22k-Python-Alpaca', 'ropes', 'cakiki/rosetta-code', 'Open-Orca/SlimOrca', 'b-mc2/sql-create-context', 'squad_v2', 'mattpscott/airoboros-summarization', 'migtissera/Synthia-v1.3', 'unalignment/toxic-dpo-v0.2', 'WhiteRabbitNeo/WRN-Chapter-1', 'WhiteRabbitNeo/WRN-Chapter-2', 'winogrande']",
         "41",
         "2024-04-14 16:56:36+00:00"
        ],
        [
         "22218",
         "text-generation",
         "663e38399db90bc81c7d5bdf",
         "['ai2_arc', 'allenai/ultrafeedback_binarized_cleaned', 'argilla/distilabel-intel-orca-dpo-pairs', 'jondurbin/airoboros-3.2', 'codeparrot/apps', 'facebook/belebele', 'bluemoon-fandom-1-1-rp-cleaned', 'boolq', 'camel-ai/biology', 'camel-ai/chemistry', 'camel-ai/math', 'camel-ai/physics', 'jondurbin/contextual-dpo-v0.1', 'jondurbin/gutenberg-dpo-v0.1', 'jondurbin/py-dpo-v0.1', 'jondurbin/truthy-dpo-v0.1', 'LDJnr/Capybara', 'jondurbin/cinematika-v0.1', 'WizardLM/WizardLM_evol_instruct_70k', 'glaiveai/glaive-function-calling-v2', 'jondurbin/gutenberg-dpo-v0.1', 'grimulkan/LimaRP-augmented', 'lmsys/lmsys-chat-1m', 'ParisNeo/lollms_aware_dataset', 'TIGER-Lab/MathInstruct', 'Muennighoff/natural-instructions', 'openbookqa', 'kingbri/PIPPA-shareGPT', 'piqa', 'Vezora/Tested-22k-Python-Alpaca', 'ropes', 'cakiki/rosetta-code', 'Open-Orca/SlimOrca', 'b-mc2/sql-create-context', 'squad_v2', 'mattpscott/airoboros-summarization', 'migtissera/Synthia-v1.3', 'unalignment/toxic-dpo-v0.2', 'WhiteRabbitNeo/WRN-Chapter-1', 'WhiteRabbitNeo/WRN-Chapter-2', 'winogrande']",
         "41",
         "2024-05-10 15:07:37+00:00"
        ],
        [
         "18775",
         "text-generation",
         "65c4e83375fc28f8b2fb4fd0",
         "['ai2_arc', 'allenai/ultrafeedback_binarized_cleaned', 'argilla/distilabel-intel-orca-dpo-pairs', 'jondurbin/airoboros-3.2', 'codeparrot/apps', 'facebook/belebele', 'bluemoon-fandom-1-1-rp-cleaned', 'boolq', 'camel-ai/biology', 'camel-ai/chemistry', 'camel-ai/math', 'camel-ai/physics', 'jondurbin/contextual-dpo-v0.1', 'jondurbin/gutenberg-dpo-v0.1', 'jondurbin/py-dpo-v0.1', 'jondurbin/truthy-dpo-v0.1', 'LDJnr/Capybara', 'jondurbin/cinematika-v0.1', 'WizardLM/WizardLM_evol_instruct_70k', 'glaiveai/glaive-function-calling-v2', 'jondurbin/gutenberg-dpo-v0.1', 'grimulkan/LimaRP-augmented', 'lmsys/lmsys-chat-1m', 'ParisNeo/lollms_aware_dataset', 'TIGER-Lab/MathInstruct', 'Muennighoff/natural-instructions', 'openbookqa', 'kingbri/PIPPA-shareGPT', 'piqa', 'Vezora/Tested-22k-Python-Alpaca', 'ropes', 'cakiki/rosetta-code', 'Open-Orca/SlimOrca', 'b-mc2/sql-create-context', 'squad_v2', 'mattpscott/airoboros-summarization', 'migtissera/Synthia-v1.3', 'unalignment/toxic-dpo-v0.2', 'WhiteRabbitNeo/WRN-Chapter-1', 'WhiteRabbitNeo/WRN-Chapter-2', 'winogrande']",
         "41",
         "2024-02-08 14:41:55+00:00"
        ],
        [
         "26299",
         "feature-extraction",
         "65c4ae24dfc61faac8bd1ac3",
         "['ai2_arc', 'allenai/ultrafeedback_binarized_cleaned', 'argilla/distilabel-intel-orca-dpo-pairs', 'jondurbin/airoboros-3.2', 'codeparrot/apps', 'facebook/belebele', 'bluemoon-fandom-1-1-rp-cleaned', 'boolq', 'camel-ai/biology', 'camel-ai/chemistry', 'camel-ai/math', 'camel-ai/physics', 'jondurbin/contextual-dpo-v0.1', 'jondurbin/gutenberg-dpo-v0.1', 'jondurbin/py-dpo-v0.1', 'jondurbin/truthy-dpo-v0.1', 'LDJnr/Capybara', 'jondurbin/cinematika-v0.1', 'WizardLM/WizardLM_evol_instruct_70k', 'glaiveai/glaive-function-calling-v2', 'jondurbin/gutenberg-dpo-v0.1', 'grimulkan/LimaRP-augmented', 'lmsys/lmsys-chat-1m', 'ParisNeo/lollms_aware_dataset', 'TIGER-Lab/MathInstruct', 'Muennighoff/natural-instructions', 'openbookqa', 'kingbri/PIPPA-shareGPT', 'piqa', 'Vezora/Tested-22k-Python-Alpaca', 'ropes', 'cakiki/rosetta-code', 'Open-Orca/SlimOrca', 'b-mc2/sql-create-context', 'squad_v2', 'mattpscott/airoboros-summarization', 'migtissera/Synthia-v1.3', 'unalignment/toxic-dpo-v0.2', 'WhiteRabbitNeo/WRN-Chapter-1', 'WhiteRabbitNeo/WRN-Chapter-2', 'winogrande']",
         "41",
         "2024-02-08 10:34:12+00:00"
        ],
        [
         "21215",
         "text-generation",
         "65da95856d290f6b90f365e5",
         "['allenai/ai2_arc', 'allenai/ultrafeedback_binarized_cleaned', 'argilla/distilabel-intel-orca-dpo-pairs', 'jondurbin/airoboros-3.2', 'codeparrot/apps', 'facebook/belebele', 'bluemoon-fandom-1-1-rp-cleaned', 'boolq', 'camel-ai/biology', 'camel-ai/chemistry', 'camel-ai/math', 'camel-ai/physics', 'jondurbin/contextual-dpo-v0.1', 'jondurbin/gutenberg-dpo-v0.1', 'jondurbin/py-dpo-v0.1', 'jondurbin/truthy-dpo-v0.1', 'LDJnr/Capybara', 'jondurbin/cinematika-v0.1', 'WizardLM/WizardLM_evol_instruct_70k', 'glaiveai/glaive-function-calling-v2', 'jondurbin/gutenberg-dpo-v0.1', 'grimulkan/LimaRP-augmented', 'lmsys/lmsys-chat-1m', 'ParisNeo/lollms_aware_dataset', 'TIGER-Lab/MathInstruct', 'Muennighoff/natural-instructions', 'openbookqa', 'kingbri/PIPPA-shareGPT', 'piqa', 'Vezora/Tested-22k-Python-Alpaca', 'ropes', 'cakiki/rosetta-code', 'Open-Orca/SlimOrca', 'b-mc2/sql-create-context', 'squad_v2', 'mattpscott/airoboros-summarization', 'migtissera/Synthia-v1.3', 'unalignment/toxic-dpo-v0.2', 'WhiteRabbitNeo/WRN-Chapter-1', 'WhiteRabbitNeo/WRN-Chapter-2', 'winogrande']",
         "41",
         "2024-02-25 01:19:01+00:00"
        ],
        [
         "17616",
         "text-generation",
         "660ae906940a8ab2b201139b",
         "['ai2_arc', 'allenai/ultrafeedback_binarized_cleaned', 'argilla/distilabel-intel-orca-dpo-pairs', 'jondurbin/airoboros-3.2', 'codeparrot/apps', 'facebook/belebele', 'bluemoon-fandom-1-1-rp-cleaned', 'boolq', 'camel-ai/biology', 'camel-ai/chemistry', 'camel-ai/math', 'camel-ai/physics', 'jondurbin/contextual-dpo-v0.1', 'jondurbin/gutenberg-dpo-v0.1', 'jondurbin/py-dpo-v0.1', 'jondurbin/truthy-dpo-v0.1', 'LDJnr/Capybara', 'jondurbin/cinematika-v0.1', 'WizardLM/WizardLM_evol_instruct_70k', 'glaiveai/glaive-function-calling-v2', 'jondurbin/gutenberg-dpo-v0.1', 'grimulkan/LimaRP-augmented', 'lmsys/lmsys-chat-1m', 'ParisNeo/lollms_aware_dataset', 'TIGER-Lab/MathInstruct', 'Muennighoff/natural-instructions', 'openbookqa', 'kingbri/PIPPA-shareGPT', 'piqa', 'Vezora/Tested-22k-Python-Alpaca', 'ropes', 'cakiki/rosetta-code', 'Open-Orca/SlimOrca', 'b-mc2/sql-create-context', 'squad_v2', 'mattpscott/airoboros-summarization', 'migtissera/Synthia-v1.3', 'unalignment/toxic-dpo-v0.2', 'WhiteRabbitNeo/WRN-Chapter-1', 'WhiteRabbitNeo/WRN-Chapter-2', 'winogrande']",
         "41",
         "2024-04-01 17:04:06+00:00"
        ],
        [
         "25482",
         "text-generation",
         "660d415742553a2a3f7d5c7c",
         "['allenai/ai2_arc', 'allenai/ultrafeedback_binarized_cleaned', 'argilla/distilabel-intel-orca-dpo-pairs', 'jondurbin/airoboros-3.2', 'codeparrot/apps', 'facebook/belebele', 'bluemoon-fandom-1-1-rp-cleaned', 'boolq', 'camel-ai/biology', 'camel-ai/chemistry', 'camel-ai/math', 'camel-ai/physics', 'jondurbin/contextual-dpo-v0.1', 'jondurbin/gutenberg-dpo-v0.1', 'jondurbin/py-dpo-v0.1', 'jondurbin/truthy-dpo-v0.1', 'LDJnr/Capybara', 'jondurbin/cinematika-v0.1', 'WizardLM/WizardLM_evol_instruct_70k', 'glaiveai/glaive-function-calling-v2', 'jondurbin/gutenberg-dpo-v0.1', 'grimulkan/LimaRP-augmented', 'lmsys/lmsys-chat-1m', 'ParisNeo/lollms_aware_dataset', 'TIGER-Lab/MathInstruct', 'Muennighoff/natural-instructions', 'openbookqa', 'kingbri/PIPPA-shareGPT', 'piqa', 'Vezora/Tested-22k-Python-Alpaca', 'ropes', 'cakiki/rosetta-code', 'Open-Orca/SlimOrca', 'b-mc2/sql-create-context', 'squad_v2', 'mattpscott/airoboros-summarization', 'migtissera/Synthia-v1.3', 'unalignment/toxic-dpo-v0.2', 'WhiteRabbitNeo/WRN-Chapter-1', 'WhiteRabbitNeo/WRN-Chapter-2', 'winogrande']",
         "41",
         "2024-04-03 11:45:27+00:00"
        ],
        [
         "9908",
         "text-generation",
         "66191c2ea354761ccffe713f",
         "['ai2_arc', 'allenai/ultrafeedback_binarized_cleaned', 'argilla/distilabel-intel-orca-dpo-pairs', 'jondurbin/airoboros-3.2', 'codeparrot/apps', 'facebook/belebele', 'bluemoon-fandom-1-1-rp-cleaned', 'boolq', 'camel-ai/biology', 'camel-ai/chemistry', 'camel-ai/math', 'camel-ai/physics', 'jondurbin/contextual-dpo-v0.1', 'jondurbin/gutenberg-dpo-v0.1', 'jondurbin/py-dpo-v0.1', 'jondurbin/truthy-dpo-v0.1', 'LDJnr/Capybara', 'jondurbin/cinematika-v0.1', 'WizardLM/WizardLM_evol_instruct_70k', 'glaiveai/glaive-function-calling-v2', 'jondurbin/gutenberg-dpo-v0.1', 'grimulkan/LimaRP-augmented', 'lmsys/lmsys-chat-1m', 'ParisNeo/lollms_aware_dataset', 'TIGER-Lab/MathInstruct', 'Muennighoff/natural-instructions', 'openbookqa', 'kingbri/PIPPA-shareGPT', 'piqa', 'Vezora/Tested-22k-Python-Alpaca', 'ropes', 'cakiki/rosetta-code', 'Open-Orca/SlimOrca', 'b-mc2/sql-create-context', 'squad_v2', 'mattpscott/airoboros-summarization', 'migtissera/Synthia-v1.3', 'unalignment/toxic-dpo-v0.2', 'WhiteRabbitNeo/WRN-Chapter-1', 'WhiteRabbitNeo/WRN-Chapter-2', 'winogrande']",
         "41",
         "2024-04-12 11:34:06+00:00"
        ],
        [
         "19097",
         "text-generation",
         "65cc42babdb6a2941c725781",
         "['allenai/ai2_arc', 'allenai/ultrafeedback_binarized_cleaned', 'argilla/distilabel-intel-orca-dpo-pairs', 'jondurbin/airoboros-3.2', 'codeparrot/apps', 'facebook/belebele', 'bluemoon-fandom-1-1-rp-cleaned', 'boolq', 'camel-ai/biology', 'camel-ai/chemistry', 'camel-ai/math', 'camel-ai/physics', 'jondurbin/contextual-dpo-v0.1', 'jondurbin/gutenberg-dpo-v0.1', 'jondurbin/py-dpo-v0.1', 'jondurbin/truthy-dpo-v0.1', 'LDJnr/Capybara', 'jondurbin/cinematika-v0.1', 'WizardLM/WizardLM_evol_instruct_70k', 'glaiveai/glaive-function-calling-v2', 'jondurbin/gutenberg-dpo-v0.1', 'grimulkan/LimaRP-augmented', 'lmsys/lmsys-chat-1m', 'ParisNeo/lollms_aware_dataset', 'TIGER-Lab/MathInstruct', 'Muennighoff/natural-instructions', 'openbookqa', 'kingbri/PIPPA-shareGPT', 'piqa', 'Vezora/Tested-22k-Python-Alpaca', 'ropes', 'cakiki/rosetta-code', 'Open-Orca/SlimOrca', 'b-mc2/sql-create-context', 'squad_v2', 'mattpscott/airoboros-summarization', 'migtissera/Synthia-v1.3', 'unalignment/toxic-dpo-v0.2', 'WhiteRabbitNeo/WRN-Chapter-1', 'WhiteRabbitNeo/WRN-Chapter-2', 'winogrande']",
         "41",
         "2024-02-14 04:34:02+00:00"
        ],
        [
         "4959",
         "text-generation",
         "661c098abc94325f65e3340d",
         "['ai2_arc', 'allenai/ultrafeedback_binarized_cleaned', 'argilla/distilabel-intel-orca-dpo-pairs', 'jondurbin/airoboros-3.2', 'codeparrot/apps', 'facebook/belebele', 'bluemoon-fandom-1-1-rp-cleaned', 'boolq', 'camel-ai/biology', 'camel-ai/chemistry', 'camel-ai/math', 'camel-ai/physics', 'jondurbin/contextual-dpo-v0.1', 'jondurbin/gutenberg-dpo-v0.1', 'jondurbin/py-dpo-v0.1', 'jondurbin/truthy-dpo-v0.1', 'LDJnr/Capybara', 'jondurbin/cinematika-v0.1', 'WizardLM/WizardLM_evol_instruct_70k', 'glaiveai/glaive-function-calling-v2', 'jondurbin/gutenberg-dpo-v0.1', 'grimulkan/LimaRP-augmented', 'lmsys/lmsys-chat-1m', 'ParisNeo/lollms_aware_dataset', 'TIGER-Lab/MathInstruct', 'Muennighoff/natural-instructions', 'openbookqa', 'kingbri/PIPPA-shareGPT', 'piqa', 'Vezora/Tested-22k-Python-Alpaca', 'ropes', 'cakiki/rosetta-code', 'Open-Orca/SlimOrca', 'b-mc2/sql-create-context', 'squad_v2', 'mattpscott/airoboros-summarization', 'migtissera/Synthia-v1.3', 'unalignment/toxic-dpo-v0.2', 'WhiteRabbitNeo/WRN-Chapter-1', 'WhiteRabbitNeo/WRN-Chapter-2', 'winogrande']",
         "41",
         "2024-04-14 16:51:22+00:00"
        ],
        [
         "23374",
         "text-generation",
         "663e3671133e39d12511deba",
         "['ai2_arc', 'allenai/ultrafeedback_binarized_cleaned', 'argilla/distilabel-intel-orca-dpo-pairs', 'jondurbin/airoboros-3.2', 'codeparrot/apps', 'facebook/belebele', 'bluemoon-fandom-1-1-rp-cleaned', 'boolq', 'camel-ai/biology', 'camel-ai/chemistry', 'camel-ai/math', 'camel-ai/physics', 'jondurbin/contextual-dpo-v0.1', 'jondurbin/gutenberg-dpo-v0.1', 'jondurbin/py-dpo-v0.1', 'jondurbin/truthy-dpo-v0.1', 'LDJnr/Capybara', 'jondurbin/cinematika-v0.1', 'WizardLM/WizardLM_evol_instruct_70k', 'glaiveai/glaive-function-calling-v2', 'jondurbin/gutenberg-dpo-v0.1', 'grimulkan/LimaRP-augmented', 'lmsys/lmsys-chat-1m', 'ParisNeo/lollms_aware_dataset', 'TIGER-Lab/MathInstruct', 'Muennighoff/natural-instructions', 'openbookqa', 'kingbri/PIPPA-shareGPT', 'piqa', 'Vezora/Tested-22k-Python-Alpaca', 'ropes', 'cakiki/rosetta-code', 'Open-Orca/SlimOrca', 'b-mc2/sql-create-context', 'squad_v2', 'mattpscott/airoboros-summarization', 'migtissera/Synthia-v1.3', 'unalignment/toxic-dpo-v0.2', 'WhiteRabbitNeo/WRN-Chapter-1', 'WhiteRabbitNeo/WRN-Chapter-2', 'winogrande']",
         "41",
         "2024-05-10 15:00:01+00:00"
        ],
        [
         "23125",
         "text-generation",
         "662ed09a01e4fa6f0123e61d",
         "['ai2_arc', 'allenai/ultrafeedback_binarized_cleaned', 'argilla/distilabel-intel-orca-dpo-pairs', 'jondurbin/airoboros-3.2', 'codeparrot/apps', 'facebook/belebele', 'bluemoon-fandom-1-1-rp-cleaned', 'boolq', 'camel-ai/biology', 'camel-ai/chemistry', 'camel-ai/math', 'camel-ai/physics', 'jondurbin/contextual-dpo-v0.1', 'jondurbin/gutenberg-dpo-v0.1', 'jondurbin/py-dpo-v0.1', 'jondurbin/truthy-dpo-v0.1', 'LDJnr/Capybara', 'jondurbin/cinematika-v0.1', 'WizardLM/WizardLM_evol_instruct_70k', 'glaiveai/glaive-function-calling-v2', 'jondurbin/gutenberg-dpo-v0.1', 'grimulkan/LimaRP-augmented', 'lmsys/lmsys-chat-1m', 'ParisNeo/lollms_aware_dataset', 'TIGER-Lab/MathInstruct', 'Muennighoff/natural-instructions', 'openbookqa', 'kingbri/PIPPA-shareGPT', 'piqa', 'Vezora/Tested-22k-Python-Alpaca', 'ropes', 'cakiki/rosetta-code', 'Open-Orca/SlimOrca', 'b-mc2/sql-create-context', 'squad_v2', 'mattpscott/airoboros-summarization', 'migtissera/Synthia-v1.3', 'unalignment/toxic-dpo-v0.2', 'WhiteRabbitNeo/WRN-Chapter-1', 'WhiteRabbitNeo/WRN-Chapter-2', 'winogrande']",
         "41",
         "2024-04-28 22:41:30+00:00"
        ],
        [
         "23872",
         "text-generation",
         "662a1b8654342a1dc943ff73",
         "['ai2_arc', 'allenai/ultrafeedback_binarized_cleaned', 'argilla/distilabel-intel-orca-dpo-pairs', 'jondurbin/airoboros-3.2', 'codeparrot/apps', 'facebook/belebele', 'bluemoon-fandom-1-1-rp-cleaned', 'boolq', 'camel-ai/biology', 'camel-ai/chemistry', 'camel-ai/math', 'camel-ai/physics', 'jondurbin/contextual-dpo-v0.1', 'jondurbin/gutenberg-dpo-v0.1', 'jondurbin/py-dpo-v0.1', 'jondurbin/truthy-dpo-v0.1', 'LDJnr/Capybara', 'jondurbin/cinematika-v0.1', 'WizardLM/WizardLM_evol_instruct_70k', 'glaiveai/glaive-function-calling-v2', 'jondurbin/gutenberg-dpo-v0.1', 'grimulkan/LimaRP-augmented', 'lmsys/lmsys-chat-1m', 'ParisNeo/lollms_aware_dataset', 'TIGER-Lab/MathInstruct', 'Muennighoff/natural-instructions', 'openbookqa', 'kingbri/PIPPA-shareGPT', 'piqa', 'Vezora/Tested-22k-Python-Alpaca', 'ropes', 'cakiki/rosetta-code', 'Open-Orca/SlimOrca', 'b-mc2/sql-create-context', 'squad_v2', 'mattpscott/airoboros-summarization', 'migtissera/Synthia-v1.3', 'unalignment/toxic-dpo-v0.2', 'WhiteRabbitNeo/WRN-Chapter-1', 'WhiteRabbitNeo/WRN-Chapter-2', 'winogrande']",
         "41",
         "2024-04-25 08:59:50+00:00"
        ],
        [
         "14635",
         "text-generation",
         "661cd1908921f03a9dbbe0ee",
         "['ai2_arc', 'allenai/ultrafeedback_binarized_cleaned', 'argilla/distilabel-intel-orca-dpo-pairs', 'jondurbin/airoboros-3.2', 'codeparrot/apps', 'facebook/belebele', 'bluemoon-fandom-1-1-rp-cleaned', 'boolq', 'camel-ai/biology', 'camel-ai/chemistry', 'camel-ai/math', 'camel-ai/physics', 'jondurbin/contextual-dpo-v0.1', 'jondurbin/gutenberg-dpo-v0.1', 'jondurbin/py-dpo-v0.1', 'jondurbin/truthy-dpo-v0.1', 'LDJnr/Capybara', 'jondurbin/cinematika-v0.1', 'WizardLM/WizardLM_evol_instruct_70k', 'glaiveai/glaive-function-calling-v2', 'jondurbin/gutenberg-dpo-v0.1', 'grimulkan/LimaRP-augmented', 'lmsys/lmsys-chat-1m', 'ParisNeo/lollms_aware_dataset', 'TIGER-Lab/MathInstruct', 'Muennighoff/natural-instructions', 'openbookqa', 'kingbri/PIPPA-shareGPT', 'piqa', 'Vezora/Tested-22k-Python-Alpaca', 'ropes', 'cakiki/rosetta-code', 'Open-Orca/SlimOrca', 'b-mc2/sql-create-context', 'squad_v2', 'mattpscott/airoboros-summarization', 'migtissera/Synthia-v1.3', 'unalignment/toxic-dpo-v0.2', 'WhiteRabbitNeo/WRN-Chapter-1', 'WhiteRabbitNeo/WRN-Chapter-2', 'winogrande']",
         "41",
         "2024-04-15 07:04:48+00:00"
        ],
        [
         "23689",
         "text-generation",
         "65bf5a3052edc430286591f9",
         "['ai2_arc', 'allenai/ultrafeedback_binarized_cleaned', 'argilla/distilabel-intel-orca-dpo-pairs', 'jondurbin/airoboros-3.2', 'codeparrot/apps', 'facebook/belebele', 'bluemoon-fandom-1-1-rp-cleaned', 'boolq', 'camel-ai/biology', 'camel-ai/chemistry', 'camel-ai/math', 'camel-ai/physics', 'jondurbin/contextual-dpo-v0.1', 'jondurbin/gutenberg-dpo-v0.1', 'jondurbin/py-dpo-v0.1', 'jondurbin/truthy-dpo-v0.1', 'LDJnr/Capybara', 'jondurbin/cinematika-v0.1', 'WizardLM/WizardLM_evol_instruct_70k', 'glaiveai/glaive-function-calling-v2', 'jondurbin/gutenberg-dpo-v0.1', 'grimulkan/LimaRP-augmented', 'lmsys/lmsys-chat-1m', 'ParisNeo/lollms_aware_dataset', 'TIGER-Lab/MathInstruct', 'Muennighoff/natural-instructions', 'openbookqa', 'kingbri/PIPPA-shareGPT', 'piqa', 'Vezora/Tested-22k-Python-Alpaca', 'ropes', 'cakiki/rosetta-code', 'Open-Orca/SlimOrca', 'b-mc2/sql-create-context', 'squad_v2', 'mattpscott/airoboros-summarization', 'migtissera/Synthia-v1.3', 'unalignment/toxic-dpo-v0.2', 'WhiteRabbitNeo/WRN-Chapter-1', 'WhiteRabbitNeo/WRN-Chapter-2', 'winogrande']",
         "41",
         "2024-02-04 09:34:40+00:00"
        ],
        [
         "3762",
         "text-generation",
         "663e36f2d4746a23ec1178c4",
         "['ai2_arc', 'allenai/ultrafeedback_binarized_cleaned', 'argilla/distilabel-intel-orca-dpo-pairs', 'jondurbin/airoboros-3.2', 'codeparrot/apps', 'facebook/belebele', 'bluemoon-fandom-1-1-rp-cleaned', 'boolq', 'camel-ai/biology', 'camel-ai/chemistry', 'camel-ai/math', 'camel-ai/physics', 'jondurbin/contextual-dpo-v0.1', 'jondurbin/gutenberg-dpo-v0.1', 'jondurbin/py-dpo-v0.1', 'jondurbin/truthy-dpo-v0.1', 'LDJnr/Capybara', 'jondurbin/cinematika-v0.1', 'WizardLM/WizardLM_evol_instruct_70k', 'glaiveai/glaive-function-calling-v2', 'jondurbin/gutenberg-dpo-v0.1', 'grimulkan/LimaRP-augmented', 'lmsys/lmsys-chat-1m', 'ParisNeo/lollms_aware_dataset', 'TIGER-Lab/MathInstruct', 'Muennighoff/natural-instructions', 'openbookqa', 'kingbri/PIPPA-shareGPT', 'piqa', 'Vezora/Tested-22k-Python-Alpaca', 'ropes', 'cakiki/rosetta-code', 'Open-Orca/SlimOrca', 'b-mc2/sql-create-context', 'squad_v2', 'mattpscott/airoboros-summarization', 'migtissera/Synthia-v1.3', 'unalignment/toxic-dpo-v0.2', 'WhiteRabbitNeo/WRN-Chapter-1', 'WhiteRabbitNeo/WRN-Chapter-2', 'winogrande']",
         "41",
         "2024-05-10 15:02:10+00:00"
        ],
        [
         "11219",
         "text-generation",
         "65d19302818f0593464d3cbb",
         "['ai2_arc', 'allenai/ultrafeedback_binarized_cleaned', 'argilla/distilabel-intel-orca-dpo-pairs', 'jondurbin/airoboros-3.2', 'codeparrot/apps', 'facebook/belebele', 'bluemoon-fandom-1-1-rp-cleaned', 'boolq', 'camel-ai/biology', 'camel-ai/chemistry', 'camel-ai/math', 'camel-ai/physics', 'jondurbin/contextual-dpo-v0.1', 'jondurbin/gutenberg-dpo-v0.1', 'jondurbin/py-dpo-v0.1', 'jondurbin/truthy-dpo-v0.1', 'LDJnr/Capybara', 'jondurbin/cinematika-v0.1', 'WizardLM/WizardLM_evol_instruct_70k', 'glaiveai/glaive-function-calling-v2', 'jondurbin/gutenberg-dpo-v0.1', 'grimulkan/LimaRP-augmented', 'lmsys/lmsys-chat-1m', 'ParisNeo/lollms_aware_dataset', 'TIGER-Lab/MathInstruct', 'Muennighoff/natural-instructions', 'openbookqa', 'kingbri/PIPPA-shareGPT', 'piqa', 'Vezora/Tested-22k-Python-Alpaca', 'ropes', 'cakiki/rosetta-code', 'Open-Orca/SlimOrca', 'b-mc2/sql-create-context', 'squad_v2', 'mattpscott/airoboros-summarization', 'migtissera/Synthia-v1.3', 'unalignment/toxic-dpo-v0.2', 'WhiteRabbitNeo/WRN-Chapter-1', 'WhiteRabbitNeo/WRN-Chapter-2', 'winogrande']",
         "41",
         "2024-02-18 05:17:54+00:00"
        ]
       ],
       "shape": {
        "columns": 5,
        "rows": 59834
       }
      },
      "text/html": [
       "<div>\n",
       "<style scoped>\n",
       "    .dataframe tbody tr th:only-of-type {\n",
       "        vertical-align: middle;\n",
       "    }\n",
       "\n",
       "    .dataframe tbody tr th {\n",
       "        vertical-align: top;\n",
       "    }\n",
       "\n",
       "    .dataframe thead th {\n",
       "        text-align: right;\n",
       "    }\n",
       "</style>\n",
       "<table border=\"1\" class=\"dataframe\">\n",
       "  <thead>\n",
       "    <tr style=\"text-align: right;\">\n",
       "      <th></th>\n",
       "      <th>task</th>\n",
       "      <th>model</th>\n",
       "      <th>dataset</th>\n",
       "      <th>dataset_count</th>\n",
       "      <th>created_at</th>\n",
       "    </tr>\n",
       "  </thead>\n",
       "  <tbody>\n",
       "    <tr>\n",
       "      <th>36726</th>\n",
       "      <td>text-classification</td>\n",
       "      <td>65ba36c403bb6d3836afbee3</td>\n",
       "      <td>[nyu-mll/glue, aps/super_glue, facebook/anli, ...</td>\n",
       "      <td>289</td>\n",
       "      <td>2024-01-31 12:02:12+00:00</td>\n",
       "    </tr>\n",
       "    <tr>\n",
       "      <th>32763</th>\n",
       "      <td>zero-shot-classification</td>\n",
       "      <td>65ba36c403bb6d3836afbee3</td>\n",
       "      <td>[nyu-mll/glue, aps/super_glue, facebook/anli, ...</td>\n",
       "      <td>289</td>\n",
       "      <td>2024-01-31 12:02:12+00:00</td>\n",
       "    </tr>\n",
       "    <tr>\n",
       "      <th>32773</th>\n",
       "      <td>zero-shot-classification</td>\n",
       "      <td>667ec118ba80b56c0f3735de</td>\n",
       "      <td>[nyu-mll/glue, aps/super_glue, facebook/anli, ...</td>\n",
       "      <td>288</td>\n",
       "      <td>2024-06-28 13:56:40+00:00</td>\n",
       "    </tr>\n",
       "    <tr>\n",
       "      <th>41731</th>\n",
       "      <td>text-classification</td>\n",
       "      <td>6704614606af66752cbcf0ab</td>\n",
       "      <td>[nyu-mll/glue, aps/super_glue, facebook/anli, ...</td>\n",
       "      <td>288</td>\n",
       "      <td>2024-10-07 22:31:34+00:00</td>\n",
       "    </tr>\n",
       "    <tr>\n",
       "      <th>37228</th>\n",
       "      <td>text-classification</td>\n",
       "      <td>667ec118ba80b56c0f3735de</td>\n",
       "      <td>[nyu-mll/glue, aps/super_glue, facebook/anli, ...</td>\n",
       "      <td>288</td>\n",
       "      <td>2024-06-28 13:56:40+00:00</td>\n",
       "    </tr>\n",
       "    <tr>\n",
       "      <th>...</th>\n",
       "      <td>...</td>\n",
       "      <td>...</td>\n",
       "      <td>...</td>\n",
       "      <td>...</td>\n",
       "      <td>...</td>\n",
       "    </tr>\n",
       "    <tr>\n",
       "      <th>23324</th>\n",
       "      <td>text-generation</td>\n",
       "      <td>621ffdc136468d709f17bc9c</td>\n",
       "      <td>[huggingartists/loud-luxury]</td>\n",
       "      <td>1</td>\n",
       "      <td>2022-03-02 23:29:05+00:00</td>\n",
       "    </tr>\n",
       "    <tr>\n",
       "      <th>23328</th>\n",
       "      <td>text-generation</td>\n",
       "      <td>63eb7df40373fa4984ea776b</td>\n",
       "      <td>[imdb]</td>\n",
       "      <td>1</td>\n",
       "      <td>2023-02-14 12:26:28+00:00</td>\n",
       "    </tr>\n",
       "    <tr>\n",
       "      <th>23330</th>\n",
       "      <td>text-generation</td>\n",
       "      <td>65093495f6a2bf0be7bc0325</td>\n",
       "      <td>[starmpcc/Asclepius-Synthetic-Clinical-Notes]</td>\n",
       "      <td>1</td>\n",
       "      <td>2023-09-19 05:41:41+00:00</td>\n",
       "    </tr>\n",
       "    <tr>\n",
       "      <th>23331</th>\n",
       "      <td>text-generation</td>\n",
       "      <td>6715b8a73edd22e4483e1382</td>\n",
       "      <td>[nvidia/HelpSteer2]</td>\n",
       "      <td>1</td>\n",
       "      <td>2024-10-21 02:12:55+00:00</td>\n",
       "    </tr>\n",
       "    <tr>\n",
       "      <th>59833</th>\n",
       "      <td>fill-mask</td>\n",
       "      <td>64ac920609d1b58891dc71d0</td>\n",
       "      <td>[dlb/mentalreddit]</td>\n",
       "      <td>1</td>\n",
       "      <td>2023-07-10 23:19:34+00:00</td>\n",
       "    </tr>\n",
       "  </tbody>\n",
       "</table>\n",
       "<p>59834 rows × 5 columns</p>\n",
       "</div>"
      ],
      "text/plain": [
       "                           task                     model  \\\n",
       "36726       text-classification  65ba36c403bb6d3836afbee3   \n",
       "32763  zero-shot-classification  65ba36c403bb6d3836afbee3   \n",
       "32773  zero-shot-classification  667ec118ba80b56c0f3735de   \n",
       "41731       text-classification  6704614606af66752cbcf0ab   \n",
       "37228       text-classification  667ec118ba80b56c0f3735de   \n",
       "...                         ...                       ...   \n",
       "23324           text-generation  621ffdc136468d709f17bc9c   \n",
       "23328           text-generation  63eb7df40373fa4984ea776b   \n",
       "23330           text-generation  65093495f6a2bf0be7bc0325   \n",
       "23331           text-generation  6715b8a73edd22e4483e1382   \n",
       "59833                 fill-mask  64ac920609d1b58891dc71d0   \n",
       "\n",
       "                                                 dataset  dataset_count  \\\n",
       "36726  [nyu-mll/glue, aps/super_glue, facebook/anli, ...            289   \n",
       "32763  [nyu-mll/glue, aps/super_glue, facebook/anli, ...            289   \n",
       "32773  [nyu-mll/glue, aps/super_glue, facebook/anli, ...            288   \n",
       "41731  [nyu-mll/glue, aps/super_glue, facebook/anli, ...            288   \n",
       "37228  [nyu-mll/glue, aps/super_glue, facebook/anli, ...            288   \n",
       "...                                                  ...            ...   \n",
       "23324                       [huggingartists/loud-luxury]              1   \n",
       "23328                                             [imdb]              1   \n",
       "23330      [starmpcc/Asclepius-Synthetic-Clinical-Notes]              1   \n",
       "23331                                [nvidia/HelpSteer2]              1   \n",
       "59833                                 [dlb/mentalreddit]              1   \n",
       "\n",
       "                     created_at  \n",
       "36726 2024-01-31 12:02:12+00:00  \n",
       "32763 2024-01-31 12:02:12+00:00  \n",
       "32773 2024-06-28 13:56:40+00:00  \n",
       "41731 2024-10-07 22:31:34+00:00  \n",
       "37228 2024-06-28 13:56:40+00:00  \n",
       "...                         ...  \n",
       "23324 2022-03-02 23:29:05+00:00  \n",
       "23328 2023-02-14 12:26:28+00:00  \n",
       "23330 2023-09-19 05:41:41+00:00  \n",
       "23331 2024-10-21 02:12:55+00:00  \n",
       "59833 2023-07-10 23:19:34+00:00  \n",
       "\n",
       "[59834 rows x 5 columns]"
      ]
     },
     "execution_count": 21,
     "metadata": {},
     "output_type": "execute_result"
    }
   ],
   "source": [
    "nlp_dataset_df.sort_values(by='dataset_count', ascending=False)"
   ]
  },
  {
   "cell_type": "code",
   "execution_count": 22,
   "metadata": {},
   "outputs": [
    {
     "data": {
      "application/vnd.microsoft.datawrangler.viewer.v0+json": {
       "columns": [
        {
         "name": "task",
         "rawType": "object",
         "type": "string"
        },
        {
         "name": "dataset_count",
         "rawType": "float64",
         "type": "float"
        }
       ],
       "ref": "5ee63c35-6502-4a59-a8dd-de5fba959f2a",
       "rows": [
        [
         "feature-extraction",
         "2.5782669461914747"
        ],
        [
         "fill-mask",
         "1.412618928392589"
        ],
        [
         "question-answering",
         "1.2005395683453237"
        ],
        [
         "sentence-similarity",
         "3.3647836538461537"
        ],
        [
         "summarization",
         "1.1048182586644124"
        ],
        [
         "table-question-answering",
         "1.130952380952381"
        ],
        [
         "text-classification",
         "1.2154664484451718"
        ],
        [
         "text-generation",
         "2.371420901932713"
        ],
        [
         "text2text-generation",
         "1.2425595238095237"
        ],
        [
         "token-classification",
         "1.0612592172433353"
        ],
        [
         "translation",
         "1.159016393442623"
        ],
        [
         "zero-shot-classification",
         "8.757446808510638"
        ]
       ],
       "shape": {
        "columns": 1,
        "rows": 12
       }
      },
      "text/plain": [
       "task\n",
       "feature-extraction          2.578267\n",
       "fill-mask                   1.412619\n",
       "question-answering          1.200540\n",
       "sentence-similarity         3.364784\n",
       "summarization               1.104818\n",
       "table-question-answering    1.130952\n",
       "text-classification         1.215466\n",
       "text-generation             2.371421\n",
       "text2text-generation        1.242560\n",
       "token-classification        1.061259\n",
       "translation                 1.159016\n",
       "zero-shot-classification    8.757447\n",
       "Name: dataset_count, dtype: float64"
      ]
     },
     "execution_count": 22,
     "metadata": {},
     "output_type": "execute_result"
    }
   ],
   "source": [
    "nlp_dataset_df['dataset_count'].groupby(nlp_dataset_df['task']).mean()"
   ]
  },
  {
   "cell_type": "code",
   "execution_count": 23,
   "metadata": {},
   "outputs": [
    {
     "data": {
      "application/vnd.microsoft.datawrangler.viewer.v0+json": {
       "columns": [
        {
         "name": "task",
         "rawType": "object",
         "type": "string"
        },
        {
         "name": "dataset_count",
         "rawType": "float64",
         "type": "float"
        }
       ],
       "ref": "40eebc15-19d4-404a-8a34-fc34577c3871",
       "rows": [
        [
         "feature-extraction",
         "4.39646390447518"
        ],
        [
         "fill-mask",
         "1.638404632862168"
        ],
        [
         "question-answering",
         "1.117777703810345"
        ],
        [
         "sentence-similarity",
         "5.345747396460863"
        ],
        [
         "summarization",
         "0.4978826028608382"
        ],
        [
         "table-question-answering",
         "0.5096599836262659"
        ],
        [
         "text-classification",
         "6.009211338041753"
        ],
        [
         "text-generation",
         "4.277364426274125"
        ],
        [
         "text2text-generation",
         "1.0598444688607582"
        ],
        [
         "token-classification",
         "0.45653599643269854"
        ],
        [
         "translation",
         "0.5736565928528036"
        ],
        [
         "zero-shot-classification",
         "42.62102799841165"
        ]
       ],
       "shape": {
        "columns": 1,
        "rows": 12
       }
      },
      "text/plain": [
       "task\n",
       "feature-extraction           4.396464\n",
       "fill-mask                    1.638405\n",
       "question-answering           1.117778\n",
       "sentence-similarity          5.345747\n",
       "summarization                0.497883\n",
       "table-question-answering     0.509660\n",
       "text-classification          6.009211\n",
       "text-generation              4.277364\n",
       "text2text-generation         1.059844\n",
       "token-classification         0.456536\n",
       "translation                  0.573657\n",
       "zero-shot-classification    42.621028\n",
       "Name: dataset_count, dtype: float64"
      ]
     },
     "execution_count": 23,
     "metadata": {},
     "output_type": "execute_result"
    }
   ],
   "source": [
    "nlp_dataset_df['dataset_count'].groupby(nlp_dataset_df['task']).std()\n"
   ]
  },
  {
   "cell_type": "markdown",
   "metadata": {},
   "source": [
    "#### NLP RQ 2: What is the degree of concentration of NLP datasets and CV datasets?"
   ]
  },
  {
   "cell_type": "code",
   "execution_count": 24,
   "metadata": {},
   "outputs": [],
   "source": [
    "cwd=os.getcwd()\n",
    "nlp_dataset={}\n",
    "dataset_folder='../../data/huggingface/dataset/nlp'\n",
    "for folder in os.listdir(dataset_folder):\n",
    "    folder_path = os.path.join(dataset_folder, folder)\n",
    "    if os.path.isdir(folder_path): #check only folder\n",
    "        file_all={}\n",
    "        for file in os.listdir(folder_path):\n",
    "            if file.endswith('.json'):\n",
    "                file_metadata={}\n",
    "                with open(os.path.join(folder_path, file), 'r') as json_file:\n",
    "                    data = json.load(json_file)\n",
    "                    file_metadata['created_at']=data['created_at']\n",
    "                    file_metadata['id']=data['id']\n",
    "                        \n",
    "                    # if data['cardData'] is not None: #check if cardData is not empty\n",
    "                    #     if 'base_model' in data['cardData']:\n",
    "                    #         file_metadata['base_model']=data['cardData']['base_model']\n",
    "                    #     if 'datasets' in data['cardData']:\n",
    "                    #         file_metadata['datasets']=data['cardData']['datasets']\n",
    "                file_all[file.replace('.json', '')]=file_metadata\n",
    "        nlp_dataset[folder]=file_all\n",
    "#2s"
   ]
  },
  {
   "cell_type": "code",
   "execution_count": 25,
   "metadata": {},
   "outputs": [],
   "source": [
    "name_id={}\n",
    "for key in nlp_dataset.keys():\n",
    "    for sub_key in nlp_dataset[key].keys():\n",
    "        name_id[sub_key]=nlp_dataset[key][sub_key]['id']"
   ]
  },
  {
   "cell_type": "code",
   "execution_count": 26,
   "metadata": {},
   "outputs": [
    {
     "name": "stderr",
     "output_type": "stream",
     "text": [
      "100%|██████████| 4824/4824 [00:09<00:00, 487.55it/s]\n",
      "100%|██████████| 7904/7904 [05:34<00:00, 23.63it/s]\n",
      "100%|██████████| 1141/1141 [00:04<00:00, 246.82it/s]\n",
      "100%|██████████| 547/547 [00:00<00:00, 38370.45it/s]\n",
      "100%|██████████| 737/737 [00:01<00:00, 527.15it/s]\n",
      "100%|██████████| 1809/1809 [00:01<00:00, 1019.16it/s]\n",
      "100%|██████████| 1835/1835 [00:00<00:00, 2190.10it/s]\n",
      "100%|██████████| 442/442 [00:00<00:00, 10995.03it/s]\n",
      "100%|██████████| 5503/5503 [01:29<00:00, 61.27it/s]\n",
      "100%|██████████| 1416/1416 [00:05<00:00, 260.49it/s]\n",
      "100%|██████████| 1768/1768 [00:13<00:00, 135.82it/s]\n",
      "100%|██████████| 506/506 [00:01<00:00, 477.81it/s]\n",
      "100%|██████████| 12/12 [07:42<00:00, 38.54s/it]\n"
     ]
    }
   ],
   "source": [
    "task_list=[] \n",
    "dataset_list=[]\n",
    "used_models_list=[]\n",
    "for key in tqdm(nlp_dataset.keys()):\n",
    "    datasets = {}\n",
    "    for file in tqdm(nlp_dataset[key].keys()):\n",
    "        data_id = nlp_dataset[key][file]['id']\n",
    "        used_models = []\n",
    "        for file_model in nlp_task[key].keys():\n",
    "            if ('datasets' in nlp_task[key][file_model] and nlp_task[key][file_model]['datasets'] is not None and data_id in nlp_task[key][file_model]['datasets']):\n",
    "                # used_models.append(nlp_model[key][file_model]['id'])\n",
    "                used_models.append(file_model)\n",
    "        task_list.append(key)\n",
    "        dataset_list.append(file)\n",
    "        used_models_list.append(used_models)\n",
    "\n",
    "#7m 3s"
   ]
  },
  {
   "cell_type": "code",
   "execution_count": 27,
   "metadata": {},
   "outputs": [
    {
     "name": "stdout",
     "output_type": "stream",
     "text": [
      "28432 28432 28432\n"
     ]
    }
   ],
   "source": [
    "print(len(task_list), len(dataset_list), len(used_models_list))\n",
    "df = pd.DataFrame({'task': task_list, 'dataset': dataset_list, 'used_models': used_models_list})"
   ]
  },
  {
   "cell_type": "code",
   "execution_count": 28,
   "metadata": {},
   "outputs": [
    {
     "data": {
      "text/plain": [
       "['66f820a956a2aa7fe92c4e1f',\n",
       " '66f2a2a76644255c2731de08',\n",
       " '66fab8181208c881d9562941']"
      ]
     },
     "execution_count": 28,
     "metadata": {},
     "output_type": "execute_result"
    }
   ],
   "source": [
    "df.iloc[15]['used_models']"
   ]
  },
  {
   "cell_type": "code",
   "execution_count": 29,
   "metadata": {},
   "outputs": [],
   "source": [
    "df['len']=df['used_models'].apply(lambda x: len(x))"
   ]
  },
  {
   "cell_type": "code",
   "execution_count": 30,
   "metadata": {},
   "outputs": [],
   "source": [
    "df.sort_values(by='len', ascending=False, inplace=True)"
   ]
  },
  {
   "cell_type": "code",
   "execution_count": 31,
   "metadata": {},
   "outputs": [
    {
     "data": {
      "application/vnd.microsoft.datawrangler.viewer.v0+json": {
       "columns": [
        {
         "name": "task",
         "rawType": "object",
         "type": "string"
        },
        {
         "name": "len",
         "rawType": "float64",
         "type": "float"
        }
       ],
       "ref": "fda3931d-185c-4ca0-8529-0c47cec3e3ef",
       "rows": [
        [
         "text-generation",
         "1.8873987854251013"
        ],
        [
         "sentence-similarity",
         "1.8331071913161465"
        ],
        [
         "feature-extraction",
         "0.5591586327782647"
        ],
        [
         "token-classification",
         "0.4322033898305085"
        ],
        [
         "text-classification",
         "0.31455569689260404"
        ],
        [
         "fill-mask",
         "0.23715415019762845"
        ],
        [
         "text2text-generation",
         "0.17194570135746606"
        ],
        [
         "summarization",
         "0.16294277929155312"
        ],
        [
         "question-answering",
         "0.14655887230514097"
        ],
        [
         "zero-shot-classification",
         "0.1244343891402715"
        ],
        [
         "translation",
         "0.11719181868435599"
        ],
        [
         "table-question-answering",
         "0.027422303473491772"
        ]
       ],
       "shape": {
        "columns": 1,
        "rows": 12
       }
      },
      "text/plain": [
       "task\n",
       "text-generation             1.887399\n",
       "sentence-similarity         1.833107\n",
       "feature-extraction          0.559159\n",
       "token-classification        0.432203\n",
       "text-classification         0.314556\n",
       "fill-mask                   0.237154\n",
       "text2text-generation        0.171946\n",
       "summarization               0.162943\n",
       "question-answering          0.146559\n",
       "zero-shot-classification    0.124434\n",
       "translation                 0.117192\n",
       "table-question-answering    0.027422\n",
       "Name: len, dtype: float64"
      ]
     },
     "execution_count": 31,
     "metadata": {},
     "output_type": "execute_result"
    }
   ],
   "source": [
    "df['len'].groupby(df['task']).mean().sort_values(ascending=False)"
   ]
  },
  {
   "cell_type": "code",
   "execution_count": 32,
   "metadata": {},
   "outputs": [
    {
     "data": {
      "application/vnd.microsoft.datawrangler.viewer.v0+json": {
       "columns": [
        {
         "name": "task",
         "rawType": "object",
         "type": "string"
        },
        {
         "name": "len",
         "rawType": "float64",
         "type": "float"
        }
       ],
       "ref": "498957a5-d1f1-4368-b115-fe3700354095",
       "rows": [
        [
         "text-generation",
         "18.16712725867744"
        ],
        [
         "sentence-similarity",
         "11.0991377568879"
        ],
        [
         "feature-extraction",
         "3.094031718314531"
        ],
        [
         "token-classification",
         "2.6146490721734468"
        ],
        [
         "text-classification",
         "1.6202835582957966"
        ],
        [
         "question-answering",
         "1.5437085384507423"
        ],
        [
         "fill-mask",
         "1.2068628031783954"
        ],
        [
         "summarization",
         "1.1544518422857402"
        ],
        [
         "zero-shot-classification",
         "0.7998810974525347"
        ],
        [
         "text2text-generation",
         "0.7692919692842766"
        ],
        [
         "translation",
         "0.6341826905374166"
        ],
        [
         "table-question-answering",
         "0.2516926779169958"
        ]
       ],
       "shape": {
        "columns": 1,
        "rows": 12
       }
      },
      "text/plain": [
       "task\n",
       "text-generation             18.167127\n",
       "sentence-similarity         11.099138\n",
       "feature-extraction           3.094032\n",
       "token-classification         2.614649\n",
       "text-classification          1.620284\n",
       "question-answering           1.543709\n",
       "fill-mask                    1.206863\n",
       "summarization                1.154452\n",
       "zero-shot-classification     0.799881\n",
       "text2text-generation         0.769292\n",
       "translation                  0.634183\n",
       "table-question-answering     0.251693\n",
       "Name: len, dtype: float64"
      ]
     },
     "execution_count": 32,
     "metadata": {},
     "output_type": "execute_result"
    }
   ],
   "source": [
    "df['len'].groupby(df['task']).std().sort_values(ascending=False)"
   ]
  },
  {
   "cell_type": "markdown",
   "metadata": {},
   "source": [
    "##### CV"
   ]
  },
  {
   "cell_type": "code",
   "execution_count": 34,
   "metadata": {},
   "outputs": [],
   "source": [
    "cwd=os.getcwd()\n",
    "cv_task={}\n",
    "parent_folder='../../data/huggingface/model/cv'\n",
    "for folder in os.listdir(parent_folder):\n",
    "    folder_path = os.path.join(parent_folder, folder)\n",
    "    if os.path.isdir(folder_path): #check only folder\n",
    "        file_all={}\n",
    "        for file in os.listdir(folder_path):\n",
    "            if file.endswith('.json'):\n",
    "                file_metadata={}\n",
    "                with open(os.path.join(folder_path, file), 'r') as json_file:\n",
    "                    data = json.load(json_file)\n",
    "                    file_metadata['created_at']=data['created_at']\n",
    "                    file_metadata['id']=data['id']\n",
    "                    if data['cardData'] is not None: #check if cardData is not empty\n",
    "                        if 'base_model' in data['cardData']:\n",
    "                            file_metadata['base_model']=data['cardData']['base_model']\n",
    "                        if 'datasets' in data['cardData']:\n",
    "                            file_metadata['datasets']=data['cardData']['datasets']\n",
    "                file_all[file.replace('.json', '')]=file_metadata\n",
    "        cv_task[folder]=file_all\n",
    "#15s"
   ]
  },
  {
   "cell_type": "code",
   "execution_count": 35,
   "metadata": {},
   "outputs": [],
   "source": [
    "name_id={}\n",
    "for key in cv_task.keys():\n",
    "    for sub_key in cv_task[key].keys():\n",
    "        name_id[sub_key]=cv_task[key][sub_key]['id']"
   ]
  },
  {
   "cell_type": "code",
   "execution_count": 37,
   "metadata": {},
   "outputs": [],
   "source": [
    "pd.DataFrame.from_dict(name_id, orient='index').reset_index().rename(columns={'index': 'model_id', 0: 'model_name'}).to_csv('cv_model_id.csv', index=False)"
   ]
  },
  {
   "cell_type": "code",
   "execution_count": 38,
   "metadata": {},
   "outputs": [
    {
     "data": {
      "text/plain": [
       "dict_keys(['mask-generation', 'text-to-video', 'image-to-video', 'zero-shot-image-classification', 'unconditional-image-generation', 'image-to-text', 'image-to-image', 'image-classification', 'text-to-image', 'image-feature-extraction', 'text-to-3d', 'depth-estimation', 'zero-shot-object-detection', 'keypoint-detection', 'object-detection', 'video-classification', 'image-segmentation', 'image-to-3d'])"
      ]
     },
     "execution_count": 38,
     "metadata": {},
     "output_type": "execute_result"
    }
   ],
   "source": [
    "cv_task.keys()"
   ]
  },
  {
   "cell_type": "code",
   "execution_count": 39,
   "metadata": {},
   "outputs": [],
   "source": [
    "for task in cv_task.keys():\n",
    "    for model in cv_task[task].keys():\n",
    "        if ('base_model' in cv_task[task][model].keys()) and (cv_task[task][model]['base_model'] is not None) and (type(cv_task[task][model]['base_model'])==str):\n",
    "        # all string values are now in the list\n",
    "            cv_task[task][model]['base_model']=[cv_task[task][model]['base_model']]\n",
    "        if ('datasets' in cv_task[task][model].keys()) and (cv_task[task][model]['datasets'] is not None) and (type(cv_task[task][model]['datasets'])==str):\n",
    "        # all string values are now in the list\n",
    "            cv_task[task][model]['datasets']=[cv_task[task][model]['datasets']]\n",
    "        "
   ]
  },
  {
   "cell_type": "markdown",
   "metadata": {},
   "source": [
    "##### CV RQ 3: What is the degree of concentration of CV models?"
   ]
  },
  {
   "cell_type": "code",
   "execution_count": 40,
   "metadata": {},
   "outputs": [],
   "source": [
    "task_list=[]\n",
    "model_list=[]\n",
    "base_model_list=[]\n",
    "model_count_list=[]\n",
    "created_at_list=[]\n",
    "for task in cv_task.keys():\n",
    "    for model in cv_task[task].keys():\n",
    "        if ('base_model' in cv_task[task][model].keys()) and (cv_task[task][model]['base_model'] is not None) and (type(cv_task[task][model]['base_model']) == list):\n",
    "            #Sometimes, the list can be empty\n",
    "            model_count=0\n",
    "            if len(cv_task[task][model]['base_model'])>0: #Check the number of elements in the list\n",
    "                for base_model in cv_task[task][model]['base_model']:\n",
    "                    model_count+=1\n",
    "                task_list.append(task)\n",
    "                model_list.append(model)\n",
    "                base_model_list.append(cv_task[task][model]['base_model'])\n",
    "                model_count_list.append(model_count)\n",
    "                created_at_list.append(cv_task[task][model]['created_at'])"
   ]
  },
  {
   "cell_type": "code",
   "execution_count": 41,
   "metadata": {},
   "outputs": [
    {
     "name": "stdout",
     "output_type": "stream",
     "text": [
      "44675 44675 44675 44675 44675\n"
     ]
    }
   ],
   "source": [
    "print(len(task_list), len(model_list), len(model_list), len(model_count_list), len(created_at_list))"
   ]
  },
  {
   "cell_type": "code",
   "execution_count": 42,
   "metadata": {},
   "outputs": [],
   "source": [
    "cv_model_df=pd.DataFrame({'task':task_list, 'model':model_list, 'base_model':base_model_list, 'model_count':model_count_list, 'created_at':created_at_list})"
   ]
  },
  {
   "cell_type": "code",
   "execution_count": 43,
   "metadata": {},
   "outputs": [
    {
     "data": {
      "application/vnd.microsoft.datawrangler.viewer.v0+json": {
       "columns": [
        {
         "name": "index",
         "rawType": "int64",
         "type": "integer"
        },
        {
         "name": "task",
         "rawType": "object",
         "type": "string"
        },
        {
         "name": "model",
         "rawType": "object",
         "type": "string"
        },
        {
         "name": "base_model",
         "rawType": "object",
         "type": "unknown"
        },
        {
         "name": "model_count",
         "rawType": "int64",
         "type": "integer"
        },
        {
         "name": "created_at",
         "rawType": "object",
         "type": "string"
        }
       ],
       "ref": "bc87cddb-23bb-4503-a1bb-3d09e0bb0858",
       "rows": [
        [
         "4376",
         "image-classification",
         "678d3e2970768ae96e6193a6",
         "['timm/convnext_nano.r384_ad_in12k', 'timm/convnext_nano.r384_in12k', 'timm/convnext_nano.r384_in12k_ft_in1k', 'timm/convnext_zepto_rms.ra4_e3600_r224_in1k', 'timm/convnext_zepto_rms_ols.ra4_e3600_r224_in1k', 'timm/cs3darknet_focus_s.ra4_e3600_r256_in1k', 'timm/efficientnet_b0.ra4_e3600_r224_in1k', 'timm/efficientnet_b1.ra4_e3600_r240_in1k', 'timm/ese_vovnet57b.ra4_e3600_r256_in1k', 'timm/inception_next_atto.sail_in1k', 'timm/mambaout_base.in1k', 'timm/mambaout_base_plus_rw.sw_e150_in12k', 'timm/mambaout_base_plus_rw.sw_e150_in12k_ft_in1k', 'timm/mambaout_base_plus_rw.sw_e150_r384_in12k_ft_in1k', 'timm/mambaout_base_short_rw.sw_e500_in1k', 'timm/mambaout_base_tall_rw.sw_e500_in1k', 'timm/mambaout_base_wide_rw.sw_e500_in1k', 'timm/mambaout_femto.in1k', 'timm/mambaout_kobe.in1k', 'timm/mambaout_small.in1k', 'timm/mambaout_small_rw.sw_e450_in1k', 'timm/mambaout_tiny.in1k', 'timm/mobilenet_edgetpu_v2_m.ra4_e3600_r224_in1k', 'timm/mobilenetv1_100.ra4_e3600_r224_in1k', 'timm/mobilenetv1_100h.ra4_e3600_r224_in1k', 'timm/mobilenetv1_125.ra4_e3600_r224_in1k', 'timm/mobilenetv3_large_100.ra4_e3600_r224_in1k', 'timm/mobilenetv3_large_150d.ra4_e3600_r256_in1k', 'timm/mobilenetv4_conv_aa_large.e230_r384_in12k', 'timm/mobilenetv4_conv_aa_large.e230_r384_in12k_ft_in1k', 'timm/mobilenetv4_conv_aa_large.e230_r448_in12k_ft_in1k', 'timm/mobilenetv4_conv_aa_large.e600_r384_in1k', 'timm/mobilenetv4_conv_blur_medium.e500_r224_in1k', 'timm/mobilenetv4_conv_large.e500_r256_in1k', 'timm/mobilenetv4_conv_large.e600_r384_in1k', 'timm/mobilenetv4_conv_medium.e180_ad_r384_in12k', 'timm/mobilenetv4_conv_medium.e180_r384_in12k', 'timm/mobilenetv4_conv_medium.e250_r384_in12k', 'timm/mobilenetv4_conv_medium.e250_r384_in12k_ft_in1k', 'timm/mobilenetv4_conv_medium.e500_r224_in1k', 'timm/mobilenetv4_conv_medium.e500_r256_in1k', 'timm/mobilenetv4_conv_small.e1200_r224_in1k', 'timm/mobilenetv4_conv_small.e2400_r224_in1k', 'timm/mobilenetv4_conv_small.e3600_r256_in1k', 'timm/mobilenetv4_conv_small_050.e3000_r224_in1k', 'timm/mobilenetv4_hybrid_large.e600_r384_in1k', 'timm/mobilenetv4_hybrid_large.ix_e600_r384_in1k', 'timm/mobilenetv4_hybrid_medium.e200_r256_in12k', 'timm/mobilenetv4_hybrid_medium.e200_r256_in12k_ft_in1k', 'timm/mobilenetv4_hybrid_medium.e500_r224_in1k', 'timm/mobilenetv4_hybrid_medium.ix_e550_r256_in1k', 'timm/mobilenetv4_hybrid_medium.ix_e550_r384_in1k', 'timm/resnet18d.ra4_e3600_r224_in1k', 'timm/resnet34.ra4_e3600_r224_in1k', 'timm/resnet50_clip_gap.cc12m', 'timm/resnet50_clip_gap.openai', 'timm/resnet50_clip_gap.yfcc15m', 'timm/resnet50d.ra4_e3600_r224_in1k', 'timm/resnet50x4_clip_gap.openai', 'timm/resnet50x16_clip_gap.openai', 'timm/resnet101_clip_gap.openai', 'timm/resnet101_clip_gap.yfcc15m', 'timm/resnetv2_18.ra4_e3600_r224_in1k', 'timm/resnetv2_18d.ra4_e3600_r224_in1k', 'timm/resnetv2_34.ra4_e3600_r224_in1k', 'timm/resnetv2_34d.ra4_e3600_r224_in1k', 'timm/resnetv2_34d.ra4_e3600_r384_in1k', 'timm/test_byobnet.r160_in1k', 'timm/test_convnext2.r160_in1k', 'timm/test_convnext3.r160_in1k', 'timm/test_convnext.r160_in1k', 'timm/test_efficientnet.r160_in1k', 'timm/test_efficientnet_evos.r160_in1k', 'timm/test_efficientnet_gn.r160_in1k', 'timm/test_efficientnet_ln.r160_in1k', 'timm/test_nfnet.r160_in1k', 'timm/test_resnet.r160_in1k', 'timm/test_vit2.r160_in1k', 'timm/test_vit3.r160_in1k', 'timm/test_vit.r160_in1k', 'timm/vit_base_patch16_siglip_224.webli', 'timm/vit_base_patch16_siglip_256.webli', 'timm/vit_base_patch16_siglip_256.webli_i18n', 'timm/vit_base_patch16_siglip_384.webli', 'timm/vit_base_patch16_siglip_512.webli', 'timm/vit_base_patch16_siglip_gap_224.webli', 'timm/vit_base_patch16_siglip_gap_256.webli', 'timm/vit_base_patch16_siglip_gap_256.webli_i18n', 'timm/vit_base_patch16_siglip_gap_384.webli', 'timm/vit_base_patch16_siglip_gap_512.webli', 'timm/vit_betwixt_patch16_reg4_gap_256.sbb2_e200_in12k', 'timm/vit_betwixt_patch16_reg4_gap_256.sbb2_e200_in12k_ft_in1k', 'timm/vit_betwixt_patch16_reg4_gap_384.sbb2_e200_in12k_ft_in1k', 'timm/vit_little_patch16_reg1_gap_256.sbb_in12k_ft_in1k', 'timm/vit_mediumd_patch16_reg4_gap_256.sbb2_e200_in12k', 'timm/vit_mediumd_patch16_reg4_gap_256.sbb2_e200_in12k_ft_in1k', 'timm/vit_mediumd_patch16_reg4_gap_384.sbb2_e200_in12k_ft_in1k', 'timm/vit_so150m_patch16_reg4_gap_256.sbb_e250_in12k', 'timm/vit_so150m_patch16_reg4_gap_256.sbb_e250_in12k_ft_in1k', 'timm/vit_so150m_patch16_reg4_gap_384.sbb_e250_in12k_ft_in1k']",
         "100",
         "2025-01-19T18:02:17+00:00"
        ],
        [
         "21011",
         "text-to-image",
         "673e350b74d6cdda59d0070f",
         "['Laxhar/noobai-XL-Vpred-0.6', 'Laxhar/noobai-XL-Vpred-0.65s', 'Laxhar/noobai-XL-Vpred-0.75s', 'Laxhar/noobai-XL-Vpred-0.9r', 'Laxhar/noobai-XL-1.1', 'RedRayz/hikari_noob_0.6.5', 'comin/IterComp', 'paruparu95483/paruparu_illustrious', 'Raelina/Raehoshi-Illust-XL-2.1', 'SPO-Diffusion-Models/SPO-SDXL_4k-p_10ep_LoRA']",
         "10",
         "2024-11-20T19:14:19+00:00"
        ],
        [
         "44669",
         "image-to-3d",
         "67541e876f47d9ce16b7ba91",
         "['Qwen/Qwen2.5-Coder-32B-Instruct', 'stabilityai/stable-diffusion-3.5-large', 'Qwen/QwQ-32B-Preview', 'black-forest-labs/FLUX.1-dev', 'tencent/HunyuanVideo', 'AIDC-AI/Marco-o1', 'Lightricks/LTX-Video', 'briaai/RMBG-2.0', 'NexaAIDev/OmniVLM-968M', 'ali-vilab/In-Context-LoRA']",
         "10",
         "2024-12-07T10:08:07+00:00"
        ],
        [
         "309",
         "image-to-text",
         "66e922c5ff3134c96fc6c108",
         "['LeroyDyer/SpydazWeb_AI_CyberTron_Ultra_7b', 'LeroyDyer/LCARS_AI_StarTrek_Computer', 'LeroyDyer/_Spydaz_Web_AI_ActionQA_Project', 'LeroyDyer/_Spydaz_Web_AI_ChatML_512K_Project', 'LeroyDyer/SpyazWeb_AI_DeepMind_Project', 'LeroyDyer/SpydazWeb_AI_Swahili_Project', 'LeroyDyer/_Spydaz_Web_AI_08', 'LeroyDyer/_Spydaz_Web_AI_ChatQA_001', 'LeroyDyer/_Spydaz_Web_AI_ChatQA_001_SFT', 'LeroyDyer/_Spydaz_Web_AI_Llava']",
         "10",
         "2024-09-17T06:33:41+00:00"
        ],
        [
         "280",
         "unconditional-image-generation",
         "67789ac56335bde33b81d0bf",
         "['meta-llama/Llama-3.3-70B-Instruct', 'deepseek-ai/DeepSeek-V3-Base', 'deepseek-ai/DeepSeek-V3', 'tencent/HunyuanVideo', 'Datou1111/shou_xin', 'black-forest-labs/FLUX.1-dev', 'answerdotai/ModernBERT-base', 'IamCreateAI/Ruyi-Mini-7B', 'Qwen/QwQ-32B-Preview', 'Qwen/QVQ-72B-Preview']",
         "10",
         "2025-01-04T02:19:49+00:00"
        ],
        [
         "8409",
         "text-to-image",
         "670d08ad0b0a12c59b47fddc",
         "['OnomaAIResearch/Illustrious-xl-early-release-v0', 'bluepen5805/blue_pencil-XL', 'bluepen5805/anima_pencil-XL', 'KBlueLeaf/kohaku-xl-beta5', 'stabilityai/stable-diffusion-xl-base-1.0', 'calculater/copycat-illustrious', 'Raelina/Raehoshi-illust-XL']",
         "7",
         "2024-10-14T12:03:57+00:00"
        ],
        [
         "36837",
         "text-to-image",
         "670bcd949eb920b341ae20bc",
         "['OnomaAIResearch/Illustrious-xl-early-release-v0', 'bluepen5805/blue_pencil-XL', 'bluepen5805/anima_pencil-XL', 'KBlueLeaf/kohaku-xl-beta5', 'stabilityai/stable-diffusion-xl-base-1.0', 'calculater/copycat-illustrious', 'Raelina/Raehoshi-illust-XL']",
         "7",
         "2024-10-13T13:39:32+00:00"
        ],
        [
         "21704",
         "text-to-image",
         "67916760565b78249b211dbd",
         "['kudzueye/Boreal', 'adirik/flux-cinestill', 'Shakker-Labs/FLUX.1-dev-LoRA-add-details', 'prithivMLmods/Flux-Realism-FineDetailed', 'prithivMLmods/Canopus-LoRA-Flux-UltraRealism-2.0', 'Jovie/Midjourney']",
         "6",
         "2025-01-22T21:47:12+00:00"
        ],
        [
         "9414",
         "text-to-image",
         "672c4d07898efc6831ab8fee",
         "['mit-han-lab/svdq-int4-flux.1-dev', 'XLabs-AI/flux-RealismLora', 'aleksa-codes/flux-ghibsky-illustration', 'alvdansen/sonny-anime-fixed', 'Shakker-Labs/FLUX.1-dev-LoRA-Children-Simple-Sketch', 'linoyts/yarn_art_Flux_LoRA']",
         "6",
         "2024-11-07T05:15:51+00:00"
        ],
        [
         "132",
         "text-to-video",
         "67a302b244b3cf83ebbf67be",
         "['deepseek-ai/DeepSeek-R1', 'openbmb/MiniCPM-o-2_6', 'RunDiffusion/Juggernaut-XL-v9', 'cagliostrolab/animagine-xl-4.0', 'hexgrad/Kokoro-82M', 'google/timesfm-2.0-500m-pytorch']",
         "6",
         "2025-02-05T06:18:26+00:00"
        ],
        [
         "30109",
         "text-to-image",
         "6793da263ac6c7e17978b805",
         "['kudzueye/Boreal', 'adirik/flux-cinestill', 'Shakker-Labs/FLUX.1-dev-LoRA-add-details', 'prithivMLmods/Flux-Realism-FineDetailed', 'prithivMLmods/Canopus-LoRA-Flux-UltraRealism-2.0', 'Jovie/Midjourney']",
         "6",
         "2025-01-24T18:21:26+00:00"
        ],
        [
         "23475",
         "text-to-image",
         "6732ea4111e26ee8dfb1e742",
         "['Laxhar/noobai-XL-Vpred-0.5', 'Laxhar/noobai-XL-Vpred-0.6', 'comin/IterComp', 'paruparu95483/paruparu_illustrious', 'Raelina/Raehoshi-Illust-XL-2.1', 'SPO-Diffusion-Models/SPO-SDXL_4k-p_10ep_LoRA']",
         "6",
         "2024-11-12T05:40:17+00:00"
        ],
        [
         "180",
         "image-to-video",
         "673615ea6375fff559c2c9b1",
         "['nvidia/Llama-3.1-Nemotron-70B-Instruct-HF', 'mlx-community/nvidia_Llama-3.1-Nemotron-70B-Instruct-HF_4bit', 'microsoft/OmniParser', 'stabilityai/stable-diffusion-3.5-large', 'tencent/Tencent-Hunyuan-Large']",
         "5",
         "2024-11-14T15:23:22+00:00"
        ],
        [
         "8008",
         "text-to-image",
         "6767e622ed75d0c500be97e6",
         "['Laxhar/noobai-XL-Vpred-1.0', 'Laxhar/noobai-XL-Vpred-0.9r', 'comin/IterComp', 'paruparu95483/paruparu_illustrious', 'SPO-Diffusion-Models/SPO-SDXL_4k-p_10ep_LoRA']",
         "5",
         "2024-12-22T10:12:50+00:00"
        ],
        [
         "18882",
         "text-to-image",
         "675dc2398bb6674c20070637",
         "['Hemlok/LizMix', 'Hemlok/SakuMix', 'cagliostrolab/animagine-xl-3.1', 'Laxhar/noobai-XL-1.0', 'OnomaAIResearch/Illustrious-xl-early-release-v0']",
         "5",
         "2024-12-14T17:36:57+00:00"
        ],
        [
         "8496",
         "text-to-image",
         "67070e2c4341dcee458f6915",
         "['OnomaAIResearch/Illustrious-xl-early-release-v0', 'bluepen5805/blue_pencil-XL', 'bluepen5805/anima_pencil-XL', 'KBlueLeaf/kohaku-xl-beta5', 'stabilityai/stable-diffusion-xl-base-1.0']",
         "5",
         "2024-10-09T23:13:48+00:00"
        ],
        [
         "8873",
         "text-to-image",
         "67a22557f21023ee8ea01d83",
         "['Hemlok/LizMix', 'Hemlok/SakuMix', 'cagliostrolab/animagine-xl-4.0', 'Laxhar/noobai-XL-1.0', 'OnomaAIResearch/Illustrious-xl-early-release-v0']",
         "5",
         "2025-02-04T14:33:59+00:00"
        ],
        [
         "34876",
         "text-to-image",
         "67aeffd9944685ef65e23305",
         "['Raelina/Raehoshi-illust-XL-3', 'advokat/IterComp_safetensors', 'Laxhar/noobai-XL-Vpred-1.0', 'Laxhar/noobai-XL-Vpred-0.9r', 'OnomaAIResearch/Illustrious-xl-early-release-v0']",
         "5",
         "2025-02-14T08:33:29+00:00"
        ],
        [
         "43242",
         "object-detection",
         "66f5667c40621bd43a9b5fe8",
         "['Ultralytics/YOLOv8', 'jameslahm/yolov10n', 'jameslahm/yolov10s', 'jameslahm/yolov10m', 'jameslahm/yolov10l']",
         "5",
         "2024-09-26T13:49:48+00:00"
        ],
        [
         "16715",
         "text-to-image",
         "66e3e823ad382452bbc4b2d5",
         "['XLabs-AI/flux-RealismLora', 'mattshumer/Reflection-Llama-3.1-70B', 'MikeRoz/mattshumer_Reflection-Llama-3.1-70B-8.0bpw-h8-exl2', 'meta-llama/Meta-Llama-3.1-8B-Instruct', 'Downtown-Case/meta-llama_Meta-Llama-3.1-8B-Instruct-exl2-8bpw']",
         "5",
         "2024-09-13T07:22:11+00:00"
        ],
        [
         "31642",
         "text-to-image",
         "67a45ccf52429a8a285886e2",
         "['OnomaAIResearch/Illustrious-xl-early-release-v0', 'Laxhar/noobai-XL-1.1', 'kayfahaarukku/AkashicPulse-v1.0', 'cyberdelia/CyberIllustrious', 'JujoHotaru/BreedSeriesForXL']",
         "5",
         "2025-02-06T06:55:11+00:00"
        ],
        [
         "12392",
         "text-to-image",
         "67207bc0aab69ad33e0dbd62",
         "['OnomaAIResearch/Illustrious-xl-early-release-v0', 'calculater/copycat-illustrious', 'hanzogak/comradeshipXL', 'Laxhar/sdxl_noob']",
         "4",
         "2024-10-29T06:08:00+00:00"
        ],
        [
         "22261",
         "text-to-image",
         "66e15e3aeaa58cf1fd3d9145",
         "['bluepen5805/anima_pencil-XL', 'JujoHotaru/HotaruBreedNeo', 'JujoHotaru/HotaruBreed', 'Noginowa/FlowerMixMoonXL']",
         "4",
         "2024-09-11T09:09:14+00:00"
        ],
        [
         "20076",
         "text-to-image",
         "67021eff547acbd64cd38091",
         "['nvidia/NVLM-D-72B', 'black-forest-labs/FLUX.1-dev', 'LaCarnevali/laura-test', 'openai/whisper-large-v3-turbo']",
         "4",
         "2024-10-06T05:24:15+00:00"
        ],
        [
         "30558",
         "text-to-image",
         "67ac802dcf94b3ae882b3386",
         "['Raelina/Raehoshi-illust-XL-3', 'advokat/IterComp_safetensors', 'Laxhar/noobai-XL-Vpred-1.0', 'Laxhar/noobai-XL-Vpred-0.9r']",
         "4",
         "2025-02-12T11:04:13+00:00"
        ],
        [
         "30577",
         "text-to-image",
         "674cadb6ce9bc37b8ee16743",
         "['Laxhar/noobai-XL-1.1', 'comin/IterComp', 'paruparu95483/paruparu_illustrious', 'SPO-Diffusion-Models/SPO-SDXL_4k-p_10ep_LoRA']",
         "4",
         "2024-12-01T18:40:54+00:00"
        ],
        [
         "16733",
         "text-to-image",
         "67286dc0e347d62d664d6a79",
         "['OnomaAIResearch/Illustrious-xl-early-release-v0', 'calculater/copycat-illustrious', 'hanzogak/comradeshipXL', 'Laxhar/sdxl_noob']",
         "4",
         "2024-11-04T06:46:24+00:00"
        ],
        [
         "10634",
         "text-to-image",
         "66e15e69dd56688c298fbc6f",
         "['bluepen5805/anima_pencil-XL', 'JujoHotaru/HotaruBreedNeo', 'JujoHotaru/HotaruBreed', 'Noginowa/FlowerMixMoonXL']",
         "4",
         "2024-09-11T09:10:01+00:00"
        ],
        [
         "33087",
         "text-to-image",
         "6781299135d35379d7adb09f",
         "['Raelina/Raehoshi-illust-XL-3', 'advokat/IterComp_safetensors', 'Laxhar/noobai-XL-Vpred-1.0', 'Laxhar/noobai-XL-Vpred-0.9r']",
         "4",
         "2025-01-10T14:07:13+00:00"
        ],
        [
         "40824",
         "text-to-image",
         "679a5de0580978831f72439c",
         "['Laxhar/noobai-XL-1.0', 'OnomaAIResearch/Illustrious-xl-early-release-v0', 'cagliostrolab/animagine-xl-3.1', 'cyberdelia/CyberRealisticXL']",
         "4",
         "2025-01-29T16:57:04+00:00"
        ],
        [
         "29673",
         "text-to-image",
         "678f05b92d6c6db22b2a8f67",
         "['Laxhar/noobai-XL-Vpred-1.0', 'Laxhar/noobai-XL-Vpred-0.9r', 'Raelina/Raehoshi-illust-XL-3', 'comin/IterComp']",
         "4",
         "2025-01-21T02:26:01+00:00"
        ],
        [
         "37422",
         "text-to-image",
         "67a836bae324dec3131c353d",
         "['Laxhar/noobai-XL-1.0', 'OnomaAIResearch/Illustrious-xl-early-release-v0', 'cagliostrolab/animagine-xl-3.1', 'cyberdelia/CyberRealisticXL']",
         "4",
         "2025-02-09T05:01:46+00:00"
        ],
        [
         "26706",
         "text-to-image",
         "673768d89f885abe52d1d6b4",
         "['OnomaAIResearch/Illustrious-xl-early-release-v0', 'calculater/copycat-illustrious', 'hanzogak/comradeshipXL', 'Laxhar/noobai-XL-Vpred-0.5']",
         "4",
         "2024-11-15T15:29:28+00:00"
        ],
        [
         "22157",
         "text-to-image",
         "656b25459c8778992f6ee70b",
         "['Yntec/ElldrethsRetroMix', 'Yntec/AgarthaChadstyle', 'Yntec/GameAssetsDigitalUnitsCreationKit', 'Yntec/Cryptids']",
         "4",
         "2023-12-02T12:38:29+00:00"
        ],
        [
         "14716",
         "text-to-image",
         "67382c4c658b24f697117948",
         "['OnomaAIResearch/Illustrious-xl-early-release-v0', 'calculater/copycat-illustrious', 'hanzogak/comradeshipXL', 'Laxhar/noobai-XL-Vpred-0.5']",
         "4",
         "2024-11-16T05:23:24+00:00"
        ],
        [
         "28702",
         "text-to-image",
         "67862052f2dfa5f061cf9d8d",
         "['Laxhar/noobai-XL-Vpred-1.0', 'Laxhar/noobai-XL-Vpred-0.9r', 'Raelina/Raehoshi-illust-XL-3', 'comin/IterComp']",
         "4",
         "2025-01-14T08:29:06+00:00"
        ],
        [
         "37855",
         "text-to-image",
         "678c9982148f7a067d4e79f0",
         "['Raelina/Raehoshi-illust-XL-3', 'advokat/IterComp_safetensors', 'Laxhar/noobai-XL-Vpred-1.0', 'Laxhar/noobai-XL-Vpred-0.9r']",
         "4",
         "2025-01-19T06:19:46+00:00"
        ],
        [
         "41281",
         "text-to-image",
         "679e1de93d9e2d12282411e9",
         "['Laxhar/noobai-XL-Vpred-1.0', 'Laxhar/noobai-XL-1.0', 'OnomaAIResearch/Illustrious-xl-early-release-v0', 'KBlueLeaf/kohaku-xl-beta5']",
         "4",
         "2025-02-01T13:13:13+00:00"
        ],
        [
         "10707",
         "text-to-image",
         "6705e81775454343dfdb4639",
         "['OnomaAIResearch/Illustrious-xl-early-release-v0', 'calculater/copycat-illustrious', 'hanzogak/comradeshipXL']",
         "3",
         "2024-10-09T02:19:03+00:00"
        ],
        [
         "26632",
         "text-to-image",
         "656883ef39af099876102baa",
         "['Yntec/HellSKitchen', 'Yntec/Kitsch-In-Sync', 'Yntec/HELLmix']",
         "3",
         "2023-11-30T12:45:35+00:00"
        ],
        [
         "5377",
         "image-classification",
         "6720d99d6d6f6fb4a9fc9360",
         "['google/vit-base-patch16-224', 'facebook/deit-base-distilled-patch16-224', 'microsoft/swin-base-patch4-window7-224']",
         "3",
         "2024-10-29T12:48:29+00:00"
        ],
        [
         "24296",
         "text-to-image",
         "6716dd5a9a4d6c1da7f496bc",
         "['OnomaAIResearch/Illustrious-xl-early-release-v0', 'bluepen5805/blue_pencil-XL', 'bluepen5805/anima_pencil-XL']",
         "3",
         "2024-10-21T23:01:46+00:00"
        ],
        [
         "35398",
         "text-to-image",
         "66c132272777c050703ef4d9",
         "['KBlueLeaf/Kohaku-XL-Epsilon-rev3', 'yodayo-ai/holodayo-xl-2.1', 'bluepen5805/anima_pencil-XL']",
         "3",
         "2024-08-17T23:28:39+00:00"
        ],
        [
         "10035",
         "text-to-image",
         "674a58a90c9aadbd95b19b5f",
         "['tianweiy/DMD2', 'ByteDance/Hyper-SD', 'stabilityai/stable-diffusion-xl-base-1.0']",
         "3",
         "2024-11-30T00:13:29+00:00"
        ],
        [
         "40903",
         "text-to-image",
         "675eaee72a70608d9bc05369",
         "['Laxhar/noobai-XL-1.1', 'bluepen5805/blue_pencil-XL', 'KBlueLeaf/Kohaku-XL-Zeta']",
         "3",
         "2024-12-15T10:26:47+00:00"
        ],
        [
         "16436",
         "text-to-image",
         "66cfb4ad3a1f26f2e54776da",
         "['yodayo-ai/kivotos-xl-2.0', 'yodayo-ai/holodayo-xl-2.1', 'yodayo-ai/clandestine-xl-1.0']",
         "3",
         "2024-08-28T23:37:17+00:00"
        ],
        [
         "12245",
         "text-to-image",
         "67824d2329a988150eaeea21",
         "['JujoHotaru/BreedSeriesForXL', 'calculater/copycat-noob', 'Laxhar/noobai-XL-1.0']",
         "3",
         "2025-01-11T10:51:15+00:00"
        ],
        [
         "37523",
         "text-to-image",
         "66fc6825205892e8bda60ea8",
         "['yodayo-ai/kivotos-xl-2.0', 'yodayo-ai/holodayo-xl-2.1', 'yodayo-ai/clandestine-xl-1.0']",
         "3",
         "2024-10-01T21:22:45+00:00"
        ],
        [
         "22900",
         "text-to-image",
         "67503e61827e4ec6abfccb70",
         "['Laxhar/noobai-XL-1.1', 'calculater/copycat-noob', 'Raelina/Raehoshi-illust-XL']",
         "3",
         "2024-12-04T11:34:57+00:00"
        ],
        [
         "34058",
         "text-to-image",
         "673890fe7b70901f8e8b5795",
         "['Laxhar/noobai-XL-Vpred-0.5', 'calculater/copycat-noob', 'Raelina/Raehoshi-illust-XL']",
         "3",
         "2024-11-16T12:33:02+00:00"
        ]
       ],
       "shape": {
        "columns": 5,
        "rows": 44675
       }
      },
      "text/html": [
       "<div>\n",
       "<style scoped>\n",
       "    .dataframe tbody tr th:only-of-type {\n",
       "        vertical-align: middle;\n",
       "    }\n",
       "\n",
       "    .dataframe tbody tr th {\n",
       "        vertical-align: top;\n",
       "    }\n",
       "\n",
       "    .dataframe thead th {\n",
       "        text-align: right;\n",
       "    }\n",
       "</style>\n",
       "<table border=\"1\" class=\"dataframe\">\n",
       "  <thead>\n",
       "    <tr style=\"text-align: right;\">\n",
       "      <th></th>\n",
       "      <th>task</th>\n",
       "      <th>model</th>\n",
       "      <th>base_model</th>\n",
       "      <th>model_count</th>\n",
       "      <th>created_at</th>\n",
       "    </tr>\n",
       "  </thead>\n",
       "  <tbody>\n",
       "    <tr>\n",
       "      <th>4376</th>\n",
       "      <td>image-classification</td>\n",
       "      <td>678d3e2970768ae96e6193a6</td>\n",
       "      <td>[timm/convnext_nano.r384_ad_in12k, timm/convne...</td>\n",
       "      <td>100</td>\n",
       "      <td>2025-01-19T18:02:17+00:00</td>\n",
       "    </tr>\n",
       "    <tr>\n",
       "      <th>21011</th>\n",
       "      <td>text-to-image</td>\n",
       "      <td>673e350b74d6cdda59d0070f</td>\n",
       "      <td>[Laxhar/noobai-XL-Vpred-0.6, Laxhar/noobai-XL-...</td>\n",
       "      <td>10</td>\n",
       "      <td>2024-11-20T19:14:19+00:00</td>\n",
       "    </tr>\n",
       "    <tr>\n",
       "      <th>44669</th>\n",
       "      <td>image-to-3d</td>\n",
       "      <td>67541e876f47d9ce16b7ba91</td>\n",
       "      <td>[Qwen/Qwen2.5-Coder-32B-Instruct, stabilityai/...</td>\n",
       "      <td>10</td>\n",
       "      <td>2024-12-07T10:08:07+00:00</td>\n",
       "    </tr>\n",
       "    <tr>\n",
       "      <th>309</th>\n",
       "      <td>image-to-text</td>\n",
       "      <td>66e922c5ff3134c96fc6c108</td>\n",
       "      <td>[LeroyDyer/SpydazWeb_AI_CyberTron_Ultra_7b, Le...</td>\n",
       "      <td>10</td>\n",
       "      <td>2024-09-17T06:33:41+00:00</td>\n",
       "    </tr>\n",
       "    <tr>\n",
       "      <th>280</th>\n",
       "      <td>unconditional-image-generation</td>\n",
       "      <td>67789ac56335bde33b81d0bf</td>\n",
       "      <td>[meta-llama/Llama-3.3-70B-Instruct, deepseek-a...</td>\n",
       "      <td>10</td>\n",
       "      <td>2025-01-04T02:19:49+00:00</td>\n",
       "    </tr>\n",
       "    <tr>\n",
       "      <th>...</th>\n",
       "      <td>...</td>\n",
       "      <td>...</td>\n",
       "      <td>...</td>\n",
       "      <td>...</td>\n",
       "      <td>...</td>\n",
       "    </tr>\n",
       "    <tr>\n",
       "      <th>14934</th>\n",
       "      <td>text-to-image</td>\n",
       "      <td>66cb50c63fa97c9db6712654</td>\n",
       "      <td>[black-forest-labs/FLUX.1-dev]</td>\n",
       "      <td>1</td>\n",
       "      <td>2024-08-25T15:41:58+00:00</td>\n",
       "    </tr>\n",
       "    <tr>\n",
       "      <th>14935</th>\n",
       "      <td>text-to-image</td>\n",
       "      <td>673dde23f7d52717876616f8</td>\n",
       "      <td>[black-forest-labs/FLUX.1-dev]</td>\n",
       "      <td>1</td>\n",
       "      <td>2024-11-20T13:03:31+00:00</td>\n",
       "    </tr>\n",
       "    <tr>\n",
       "      <th>14936</th>\n",
       "      <td>text-to-image</td>\n",
       "      <td>66f706d044fba161d5ea18f8</td>\n",
       "      <td>[black-forest-labs/FLUX.1-dev]</td>\n",
       "      <td>1</td>\n",
       "      <td>2024-09-27T19:26:08+00:00</td>\n",
       "    </tr>\n",
       "    <tr>\n",
       "      <th>14937</th>\n",
       "      <td>text-to-image</td>\n",
       "      <td>6767b80187f8465c8cc20295</td>\n",
       "      <td>[black-forest-labs/FLUX.1-dev]</td>\n",
       "      <td>1</td>\n",
       "      <td>2024-12-22T06:56:01+00:00</td>\n",
       "    </tr>\n",
       "    <tr>\n",
       "      <th>44674</th>\n",
       "      <td>image-to-3d</td>\n",
       "      <td>670ab0b6b43c083ccc78ebdc</td>\n",
       "      <td>[meta-llama/Llama-3.2-11B-Vision-Instruct]</td>\n",
       "      <td>1</td>\n",
       "      <td>2024-10-12T17:24:06+00:00</td>\n",
       "    </tr>\n",
       "  </tbody>\n",
       "</table>\n",
       "<p>44675 rows × 5 columns</p>\n",
       "</div>"
      ],
      "text/plain": [
       "                                 task                     model  \\\n",
       "4376             image-classification  678d3e2970768ae96e6193a6   \n",
       "21011                   text-to-image  673e350b74d6cdda59d0070f   \n",
       "44669                     image-to-3d  67541e876f47d9ce16b7ba91   \n",
       "309                     image-to-text  66e922c5ff3134c96fc6c108   \n",
       "280    unconditional-image-generation  67789ac56335bde33b81d0bf   \n",
       "...                               ...                       ...   \n",
       "14934                   text-to-image  66cb50c63fa97c9db6712654   \n",
       "14935                   text-to-image  673dde23f7d52717876616f8   \n",
       "14936                   text-to-image  66f706d044fba161d5ea18f8   \n",
       "14937                   text-to-image  6767b80187f8465c8cc20295   \n",
       "44674                     image-to-3d  670ab0b6b43c083ccc78ebdc   \n",
       "\n",
       "                                              base_model  model_count  \\\n",
       "4376   [timm/convnext_nano.r384_ad_in12k, timm/convne...          100   \n",
       "21011  [Laxhar/noobai-XL-Vpred-0.6, Laxhar/noobai-XL-...           10   \n",
       "44669  [Qwen/Qwen2.5-Coder-32B-Instruct, stabilityai/...           10   \n",
       "309    [LeroyDyer/SpydazWeb_AI_CyberTron_Ultra_7b, Le...           10   \n",
       "280    [meta-llama/Llama-3.3-70B-Instruct, deepseek-a...           10   \n",
       "...                                                  ...          ...   \n",
       "14934                     [black-forest-labs/FLUX.1-dev]            1   \n",
       "14935                     [black-forest-labs/FLUX.1-dev]            1   \n",
       "14936                     [black-forest-labs/FLUX.1-dev]            1   \n",
       "14937                     [black-forest-labs/FLUX.1-dev]            1   \n",
       "44674         [meta-llama/Llama-3.2-11B-Vision-Instruct]            1   \n",
       "\n",
       "                      created_at  \n",
       "4376   2025-01-19T18:02:17+00:00  \n",
       "21011  2024-11-20T19:14:19+00:00  \n",
       "44669  2024-12-07T10:08:07+00:00  \n",
       "309    2024-09-17T06:33:41+00:00  \n",
       "280    2025-01-04T02:19:49+00:00  \n",
       "...                          ...  \n",
       "14934  2024-08-25T15:41:58+00:00  \n",
       "14935  2024-11-20T13:03:31+00:00  \n",
       "14936  2024-09-27T19:26:08+00:00  \n",
       "14937  2024-12-22T06:56:01+00:00  \n",
       "44674  2024-10-12T17:24:06+00:00  \n",
       "\n",
       "[44675 rows x 5 columns]"
      ]
     },
     "execution_count": 43,
     "metadata": {},
     "output_type": "execute_result"
    }
   ],
   "source": [
    "cv_model_df.sort_values(by='model_count', ascending=False)"
   ]
  },
  {
   "cell_type": "code",
   "execution_count": 44,
   "metadata": {},
   "outputs": [
    {
     "data": {
      "application/vnd.microsoft.datawrangler.viewer.v0+json": {
       "columns": [
        {
         "name": "task",
         "rawType": "object",
         "type": "string"
        },
        {
         "name": "model_count",
         "rawType": "float64",
         "type": "float"
        }
       ],
       "ref": "d7d2461c-9bcc-4c31-83bb-4c30adcbf2ed",
       "rows": [
        [
         "unconditional-image-generation",
         "3.25"
        ],
        [
         "image-to-3d",
         "2.0"
        ],
        [
         "image-to-video",
         "1.3636363636363635"
        ],
        [
         "image-to-text",
         "1.154320987654321"
        ],
        [
         "mask-generation",
         "1.0714285714285714"
        ],
        [
         "text-to-video",
         "1.0608108108108107"
        ],
        [
         "depth-estimation",
         "1.0555555555555556"
        ],
        [
         "zero-shot-image-classification",
         "1.0425531914893618"
        ],
        [
         "image-to-image",
         "1.03"
        ],
        [
         "image-feature-extraction",
         "1.0188679245283019"
        ],
        [
         "image-classification",
         "1.0184123675525447"
        ],
        [
         "text-to-image",
         "1.0106241699867198"
        ],
        [
         "object-detection",
         "1.0048959608323134"
        ],
        [
         "image-segmentation",
         "1.0046296296296295"
        ],
        [
         "keypoint-detection",
         "1.0"
        ],
        [
         "text-to-3d",
         "1.0"
        ],
        [
         "video-classification",
         "1.0"
        ],
        [
         "zero-shot-object-detection",
         "1.0"
        ]
       ],
       "shape": {
        "columns": 1,
        "rows": 18
       }
      },
      "text/plain": [
       "task\n",
       "unconditional-image-generation    3.250000\n",
       "image-to-3d                       2.000000\n",
       "image-to-video                    1.363636\n",
       "image-to-text                     1.154321\n",
       "mask-generation                   1.071429\n",
       "text-to-video                     1.060811\n",
       "depth-estimation                  1.055556\n",
       "zero-shot-image-classification    1.042553\n",
       "image-to-image                    1.030000\n",
       "image-feature-extraction          1.018868\n",
       "image-classification              1.018412\n",
       "text-to-image                     1.010624\n",
       "object-detection                  1.004896\n",
       "image-segmentation                1.004630\n",
       "keypoint-detection                1.000000\n",
       "text-to-3d                        1.000000\n",
       "video-classification              1.000000\n",
       "zero-shot-object-detection        1.000000\n",
       "Name: model_count, dtype: float64"
      ]
     },
     "execution_count": 44,
     "metadata": {},
     "output_type": "execute_result"
    }
   ],
   "source": [
    "cv_model_df['model_count'].groupby(cv_model_df['task']).mean().sort_values(ascending=False)"
   ]
  },
  {
   "cell_type": "code",
   "execution_count": 45,
   "metadata": {},
   "outputs": [
    {
     "data": {
      "application/vnd.microsoft.datawrangler.viewer.v0+json": {
       "columns": [
        {
         "name": "task",
         "rawType": "object",
         "type": "string"
        },
        {
         "name": "model_count",
         "rawType": "float64",
         "type": "float"
        }
       ],
       "ref": "f4bcadd4-3542-4de6-a707-2b4e3a65b462",
       "rows": [
        [
         "unconditional-image-generation",
         "4.5"
        ],
        [
         "image-to-3d",
         "3.0"
        ],
        [
         "image-classification",
         "1.305494901155195"
        ],
        [
         "image-to-video",
         "0.9021379128785209"
        ],
        [
         "image-to-text",
         "0.7606060647720096"
        ],
        [
         "text-to-video",
         "0.43994977065417123"
        ],
        [
         "mask-generation",
         "0.26726124191242445"
        ],
        [
         "depth-estimation",
         "0.2323106841457232"
        ],
        [
         "zero-shot-image-classification",
         "0.2029298102618999"
        ],
        [
         "image-to-image",
         "0.19823340387548283"
        ],
        [
         "text-to-image",
         "0.15603052662645825"
        ],
        [
         "object-detection",
         "0.13994228570826395"
        ],
        [
         "image-feature-extraction",
         "0.13736056394868898"
        ],
        [
         "image-segmentation",
         "0.06796240158764905"
        ],
        [
         "keypoint-detection",
         "0.0"
        ],
        [
         "text-to-3d",
         "0.0"
        ],
        [
         "video-classification",
         "0.0"
        ],
        [
         "zero-shot-object-detection",
         "0.0"
        ]
       ],
       "shape": {
        "columns": 1,
        "rows": 18
       }
      },
      "text/plain": [
       "task\n",
       "unconditional-image-generation    4.500000\n",
       "image-to-3d                       3.000000\n",
       "image-classification              1.305495\n",
       "image-to-video                    0.902138\n",
       "image-to-text                     0.760606\n",
       "text-to-video                     0.439950\n",
       "mask-generation                   0.267261\n",
       "depth-estimation                  0.232311\n",
       "zero-shot-image-classification    0.202930\n",
       "image-to-image                    0.198233\n",
       "text-to-image                     0.156031\n",
       "object-detection                  0.139942\n",
       "image-feature-extraction          0.137361\n",
       "image-segmentation                0.067962\n",
       "keypoint-detection                0.000000\n",
       "text-to-3d                        0.000000\n",
       "video-classification              0.000000\n",
       "zero-shot-object-detection        0.000000\n",
       "Name: model_count, dtype: float64"
      ]
     },
     "execution_count": 45,
     "metadata": {},
     "output_type": "execute_result"
    }
   ],
   "source": [
    "cv_model_df['model_count'].groupby(cv_model_df['task']).std().sort_values(ascending=False)"
   ]
  },
  {
   "cell_type": "markdown",
   "metadata": {},
   "source": [
    "##### CV RQ 1: What is the degree of diversity of datasets in training CV models?"
   ]
  },
  {
   "cell_type": "code",
   "execution_count": 46,
   "metadata": {},
   "outputs": [],
   "source": [
    "task_list=[]\n",
    "model_list=[]\n",
    "dataset_list=[]\n",
    "dataset_count_list=[]\n",
    "created_at_list=[]\n",
    "for task in cv_task.keys():\n",
    "    for model in cv_task[task].keys():\n",
    "        if ('datasets' in cv_task[task][model].keys()) and (cv_task[task][model]['datasets'] is not None) and (type(cv_task[task][model]['datasets']) == list):\n",
    "            #Sometimes, the list can be empty\n",
    "            dataset_count=0\n",
    "            if len(cv_task[task][model]['datasets'])>0: #Check the number of elements in the list\n",
    "                for dataset in cv_task[task][model]['datasets']:\n",
    "                    dataset_count+=1\n",
    "                task_list.append(task)\n",
    "                model_list.append(model)\n",
    "                dataset_list.append(cv_task[task][model]['datasets'])\n",
    "                dataset_count_list.append(dataset_count)\n",
    "                created_at_list.append(cv_task[task][model]['created_at'])"
   ]
  },
  {
   "cell_type": "code",
   "execution_count": 47,
   "metadata": {},
   "outputs": [
    {
     "name": "stdout",
     "output_type": "stream",
     "text": [
      "12839 12839 12839 12839 12839\n"
     ]
    }
   ],
   "source": [
    "print(len(task_list), len(model_list), len(dataset_list), len(dataset_count_list), len(created_at_list))"
   ]
  },
  {
   "cell_type": "code",
   "execution_count": 48,
   "metadata": {},
   "outputs": [],
   "source": [
    "cv_dataset_df=pd.DataFrame({'task':task_list, 'model':model_list, 'dataset':dataset_list, 'dataset_count':dataset_count_list, 'created_at':created_at_list})"
   ]
  },
  {
   "cell_type": "code",
   "execution_count": 49,
   "metadata": {},
   "outputs": [
    {
     "data": {
      "application/vnd.microsoft.datawrangler.viewer.v0+json": {
       "columns": [
        {
         "name": "index",
         "rawType": "int64",
         "type": "integer"
        },
        {
         "name": "task",
         "rawType": "object",
         "type": "string"
        },
        {
         "name": "model",
         "rawType": "object",
         "type": "string"
        },
        {
         "name": "dataset",
         "rawType": "object",
         "type": "unknown"
        },
        {
         "name": "dataset_count",
         "rawType": "int64",
         "type": "integer"
        },
        {
         "name": "created_at",
         "rawType": "object",
         "type": "string"
        }
       ],
       "ref": "f57c8b8b-59c3-4cf4-8e88-3228ded105ab",
       "rows": [
        [
         "277",
         "image-to-text",
         "66e922c5ff3134c96fc6c108",
         "['gretelai/synthetic_text_to_sql', 'HuggingFaceTB/cosmopedia', 'teknium/OpenHermes-2.5', 'Open-Orca/SlimOrca', 'Open-Orca/OpenOrca', 'cognitivecomputations/dolphin-coder', 'databricks/databricks-dolly-15k', 'yahma/alpaca-cleaned', 'uonlp/CulturaX', 'mwitiderrick/SwahiliPlatypus', 'swahili', 'Rogendo/English-Swahili-Sentence-Pairs', 'ise-uiuc/Magicoder-Evol-Instruct-110K', 'meta-math/MetaMathQA', 'abacusai/ARC_DPO_FewShot', 'abacusai/MetaMath_DPO_FewShot', 'abacusai/HellaSwag_DPO_FewShot', 'HaltiaAI/Her-The-Movie-Samantha-and-Theodore-Dataset', 'HuggingFaceFW/fineweb', 'occiglot/occiglot-fineweb-v0.5', 'omi-health/medical-dialogue-to-soap-summary', 'keivalya/MedQuad-MedicalQnADataset', 'ruslanmv/ai-medical-dataset', 'Shekswess/medical_llama3_instruct_dataset_short', 'ShenRuililin/MedicalQnA', 'virattt/financial-qa-10K', 'PatronusAI/financebench', 'takala/financial_phrasebank', 'Replete-AI/code_bagel', 'athirdpath/DPO_Pairs-Roleplay-Alpaca-NSFW', 'IlyaGusev/gpt_roleplay_realm', 'rickRossie/bluemoon_roleplay_chat_data_300k_messages', 'jtatman/hypnosis_dataset', 'Hypersniper/philosophy_dialogue', 'Locutusque/function-calling-chatml', 'bible-nlp/biblenlp-corpus', 'DatadudeDev/Bible', 'Helsinki-NLP/bible_para', 'HausaNLP/AfriSenti-Twitter', 'aixsatoshi/Chat-with-cosmopedia', 'xz56/react-llama', 'BeIR/hotpotqa', 'YBXL/medical_book_train_filtered']",
         "43",
         "2024-09-17T06:33:41+00:00"
        ],
        [
         "211",
         "unconditional-image-generation",
         "651540420a2f6b1b30509600",
         "['Falah/image_generation_prompts_SDXL', 'pszemraj/text2image-multi-prompt', 'Doohae/modern_music_re', 'ProGamerGov/StableDiffusion-v1-5-Regularization-Images', 'lansinuote/diffusion.1.unconditional', 'daspartho/stable-diffusion-prompts', 'templates/dataset-card-example', 'mariosasko/test_imagefolder_with_metadata', 'fka/awesome-chatgpt-prompts', 'vicgalle/alpaca-gpt4', 'nomic-ai/gpt4all_prompt_generations', 'teknium/GPT4-LLM-Cleaned', 'Photolens/oasst1-langchain-llama-2-formatted', 'open-llm-leaderboard/details_mistralai__Mistral-7B-v0.1']",
         "14",
         "2023-09-28T08:58:42+00:00"
        ],
        [
         "8734",
         "text-to-image",
         "66a7f8bb851564e02b88b909",
         "['cc0', 'public-domain', 'artbench-10', 'flickr', 'wikimedia-commons', 'nftarts', 'vroid', 'open-clipart', 'open-duelyst', '3dicons', 'ambientcg', 'wuffle', 'Rhizomatiks']",
         "13",
         "2024-07-29T20:16:59+00:00"
        ],
        [
         "11865",
         "image-feature-extraction",
         "670ff448ce853cebbe719452",
         "['laion-en', 'laion-zh', 'coyo', 'grit', 'coco', 'textcaps', 'objects365', 'openimages', 'all-seeing', 'wukong-ocr', 'laioncoco-ocr', 'other-ocr']",
         "12",
         "2024-10-16T17:13:44+00:00"
        ],
        [
         "2340",
         "image-classification",
         "67b03508248b716880d42052",
         "['laion-en', 'laion-zh', 'coyo', 'grit', 'coco', 'textcaps', 'objects365', 'openimages', 'all-seeing', 'wukong-ocr', 'laioncoco-ocr', 'other-ocr']",
         "12",
         "2025-02-15T06:32:40+00:00"
        ],
        [
         "10347",
         "text-to-image",
         "63cad908e5632cc0ef836924",
         "['Guizmus/AnimeChanStyle', 'skytnt/fbanimehq', 'skytnt/anime-segmentation', 'Nerfgun3/bad_prompt', 'Nerfgun3/shatter_style', 'Nerfgun3/ouroboros_embeddings', 'gsdf/EasyNegative', 'Fazzie/Teyvat', 'victor-obrist/genshin', 'LuffyTheFox/GenshinPortraits', 'animelover/genshin-impact-images']",
         "11",
         "2023-01-20T18:10:16+00:00"
        ],
        [
         "462",
         "image-to-text",
         "66bdb88e737c4ed8907b5c6c",
         "['Riksarkivet/goteborgs_poliskammare_fore_1900_lines', 'Riksarkivet/krigshovrattens_dombocker_lines', 'Riksarkivet/svea_hovratt_lines', 'Riksarkivet/bergskollegium_relationer_och_skrivelser_lines', 'Riksarkivet/frihetstidens_utskottshandlingar_lines', 'Riksarkivet/carl_fredrik_pahlmans_resejournaler_lines', 'Riksarkivet/trolldomskommissionen_lines', 'Riksarkivet/gota_hovratt_lines', 'Riksarkivet/bergmastaren_i_nora_htr_lines', 'Riksarkivet/alvsborgs_losen_lines', 'Riksarkivet/jonkopings_radhusratt_och_magistrat_lines']",
         "11",
         "2024-08-15T08:13:02+00:00"
        ],
        [
         "9229",
         "text-to-image",
         "649d9826c10f40d26c0c87f3",
         "['fka/awesome-chatgpt-prompts', 'tiiuae/falcon-refinedweb', 'GAIR/lima', 'cerebras/SlimPajama-627B', 'QingyiSi/Alpaca-CoT', 'WizardLM/WizardLM_evol_instruct_V2_196k', 'OpenAssistant/oasst1', 'anon8231489123/ShareGPT_Vicuna_unfiltered', 'databricks/databricks-dolly-15k', 'TigerResearch/pretrain_zh']",
         "10",
         "2023-06-29T14:41:42+00:00"
        ],
        [
         "37",
         "text-to-video",
         "67787e4417359fdf8bf36830",
         "['HuggingFaceFW/fineweb-2', 'fka/awesome-chatgpt-prompts', 'HuggingFaceTB/finemath', 'O1-OPEN/OpenO1-SFT', 'amphora/QwQ-LongCoT-130K', 'agibot-world/AgiBotWorld-Alpha', 'CohereForAI/Global-MMLU', 'foursquare/fsq-os-places', 'deepghs/sankaku_full', 'argilla/FinePersonas-v0.1']",
         "10",
         "2025-01-04T00:18:12+00:00"
        ],
        [
         "210",
         "unconditional-image-generation",
         "67789ac56335bde33b81d0bf",
         "['HuggingFaceFW/fineweb-2', 'fka/awesome-chatgpt-prompts', 'gopipasala/fka-awesome-chatgpt-prompts', 'O1-OPEN/OpenO1-SFT', 'amphora/QwQ-LongCoT-130K', 'agibot-world/AgiBotWorld-Alpha', 'CohereForAI/Global-MMLU', 'foursquare/fsq-os-places', 'deepghs/sankaku_full', 'argilla/FinePersonas-v0.1']",
         "10",
         "2025-01-04T02:19:49+00:00"
        ],
        [
         "11908",
         "depth-estimation",
         "65d837aa9106d30a51499883",
         "['teknium/OpenHermes-2.5', 'fka/awesome-chatgpt-prompts', 'allenai/dolma', 'HuggingFaceTB/cosmopedia', 'Locutusque/UltraTextbooks', 'CohereForAI/aya_dataset', 'litagin/moe-speech', 'math-ai/AutoMathText', 'nvidia/OpenMathInstruct-1']",
         "9",
         "2024-02-23T06:14:02+00:00"
        ],
        [
         "10810",
         "text-to-image",
         "6388b2c0685efaedd15ce201",
         "['Guizmus/AnimeChanStyle', 'skytnt/fbanimehq', 'skytnt/anime-segmentation', 'Nerfgun3/bad_prompt', 'Nerfgun3/shatter_style', 'Nerfgun3/ouroboros_embeddings', 'cattoroboto/waifudiffusion-marine-textual-inversion', 'waifu-research-department/regularization', 'waifu-research-department/embeddings']",
         "9",
         "2022-12-01T13:57:20+00:00"
        ],
        [
         "8679",
         "text-to-image",
         "67112e753b830303f03c9a7d",
         "['lmms-lab/COCO-Caption2017', 'detection-datasets/coco', 'google-research-datasets/conceptual_captions', 'jp1924/Laion400m-1', 'jp1924/Laion400m-2', 'jp1924/Laion400m-3', 'lmms-lab/flickr30k', 'vicenteor/sbu_captions']",
         "8",
         "2024-10-17T15:34:13+00:00"
        ],
        [
         "316",
         "image-to-text",
         "63a5d7cb68b3757ecac95a46",
         "['coco', 'conceptual-caption', 'sbu', 'flickr30k', 'vqa', 'gqa', 'vg-qa', 'open-images']",
         "8",
         "2022-12-23T16:31:07+00:00"
        ],
        [
         "352",
         "image-to-text",
         "6660545c540deb3c0a897d43",
         "['ddzala/aadhar1_dataset', 'ddzala/aadhar2_dataset', 'ddzala/kvb_dataset', 'ddzala/idbi_dataset', 'ddzala/bigshare_dataset', 'ddzala/kfintech_dataset', 'ddzala/kotak_dataset', 'ddzala/sib_dataset']",
         "8",
         "2024-06-05T12:04:44+00:00"
        ],
        [
         "6763",
         "image-classification",
         "6399f076191be3a5d4517805",
         "['AdamOswald1/autotrain-data-failure', 'AdamOswald1/autotrain-data-testing', 'AdamOswald1/autotrain-data-l', 'AdamOswald1/autotrain-data-attempt', 'AdamOswald1/autotrain-data-alt', 'AdamOswald1/autotrain-data-testttt', 'AdamOswald1/autotrain-data-let']",
         "7",
         "2022-12-14T15:49:10+00:00"
        ],
        [
         "8472",
         "text-to-image",
         "6480e6c0e1421e205fdef717",
         "['hkgkjg111/gradient', 'ArielACE/Lora-Dataset', 'JCTN/hypernetworks', 'ngocuong/a1111-sd-webui-locon', 'Drditone/wildcards', 'thefcraft/civitai-stable-diffusion-337k', 'merve/xlm-roberta-large-df']",
         "7",
         "2023-06-07T20:21:20+00:00"
        ],
        [
         "43",
         "text-to-video",
         "67a302b244b3cf83ebbf67be",
         "['TempoFunk/webvid-10M', 'HuggingFaceM4/howto100m', 'ahmedheakl/arabic_celebvqa', 'WenhaoWang/VidProM', 'morpheushoc/something-something-v2', 'emirgocen/Something-Something-v2', 'kiyoonkim/kinetics-400-targz']",
         "7",
         "2025-02-05T06:18:26+00:00"
        ],
        [
         "8785",
         "text-to-image",
         "63cea0b02a7f32cbc45e272f",
         "['Nerfgun3/cyberware_style', 'Nerfgun3/bad_prompt', 'gsdf/EasyNegative', 'Fazzie/Teyvat', 'animelover/genshin-impact-images', 'victor-obrist/genshin', 'LuffyTheFox/GenshinPortraits']",
         "7",
         "2023-01-23T14:58:56+00:00"
        ],
        [
         "110",
         "zero-shot-image-classification",
         "66c60ce14224c7abdc7794b0",
         "['Marqo/atlas', 'Marqo/deepfashion-inshop', 'Marqo/deepfashion-multimodal', 'Marqo/fashion200k', 'Marqo/iMaterialist', 'Marqo/KAGL', 'Marqo/polyvore']",
         "7",
         "2024-08-21T15:50:57+00:00"
        ],
        [
         "11251",
         "text-to-image",
         "6399f076191be3a5d4517805",
         "['AdamOswald1/autotrain-data-failure', 'AdamOswald1/autotrain-data-testing', 'AdamOswald1/autotrain-data-l', 'AdamOswald1/autotrain-data-attempt', 'AdamOswald1/autotrain-data-alt', 'AdamOswald1/autotrain-data-testttt', 'AdamOswald1/autotrain-data-let']",
         "7",
         "2022-12-14T15:49:10+00:00"
        ],
        [
         "5769",
         "image-classification",
         "66867f4acc04276001cfb75a",
         "['HPAI-BSC/SuSy-Dataset', 'HuggingFaceM4/COCO', 'ehristoforu/dalle-3-images', 'poloclub/diffusiondb', 'ehristoforu/midjourney-images', 'nateraw/midjourney-texttoimage', 'duchaiten/duchaiten-realistic-sdxl']",
         "7",
         "2024-07-04T10:54:02+00:00"
        ],
        [
         "11850",
         "image-feature-extraction",
         "666c6db8e0b2d43ff35c2f12",
         "['laion/laion2B-en', 'laion/laion-coco', 'laion/laion2B-multi', 'kakaobrain/coyo-700m', 'conceptual_captions', 'wanng/wukong100m']",
         "6",
         "2024-06-14T16:20:08+00:00"
        ],
        [
         "11836",
         "image-feature-extraction",
         "65b90b93dbe38f9a3f4bfcb0",
         "['laion/laion2B-en', 'laion/laion-coco', 'laion/laion2B-multi', 'kakaobrain/coyo-700m', 'conceptual_captions', 'wanng/wukong100m']",
         "6",
         "2024-01-30T14:45:39+00:00"
        ],
        [
         "11854",
         "image-feature-extraction",
         "6650c10c420092799d205bc7",
         "['laion/laion2B-en', 'laion/laion-coco', 'laion/laion2B-multi', 'kakaobrain/coyo-700m', 'conceptual_captions', 'wanng/wukong100m']",
         "6",
         "2024-05-24T16:32:12+00:00"
        ],
        [
         "11858",
         "image-feature-extraction",
         "65c8dd797cd01b4c7ad39a25",
         "['laion/laion2B-en', 'laion/laion-coco', 'laion/laion2B-multi', 'kakaobrain/coyo-700m', 'conceptual_captions', 'wanng/wukong100m']",
         "6",
         "2024-02-11T14:45:13+00:00"
        ],
        [
         "11860",
         "image-feature-extraction",
         "661f923c8055010047619e81",
         "['laion/laion2B-en', 'laion/laion-coco', 'laion/laion2B-multi', 'kakaobrain/coyo-700m', 'conceptual_captions', 'wanng/wukong100m']",
         "6",
         "2024-04-17T09:11:24+00:00"
        ],
        [
         "10118",
         "text-to-image",
         "6727c5234989f354cdad5a98",
         "['LanguageBind/Open-Sora-Plan-v1.2.0', 'LanguageBind/Open-Sora-Plan-v1.1.0', 'ProGamerGov/synthetic-dataset-1m-dalle3-high-quality-captions', 'dalle-mini/open-images', 'OpenDatasets/dalle-3-dataset', 'fka/awesome-chatgpt-prompts']",
         "6",
         "2024-11-03T18:46:59+00:00"
        ],
        [
         "11873",
         "image-feature-extraction",
         "6584ecc88615630cb3d9a0fb",
         "['laion/laion2B-en', 'laion/laion-coco', 'laion/laion2B-multi', 'kakaobrain/coyo-700m', 'conceptual_captions', 'wanng/wukong100m']",
         "6",
         "2023-12-22T01:56:24+00:00"
        ],
        [
         "11888",
         "image-feature-extraction",
         "668597dd5a55e9c602ea815c",
         "['laion/laion2B-en', 'laion/laion-coco', 'laion/laion2B-multi', 'kakaobrain/coyo-700m', 'conceptual_captions', 'wanng/wukong100m']",
         "6",
         "2024-07-03T18:26:37+00:00"
        ],
        [
         "11893",
         "image-feature-extraction",
         "6584ec2dc8b8bd66f7a7b863",
         "['laion/laion2B-en', 'laion/laion-coco', 'laion/laion2B-multi', 'kakaobrain/coyo-700m', 'conceptual_captions', 'wanng/wukong100m']",
         "6",
         "2023-12-22T01:53:49+00:00"
        ],
        [
         "9728",
         "text-to-image",
         "6461f3eec67e1a494d8f4852",
         "['OpenAssistant/oasst1', 'fka/awesome-chatgpt-prompts', 'gsdf/EasyNegative', 'togethercomputer/RedPajama-Data-1T', 'anon8231489123/ShareGPT_Vicuna_unfiltered', 'databricks/databricks-dolly-15k']",
         "6",
         "2023-05-15T08:57:18+00:00"
        ],
        [
         "10023",
         "text-to-image",
         "638f4f883783be5e1d062cb8",
         "['Guizmus/AnimeChanStyle', 'skytnt/fbanimehq', 'skytnt/anime-segmentation', 'Nerfgun3/bad_prompt', 'Nerfgun3/shatter_style', 'Nerfgun3/ouroboros_embeddings']",
         "6",
         "2022-12-06T14:19:52+00:00"
        ],
        [
         "7823",
         "text-to-image",
         "6460f9cb604bf8923333d298",
         "['laion/laion-art', 'jamescalam/unsplash-25k-photos', 'yuvalkirstain/beautiful_interesting_spectacular_photo_model_30000', 'dalle-mini/open-images', 'SDbiaseval/jobs-dalle-2']",
         "5",
         "2023-05-14T15:10:03+00:00"
        ],
        [
         "68",
         "image-to-video",
         "658b9f0c7f1e21412cbd5b1d",
         "['fka/awesome-chatgpt-prompts', 'fka/awesome-chatgpt-prompts', 'fka/awesome-chatgpt-prompts', 'fka/awesome-chatgpt-prompts', 'fka/awesome-chatgpt-prompts']",
         "5",
         "2023-12-27T03:50:36+00:00"
        ],
        [
         "9373",
         "text-to-image",
         "6606f5cf7e7bf8d64036f0a7",
         "['bigcode/the-stack-v2', 'Cohere/wikipedia-2023-11-embed-multilingual-v3', 'abacusai/SystemChat', 'argilla/dpo-mix-7k', 'MarkrAI/KoCommercial-Dataset']",
         "5",
         "2024-03-29T17:09:35+00:00"
        ],
        [
         "363",
         "image-to-text",
         "63cf1ab15b34d3d1935a0697",
         "['coco', 'textvqa', 'VQAv2', 'OK-VQA', 'A-OKVQA']",
         "5",
         "2023-01-23T23:39:29+00:00"
        ],
        [
         "10658",
         "text-to-image",
         "667f3da859cca203a48b81f9",
         "['EarthnDusk/Virtual_Diffusion_V3', 'fka/awesome-chatgpt-prompts', 'EarthnDusk/XL_PDXL_Embeddings', 'EarthnDusk/Huggingface_Uploader', 'EarthnDusk/Dataset-Tools']",
         "5",
         "2024-06-28T22:48:08+00:00"
        ],
        [
         "9972",
         "text-to-image",
         "6501b45e9f3a61cd6d6415d9",
         "['Francesco/furniture-ngpea', 'Falah/chairs_furniture', 'minhoheo/furniture-test', 'disham993/Synthetic_Furniture_Dataset', 'Arkan0ID/furniture-dataset']",
         "5",
         "2023-09-13T13:08:46+00:00"
        ],
        [
         "296",
         "image-to-text",
         "660469f0c86682af13197be5",
         "['X2FD/LVIS-Instruct4V', 'BAAI/SVIT', 'HuggingFaceH4/ultrachat_200k', 'MMInstruction/VLFeedback', 'zhiqings/LLaVA-Human-Preference-10K']",
         "5",
         "2024-03-27T18:48:16+00:00"
        ],
        [
         "351",
         "image-to-text",
         "65899ad3595e258218b7f21f",
         "['sbu_captions', 'visual_genome', 'HuggingFaceM4/VQAv2', 'ChristophSchuhmann/MS_COCO_2017_URL_TEXT']",
         "4",
         "2023-12-25T15:08:03+00:00"
        ],
        [
         "315",
         "image-to-text",
         "65901edeccbc1e2cc7d39c50",
         "['allenai/c4', 'wikimedia/wikipedia', 'liuhaotian/LLaVA-Instruct-150K', 'Open-Orca/SlimOrca']",
         "4",
         "2023-12-30T13:45:02+00:00"
        ],
        [
         "8876",
         "text-to-image",
         "66dc22a37e418a6837db0f5a",
         "['common-canvas/commoncatalog-cc-by', 'madebyollin/megalith-10m', 'madebyollin/soa-full', 'alfredplpl/artbench-pd-256x256']",
         "4",
         "2024-09-07T09:53:39+00:00"
        ],
        [
         "408",
         "image-to-text",
         "659985dcb2ec894c519a80d2",
         "['sbu_captions', 'visual_genome', 'HuggingFaceM4/VQAv2', 'ChristophSchuhmann/MS_COCO_2017_URL_TEXT']",
         "4",
         "2024-01-06T16:54:52+00:00"
        ],
        [
         "407",
         "image-to-text",
         "659124e752dc1046ca1d994c",
         "['allenai/c4', 'wikimedia/wikipedia', 'liuhaotian/LLaVA-Instruct-150K', 'Open-Orca/SlimOrca']",
         "4",
         "2023-12-31T08:23:03+00:00"
        ],
        [
         "314",
         "image-to-text",
         "64be9df6e10455688f28ab5c",
         "['HuggingFaceM4/OBELICS', 'wikipedia', 'facebook/pmd', 'laion/laion2B-en']",
         "4",
         "2023-07-24T15:51:18+00:00"
        ],
        [
         "7962",
         "text-to-image",
         "648fa4e7571de0fc50cec4e8",
         "['fka/awesome-chatgpt-prompts', 'Nerfgun3/bad_prompt', 'Duskfallcrew/remydataset', 'basesssssp/bad-kemono-negative-embedding']",
         "4",
         "2023-06-19T00:44:23+00:00"
        ],
        [
         "12831",
         "image-to-3d",
         "6797920aee5c7189d6b4de73",
         "['lianghsun/tw-instruct-500k', 'fka/awesome-chatgpt-prompts', 'Rapidata/human-style-preferences-images', 'bigcode/the-stack-v2']",
         "4",
         "2025-01-27T14:02:50+00:00"
        ],
        [
         "157",
         "zero-shot-image-classification",
         "6499c7ae1cbf814d2264fcdd",
         "['imageomics/TreeOfLife-10M', 'iNat21', 'BIOSCAN-1M', 'EOL']",
         "4",
         "2023-06-26T17:15:26+00:00"
        ],
        [
         "347",
         "image-to-text",
         "65975f4e929cd840d8eb0dba",
         "['HuggingFaceM4/OBELICS', 'laion/laion2B-en', 'coyo-700m', 'mmc4']",
         "4",
         "2024-01-05T01:45:50+00:00"
        ]
       ],
       "shape": {
        "columns": 5,
        "rows": 12839
       }
      },
      "text/html": [
       "<div>\n",
       "<style scoped>\n",
       "    .dataframe tbody tr th:only-of-type {\n",
       "        vertical-align: middle;\n",
       "    }\n",
       "\n",
       "    .dataframe tbody tr th {\n",
       "        vertical-align: top;\n",
       "    }\n",
       "\n",
       "    .dataframe thead th {\n",
       "        text-align: right;\n",
       "    }\n",
       "</style>\n",
       "<table border=\"1\" class=\"dataframe\">\n",
       "  <thead>\n",
       "    <tr style=\"text-align: right;\">\n",
       "      <th></th>\n",
       "      <th>task</th>\n",
       "      <th>model</th>\n",
       "      <th>dataset</th>\n",
       "      <th>dataset_count</th>\n",
       "      <th>created_at</th>\n",
       "    </tr>\n",
       "  </thead>\n",
       "  <tbody>\n",
       "    <tr>\n",
       "      <th>277</th>\n",
       "      <td>image-to-text</td>\n",
       "      <td>66e922c5ff3134c96fc6c108</td>\n",
       "      <td>[gretelai/synthetic_text_to_sql, HuggingFaceTB...</td>\n",
       "      <td>43</td>\n",
       "      <td>2024-09-17T06:33:41+00:00</td>\n",
       "    </tr>\n",
       "    <tr>\n",
       "      <th>211</th>\n",
       "      <td>unconditional-image-generation</td>\n",
       "      <td>651540420a2f6b1b30509600</td>\n",
       "      <td>[Falah/image_generation_prompts_SDXL, pszemraj...</td>\n",
       "      <td>14</td>\n",
       "      <td>2023-09-28T08:58:42+00:00</td>\n",
       "    </tr>\n",
       "    <tr>\n",
       "      <th>8734</th>\n",
       "      <td>text-to-image</td>\n",
       "      <td>66a7f8bb851564e02b88b909</td>\n",
       "      <td>[cc0, public-domain, artbench-10, flickr, wiki...</td>\n",
       "      <td>13</td>\n",
       "      <td>2024-07-29T20:16:59+00:00</td>\n",
       "    </tr>\n",
       "    <tr>\n",
       "      <th>11865</th>\n",
       "      <td>image-feature-extraction</td>\n",
       "      <td>670ff448ce853cebbe719452</td>\n",
       "      <td>[laion-en, laion-zh, coyo, grit, coco, textcap...</td>\n",
       "      <td>12</td>\n",
       "      <td>2024-10-16T17:13:44+00:00</td>\n",
       "    </tr>\n",
       "    <tr>\n",
       "      <th>2340</th>\n",
       "      <td>image-classification</td>\n",
       "      <td>67b03508248b716880d42052</td>\n",
       "      <td>[laion-en, laion-zh, coyo, grit, coco, textcap...</td>\n",
       "      <td>12</td>\n",
       "      <td>2025-02-15T06:32:40+00:00</td>\n",
       "    </tr>\n",
       "    <tr>\n",
       "      <th>...</th>\n",
       "      <td>...</td>\n",
       "      <td>...</td>\n",
       "      <td>...</td>\n",
       "      <td>...</td>\n",
       "      <td>...</td>\n",
       "    </tr>\n",
       "    <tr>\n",
       "      <th>4454</th>\n",
       "      <td>image-classification</td>\n",
       "      <td>6417c4c57430a34fe0d19077</td>\n",
       "      <td>[food101]</td>\n",
       "      <td>1</td>\n",
       "      <td>2023-03-20T02:28:21+00:00</td>\n",
       "    </tr>\n",
       "    <tr>\n",
       "      <th>4455</th>\n",
       "      <td>image-classification</td>\n",
       "      <td>64e65de663a807297faff7d2</td>\n",
       "      <td>[imagenet-1k]</td>\n",
       "      <td>1</td>\n",
       "      <td>2023-08-23T19:28:38+00:00</td>\n",
       "    </tr>\n",
       "    <tr>\n",
       "      <th>4456</th>\n",
       "      <td>image-classification</td>\n",
       "      <td>66f19dc55fe69af1047ac904</td>\n",
       "      <td>[imagefolder]</td>\n",
       "      <td>1</td>\n",
       "      <td>2024-09-23T16:56:37+00:00</td>\n",
       "    </tr>\n",
       "    <tr>\n",
       "      <th>4457</th>\n",
       "      <td>image-classification</td>\n",
       "      <td>65874e95085a5bce611309bb</td>\n",
       "      <td>[imagefolder]</td>\n",
       "      <td>1</td>\n",
       "      <td>2023-12-23T21:18:13+00:00</td>\n",
       "    </tr>\n",
       "    <tr>\n",
       "      <th>12838</th>\n",
       "      <td>image-to-3d</td>\n",
       "      <td>65e0801cbfa5aa61ab04294a</td>\n",
       "      <td>[allenai/objaverse]</td>\n",
       "      <td>1</td>\n",
       "      <td>2024-02-29T13:01:16+00:00</td>\n",
       "    </tr>\n",
       "  </tbody>\n",
       "</table>\n",
       "<p>12839 rows × 5 columns</p>\n",
       "</div>"
      ],
      "text/plain": [
       "                                 task                     model  \\\n",
       "277                     image-to-text  66e922c5ff3134c96fc6c108   \n",
       "211    unconditional-image-generation  651540420a2f6b1b30509600   \n",
       "8734                    text-to-image  66a7f8bb851564e02b88b909   \n",
       "11865        image-feature-extraction  670ff448ce853cebbe719452   \n",
       "2340             image-classification  67b03508248b716880d42052   \n",
       "...                               ...                       ...   \n",
       "4454             image-classification  6417c4c57430a34fe0d19077   \n",
       "4455             image-classification  64e65de663a807297faff7d2   \n",
       "4456             image-classification  66f19dc55fe69af1047ac904   \n",
       "4457             image-classification  65874e95085a5bce611309bb   \n",
       "12838                     image-to-3d  65e0801cbfa5aa61ab04294a   \n",
       "\n",
       "                                                 dataset  dataset_count  \\\n",
       "277    [gretelai/synthetic_text_to_sql, HuggingFaceTB...             43   \n",
       "211    [Falah/image_generation_prompts_SDXL, pszemraj...             14   \n",
       "8734   [cc0, public-domain, artbench-10, flickr, wiki...             13   \n",
       "11865  [laion-en, laion-zh, coyo, grit, coco, textcap...             12   \n",
       "2340   [laion-en, laion-zh, coyo, grit, coco, textcap...             12   \n",
       "...                                                  ...            ...   \n",
       "4454                                           [food101]              1   \n",
       "4455                                       [imagenet-1k]              1   \n",
       "4456                                       [imagefolder]              1   \n",
       "4457                                       [imagefolder]              1   \n",
       "12838                                [allenai/objaverse]              1   \n",
       "\n",
       "                      created_at  \n",
       "277    2024-09-17T06:33:41+00:00  \n",
       "211    2023-09-28T08:58:42+00:00  \n",
       "8734   2024-07-29T20:16:59+00:00  \n",
       "11865  2024-10-16T17:13:44+00:00  \n",
       "2340   2025-02-15T06:32:40+00:00  \n",
       "...                          ...  \n",
       "4454   2023-03-20T02:28:21+00:00  \n",
       "4455   2023-08-23T19:28:38+00:00  \n",
       "4456   2024-09-23T16:56:37+00:00  \n",
       "4457   2023-12-23T21:18:13+00:00  \n",
       "12838  2024-02-29T13:01:16+00:00  \n",
       "\n",
       "[12839 rows x 5 columns]"
      ]
     },
     "execution_count": 49,
     "metadata": {},
     "output_type": "execute_result"
    }
   ],
   "source": [
    "cv_dataset_df.sort_values(by='dataset_count', ascending=False)"
   ]
  },
  {
   "cell_type": "code",
   "execution_count": 50,
   "metadata": {},
   "outputs": [
    {
     "data": {
      "application/vnd.microsoft.datawrangler.viewer.v0+json": {
       "columns": [
        {
         "name": "task",
         "rawType": "object",
         "type": "string"
        },
        {
         "name": "dataset_count",
         "rawType": "float64",
         "type": "float"
        }
       ],
       "ref": "9bc10a7c-73a5-4311-96c9-7612d4a3c320",
       "rows": [
        [
         "depth-estimation",
         "1.75"
        ],
        [
         "image-classification",
         "1.0587580061264272"
        ],
        [
         "image-feature-extraction",
         "1.76"
        ],
        [
         "image-segmentation",
         "1.0413223140495869"
        ],
        [
         "image-to-3d",
         "1.1304347826086956"
        ],
        [
         "image-to-image",
         "1.293103448275862"
        ],
        [
         "image-to-text",
         "1.6422764227642277"
        ],
        [
         "image-to-video",
         "1.368421052631579"
        ],
        [
         "keypoint-detection",
         "1.0"
        ],
        [
         "mask-generation",
         "1.3333333333333333"
        ],
        [
         "object-detection",
         "1.050314465408805"
        ],
        [
         "text-to-3d",
         "1.2222222222222223"
        ],
        [
         "text-to-image",
         "1.1201780415430267"
        ],
        [
         "text-to-video",
         "1.58"
        ],
        [
         "unconditional-image-generation",
         "1.3880597014925373"
        ],
        [
         "video-classification",
         "1.6666666666666667"
        ],
        [
         "zero-shot-image-classification",
         "1.2555555555555555"
        ],
        [
         "zero-shot-object-detection",
         "1.0"
        ]
       ],
       "shape": {
        "columns": 1,
        "rows": 18
       }
      },
      "text/plain": [
       "task\n",
       "depth-estimation                  1.750000\n",
       "image-classification              1.058758\n",
       "image-feature-extraction          1.760000\n",
       "image-segmentation                1.041322\n",
       "image-to-3d                       1.130435\n",
       "image-to-image                    1.293103\n",
       "image-to-text                     1.642276\n",
       "image-to-video                    1.368421\n",
       "keypoint-detection                1.000000\n",
       "mask-generation                   1.333333\n",
       "object-detection                  1.050314\n",
       "text-to-3d                        1.222222\n",
       "text-to-image                     1.120178\n",
       "text-to-video                     1.580000\n",
       "unconditional-image-generation    1.388060\n",
       "video-classification              1.666667\n",
       "zero-shot-image-classification    1.255556\n",
       "zero-shot-object-detection        1.000000\n",
       "Name: dataset_count, dtype: float64"
      ]
     },
     "execution_count": 50,
     "metadata": {},
     "output_type": "execute_result"
    }
   ],
   "source": [
    "cv_dataset_df['dataset_count'].groupby(cv_dataset_df['task']).mean()"
   ]
  },
  {
   "cell_type": "code",
   "execution_count": 51,
   "metadata": {},
   "outputs": [
    {
     "data": {
      "application/vnd.microsoft.datawrangler.viewer.v0+json": {
       "columns": [
        {
         "name": "task",
         "rawType": "object",
         "type": "string"
        },
        {
         "name": "dataset_count",
         "rawType": "float64",
         "type": "float"
        }
       ],
       "ref": "916f2325-c48f-4904-b8ef-e438e45c74e3",
       "rows": [
        [
         "depth-estimation",
         "2.3011854652449344"
        ],
        [
         "image-classification",
         "0.29741590539022983"
        ],
        [
         "image-feature-extraction",
         "1.9579360340709584"
        ],
        [
         "image-segmentation",
         "0.21926676054546004"
        ],
        [
         "image-to-3d",
         "0.6255432421712243"
        ],
        [
         "image-to-image",
         "0.6045802191432584"
        ],
        [
         "image-to-text",
         "2.9112872005514867"
        ],
        [
         "image-to-video",
         "1.0116282977781401"
        ],
        [
         "keypoint-detection",
         "0.0"
        ],
        [
         "mask-generation",
         "0.7071067811865476"
        ],
        [
         "object-detection",
         "0.25220269659219574"
        ],
        [
         "text-to-3d",
         "0.6666666666666666"
        ],
        [
         "text-to-image",
         "0.5373954170203741"
        ],
        [
         "text-to-video",
         "1.5919440047582434"
        ],
        [
         "unconditional-image-generation",
         "1.9380967224245118"
        ],
        [
         "video-classification",
         "0.9759000729485331"
        ],
        [
         "zero-shot-image-classification",
         "0.8684366828731962"
        ],
        [
         "zero-shot-object-detection",
         null
        ]
       ],
       "shape": {
        "columns": 1,
        "rows": 18
       }
      },
      "text/plain": [
       "task\n",
       "depth-estimation                  2.301185\n",
       "image-classification              0.297416\n",
       "image-feature-extraction          1.957936\n",
       "image-segmentation                0.219267\n",
       "image-to-3d                       0.625543\n",
       "image-to-image                    0.604580\n",
       "image-to-text                     2.911287\n",
       "image-to-video                    1.011628\n",
       "keypoint-detection                0.000000\n",
       "mask-generation                   0.707107\n",
       "object-detection                  0.252203\n",
       "text-to-3d                        0.666667\n",
       "text-to-image                     0.537395\n",
       "text-to-video                     1.591944\n",
       "unconditional-image-generation    1.938097\n",
       "video-classification              0.975900\n",
       "zero-shot-image-classification    0.868437\n",
       "zero-shot-object-detection             NaN\n",
       "Name: dataset_count, dtype: float64"
      ]
     },
     "execution_count": 51,
     "metadata": {},
     "output_type": "execute_result"
    }
   ],
   "source": [
    "cv_dataset_df['dataset_count'].groupby(cv_dataset_df['task']).std()"
   ]
  },
  {
   "cell_type": "code",
   "execution_count": 52,
   "metadata": {},
   "outputs": [
    {
     "data": {
      "application/vnd.microsoft.datawrangler.viewer.v0+json": {
       "columns": [
        {
         "name": "index",
         "rawType": "int64",
         "type": "integer"
        },
        {
         "name": "task",
         "rawType": "object",
         "type": "string"
        },
        {
         "name": "model",
         "rawType": "object",
         "type": "string"
        },
        {
         "name": "dataset",
         "rawType": "object",
         "type": "unknown"
        },
        {
         "name": "dataset_count",
         "rawType": "int64",
         "type": "integer"
        },
        {
         "name": "created_at",
         "rawType": "object",
         "type": "string"
        }
       ],
       "ref": "a26fca32-80df-490a-98f8-63adc574c486",
       "rows": [
        [
         "11919",
         "zero-shot-object-detection",
         "6742dafa66d253d16ef9386e",
         "['jtatman/yolo5_russianlicenseplates_detect']",
         "1",
         "2024-11-24T07:51:22+00:00"
        ]
       ],
       "shape": {
        "columns": 5,
        "rows": 1
       }
      },
      "text/html": [
       "<div>\n",
       "<style scoped>\n",
       "    .dataframe tbody tr th:only-of-type {\n",
       "        vertical-align: middle;\n",
       "    }\n",
       "\n",
       "    .dataframe tbody tr th {\n",
       "        vertical-align: top;\n",
       "    }\n",
       "\n",
       "    .dataframe thead th {\n",
       "        text-align: right;\n",
       "    }\n",
       "</style>\n",
       "<table border=\"1\" class=\"dataframe\">\n",
       "  <thead>\n",
       "    <tr style=\"text-align: right;\">\n",
       "      <th></th>\n",
       "      <th>task</th>\n",
       "      <th>model</th>\n",
       "      <th>dataset</th>\n",
       "      <th>dataset_count</th>\n",
       "      <th>created_at</th>\n",
       "    </tr>\n",
       "  </thead>\n",
       "  <tbody>\n",
       "    <tr>\n",
       "      <th>11919</th>\n",
       "      <td>zero-shot-object-detection</td>\n",
       "      <td>6742dafa66d253d16ef9386e</td>\n",
       "      <td>[jtatman/yolo5_russianlicenseplates_detect]</td>\n",
       "      <td>1</td>\n",
       "      <td>2024-11-24T07:51:22+00:00</td>\n",
       "    </tr>\n",
       "  </tbody>\n",
       "</table>\n",
       "</div>"
      ],
      "text/plain": [
       "                             task                     model  \\\n",
       "11919  zero-shot-object-detection  6742dafa66d253d16ef9386e   \n",
       "\n",
       "                                           dataset  dataset_count  \\\n",
       "11919  [jtatman/yolo5_russianlicenseplates_detect]              1   \n",
       "\n",
       "                      created_at  \n",
       "11919  2024-11-24T07:51:22+00:00  "
      ]
     },
     "execution_count": 52,
     "metadata": {},
     "output_type": "execute_result"
    }
   ],
   "source": [
    "cv_dataset_df[cv_dataset_df['task']=='zero-shot-object-detection']"
   ]
  },
  {
   "cell_type": "markdown",
   "metadata": {},
   "source": [
    "##### CV RQ 2: What is the degree of concentration of CV datasets?"
   ]
  },
  {
   "cell_type": "code",
   "execution_count": 53,
   "metadata": {},
   "outputs": [],
   "source": [
    "task_list=[]\n",
    "model_list=[]\n",
    "dataset_list=[]\n",
    "dataset_count_list=[]\n",
    "created_at_list=[]\n",
    "for task in cv_task.keys():\n",
    "    for model in cv_task[task].keys():\n",
    "        if ('datasets' in cv_task[task][model].keys()) and (cv_task[task][model]['datasets'] is not None) and (type(cv_task[task][model]['datasets']) == list):\n",
    "            #Sometimes, the list can be empty\n",
    "            dataset_count=0\n",
    "            if len(cv_task[task][model]['datasets'])>0: #Check the number of elements in the list\n",
    "                for dataset in cv_task[task][model]['datasets']:\n",
    "                    dataset_count+=1\n",
    "                task_list.append(task)\n",
    "                model_list.append(model)\n",
    "                dataset_list.append(cv_task[task][model]['datasets'])\n",
    "                dataset_count_list.append(dataset_count)\n",
    "                created_at_list.append(cv_task[task][model]['created_at'])"
   ]
  },
  {
   "cell_type": "code",
   "execution_count": 54,
   "metadata": {},
   "outputs": [],
   "source": [
    "cv_dataset_df=pd.DataFrame({'task':task_list, 'model':model_list, 'dataset':dataset_list, 'dataset_count':dataset_count_list, 'created_at':created_at_list})"
   ]
  },
  {
   "cell_type": "code",
   "execution_count": 55,
   "metadata": {},
   "outputs": [
    {
     "data": {
      "application/vnd.microsoft.datawrangler.viewer.v0+json": {
       "columns": [
        {
         "name": "task",
         "rawType": "object",
         "type": "string"
        },
        {
         "name": "dataset_count",
         "rawType": "float64",
         "type": "float"
        }
       ],
       "ref": "19af2349-d5b6-49ba-9210-baea1b2a77a8",
       "rows": [
        [
         "depth-estimation",
         "1.75"
        ],
        [
         "image-classification",
         "1.0587580061264272"
        ],
        [
         "image-feature-extraction",
         "1.76"
        ],
        [
         "image-segmentation",
         "1.0413223140495869"
        ],
        [
         "image-to-3d",
         "1.1304347826086956"
        ],
        [
         "image-to-image",
         "1.293103448275862"
        ],
        [
         "image-to-text",
         "1.6422764227642277"
        ],
        [
         "image-to-video",
         "1.368421052631579"
        ],
        [
         "keypoint-detection",
         "1.0"
        ],
        [
         "mask-generation",
         "1.3333333333333333"
        ],
        [
         "object-detection",
         "1.050314465408805"
        ],
        [
         "text-to-3d",
         "1.2222222222222223"
        ],
        [
         "text-to-image",
         "1.1201780415430267"
        ],
        [
         "text-to-video",
         "1.58"
        ],
        [
         "unconditional-image-generation",
         "1.3880597014925373"
        ],
        [
         "video-classification",
         "1.6666666666666667"
        ],
        [
         "zero-shot-image-classification",
         "1.2555555555555555"
        ],
        [
         "zero-shot-object-detection",
         "1.0"
        ]
       ],
       "shape": {
        "columns": 1,
        "rows": 18
       }
      },
      "text/plain": [
       "task\n",
       "depth-estimation                  1.750000\n",
       "image-classification              1.058758\n",
       "image-feature-extraction          1.760000\n",
       "image-segmentation                1.041322\n",
       "image-to-3d                       1.130435\n",
       "image-to-image                    1.293103\n",
       "image-to-text                     1.642276\n",
       "image-to-video                    1.368421\n",
       "keypoint-detection                1.000000\n",
       "mask-generation                   1.333333\n",
       "object-detection                  1.050314\n",
       "text-to-3d                        1.222222\n",
       "text-to-image                     1.120178\n",
       "text-to-video                     1.580000\n",
       "unconditional-image-generation    1.388060\n",
       "video-classification              1.666667\n",
       "zero-shot-image-classification    1.255556\n",
       "zero-shot-object-detection        1.000000\n",
       "Name: dataset_count, dtype: float64"
      ]
     },
     "execution_count": 55,
     "metadata": {},
     "output_type": "execute_result"
    }
   ],
   "source": [
    "cv_dataset_df['dataset_count'].groupby(cv_dataset_df['task']).mean()"
   ]
  },
  {
   "cell_type": "code",
   "execution_count": 56,
   "metadata": {},
   "outputs": [
    {
     "data": {
      "application/vnd.microsoft.datawrangler.viewer.v0+json": {
       "columns": [
        {
         "name": "task",
         "rawType": "object",
         "type": "string"
        },
        {
         "name": "dataset_count",
         "rawType": "float64",
         "type": "float"
        }
       ],
       "ref": "c3ce5979-28fe-417c-bb5b-0d69c9c8ea22",
       "rows": [
        [
         "depth-estimation",
         "2.3011854652449344"
        ],
        [
         "image-classification",
         "0.29741590539022983"
        ],
        [
         "image-feature-extraction",
         "1.9579360340709584"
        ],
        [
         "image-segmentation",
         "0.21926676054546004"
        ],
        [
         "image-to-3d",
         "0.6255432421712243"
        ],
        [
         "image-to-image",
         "0.6045802191432584"
        ],
        [
         "image-to-text",
         "2.9112872005514867"
        ],
        [
         "image-to-video",
         "1.0116282977781401"
        ],
        [
         "keypoint-detection",
         "0.0"
        ],
        [
         "mask-generation",
         "0.7071067811865476"
        ],
        [
         "object-detection",
         "0.25220269659219574"
        ],
        [
         "text-to-3d",
         "0.6666666666666666"
        ],
        [
         "text-to-image",
         "0.5373954170203741"
        ],
        [
         "text-to-video",
         "1.5919440047582434"
        ],
        [
         "unconditional-image-generation",
         "1.9380967224245118"
        ],
        [
         "video-classification",
         "0.9759000729485331"
        ],
        [
         "zero-shot-image-classification",
         "0.8684366828731962"
        ],
        [
         "zero-shot-object-detection",
         null
        ]
       ],
       "shape": {
        "columns": 1,
        "rows": 18
       }
      },
      "text/plain": [
       "task\n",
       "depth-estimation                  2.301185\n",
       "image-classification              0.297416\n",
       "image-feature-extraction          1.957936\n",
       "image-segmentation                0.219267\n",
       "image-to-3d                       0.625543\n",
       "image-to-image                    0.604580\n",
       "image-to-text                     2.911287\n",
       "image-to-video                    1.011628\n",
       "keypoint-detection                0.000000\n",
       "mask-generation                   0.707107\n",
       "object-detection                  0.252203\n",
       "text-to-3d                        0.666667\n",
       "text-to-image                     0.537395\n",
       "text-to-video                     1.591944\n",
       "unconditional-image-generation    1.938097\n",
       "video-classification              0.975900\n",
       "zero-shot-image-classification    0.868437\n",
       "zero-shot-object-detection             NaN\n",
       "Name: dataset_count, dtype: float64"
      ]
     },
     "execution_count": 56,
     "metadata": {},
     "output_type": "execute_result"
    }
   ],
   "source": [
    "cv_dataset_df['dataset_count'].groupby(cv_dataset_df['task']).std()"
   ]
  }
 ],
 "metadata": {
  "kernelspec": {
   "display_name": "huggingface",
   "language": "python",
   "name": "python3"
  },
  "language_info": {
   "codemirror_mode": {
    "name": "ipython",
    "version": 3
   },
   "file_extension": ".py",
   "mimetype": "text/x-python",
   "name": "python",
   "nbconvert_exporter": "python",
   "pygments_lexer": "ipython3",
   "version": "3.10.16"
  }
 },
 "nbformat": 4,
 "nbformat_minor": 2
}
