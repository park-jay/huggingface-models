{
 "cells": [
  {
   "cell_type": "code",
   "execution_count": 1,
   "metadata": {},
   "outputs": [
    {
     "name": "stderr",
     "output_type": "stream",
     "text": [
      "/Users/mstudio/miniforge3/envs/huggingface/lib/python3.10/site-packages/tqdm/auto.py:21: TqdmWarning: IProgress not found. Please update jupyter and ipywidgets. See https://ipywidgets.readthedocs.io/en/stable/user_install.html\n",
      "  from .autonotebook import tqdm as notebook_tqdm\n"
     ]
    }
   ],
   "source": [
    "import pandas as pd\n",
    "from huggingface_hub import HfApi, list_models, list_datasets\n",
    "import json\n",
    "from datetime import datetime\n",
    "from typing import Any\n",
    "import os\n",
    "import time\n",
    "# Data was collected on Feb 15th, 2025"
   ]
  },
  {
   "cell_type": "code",
   "execution_count": 2,
   "metadata": {},
   "outputs": [
    {
     "data": {
      "text/plain": [
       "'0.28.1'"
      ]
     },
     "execution_count": 2,
     "metadata": {},
     "output_type": "execute_result"
    }
   ],
   "source": [
    "import huggingface_hub\n",
    "huggingface_hub.__version__"
   ]
  },
  {
   "cell_type": "code",
   "execution_count": 3,
   "metadata": {},
   "outputs": [],
   "source": [
    "hf_api=HfApi()"
   ]
  },
  {
   "cell_type": "code",
   "execution_count": 4,
   "metadata": {},
   "outputs": [],
   "source": [
    "nlp=['text-classification',\n",
    "     'token-classification',\n",
    "     'table-question-answering',\n",
    "     'question-answering',\n",
    "     'zero-shot-classification',\n",
    "     'translation',\n",
    "     'summarization',\n",
    "     'feature-extraction',\n",
    "     'text-generation',\n",
    "     'text2text-generation',\n",
    "     'fill-mask',\n",
    "     'sentence-similarity',\n",
    "     # 'table-to-text',\n",
    "     # 'multiple-choice',\n",
    "     # 'text-retrieval' \n",
    "     ]"
   ]
  },
  {
   "cell_type": "code",
   "execution_count": 5,
   "metadata": {},
   "outputs": [],
   "source": [
    "cv=['depth-estimation',\n",
    "    'image-classification',\n",
    "    'object-detection',\n",
    "    'image-segmentation',\n",
    "    'text-to-image',\n",
    "    'image-to-text',\n",
    "    'image-to-image',\n",
    "    'image-to-video',\n",
    "    'unconditional-image-generation',\n",
    "    'video-classification',\n",
    "    'text-to-video',\n",
    "    'zero-shot-image-classification',\n",
    "    'mask-generation',\n",
    "    'zero-shot-object-detection',\n",
    "    'text-to-3d',\n",
    "    'image-to-3d',\n",
    "    'image-feature-extraction',\n",
    "    'keypoint-detection'\n",
    "]"
   ]
  },
  {
   "cell_type": "code",
   "execution_count": null,
   "metadata": {},
   "outputs": [],
   "source": [
    "print(len(nlp), len(cv))"
   ]
  },
  {
   "cell_type": "code",
   "execution_count": 10,
   "metadata": {},
   "outputs": [],
   "source": [
    "class CustomEncoder(json.JSONEncoder):\n",
    "    def default(self, obj: Any):\n",
    "        if isinstance(obj, datetime):\n",
    "            return obj.isoformat()  # Convert datetime to ISO 8601\n",
    "        elif hasattr(obj, '__dict__'):  \n",
    "            return obj.__dict__  # Convert objects (like RepoSibling) to dictionary\n",
    "        return super().default(obj)  # Fallback to default serialization"
   ]
  },
  {
   "cell_type": "markdown",
   "metadata": {},
   "source": [
    "##### Model collection"
   ]
  },
  {
   "cell_type": "markdown",
   "metadata": {},
   "source": [
    "##### NLP"
   ]
  },
  {
   "cell_type": "code",
   "execution_count": null,
   "metadata": {},
   "outputs": [],
   "source": [
    "for nlp_task in sorted(nlp):\n",
    "    folder_path = f'../../../data/huggingface/model/nlp/{nlp_task}'\n",
    "    os.makedirs(folder_path, exist_ok=True) # Create a folder if it does not exist\n",
    "    models_generator = hf_api.list_models(filter=nlp_task, full=True, cardData=True) # Get the generator object\n",
    "    print(nlp_task)\n",
    "    try:\n",
    "        for model in models_generator:\n",
    "            model_dict = model.__dict__\n",
    "            # pprint(model_dict)\n",
    "            with open('../../../data/huggingface/model/nlp/'+nlp_task+'/'+f\"{model._id.replace('/', '_')}.json\", 'w') as json_file:\n",
    "                #slash is not allowed in file name so replace it with underscore\n",
    "                json.dump(model_dict, json_file, indent=4, cls=CustomEncoder)\n",
    "    except:\n",
    "        continue"
   ]
  },
  {
   "cell_type": "markdown",
   "metadata": {},
   "source": [
    "##### CV"
   ]
  },
  {
   "cell_type": "code",
   "execution_count": null,
   "metadata": {},
   "outputs": [],
   "source": [
    "for cv_task in sorted(cv):\n",
    "    folder_path = f'../../../data/huggingface/model/cv/{cv_task}'\n",
    "    os.makedirs(folder_path, exist_ok=True)\n",
    "    models_generator = hf_api.list_models(filter=cv_task, full=True, cardData=True)\n",
    "    print(cv_task)\n",
    "    try:\n",
    "        for model in models_generator:\n",
    "            model_dict = model.__dict__\n",
    "            with open('../../../data/huggingface/model/cv/'+cv_task+'/'+f\"{model._id.replace('/', '_')}.json\", 'w') as json_file:\n",
    "                json.dump(model_dict, json_file, indent=4, cls=CustomEncoder)\n",
    "    except:\n",
    "        continue"
   ]
  },
  {
   "cell_type": "markdown",
   "metadata": {},
   "source": [
    "##### Dataset collection"
   ]
  },
  {
   "cell_type": "markdown",
   "metadata": {},
   "source": [
    "##### NLP"
   ]
  },
  {
   "cell_type": "code",
   "execution_count": null,
   "metadata": {},
   "outputs": [],
   "source": [
    "for nlp_task in sorted(nlp):\n",
    "    folder_path = f'../../../data/huggingface/dataset/nlp/{nlp_task}'\n",
    "    os.makedirs(folder_path, exist_ok=True) # Create a folder if it does not exist\n",
    "    datasets_generator = hf_api.list_datasets(task_categories=nlp_task, full=True) # Get the generator object\n",
    "    print(nlp_task)\n",
    "    for dataset in datasets_generator:\n",
    "        dataset_dict = dataset.__dict__\n",
    "        # pprint(model_dict)\n",
    "        with open('../../../data/huggingface/dataset/nlp/'+nlp_task+'/'+f\"{dataset._id.replace('/', '_')}.json\", 'w') as json_file:\n",
    "            json.dump(dataset_dict, json_file, indent=4, cls=CustomEncoder)"
   ]
  },
  {
   "cell_type": "markdown",
   "metadata": {},
   "source": [
    "##### CV"
   ]
  },
  {
   "cell_type": "code",
   "execution_count": 11,
   "metadata": {},
   "outputs": [
    {
     "name": "stdout",
     "output_type": "stream",
     "text": [
      "depth-estimation\n",
      "image-classification\n",
      "image-feature-extraction\n",
      "image-segmentation\n",
      "image-to-3d\n",
      "image-to-image\n",
      "image-to-text\n",
      "image-to-video\n",
      "keypoint-detection\n",
      "mask-generation\n",
      "object-detection\n",
      "text-to-3d\n",
      "text-to-image\n",
      "text-to-video\n",
      "unconditional-image-generation\n",
      "video-classification\n",
      "zero-shot-image-classification\n",
      "zero-shot-object-detection\n"
     ]
    }
   ],
   "source": [
    "for cv_task in sorted(cv):\n",
    "    folder_path = f'../../../data/huggingface/dataset/cv_new/{cv_task}'\n",
    "    os.makedirs(folder_path, exist_ok=True)\n",
    "    datasets_generator = hf_api.list_datasets(task_categories=cv_task, full=True)\n",
    "    print(cv_task)\n",
    "    for dataset in datasets_generator:\n",
    "        dataset_dict = dataset.__dict__\n",
    "        with open('../../../data/huggingface/dataset/cv_new/'+cv_task+'/'+f\"{dataset._id.replace('/', '_')}.json\", 'w') as json_file:\n",
    "            json.dump(dataset_dict, json_file, indent=4, cls=CustomEncoder)"
   ]
  },
  {
   "cell_type": "code",
   "execution_count": null,
   "metadata": {},
   "outputs": [],
   "source": [
    "# json.read('facebook_bart-large-mnli_zero-shot-classification.json')\n",
    "with open('nomic-ai_nomic-embed-text-v2-moe_feature-extraction.json', 'r') as file:\n",
    "    data = json.load(file)\n",
    "pprint(data['cardData']['base_model'])"
   ]
  }
 ],
 "metadata": {
  "kernelspec": {
   "display_name": "huggingface",
   "language": "python",
   "name": "python3"
  },
  "language_info": {
   "codemirror_mode": {
    "name": "ipython",
    "version": 3
   },
   "file_extension": ".py",
   "mimetype": "text/x-python",
   "name": "python",
   "nbconvert_exporter": "python",
   "pygments_lexer": "ipython3",
   "version": "3.10.16"
  }
 },
 "nbformat": 4,
 "nbformat_minor": 2
}
